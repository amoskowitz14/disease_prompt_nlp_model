{
  "nbformat": 4,
  "nbformat_minor": 0,
  "metadata": {
    "colab": {
      "name": "Keras_Classification_Example.ipynb",
      "provenance": [],
      "collapsed_sections": []
    },
    "kernelspec": {
      "name": "python3",
      "display_name": "Python 3"
    },
    "accelerator": "GPU"
  },
  "cells": [
    {
      "cell_type": "markdown",
      "metadata": {
        "id": "6LzbGMe24AG7",
        "colab_type": "text"
      },
      "source": [
        "# Introduction"
      ]
    },
    {
      "cell_type": "markdown",
      "metadata": {
        "id": "-T8aBfwY384K",
        "colab_type": "text"
      },
      "source": [
        "### Overview:\n",
        "With the arrival of [new medical documentation in the US](https://www.healthcareitnews.com/news/how-sdoh-will-influence-next-wave-health-tech-startups) it is possible to build a model that can classify symptom names based upon input text from patients describing their illness.\n",
        "\n",
        "Utilized Keras to generate a Convolutional Neural Network (CNN) and dense neural network with a 200 dimensional Genism Word2Vec embedding and 6,650 records of patient condition descriptions to predict symptoms with a close to 100% test accuracy from both models.\n",
        "\n",
        "### SetUp:\n",
        "1. Install all packages from the Import statement.\n",
        "2. The 200 dimensional Word2Vec file of glove.6B.200d.txt can be downloaded at a zip file [here](http://nlp.stanford.edu/data/glove.6B.zip) (822 MB). See main page at the [GloVe: Global Vectors for Word Representation](https://nlp.stanford.edu/projects/glove/) introduction page.\n",
        "3. Designate the file path of the input data and Gensim embedding file as a string in the 'directory' object.\n",
        "4. Download data file from github [here](https://github.com/amoskowitz14/disease_prompt_nlp_model/blob/master/phrase_disease_data.csv)\n",
        "\n",
        "### Sources:\n",
        "1. [Word Embedding use in Keras](https://machinelearningmastery.com/use-word-embedding-layers-deep-learning-keras/)\n",
        "\n",
        "2. [Original Data Source from Figure Eight](https://www.figure-eight.com/dataset/audio-recording-and-transcription-for-medical-scenarios/)\n",
        "\n",
        "3. [Convolutional Neural Networks in Keras](https://realpython.com/python-keras-text-classification/#convolutional-neural-networks-cnn)\n",
        "\n",
        "### Author:\n",
        "[Aaron Moskowitz](https://www.linkedin.com/in/aaroncmoskowitz/)"
      ]
    },
    {
      "cell_type": "markdown",
      "metadata": {
        "id": "QmWSj73D07ZI",
        "colab_type": "text"
      },
      "source": [
        "# Import"
      ]
    },
    {
      "cell_type": "code",
      "metadata": {
        "id": "WaCxoR5bc4VV",
        "colab_type": "code",
        "outputId": "126cdc9c-f2bd-474c-cfa4-700bd5ed470f",
        "colab": {
          "base_uri": "https://localhost:8080/",
          "height": 34
        }
      },
      "source": [
        "# Directory Configuration\n",
        "import os\n",
        "\n",
        "# Goolge Colab Setup\n",
        "from google.colab import drive\n",
        "\n",
        "# Object Manipulation\n",
        "import numpy as np\n",
        "import pandas as pd\n",
        "\n",
        "# Word2Vec Import\n",
        "import gensim\n",
        "from gensim.test.utils import datapath\n",
        "\n",
        "# Tokenizer\n",
        "from tensorflow.python.keras.preprocessing.text import Tokenizer\n",
        "from tensorflow.python.keras.preprocessing.sequence import pad_sequences\n",
        "\n",
        "# Embedding Creation\n",
        "from numpy import asarray\n",
        "from numpy import zeros\n",
        "\n",
        "# Keras\n",
        "from keras import layers\n",
        "from keras.models import Sequential\n",
        "from keras.optimizers import Adam\n",
        "from keras.layers import Activation, Dense, Embedding, Flatten\n",
        "\n",
        "# Test Train Split\n",
        "from sklearn.model_selection import train_test_split\n",
        "\n",
        "# Visulization\n",
        "%matplotlib notebook\n",
        "import matplotlib.pyplot as plt\n",
        "plt.style.use('ggplot')\n",
        "%matplotlib inline"
      ],
      "execution_count": 1,
      "outputs": [
        {
          "output_type": "stream",
          "text": [
            "Using TensorFlow backend.\n"
          ],
          "name": "stderr"
        }
      ]
    },
    {
      "cell_type": "markdown",
      "metadata": {
        "id": "1srwJoSUZlAH",
        "colab_type": "text"
      },
      "source": [
        "# Setup of project directory, or use of google Colab to run code"
      ]
    },
    {
      "cell_type": "code",
      "metadata": {
        "id": "2DsOxYfQ0-73",
        "colab_type": "code",
        "outputId": "5c527e2a-7bb3-4ac3-93e4-fabcefe8dc7b",
        "colab": {
          "base_uri": "https://localhost:8080/",
          "height": 34
        }
      },
      "source": [
        "drive.mount('/content/drive')"
      ],
      "execution_count": 2,
      "outputs": [
        {
          "output_type": "stream",
          "text": [
            "Drive already mounted at /content/drive; to attempt to forcibly remount, call drive.mount(\"/content/drive\", force_remount=True).\n"
          ],
          "name": "stdout"
        }
      ]
    },
    {
      "cell_type": "code",
      "metadata": {
        "id": "CthicZvj1TB4",
        "colab_type": "code",
        "colab": {}
      },
      "source": [
        "directory = \"/content/drive/My Drive/Colab Notebooks/Deep_Learning_NLP/Keras_Healthcare_NLP_Project\""
      ],
      "execution_count": 0,
      "outputs": []
    },
    {
      "cell_type": "code",
      "metadata": {
        "id": "BXAu6PMU2FNa",
        "colab_type": "code",
        "colab": {}
      },
      "source": [
        "os.chdir(directory)"
      ],
      "execution_count": 0,
      "outputs": []
    },
    {
      "cell_type": "code",
      "metadata": {
        "id": "EdDyStDX1OWp",
        "colab_type": "code",
        "colab": {}
      },
      "source": [
        "glove_file = datapath(directory + '/glove/glove.6B.200d.txt')"
      ],
      "execution_count": 0,
      "outputs": []
    },
    {
      "cell_type": "markdown",
      "metadata": {
        "id": "SbYhSW2d086-",
        "colab_type": "text"
      },
      "source": [
        "# Load Embedding"
      ]
    },
    {
      "cell_type": "markdown",
      "metadata": {
        "id": "OlPYzI3FY4Ts",
        "colab_type": "text"
      },
      "source": [
        "### Load the whole 200 dimensional embedding into memory"
      ]
    },
    {
      "cell_type": "code",
      "metadata": {
        "id": "F5NYP0r0bWMe",
        "colab_type": "code",
        "colab": {}
      },
      "source": [
        "embeddings_index = dict()\n",
        "\n",
        "f = open(datapath(glove_file))\n",
        "for line in f:\n",
        "\tvalues = line.split()\n",
        "\tword = values[0]\n",
        "\tcoefs = asarray(values[1:], dtype='float32')\n",
        "\tembeddings_index[word] = coefs\n",
        "f.close()"
      ],
      "execution_count": 0,
      "outputs": []
    },
    {
      "cell_type": "markdown",
      "metadata": {
        "id": "phs9pIsFZSS0",
        "colab_type": "text"
      },
      "source": [
        "### Confirm Gensin embedding is expected"
      ]
    },
    {
      "cell_type": "code",
      "metadata": {
        "id": "JUHeeQaaZPUO",
        "colab_type": "code",
        "colab": {
          "base_uri": "https://localhost:8080/",
          "height": 34
        },
        "outputId": "2fee8efd-8541-4c8e-8871-48bf6c3c2d78"
      },
      "source": [
        "print('Loaded %s word vectors.' % len(embeddings_index))"
      ],
      "execution_count": 7,
      "outputs": [
        {
          "output_type": "stream",
          "text": [
            "Loaded 400000 word vectors.\n"
          ],
          "name": "stdout"
        }
      ]
    },
    {
      "cell_type": "code",
      "metadata": {
        "id": "IAshhO5lbhg_",
        "colab_type": "code",
        "outputId": "00703f56-240b-4bda-c717-fafb65488495",
        "colab": {
          "base_uri": "https://localhost:8080/",
          "height": 51
        }
      },
      "source": [
        "print('''Confirm the embedding of a relevant word such as 'head' with its embedding size of''', len(embeddings_index['head']), 'is expected.')\n",
        "print('View first 5 ellements of the embedding to see if it is plausible. First ellements are', embeddings_index['head'][0:5])"
      ],
      "execution_count": 8,
      "outputs": [
        {
          "output_type": "stream",
          "text": [
            "Confirm the embedding of a relevant word such as 'head' with its embedding size of 200 is expected.\n",
            "View first 5 ellements of the embedding to see if it is plausible. First ellements are [-0.26623  -0.75065  -0.031357 -0.03684  -0.1875  ]\n"
          ],
          "name": "stdout"
        }
      ]
    },
    {
      "cell_type": "markdown",
      "metadata": {
        "id": "qU0jCABS42XH",
        "colab_type": "text"
      },
      "source": [
        "# Import Data"
      ]
    },
    {
      "cell_type": "code",
      "metadata": {
        "id": "wY2BM-XTch11",
        "colab_type": "code",
        "colab": {
          "base_uri": "https://localhost:8080/",
          "height": 34
        },
        "outputId": "85bac5ad-48ec-4a41-a834-e7ced9db8ee9"
      },
      "source": [
        "# Load data from csv\n",
        "input_data = pd.read_csv(directory + '/data/phrase_disease_data.csv') \n",
        "\n",
        "# 5th and 6thh column have phrase and prompt respectively\n",
        "col = ['phrase', 'prompt']\n",
        "input_data = input_data[col]\n",
        "\n",
        "# Get phrases into a series\n",
        "phrases = input_data['phrase']\n",
        "prompts = input_data['prompt']\n",
        "\n",
        "print('Data import has rows of:', len(input_data))"
      ],
      "execution_count": 9,
      "outputs": [
        {
          "output_type": "stream",
          "text": [
            "Data import has rows of: 6650\n"
          ],
          "name": "stdout"
        }
      ]
    },
    {
      "cell_type": "markdown",
      "metadata": {
        "id": "wNmoTVZKoCpc",
        "colab_type": "text"
      },
      "source": [
        "### View 5 example phrases and associated prompts in data to confirm upload worked as expected"
      ]
    },
    {
      "cell_type": "code",
      "metadata": {
        "id": "Q7VEMhZfl12c",
        "colab_type": "code",
        "colab": {
          "base_uri": "https://localhost:8080/",
          "height": 119
        },
        "outputId": "95089d0f-edc9-4eec-fc50-0e77d6bc9633"
      },
      "source": [
        "phrases.head()"
      ],
      "execution_count": 10,
      "outputs": [
        {
          "output_type": "execute_result",
          "data": {
            "text/plain": [
              "0                      When I remember her I feel down\n",
              "1    When I carry heavy things I feel like breaking...\n",
              "2            there is too much pain when i move my arm\n",
              "3    My son had his lip pierced and it is swollen a...\n",
              "4               My muscles in my lower back are aching\n",
              "Name: phrase, dtype: object"
            ]
          },
          "metadata": {
            "tags": []
          },
          "execution_count": 10
        }
      ]
    },
    {
      "cell_type": "code",
      "metadata": {
        "id": "RGHyeCdRoH77",
        "colab_type": "code",
        "colab": {
          "base_uri": "https://localhost:8080/",
          "height": 119
        },
        "outputId": "a84c3a32-6671-451c-aa46-5ef1c9884b0a"
      },
      "source": [
        "prompts.head()"
      ],
      "execution_count": 11,
      "outputs": [
        {
          "output_type": "execute_result",
          "data": {
            "text/plain": [
              "0      Emotional pain\n",
              "1    Hair falling out\n",
              "2         Heart hurts\n",
              "3      Infected wound\n",
              "4      Infected wound\n",
              "Name: prompt, dtype: object"
            ]
          },
          "metadata": {
            "tags": []
          },
          "execution_count": 11
        }
      ]
    },
    {
      "cell_type": "markdown",
      "metadata": {
        "id": "Lhd3EGPKoXTD",
        "colab_type": "text"
      },
      "source": [
        "# Create One Hot Encoding and Dictionary for Prompts"
      ]
    },
    {
      "cell_type": "markdown",
      "metadata": {
        "id": "JKrNOt7QoxNd",
        "colab_type": "text"
      },
      "source": [
        "## Create integer dictionary for pompts"
      ]
    },
    {
      "cell_type": "code",
      "metadata": {
        "id": "RXZAq1l2uF17",
        "colab_type": "code",
        "colab": {}
      },
      "source": [
        "# Get prompt and replace space with underscore\n",
        "prompt = [word.replace(\" \",\"_\").lower() for word in prompts]\n",
        "\n",
        "# Adding a column of category_id encoding the prompt as an integer to ease in represenation of class\n",
        "input_data['category_id'] = prompts.factorize()[0]\n",
        "category_id_df = input_data[['prompt', 'category_id']].drop_duplicates().sort_values('category_id')\n",
        "\n",
        "# Generate dictionary to code categorical_id back to prompt\n",
        "category_to_id = dict(category_id_df.values)\n",
        "id_to_category = dict(category_id_df[['category_id', 'prompt']].values)\n",
        "\n",
        "# Converting promopts to a list of integers\n",
        "prompt = list(input_data['category_id'])"
      ],
      "execution_count": 0,
      "outputs": []
    },
    {
      "cell_type": "markdown",
      "metadata": {
        "id": "s_ebSnwKo9UQ",
        "colab_type": "text"
      },
      "source": [
        "### View prompt_id to prompt dictionary"
      ]
    },
    {
      "cell_type": "code",
      "metadata": {
        "id": "g4GeAsNUPTu4",
        "colab_type": "code",
        "colab": {
          "base_uri": "https://localhost:8080/",
          "height": 493
        },
        "outputId": "3f09c373-6c8b-46a2-85e6-837f75b77c99"
      },
      "source": [
        "print('The size of the dictionary is', len(set(prompt)))\n",
        "\n",
        "print('\\nView entire dictionary:')\n",
        "id_to_category"
      ],
      "execution_count": 13,
      "outputs": [
        {
          "output_type": "stream",
          "text": [
            "The size of the dictionary is 25\n",
            "\n",
            "View entire dictionary:\n"
          ],
          "name": "stdout"
        },
        {
          "output_type": "execute_result",
          "data": {
            "text/plain": [
              "{0: 'Emotional pain',\n",
              " 1: 'Hair falling out',\n",
              " 2: 'Heart hurts',\n",
              " 3: 'Infected wound',\n",
              " 4: 'Foot ache',\n",
              " 5: 'Shoulder pain',\n",
              " 6: 'Injury from sports',\n",
              " 7: 'Skin issue',\n",
              " 8: 'Stomach ache',\n",
              " 9: 'Knee pain',\n",
              " 10: 'Joint pain',\n",
              " 11: 'Hard to breath',\n",
              " 12: 'Head ache',\n",
              " 13: 'Body feels weak',\n",
              " 14: 'Feeling dizzy',\n",
              " 15: 'Back pain',\n",
              " 16: 'Open wound',\n",
              " 17: 'Internal pain',\n",
              " 18: 'Blurry vision',\n",
              " 19: 'Acne',\n",
              " 20: 'Muscle pain',\n",
              " 21: 'Neck pain',\n",
              " 22: 'Cough',\n",
              " 23: 'Ear ache',\n",
              " 24: 'Feeling cold'}"
            ]
          },
          "metadata": {
            "tags": []
          },
          "execution_count": 13
        }
      ]
    },
    {
      "cell_type": "markdown",
      "metadata": {
        "id": "F0gdh5awQRLT",
        "colab_type": "text"
      },
      "source": [
        "## Create one hot encoding representation of prompt"
      ]
    },
    {
      "cell_type": "code",
      "metadata": {
        "id": "9lP2yrn09VVc",
        "colab_type": "code",
        "outputId": "cea6fba5-4800-4842-99e2-2c9dee24649a",
        "colab": {
          "base_uri": "https://localhost:8080/",
          "height": 34
        }
      },
      "source": [
        "prompt[0:5]"
      ],
      "execution_count": 14,
      "outputs": [
        {
          "output_type": "execute_result",
          "data": {
            "text/plain": [
              "[0, 1, 2, 3, 3]"
            ]
          },
          "metadata": {
            "tags": []
          },
          "execution_count": 14
        }
      ]
    },
    {
      "cell_type": "code",
      "metadata": {
        "id": "Hfg7OC-8-nbV",
        "colab_type": "code",
        "outputId": "80c5bef2-ed95-49d7-bdfc-b713cdd9f54d",
        "colab": {
          "base_uri": "https://localhost:8080/",
          "height": 34
        }
      },
      "source": [
        "prompt_length = len(np.array(prompt))\n",
        "class_len = len(set(prompt))\n",
        "print('Confirm prompt length is unchanged:', class_len)"
      ],
      "execution_count": 15,
      "outputs": [
        {
          "output_type": "stream",
          "text": [
            "Confirm prompt length is unchanged: 25\n"
          ],
          "name": "stdout"
        }
      ]
    },
    {
      "cell_type": "code",
      "metadata": {
        "id": "c46YV73g-YsQ",
        "colab_type": "code",
        "colab": {}
      },
      "source": [
        "prompt_length = len(np.array(prompt))\n",
        "\n",
        "empty_array = np.zeros((prompt_length, class_len))\n",
        "empty_array[np.arange(prompt_length), prompt] = 1\n",
        "prompt_one_hot = empty_array"
      ],
      "execution_count": 0,
      "outputs": []
    },
    {
      "cell_type": "code",
      "metadata": {
        "id": "P9f6xeBQ_3H_",
        "colab_type": "code",
        "outputId": "e5456881-ad59-4ee0-9734-ebcdc2301109",
        "colab": {
          "base_uri": "https://localhost:8080/",
          "height": 136
        }
      },
      "source": [
        "prompt_one_hot"
      ],
      "execution_count": 17,
      "outputs": [
        {
          "output_type": "execute_result",
          "data": {
            "text/plain": [
              "array([[1., 0., 0., ..., 0., 0., 0.],\n",
              "       [0., 1., 0., ..., 0., 0., 0.],\n",
              "       [0., 0., 1., ..., 0., 0., 0.],\n",
              "       ...,\n",
              "       [0., 0., 0., ..., 0., 0., 0.],\n",
              "       [0., 0., 1., ..., 0., 0., 0.],\n",
              "       [0., 0., 0., ..., 0., 0., 0.]])"
            ]
          },
          "metadata": {
            "tags": []
          },
          "execution_count": 17
        }
      ]
    },
    {
      "cell_type": "code",
      "metadata": {
        "id": "Ico5L3Y9CSte",
        "colab_type": "code",
        "outputId": "164a6dac-f8dd-4ff3-f68b-aa590237d0a6",
        "colab": {
          "base_uri": "https://localhost:8080/",
          "height": 34
        }
      },
      "source": [
        "print('Confirm that all records are covered in one hot encoding:', len(prompt_one_hot))"
      ],
      "execution_count": 18,
      "outputs": [
        {
          "output_type": "stream",
          "text": [
            "Confirm that all records are covered in one hot encoding: 6650\n"
          ],
          "name": "stdout"
        }
      ]
    },
    {
      "cell_type": "markdown",
      "metadata": {
        "id": "PUTaqoF5EJ9a",
        "colab_type": "text"
      },
      "source": [
        "# Prepare data features"
      ]
    },
    {
      "cell_type": "code",
      "metadata": {
        "id": "x0c0MveifoBh",
        "colab_type": "code",
        "outputId": "eeb56eb9-fc19-4a24-cdea-fdb25aff3a44",
        "colab": {
          "base_uri": "https://localhost:8080/",
          "height": 54
        }
      },
      "source": [
        "# prepare tokenizer\n",
        "t = Tokenizer()\n",
        "t.fit_on_texts(phrases.tolist())\n",
        "vocab_size = len(t.word_index) + 1\n",
        "\n",
        "# integer encode the documents\n",
        "encoded_docs = t.texts_to_sequences(phrases.tolist())\n",
        "print(encoded_docs[0:5])"
      ],
      "execution_count": 59,
      "outputs": [
        {
          "output_type": "stream",
          "text": [
            "[[10, 1, 583, 125, 1, 7, 77], [10, 1, 261, 99, 185, 1, 7, 18, 416, 2, 23], [35, 11, 91, 94, 6, 10, 1, 106, 2, 98], [2, 189, 52, 167, 301, 439, 8, 13, 11, 179, 8, 9, 40, 89, 15, 167, 301, 11, 584, 8, 190, 83], [2, 145, 4, 2, 136, 23, 73, 224]]\n"
          ],
          "name": "stdout"
        }
      ]
    },
    {
      "cell_type": "code",
      "metadata": {
        "id": "bddUbJI6hgxV",
        "colab_type": "code",
        "outputId": "b9c262f2-0cc4-4f8b-f020-1dfcb727996b",
        "colab": {
          "base_uri": "https://localhost:8080/",
          "height": 34
        }
      },
      "source": [
        "print('The training data phrase word count is the covabulary size of', vocab_size)"
      ],
      "execution_count": 20,
      "outputs": [
        {
          "output_type": "stream",
          "text": [
            "The training data phrase word count is the covabulary size of 1160\n"
          ],
          "name": "stdout"
        }
      ]
    },
    {
      "cell_type": "code",
      "metadata": {
        "id": "UqKrWmj3gJ0U",
        "colab_type": "code",
        "outputId": "e2dbad0f-1f1c-4e33-fea0-9b84ca11df62",
        "colab": {
          "base_uri": "https://localhost:8080/",
          "height": 34
        }
      },
      "source": [
        "# pad documents to a max length of the longest word\n",
        "max_length = 0\n",
        "for doc in encoded_docs:\n",
        "  if len(doc) > max_length:\n",
        "    max_length = len(doc)\n",
        "\n",
        "print('The training data with the longest word length is', max_length)\n",
        "\n",
        "padded_docs = pad_sequences(encoded_docs, maxlen=max_length, padding='post')"
      ],
      "execution_count": 21,
      "outputs": [
        {
          "output_type": "stream",
          "text": [
            "The training data with the longest word length is 30\n"
          ],
          "name": "stdout"
        }
      ]
    },
    {
      "cell_type": "code",
      "metadata": {
        "id": "4VXepMS2g9iT",
        "colab_type": "code",
        "outputId": "7f646421-3bfe-427a-d5df-754abe1d664e",
        "colab": {
          "base_uri": "https://localhost:8080/",
          "height": 34
        }
      },
      "source": [
        "print('Confirm that the padded_docs has the correct size of', len(padded_docs))"
      ],
      "execution_count": 22,
      "outputs": [
        {
          "output_type": "stream",
          "text": [
            "Confirm that the padded_docs has the correct size of 6650\n"
          ],
          "name": "stdout"
        }
      ]
    },
    {
      "cell_type": "code",
      "metadata": {
        "id": "od_SqJnLWiV6",
        "colab_type": "code",
        "colab": {
          "base_uri": "https://localhost:8080/",
          "height": 34
        },
        "outputId": "c90aef6d-1e60-4eee-f03e-60047cc82048"
      },
      "source": [
        "print('Confirm that the phrase below has the same number of non zero tokens in the padded document', phrases[1])"
      ],
      "execution_count": 23,
      "outputs": [
        {
          "output_type": "stream",
          "text": [
            "Confirm that the phrase below has the same number of non zero tokens in the padded document When I carry heavy things I feel like breaking my back\n"
          ],
          "name": "stdout"
        }
      ]
    },
    {
      "cell_type": "code",
      "metadata": {
        "id": "c9teBAYeCN46",
        "colab_type": "code",
        "outputId": "01764b43-6623-4aa8-ba65-7772076cfaeb",
        "colab": {
          "base_uri": "https://localhost:8080/",
          "height": 51
        }
      },
      "source": [
        "print('See padded document for the position 1 phrase', padded_docs[1])"
      ],
      "execution_count": 24,
      "outputs": [
        {
          "output_type": "stream",
          "text": [
            "See padded document for the position 1 phrase [ 10   1 261  99 185   1   7  18 416   2  23   0   0   0   0   0   0   0\n",
            "   0   0   0   0   0   0   0   0   0   0   0   0]\n"
          ],
          "name": "stdout"
        }
      ]
    },
    {
      "cell_type": "markdown",
      "metadata": {
        "id": "EZrMQKZHwg1u",
        "colab_type": "text"
      },
      "source": [
        "### Add an index in front of each padded phrase to allow tracking of the true prompt"
      ]
    },
    {
      "cell_type": "code",
      "metadata": {
        "id": "4gHRBSHScjPL",
        "colab_type": "code",
        "colab": {
          "base_uri": "https://localhost:8080/",
          "height": 323
        },
        "outputId": "af9d4029-e3bf-490a-8642-b12bdf0f7939"
      },
      "source": [
        "indexed_padded_docs = list()\n",
        "\n",
        "counter = 0\n",
        "for row in padded_docs:\n",
        "  indexed_padded_docs.append(list((counter, row)))\n",
        "  counter = counter + 1\n",
        "\n",
        "indexed_padded_docs = np.array(indexed_padded_docs)\n",
        "\n",
        "print(type(indexed_padded_docs))\n",
        "print(len(indexed_padded_docs))\n",
        "print(indexed_padded_docs[0:4])"
      ],
      "execution_count": 25,
      "outputs": [
        {
          "output_type": "stream",
          "text": [
            "<class 'numpy.ndarray'>\n",
            "6650\n",
            "[[0\n",
            "  array([ 10,   1, 583, 125,   1,   7,  77,   0,   0,   0,   0,   0,   0,\n",
            "         0,   0,   0,   0,   0,   0,   0,   0,   0,   0,   0,   0,   0,\n",
            "         0,   0,   0,   0], dtype=int32)]\n",
            " [1\n",
            "  array([ 10,   1, 261,  99, 185,   1,   7,  18, 416,   2,  23,   0,   0,\n",
            "         0,   0,   0,   0,   0,   0,   0,   0,   0,   0,   0,   0,   0,\n",
            "         0,   0,   0,   0], dtype=int32)]\n",
            " [2\n",
            "  array([ 35,  11,  91,  94,   6,  10,   1, 106,   2,  98,   0,   0,   0,\n",
            "         0,   0,   0,   0,   0,   0,   0,   0,   0,   0,   0,   0,   0,\n",
            "         0,   0,   0,   0], dtype=int32)]\n",
            " [3\n",
            "  array([  2, 189,  52, 167, 301, 439,   8,  13,  11, 179,   8,   9,  40,\n",
            "        89,  15, 167, 301,  11, 584,   8, 190,  83,   0,   0,   0,   0,\n",
            "         0,   0,   0,   0], dtype=int32)]]\n"
          ],
          "name": "stdout"
        }
      ]
    },
    {
      "cell_type": "code",
      "metadata": {
        "id": "fbsOPtepbJHr",
        "colab_type": "code",
        "colab": {
          "base_uri": "https://localhost:8080/",
          "height": 34
        },
        "outputId": "64f0d2cb-c36f-42e1-e3f8-7d802fb9a6de"
      },
      "source": [
        "len(padded_docs)"
      ],
      "execution_count": 26,
      "outputs": [
        {
          "output_type": "execute_result",
          "data": {
            "text/plain": [
              "6650"
            ]
          },
          "metadata": {
            "tags": []
          },
          "execution_count": 26
        }
      ]
    },
    {
      "cell_type": "markdown",
      "metadata": {
        "id": "u89jEoqlh0WX",
        "colab_type": "text"
      },
      "source": [
        "# Prepare Weights for Data from Embedding"
      ]
    },
    {
      "cell_type": "code",
      "metadata": {
        "id": "HlGnjmwGi7y8",
        "colab_type": "code",
        "colab": {}
      },
      "source": [
        "# create a weight matrix for words in training docs\n",
        "embedding_matrix = zeros((vocab_size, 200))\n",
        "for word, i in t.word_index.items():\n",
        "\tembedding_vector = embeddings_index.get(word)\n",
        "\tif embedding_vector is not None:\n",
        "\t\tembedding_matrix[i] = embedding_vector"
      ],
      "execution_count": 0,
      "outputs": []
    },
    {
      "cell_type": "code",
      "metadata": {
        "id": "mHX29effgjo7",
        "colab_type": "code",
        "colab": {
          "base_uri": "https://localhost:8080/",
          "height": 238
        },
        "outputId": "23e8f9c7-379f-42b4-8d41-34eba79d0f2f"
      },
      "source": [
        "embedding_matrix"
      ],
      "execution_count": 28,
      "outputs": [
        {
          "output_type": "execute_result",
          "data": {
            "text/plain": [
              "array([[ 0.        ,  0.        ,  0.        , ...,  0.        ,\n",
              "         0.        ,  0.        ],\n",
              "       [ 0.26804999,  0.36032   , -0.33199999, ...,  0.17769   ,\n",
              "         0.22362   ,  0.014241  ],\n",
              "       [ 0.30379999,  0.18126   ,  0.46583   , ...,  0.29550999,\n",
              "        -0.25325999,  0.72632998],\n",
              "       ...,\n",
              "       [ 0.077027  , -0.25341001, -0.15026   , ...,  0.2938    ,\n",
              "        -0.23005   , -0.17716999],\n",
              "       [ 0.29876   , -0.14601   , -0.15304001, ...,  0.28331   ,\n",
              "        -0.11579   ,  0.92505997],\n",
              "       [ 0.55844998,  0.66096002,  0.32642999, ...,  0.17189001,\n",
              "         0.050269  , -0.42519999]])"
            ]
          },
          "metadata": {
            "tags": []
          },
          "execution_count": 28
        }
      ]
    },
    {
      "cell_type": "code",
      "metadata": {
        "id": "MgoJER92jLzm",
        "colab_type": "code",
        "outputId": "741af83b-493d-4d0f-b5b6-8faf00df0399",
        "colab": {
          "base_uri": "https://localhost:8080/",
          "height": 34
        }
      },
      "source": [
        "type(embedding_matrix)"
      ],
      "execution_count": 29,
      "outputs": [
        {
          "output_type": "execute_result",
          "data": {
            "text/plain": [
              "numpy.ndarray"
            ]
          },
          "metadata": {
            "tags": []
          },
          "execution_count": 29
        }
      ]
    },
    {
      "cell_type": "code",
      "metadata": {
        "id": "bnF6budHrYp_",
        "colab_type": "code",
        "colab": {
          "base_uri": "https://localhost:8080/",
          "height": 34
        },
        "outputId": "160d73d7-e4d2-4f67-9bff-6e42a70c349f"
      },
      "source": [
        "np.shape(embedding_matrix)"
      ],
      "execution_count": 30,
      "outputs": [
        {
          "output_type": "execute_result",
          "data": {
            "text/plain": [
              "(1160, 200)"
            ]
          },
          "metadata": {
            "tags": []
          },
          "execution_count": 30
        }
      ]
    },
    {
      "cell_type": "code",
      "metadata": {
        "id": "ZY2v7XexrL15",
        "colab_type": "code",
        "colab": {
          "base_uri": "https://localhost:8080/",
          "height": 34
        },
        "outputId": "21900448-da02-4a38-ad14-1835e907ab5a"
      },
      "source": [
        "vocab_size"
      ],
      "execution_count": 31,
      "outputs": [
        {
          "output_type": "execute_result",
          "data": {
            "text/plain": [
              "1160"
            ]
          },
          "metadata": {
            "tags": []
          },
          "execution_count": 31
        }
      ]
    },
    {
      "cell_type": "markdown",
      "metadata": {
        "id": "tjzMj_rMFzYz",
        "colab_type": "text"
      },
      "source": [
        "# Test Train Split"
      ]
    },
    {
      "cell_type": "code",
      "metadata": {
        "id": "1Yp3wSbJB-ZY",
        "colab_type": "code",
        "colab": {}
      },
      "source": [
        "#split the data into training and validation set with 80%, 20% respectively\n",
        "train_x, test_x, train_y, test_y = train_test_split(indexed_padded_docs ,prompt_one_hot, test_size=0.2, random_state=1,shuffle=True)"
      ],
      "execution_count": 0,
      "outputs": []
    },
    {
      "cell_type": "markdown",
      "metadata": {
        "id": "N1QwI47ww8fK",
        "colab_type": "text"
      },
      "source": [
        "### Confirm that sizes of features and target in both the train and test are the same, and view sample of train set."
      ]
    },
    {
      "cell_type": "code",
      "metadata": {
        "id": "FcoiyR0KCbR-",
        "colab_type": "code",
        "outputId": "6734b1c3-86d3-47f1-dd49-03e5a1475d5f",
        "colab": {
          "base_uri": "https://localhost:8080/",
          "height": 85
        }
      },
      "source": [
        "print(len(train_x))\n",
        "print(len(train_y))\n",
        "print(len(test_x))\n",
        "print(len(test_y))"
      ],
      "execution_count": 33,
      "outputs": [
        {
          "output_type": "stream",
          "text": [
            "5320\n",
            "5320\n",
            "1330\n",
            "1330\n"
          ],
          "name": "stdout"
        }
      ]
    },
    {
      "cell_type": "code",
      "metadata": {
        "id": "27mlFwKhhlQ1",
        "colab_type": "code",
        "colab": {
          "base_uri": "https://localhost:8080/",
          "height": 340
        },
        "outputId": "5c573561-b1cf-49ce-c579-be4fa06da543"
      },
      "source": [
        "train_x[0:5]"
      ],
      "execution_count": 34,
      "outputs": [
        {
          "output_type": "execute_result",
          "data": {
            "text/plain": [
              "array([[102,\n",
              "        array([  1,   5,  36,  48,  41,  22, 257,  79, 188,   1, 110,   5,   3,\n",
              "        33,  53, 218,  53, 139, 342, 445, 113,  36, 963,   0,   0,   0,\n",
              "         0,   0,   0,   0], dtype=int32)],\n",
              "       [589,\n",
              "        array([ 35,  11,   3,  50,   6,   4,   2, 744,   0,   0,   0,   0,   0,\n",
              "         0,   0,   0,   0,   0,   0,   0,   0,   0,   0,   0,   0,   0,\n",
              "         0,   0,   0,   0], dtype=int32)],\n",
              "       [5323,\n",
              "        array([ 1, 75,  2, 55, 11, 83,  0,  0,  0,  0,  0,  0,  0,  0,  0,  0,  0,\n",
              "        0,  0,  0,  0,  0,  0,  0,  0,  0,  0,  0,  0,  0], dtype=int32)],\n",
              "       [1558,\n",
              "        array([ 10,   1,  26, 966,   2,  28,  13,  26,  95,  30, 967,   0,   0,\n",
              "         0,   0,   0,   0,   0,   0,   0,   0,   0,   0,   0,   0,   0,\n",
              "         0,   0,   0,   0], dtype=int32)],\n",
              "       [1228,\n",
              "        array([ 25, 309,   1,   5, 173,  93,  89,  14,  24,   0,   0,   0,   0,\n",
              "         0,   0,   0,   0,   0,   0,   0,   0,   0,   0,   0,   0,   0,\n",
              "         0,   0,   0,   0], dtype=int32)]], dtype=object)"
            ]
          },
          "metadata": {
            "tags": []
          },
          "execution_count": 34
        }
      ]
    },
    {
      "cell_type": "markdown",
      "metadata": {
        "id": "_1KOLbRnPMtm",
        "colab_type": "text"
      },
      "source": [
        "### Create helper function to convert indexed array to non-indexed array for use in training"
      ]
    },
    {
      "cell_type": "code",
      "metadata": {
        "id": "pyNKsmNZiTZY",
        "colab_type": "code",
        "colab": {
          "base_uri": "https://localhost:8080/",
          "height": 136
        },
        "outputId": "efefdb59-99a6-4ef9-f415-03d39c9ed397"
      },
      "source": [
        "def to_non_indexed_array(indexed_array):\n",
        "   \n",
        "  non_indexed_list = list()\n",
        "\n",
        "  counter = 0\n",
        "  for row in indexed_array:\n",
        "\n",
        "    non_indexed_list.append(row[1])\n",
        "    counter = counter + 1\n",
        "\n",
        "  non_indexed_array = np.array(non_indexed_list)\n",
        "  \n",
        "  return(non_indexed_array)\n",
        "\n",
        "to_non_indexed_array(test_x)"
      ],
      "execution_count": 35,
      "outputs": [
        {
          "output_type": "execute_result",
          "data": {
            "text/plain": [
              "array([[  1,  86, 260, ...,   0,   0,   0],\n",
              "       [ 25, 111, 112, ...,   0,   0,   0],\n",
              "       [  2, 759,  37, ..., 585,  21, 761],\n",
              "       ...,\n",
              "       [  1,   5, 105, ...,   0,   0,   0],\n",
              "       [  2, 845,   8, ...,   0,   0,   0],\n",
              "       [  2,  38,  37, ...,   0,   0,   0]], dtype=int32)"
            ]
          },
          "metadata": {
            "tags": []
          },
          "execution_count": 35
        }
      ]
    },
    {
      "cell_type": "markdown",
      "metadata": {
        "id": "JR6WhT8Exfu2",
        "colab_type": "text"
      },
      "source": [
        "# Create Dense Neural Network"
      ]
    },
    {
      "cell_type": "code",
      "metadata": {
        "id": "VLVZAqhgi3Ez",
        "colab_type": "code",
        "outputId": "89cdb810-f11e-4eeb-cb6a-8a722743fca5",
        "colab": {
          "base_uri": "https://localhost:8080/",
          "height": 598
        }
      },
      "source": [
        "# Define model\n",
        "model_dense = Sequential()\n",
        "\n",
        "# Embedding Layers\n",
        "e = Embedding(vocab_size, 200, weights=[embedding_matrix], input_length=max_length, trainable=False)\n",
        "model_dense.add(e)\n",
        "model_dense.add(Flatten())\n",
        "\n",
        "# Dense layer\n",
        "model_dense.add(Dense(len(set(prompt))))\n",
        "\n",
        "# Output Layer\n",
        "model_dense.add(Activation('softmax'))\n",
        "\n",
        "# Compile Model\n",
        "model_dense.compile(optimizer=Adam(), loss='categorical_crossentropy', metrics=['accuracy'])\n",
        "\n",
        "# Summarize Model\n",
        "print(model_dense.summary())\n",
        "\n",
        "# Fit Model\n",
        "model_dense.fit(to_non_indexed_array(train_x), train_y, epochs=3, verbose=0)\n",
        "\n",
        "# Evaluate Model\n",
        "loss, accuracy = model_dense.evaluate(to_non_indexed_array(test_x), test_y, verbose=0)\n",
        "print('Accuracy: %f' % (accuracy*100))"
      ],
      "execution_count": 36,
      "outputs": [
        {
          "output_type": "stream",
          "text": [
            "WARNING:tensorflow:From /usr/local/lib/python3.6/dist-packages/keras/backend/tensorflow_backend.py:66: The name tf.get_default_graph is deprecated. Please use tf.compat.v1.get_default_graph instead.\n",
            "\n",
            "WARNING:tensorflow:From /usr/local/lib/python3.6/dist-packages/keras/backend/tensorflow_backend.py:541: The name tf.placeholder is deprecated. Please use tf.compat.v1.placeholder instead.\n",
            "\n",
            "WARNING:tensorflow:From /usr/local/lib/python3.6/dist-packages/keras/backend/tensorflow_backend.py:4432: The name tf.random_uniform is deprecated. Please use tf.random.uniform instead.\n",
            "\n",
            "WARNING:tensorflow:From /usr/local/lib/python3.6/dist-packages/keras/backend/tensorflow_backend.py:190: The name tf.get_default_session is deprecated. Please use tf.compat.v1.get_default_session instead.\n",
            "\n",
            "WARNING:tensorflow:From /usr/local/lib/python3.6/dist-packages/keras/backend/tensorflow_backend.py:197: The name tf.ConfigProto is deprecated. Please use tf.compat.v1.ConfigProto instead.\n",
            "\n",
            "WARNING:tensorflow:From /usr/local/lib/python3.6/dist-packages/keras/optimizers.py:793: The name tf.train.Optimizer is deprecated. Please use tf.compat.v1.train.Optimizer instead.\n",
            "\n",
            "Model: \"sequential_1\"\n",
            "_________________________________________________________________\n",
            "Layer (type)                 Output Shape              Param #   \n",
            "=================================================================\n",
            "embedding_1 (Embedding)      (None, 30, 200)           232000    \n",
            "_________________________________________________________________\n",
            "flatten_1 (Flatten)          (None, 6000)              0         \n",
            "_________________________________________________________________\n",
            "dense_1 (Dense)              (None, 25)                150025    \n",
            "_________________________________________________________________\n",
            "activation_1 (Activation)    (None, 25)                0         \n",
            "=================================================================\n",
            "Total params: 382,025\n",
            "Trainable params: 150,025\n",
            "Non-trainable params: 232,000\n",
            "_________________________________________________________________\n",
            "None\n",
            "WARNING:tensorflow:From /usr/local/lib/python3.6/dist-packages/tensorflow/python/ops/math_grad.py:1250: add_dispatch_support.<locals>.wrapper (from tensorflow.python.ops.array_ops) is deprecated and will be removed in a future version.\n",
            "Instructions for updating:\n",
            "Use tf.where in 2.0, which has the same broadcast rule as np.where\n",
            "Accuracy: 99.248120\n"
          ],
          "name": "stdout"
        }
      ]
    },
    {
      "cell_type": "markdown",
      "metadata": {
        "id": "0hVaLdTCOWPB",
        "colab_type": "text"
      },
      "source": [
        "# Create Convolutional Neural Network"
      ]
    },
    {
      "cell_type": "code",
      "metadata": {
        "id": "li-2AGMNiwKo",
        "colab_type": "code",
        "outputId": "da14a6ce-9b9a-4382-9272-77876457454f",
        "colab": {
          "base_uri": "https://localhost:8080/",
          "height": 425
        }
      },
      "source": [
        "cnn_model = Sequential()\n",
        "\n",
        "# Embedding Layer\n",
        "e = Embedding(vocab_size, 200, weights=[embedding_matrix], input_length=max_length, trainable=False)\n",
        "cnn_model.add(e)\n",
        "\n",
        "# Convolutional and Max Pooling Layer\n",
        "cnn_model.add(layers.Conv1D(128, 5, activation='relu'))\n",
        "cnn_model.add(layers.GlobalMaxPooling1D())\n",
        "\n",
        "# Dense Layer\n",
        "cnn_model.add(layers.Dense(10, activation='relu'))\n",
        "\n",
        "# Output Layer\n",
        "cnn_model.add(layers.Dense(len(set(prompt)), activation='sigmoid'))\n",
        "cnn_model.compile(optimizer='adam',\n",
        "              loss='binary_crossentropy',\n",
        "              metrics=['accuracy'])\n",
        "\n",
        "# Summarize Model\n",
        "cnn_model.summary()\n",
        "\n",
        "# Fit Model\n",
        "history = cnn_model.fit(to_non_indexed_array(train_x),train_y,\n",
        "                    epochs=3,\n",
        "                    verbose=1)"
      ],
      "execution_count": 53,
      "outputs": [
        {
          "output_type": "stream",
          "text": [
            "Model: \"sequential_8\"\n",
            "_________________________________________________________________\n",
            "Layer (type)                 Output Shape              Param #   \n",
            "=================================================================\n",
            "embedding_8 (Embedding)      (None, 30, 200)           232000    \n",
            "_________________________________________________________________\n",
            "conv1d_7 (Conv1D)            (None, 26, 128)           128128    \n",
            "_________________________________________________________________\n",
            "global_max_pooling1d_7 (Glob (None, 128)               0         \n",
            "_________________________________________________________________\n",
            "dense_14 (Dense)             (None, 10)                1290      \n",
            "_________________________________________________________________\n",
            "dense_15 (Dense)             (None, 25)                275       \n",
            "=================================================================\n",
            "Total params: 361,693\n",
            "Trainable params: 129,693\n",
            "Non-trainable params: 232,000\n",
            "_________________________________________________________________\n",
            "Epoch 1/3\n",
            "5320/5320 [==============================] - 2s 331us/step - loss: 0.1990 - acc: 0.9391\n",
            "Epoch 2/3\n",
            "5320/5320 [==============================] - 1s 215us/step - loss: 0.0785 - acc: 0.9727\n",
            "Epoch 3/3\n",
            "5320/5320 [==============================] - 1s 206us/step - loss: 0.0375 - acc: 0.9900\n"
          ],
          "name": "stdout"
        }
      ]
    },
    {
      "cell_type": "markdown",
      "metadata": {
        "id": "txNqAj7ty5aA",
        "colab_type": "text"
      },
      "source": [
        "# Evaluate Model"
      ]
    },
    {
      "cell_type": "code",
      "metadata": {
        "id": "CCktUQ3gvITW",
        "colab_type": "code",
        "colab": {
          "base_uri": "https://localhost:8080/",
          "height": 282
        },
        "outputId": "a8cc87d9-376b-4863-da05-0304a2420da9"
      },
      "source": [
        "#History Object Preserves Training Accuracy\n",
        "loss = history.history['acc']\n",
        "\n",
        "#Number of Epochs\n",
        "epochs = range(len(loss))\n",
        "\n",
        "plt.figure()\n",
        "\n",
        "# Plot Training Accuracy\n",
        "plt.plot(epochs, loss, 'bo', label='Training Accuracy')\n",
        "plt.title('Training Accuracy')\n",
        "plt.show()"
      ],
      "execution_count": 54,
      "outputs": [
        {
          "output_type": "display_data",
          "data": {
            "image/png": "[encoded data removed]",
            "text/plain": [
              "<Figure size 432x288 with 1 Axes>"
            ]
          },
          "metadata": {
            "tags": []
          }
        }
      ]
    },
    {
      "cell_type": "code",
      "metadata": {
        "id": "XncQ15FFxapa",
        "colab_type": "code",
        "colab": {
          "base_uri": "https://localhost:8080/",
          "height": 34
        },
        "outputId": "76decbcb-025d-41bb-b56b-8094d7014267"
      },
      "source": [
        "# evaluate the model\n",
        "loss, accuracy = cnn_model.evaluate(to_non_indexed_array(test_x), test_y, verbose=0)\n",
        "print('Accuracy: %f' % (accuracy*100))"
      ],
      "execution_count": 55,
      "outputs": [
        {
          "output_type": "stream",
          "text": [
            "Accuracy: 99.371429\n"
          ],
          "name": "stdout"
        }
      ]
    },
    {
      "cell_type": "markdown",
      "metadata": {
        "id": "6AoxqYegBklk",
        "colab_type": "text"
      },
      "source": [
        "# Exploration of Output"
      ]
    },
    {
      "cell_type": "code",
      "metadata": {
        "id": "CXiAthW6HzTc",
        "colab_type": "code",
        "colab": {}
      },
      "source": [
        "def exploration_output(model_exploration, num, verbose = True):\n",
        "  '''Parameters: model_exploration - type: keras.engine.sequential.Sequential\n",
        "    num - type: integer - Element in the test set to view the actual class and scores of predicted classes\n",
        "    verbose - type: boolean - If True, prints details out phrase of the num element in the test set, and the true class of the element.\n",
        "    Output: Descending dataframe of most probable classes ordered by softmax scoring\n",
        "  '''\n",
        "  if verbose:\n",
        "    print('Testing output from phrase of:', phrases[test_x[num][0]])\n",
        "\n",
        "  model_exploration.predict(to_non_indexed_array(test_x), verbose=0)[num]\n",
        "\n",
        "  results = pd.DataFrame(columns=['Class Id', 'Prompt', 'Score'])\n",
        "  results = list()\n",
        "  index = 0\n",
        "  for score in model_exploration.predict(to_non_indexed_array(test_x), verbose=0)[num]:\n",
        "    row = list((index, id_to_category.get(index), score))\n",
        "    results.append(row)\n",
        "    index = index + 1\n",
        "\n",
        "  results = pd.DataFrame(columns=['Class Id', 'Prompt', 'Score'], data = results)\n",
        "  \n",
        "  if verbose:\n",
        "    print('True class is:', id_to_category.get(np.argmax(test_y[num])))\n",
        "    \n",
        "  return(results.sort_values(by='Score', ascending = False).head())"
      ],
      "execution_count": 0,
      "outputs": []
    },
    {
      "cell_type": "code",
      "metadata": {
        "id": "2WFySu1rx3YL",
        "colab_type": "code",
        "colab": {
          "base_uri": "https://localhost:8080/",
          "height": 238
        },
        "outputId": "59900801-6aa7-47c2-ad8b-cd3fad310368"
      },
      "source": [
        "exploration_output(model_dense, 5)"
      ],
      "execution_count": 57,
      "outputs": [
        {
          "output_type": "stream",
          "text": [
            "Testing output from phrase of: I feel a pain on the left side of my chest, where my heart is\n",
            "True class is: Heart hurts\n"
          ],
          "name": "stdout"
        },
        {
          "output_type": "execute_result",
          "data": {
            "text/html": [
              "<div>\n",
              "<style scoped>\n",
              "    .dataframe tbody tr th:only-of-type {\n",
              "        vertical-align: middle;\n",
              "    }\n",
              "\n",
              "    .dataframe tbody tr th {\n",
              "        vertical-align: top;\n",
              "    }\n",
              "\n",
              "    .dataframe thead th {\n",
              "        text-align: right;\n",
              "    }\n",
              "</style>\n",
              "<table border=\"1\" class=\"dataframe\">\n",
              "  <thead>\n",
              "    <tr style=\"text-align: right;\">\n",
              "      <th></th>\n",
              "      <th>Class Id</th>\n",
              "      <th>Prompt</th>\n",
              "      <th>Score</th>\n",
              "    </tr>\n",
              "  </thead>\n",
              "  <tbody>\n",
              "    <tr>\n",
              "      <th>2</th>\n",
              "      <td>2</td>\n",
              "      <td>Heart hurts</td>\n",
              "      <td>0.913194</td>\n",
              "    </tr>\n",
              "    <tr>\n",
              "      <th>4</th>\n",
              "      <td>4</td>\n",
              "      <td>Foot ache</td>\n",
              "      <td>0.025469</td>\n",
              "    </tr>\n",
              "    <tr>\n",
              "      <th>5</th>\n",
              "      <td>5</td>\n",
              "      <td>Shoulder pain</td>\n",
              "      <td>0.012864</td>\n",
              "    </tr>\n",
              "    <tr>\n",
              "      <th>12</th>\n",
              "      <td>12</td>\n",
              "      <td>Head ache</td>\n",
              "      <td>0.009703</td>\n",
              "    </tr>\n",
              "    <tr>\n",
              "      <th>10</th>\n",
              "      <td>10</td>\n",
              "      <td>Joint pain</td>\n",
              "      <td>0.008669</td>\n",
              "    </tr>\n",
              "  </tbody>\n",
              "</table>\n",
              "</div>"
            ],
            "text/plain": [
              "    Class Id         Prompt     Score\n",
              "2          2    Heart hurts  0.913194\n",
              "4          4      Foot ache  0.025469\n",
              "5          5  Shoulder pain  0.012864\n",
              "12        12      Head ache  0.009703\n",
              "10        10     Joint pain  0.008669"
            ]
          },
          "metadata": {
            "tags": []
          },
          "execution_count": 57
        }
      ]
    },
    {
      "cell_type": "code",
      "metadata": {
        "id": "p9Jn2o_yHsOm",
        "colab_type": "code",
        "colab": {
          "base_uri": "https://localhost:8080/",
          "height": 238
        },
        "outputId": "68dd9d8c-40c8-40cb-8508-14120fa344d2"
      },
      "source": [
        "exploration_output(cnn_model, 5)"
      ],
      "execution_count": 58,
      "outputs": [
        {
          "output_type": "stream",
          "text": [
            "Testing output from phrase of: I feel a pain on the left side of my chest, where my heart is\n",
            "True class is: Heart hurts\n"
          ],
          "name": "stdout"
        },
        {
          "output_type": "execute_result",
          "data": {
            "text/html": [
              "<div>\n",
              "<style scoped>\n",
              "    .dataframe tbody tr th:only-of-type {\n",
              "        vertical-align: middle;\n",
              "    }\n",
              "\n",
              "    .dataframe tbody tr th {\n",
              "        vertical-align: top;\n",
              "    }\n",
              "\n",
              "    .dataframe thead th {\n",
              "        text-align: right;\n",
              "    }\n",
              "</style>\n",
              "<table border=\"1\" class=\"dataframe\">\n",
              "  <thead>\n",
              "    <tr style=\"text-align: right;\">\n",
              "      <th></th>\n",
              "      <th>Class Id</th>\n",
              "      <th>Prompt</th>\n",
              "      <th>Score</th>\n",
              "    </tr>\n",
              "  </thead>\n",
              "  <tbody>\n",
              "    <tr>\n",
              "      <th>2</th>\n",
              "      <td>2</td>\n",
              "      <td>Heart hurts</td>\n",
              "      <td>0.810164</td>\n",
              "    </tr>\n",
              "    <tr>\n",
              "      <th>3</th>\n",
              "      <td>3</td>\n",
              "      <td>Infected wound</td>\n",
              "      <td>0.039408</td>\n",
              "    </tr>\n",
              "    <tr>\n",
              "      <th>15</th>\n",
              "      <td>15</td>\n",
              "      <td>Back pain</td>\n",
              "      <td>0.033659</td>\n",
              "    </tr>\n",
              "    <tr>\n",
              "      <th>9</th>\n",
              "      <td>9</td>\n",
              "      <td>Knee pain</td>\n",
              "      <td>0.030153</td>\n",
              "    </tr>\n",
              "    <tr>\n",
              "      <th>12</th>\n",
              "      <td>12</td>\n",
              "      <td>Head ache</td>\n",
              "      <td>0.015866</td>\n",
              "    </tr>\n",
              "  </tbody>\n",
              "</table>\n",
              "</div>"
            ],
            "text/plain": [
              "    Class Id          Prompt     Score\n",
              "2          2     Heart hurts  0.810164\n",
              "3          3  Infected wound  0.039408\n",
              "15        15       Back pain  0.033659\n",
              "9          9       Knee pain  0.030153\n",
              "12        12       Head ache  0.015866"
            ]
          },
          "metadata": {
            "tags": []
          },
          "execution_count": 58
        }
      ]
    }
  ]
}