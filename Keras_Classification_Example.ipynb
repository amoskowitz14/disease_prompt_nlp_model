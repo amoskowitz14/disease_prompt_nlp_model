{
  "nbformat": 4,
  "nbformat_minor": 0,
  "metadata": {
    "colab": {
      "name": "Keras_Classification_Example.ipynb",
      "provenance": [],
      "collapsed_sections": []
    },
    "kernelspec": {
      "name": "python3",
      "display_name": "Python 3"
    },
    "accelerator": "GPU"
  },
  "cells": [
    {
      "cell_type": "markdown",
      "metadata": {
        "id": "6LzbGMe24AG7",
        "colab_type": "text"
      },
      "source": [
        "# Introduction"
      ]
    },
    {
      "cell_type": "markdown",
      "metadata": {
        "id": "-T8aBfwY384K",
        "colab_type": "text"
      },
      "source": [
        "### Overview:\n",
        "With the arrival of [new medical documentation in the US](https://www.healthcareitnews.com/news/how-sdoh-will-influence-next-wave-health-tech-startups) it is possible to build a model that can classify symptom names based upon input text from patients describing their illness.\n",
        "\n",
        "Utilized Keras to generate a Convolutional Neural Network (CNN) and dense neural network with a 200 dimensional Genism Word2Vec embedding and 6,650 records of patient condition descriptions to predict symptoms with a close to 100% test accuracy from both models.\n",
        "\n",
        "### SetUp:\n",
        "1. Install all packages from the Import statement.\n",
        "2. The 200 dimensional Word2Vec file of glove.6B.200d.txt can be downloaded at a zip file [here](http://nlp.stanford.edu/data/glove.6B.zip) (822 MB). See main page at the [GloVe: Global Vectors for Word Representation](https://nlp.stanford.edu/projects/glove/) introduction page.\n",
        "3. Designate the file path of the input data and Gensim embedding file as a string in the 'directory' object.\n",
        "4. Download data file from github [here](https://github.com/amoskowitz14/disease_prompt_nlp_model/blob/master/phrase_disease_data.csv)\n",
        "\n",
        "### Sources:\n",
        "1. [Word Embedding use in Keras](https://machinelearningmastery.com/use-word-embedding-layers-deep-learning-keras/)\n",
        "\n",
        "2. [Original Data Source from Figure Eight](https://www.figure-eight.com/dataset/audio-recording-and-transcription-for-medical-scenarios/)\n",
        "\n",
        "3. [Convolutional Neural Networks in Keras](https://realpython.com/python-keras-text-classification/#convolutional-neural-networks-cnn)\n",
        "\n",
        "### Author:\n",
        "[Aaron Moskowitz](https://www.linkedin.com/in/aaroncmoskowitz/)"
      ]
    },
    {
      "cell_type": "markdown",
      "metadata": {
        "id": "QmWSj73D07ZI",
        "colab_type": "text"
      },
      "source": [
        "# Import"
      ]
    },
    {
      "cell_type": "code",
      "metadata": {
        "id": "WaCxoR5bc4VV",
        "colab_type": "code",
        "outputId": "126cdc9c-f2bd-474c-cfa4-700bd5ed470f",
        "colab": {
          "base_uri": "https://localhost:8080/",
          "height": 34
        }
      },
      "source": [
        "# Directory Configuration\n",
        "import os\n",
        "\n",
        "# Goolge Colab Setup\n",
        "from google.colab import drive\n",
        "\n",
        "# Object Manipulation\n",
        "import numpy as np\n",
        "import pandas as pd\n",
        "\n",
        "# Word2Vec Import\n",
        "import gensim\n",
        "from gensim.test.utils import datapath\n",
        "\n",
        "# Tokenizer\n",
        "from tensorflow.python.keras.preprocessing.text import Tokenizer\n",
        "from tensorflow.python.keras.preprocessing.sequence import pad_sequences\n",
        "\n",
        "# Embedding Creation\n",
        "from numpy import asarray\n",
        "from numpy import zeros\n",
        "\n",
        "# Keras\n",
        "from keras import layers\n",
        "from keras.models import Sequential\n",
        "from keras.optimizers import Adam\n",
        "from keras.layers import Activation, Dense, Embedding, Flatten\n",
        "\n",
        "# Test Train Split\n",
        "from sklearn.model_selection import train_test_split\n",
        "\n",
        "# Visulization\n",
        "%matplotlib notebook\n",
        "import matplotlib.pyplot as plt\n",
        "plt.style.use('ggplot')\n",
        "%matplotlib inline"
      ],
      "execution_count": 1,
      "outputs": [
        {
          "output_type": "stream",
          "text": [
            "Using TensorFlow backend.\n"
          ],
          "name": "stderr"
        }
      ]
    },
    {
      "cell_type": "markdown",
      "metadata": {
        "id": "1srwJoSUZlAH",
        "colab_type": "text"
      },
      "source": [
        "# Setup of project directory, or use of google Colab to run code"
      ]
    },
    {
      "cell_type": "code",
      "metadata": {
        "id": "2DsOxYfQ0-73",
        "colab_type": "code",
        "outputId": "5c527e2a-7bb3-4ac3-93e4-fabcefe8dc7b",
        "colab": {
          "base_uri": "https://localhost:8080/",
          "height": 34
        }
      },
      "source": [
        "drive.mount('/content/drive')"
      ],
      "execution_count": 2,
      "outputs": [
        {
          "output_type": "stream",
          "text": [
            "Drive already mounted at /content/drive; to attempt to forcibly remount, call drive.mount(\"/content/drive\", force_remount=True).\n"
          ],
          "name": "stdout"
        }
      ]
    },
    {
      "cell_type": "code",
      "metadata": {
        "id": "CthicZvj1TB4",
        "colab_type": "code",
        "colab": {}
      },
      "source": [
        "directory = \"/content/drive/My Drive/Colab Notebooks/Deep_Learning_NLP/Keras_Healthcare_NLP_Project\""
      ],
      "execution_count": 0,
      "outputs": []
    },
    {
      "cell_type": "code",
      "metadata": {
        "id": "BXAu6PMU2FNa",
        "colab_type": "code",
        "colab": {}
      },
      "source": [
        "os.chdir(directory)"
      ],
      "execution_count": 0,
      "outputs": []
    },
    {
      "cell_type": "code",
      "metadata": {
        "id": "EdDyStDX1OWp",
        "colab_type": "code",
        "colab": {}
      },
      "source": [
        "glove_file = datapath(directory + '/glove/glove.6B.200d.txt')"
      ],
      "execution_count": 0,
      "outputs": []
    },
    {
      "cell_type": "markdown",
      "metadata": {
        "id": "SbYhSW2d086-",
        "colab_type": "text"
      },
      "source": [
        "# Load Embedding"
      ]
    },
    {
      "cell_type": "markdown",
      "metadata": {
        "id": "OlPYzI3FY4Ts",
        "colab_type": "text"
      },
      "source": [
        "### Load the whole 200 dimensional embedding into memory"
      ]
    },
    {
      "cell_type": "code",
      "metadata": {
        "id": "F5NYP0r0bWMe",
        "colab_type": "code",
        "colab": {}
      },
      "source": [
        "embeddings_index = dict()\n",
        "\n",
        "f = open(datapath(glove_file))\n",
        "for line in f:\n",
        "\tvalues = line.split()\n",
        "\tword = values[0]\n",
        "\tcoefs = asarray(values[1:], dtype='float32')\n",
        "\tembeddings_index[word] = coefs\n",
        "f.close()"
      ],
      "execution_count": 0,
      "outputs": []
    },
    {
      "cell_type": "markdown",
      "metadata": {
        "id": "phs9pIsFZSS0",
        "colab_type": "text"
      },
      "source": [
        "### Confirm Gensin embedding is expected"
      ]
    },
    {
      "cell_type": "code",
      "metadata": {
        "id": "JUHeeQaaZPUO",
        "colab_type": "code",
        "colab": {
          "base_uri": "https://localhost:8080/",
          "height": 34
        },
        "outputId": "2fee8efd-8541-4c8e-8871-48bf6c3c2d78"
      },
      "source": [
        "print('Loaded %s word vectors.' % len(embeddings_index))"
      ],
      "execution_count": 7,
      "outputs": [
        {
          "output_type": "stream",
          "text": [
            "Loaded 400000 word vectors.\n"
          ],
          "name": "stdout"
        }
      ]
    },
    {
      "cell_type": "code",
      "metadata": {
        "id": "IAshhO5lbhg_",
        "colab_type": "code",
        "outputId": "00703f56-240b-4bda-c717-fafb65488495",
        "colab": {
          "base_uri": "https://localhost:8080/",
          "height": 51
        }
      },
      "source": [
        "print('''Confirm the embedding of a relevant word such as 'head' with its embedding size of''', len(embeddings_index['head']), 'is expected.')\n",
        "print('View first 5 ellements of the embedding to see if it is plausible. First ellements are', embeddings_index['head'][0:5])"
      ],
      "execution_count": 8,
      "outputs": [
        {
          "output_type": "stream",
          "text": [
            "Confirm the embedding of a relevant word such as 'head' with its embedding size of 200 is expected.\n",
            "View first 5 ellements of the embedding to see if it is plausible. First ellements are [-0.26623  -0.75065  -0.031357 -0.03684  -0.1875  ]\n"
          ],
          "name": "stdout"
        }
      ]
    },
    {
      "cell_type": "markdown",
      "metadata": {
        "id": "qU0jCABS42XH",
        "colab_type": "text"
      },
      "source": [
        "# Import Data"
      ]
    },
    {
      "cell_type": "code",
      "metadata": {
        "id": "wY2BM-XTch11",
        "colab_type": "code",
        "colab": {
          "base_uri": "https://localhost:8080/",
          "height": 34
        },
        "outputId": "85bac5ad-48ec-4a41-a834-e7ced9db8ee9"
      },
      "source": [
        "# Load data from csv\n",
        "input_data = pd.read_csv(directory + '/data/phrase_disease_data.csv') \n",
        "\n",
        "# 5th and 6thh column have phrase and prompt respectively\n",
        "col = ['phrase', 'prompt']\n",
        "input_data = input_data[col]\n",
        "\n",
        "# Get phrases into a series\n",
        "phrases = input_data['phrase']\n",
        "prompts = input_data['prompt']\n",
        "\n",
        "print('Data import has rows of:', len(input_data))"
      ],
      "execution_count": 9,
      "outputs": [
        {
          "output_type": "stream",
          "text": [
            "Data import has rows of: 6650\n"
          ],
          "name": "stdout"
        }
      ]
    },
    {
      "cell_type": "markdown",
      "metadata": {
        "id": "wNmoTVZKoCpc",
        "colab_type": "text"
      },
      "source": [
        "### View 5 example phrases and associated prompts in data to confirm upload worked as expected"
      ]
    },
    {
      "cell_type": "code",
      "metadata": {
        "id": "Q7VEMhZfl12c",
        "colab_type": "code",
        "colab": {
          "base_uri": "https://localhost:8080/",
          "height": 119
        },
        "outputId": "95089d0f-edc9-4eec-fc50-0e77d6bc9633"
      },
      "source": [
        "phrases.head()"
      ],
      "execution_count": 10,
      "outputs": [
        {
          "output_type": "execute_result",
          "data": {
            "text/plain": [
              "0                      When I remember her I feel down\n",
              "1    When I carry heavy things I feel like breaking...\n",
              "2            there is too much pain when i move my arm\n",
              "3    My son had his lip pierced and it is swollen a...\n",
              "4               My muscles in my lower back are aching\n",
              "Name: phrase, dtype: object"
            ]
          },
          "metadata": {
            "tags": []
          },
          "execution_count": 10
        }
      ]
    },
    {
      "cell_type": "code",
      "metadata": {
        "id": "RGHyeCdRoH77",
        "colab_type": "code",
        "colab": {
          "base_uri": "https://localhost:8080/",
          "height": 119
        },
        "outputId": "a84c3a32-6671-451c-aa46-5ef1c9884b0a"
      },
      "source": [
        "prompts.head()"
      ],
      "execution_count": 11,
      "outputs": [
        {
          "output_type": "execute_result",
          "data": {
            "text/plain": [
              "0      Emotional pain\n",
              "1    Hair falling out\n",
              "2         Heart hurts\n",
              "3      Infected wound\n",
              "4      Infected wound\n",
              "Name: prompt, dtype: object"
            ]
          },
          "metadata": {
            "tags": []
          },
          "execution_count": 11
        }
      ]
    },
    {
      "cell_type": "markdown",
      "metadata": {
        "id": "Lhd3EGPKoXTD",
        "colab_type": "text"
      },
      "source": [
        "# Create One Hot Encoding and Dictionary for Prompts"
      ]
    },
    {
      "cell_type": "markdown",
      "metadata": {
        "id": "JKrNOt7QoxNd",
        "colab_type": "text"
      },
      "source": [
        "## Create integer dictionary for pompts"
      ]
    },
    {
      "cell_type": "code",
      "metadata": {
        "id": "RXZAq1l2uF17",
        "colab_type": "code",
        "colab": {}
      },
      "source": [
        "# Get prompt and replace space with underscore\n",
        "prompt = [word.replace(\" \",\"_\").lower() for word in prompts]\n",
        "\n",
        "# Adding a column of category_id encoding the prompt as an integer to ease in represenation of class\n",
        "input_data['category_id'] = prompts.factorize()[0]\n",
        "category_id_df = input_data[['prompt', 'category_id']].drop_duplicates().sort_values('category_id')\n",
        "\n",
        "# Generate dictionary to code categorical_id back to prompt\n",
        "category_to_id = dict(category_id_df.values)\n",
        "id_to_category = dict(category_id_df[['category_id', 'prompt']].values)\n",
        "\n",
        "# Converting promopts to a list of integers\n",
        "prompt = list(input_data['category_id'])"
      ],
      "execution_count": 0,
      "outputs": []
    },
    {
      "cell_type": "markdown",
      "metadata": {
        "id": "s_ebSnwKo9UQ",
        "colab_type": "text"
      },
      "source": [
        "### View prompt_id to prompt dictionary"
      ]
    },
    {
      "cell_type": "code",
      "metadata": {
        "id": "g4GeAsNUPTu4",
        "colab_type": "code",
        "colab": {
          "base_uri": "https://localhost:8080/",
          "height": 493
        },
        "outputId": "3f09c373-6c8b-46a2-85e6-837f75b77c99"
      },
      "source": [
        "print('The size of the dictionary is', len(set(prompt)))\n",
        "\n",
        "print('\\nView entire dictionary:')\n",
        "id_to_category"
      ],
      "execution_count": 13,
      "outputs": [
        {
          "output_type": "stream",
          "text": [
            "The size of the dictionary is 25\n",
            "\n",
            "View entire dictionary:\n"
          ],
          "name": "stdout"
        },
        {
          "output_type": "execute_result",
          "data": {
            "text/plain": [
              "{0: 'Emotional pain',\n",
              " 1: 'Hair falling out',\n",
              " 2: 'Heart hurts',\n",
              " 3: 'Infected wound',\n",
              " 4: 'Foot ache',\n",
              " 5: 'Shoulder pain',\n",
              " 6: 'Injury from sports',\n",
              " 7: 'Skin issue',\n",
              " 8: 'Stomach ache',\n",
              " 9: 'Knee pain',\n",
              " 10: 'Joint pain',\n",
              " 11: 'Hard to breath',\n",
              " 12: 'Head ache',\n",
              " 13: 'Body feels weak',\n",
              " 14: 'Feeling dizzy',\n",
              " 15: 'Back pain',\n",
              " 16: 'Open wound',\n",
              " 17: 'Internal pain',\n",
              " 18: 'Blurry vision',\n",
              " 19: 'Acne',\n",
              " 20: 'Muscle pain',\n",
              " 21: 'Neck pain',\n",
              " 22: 'Cough',\n",
              " 23: 'Ear ache',\n",
              " 24: 'Feeling cold'}"
            ]
          },
          "metadata": {
            "tags": []
          },
          "execution_count": 13
        }
      ]
    },
    {
      "cell_type": "markdown",
      "metadata": {
        "id": "F0gdh5awQRLT",
        "colab_type": "text"
      },
      "source": [
        "## Create one hot encoding representation of prompt"
      ]
    },
    {
      "cell_type": "code",
      "metadata": {
        "id": "9lP2yrn09VVc",
        "colab_type": "code",
        "outputId": "cea6fba5-4800-4842-99e2-2c9dee24649a",
        "colab": {
          "base_uri": "https://localhost:8080/",
          "height": 34
        }
      },
      "source": [
        "prompt[0:5]"
      ],
      "execution_count": 14,
      "outputs": [
        {
          "output_type": "execute_result",
          "data": {
            "text/plain": [
              "[0, 1, 2, 3, 3]"
            ]
          },
          "metadata": {
            "tags": []
          },
          "execution_count": 14
        }
      ]
    },
    {
      "cell_type": "code",
      "metadata": {
        "id": "Hfg7OC-8-nbV",
        "colab_type": "code",
        "outputId": "80c5bef2-ed95-49d7-bdfc-b713cdd9f54d",
        "colab": {
          "base_uri": "https://localhost:8080/",
          "height": 34
        }
      },
      "source": [
        "prompt_length = len(np.array(prompt))\n",
        "class_len = len(set(prompt))\n",
        "print('Confirm prompt length is unchanged:', class_len)"
      ],
      "execution_count": 15,
      "outputs": [
        {
          "output_type": "stream",
          "text": [
            "Confirm prompt length is unchanged: 25\n"
          ],
          "name": "stdout"
        }
      ]
    },
    {
      "cell_type": "code",
      "metadata": {
        "id": "c46YV73g-YsQ",
        "colab_type": "code",
        "colab": {}
      },
      "source": [
        "prompt_length = len(np.array(prompt))\n",
        "\n",
        "empty_array = np.zeros((prompt_length, class_len))\n",
        "empty_array[np.arange(prompt_length), prompt] = 1\n",
        "prompt_one_hot = empty_array"
      ],
      "execution_count": 0,
      "outputs": []
    },
    {
      "cell_type": "code",
      "metadata": {
        "id": "P9f6xeBQ_3H_",
        "colab_type": "code",
        "outputId": "e5456881-ad59-4ee0-9734-ebcdc2301109",
        "colab": {
          "base_uri": "https://localhost:8080/",
          "height": 136
        }
      },
      "source": [
        "prompt_one_hot"
      ],
      "execution_count": 17,
      "outputs": [
        {
          "output_type": "execute_result",
          "data": {
            "text/plain": [
              "array([[1., 0., 0., ..., 0., 0., 0.],\n",
              "       [0., 1., 0., ..., 0., 0., 0.],\n",
              "       [0., 0., 1., ..., 0., 0., 0.],\n",
              "       ...,\n",
              "       [0., 0., 0., ..., 0., 0., 0.],\n",
              "       [0., 0., 1., ..., 0., 0., 0.],\n",
              "       [0., 0., 0., ..., 0., 0., 0.]])"
            ]
          },
          "metadata": {
            "tags": []
          },
          "execution_count": 17
        }
      ]
    },
    {
      "cell_type": "code",
      "metadata": {
        "id": "Ico5L3Y9CSte",
        "colab_type": "code",
        "outputId": "164a6dac-f8dd-4ff3-f68b-aa590237d0a6",
        "colab": {
          "base_uri": "https://localhost:8080/",
          "height": 34
        }
      },
      "source": [
        "print('Confirm that all records are covered in one hot encoding:', len(prompt_one_hot))"
      ],
      "execution_count": 18,
      "outputs": [
        {
          "output_type": "stream",
          "text": [
            "Confirm that all records are covered in one hot encoding: 6650\n"
          ],
          "name": "stdout"
        }
      ]
    },
    {
      "cell_type": "markdown",
      "metadata": {
        "id": "PUTaqoF5EJ9a",
        "colab_type": "text"
      },
      "source": [
        "# Prepare data features"
      ]
    },
    {
      "cell_type": "code",
      "metadata": {
        "id": "x0c0MveifoBh",
        "colab_type": "code",
        "outputId": "d3a28314-bf66-4316-b022-b4eea176aac8",
        "colab": {
          "base_uri": "https://localhost:8080/",
          "height": 54
        }
      },
      "source": [
        "# prepare tokenizer\n",
        "t = Tokenizer()\n",
        "t.fit_on_texts(phrases.tolist())\n",
        "vocab_size = len(t.word_index) + 1\n",
        "\n",
        "# integer encode the documents\n",
        "encoded_docs = t.texts_to_sequences(phrases.tolist())\n",
        "print(encoded_docs)"
      ],
      "execution_count": 19,
      "outputs": [
        {
          "output_type": "stream",
          "text": [
            "[[10, 1, 583, 125, 1, 7, 77], [10, 1, 261, 99, 185, 1, 7, 18, 416, 2, 23], [35, 11, 91, 94, 6, 10, 1, 106, 2, 98], [2, 189, 52, 167, 301, 439, 8, 13, 11, 179, 8, 9, 40, 89, 15, 167, 301, 11, 584, 8, 190, 83], [2, 145, 4, 2, 136, 23, 73, 224], [1, 5, 109, 6, 22, 2, 23, 1, 5, 109, 6, 57, 2, 23, 206], [1, 5, 109, 6, 4, 2, 74, 206], [1, 5, 68, 2, 271, 67, 14, 111, 112, 8, 1, 5, 12, 341, 6, 262, 126, 31, 13, 225, 43, 229], [1, 5, 66, 4, 2, 69, 8, 342, 313, 4, 2, 806, 18, 314], [1, 5, 3, 215, 171, 15, 2, 98], [1, 5, 3, 50, 6, 4, 2, 136, 42], [1, 5, 3, 34, 6, 10, 1, 59, 3, 54], [1151, 1, 7, 3, 215, 8, 277, 6, 89, 2, 396, 397], [110, 585], [1, 5, 62, 1152], [1, 216, 12, 107, 30, 14, 61, 25, 141, 17, 3, 1058, 14, 157, 31, 92, 1, 1059, 12, 61, 102, 10, 1, 272, 77], [1, 7, 22, 64, 56, 12, 61, 62, 24, 950, 25, 273, 53, 951, 139, 266], [1, 417, 3, 952, 62, 234, 49, 8, 10, 1, 953, 343, 1, 7, 32, 41], [1, 247, 148, 67, 14, 33], [2, 83, 55, 1153, 807], [1, 302, 3, 54, 14, 2, 28], [1, 7, 51, 25, 142, 680], [1, 7, 3, 6, 4, 2, 23], [529, 530, 53, 283, 4, 9, 40], [2, 23, 19, 24, 8, 1, 16, 146, 13, 53, 59], [2, 32, 19, 158, 1, 104, 12, 90, 70], [1, 5, 384, 355, 15, 2, 40], [1, 7, 3, 50, 6, 4, 2, 42], [1, 16, 90, 287, 1, 7, 3, 85, 4, 2, 38], [1, 5, 681, 186], [1, 5, 3, 23, 6, 114, 1, 954, 955, 495, 356], [1, 87, 12, 217, 2, 465, 12, 100, 183, 808, 31, 247, 466, 139, 809], [1, 7, 254, 398, 10, 1, 295, 66, 810, 123, 187, 93], [2, 66, 226, 344, 10, 13, 11, 168], [278, 1, 7, 18, 3, 811, 15, 2, 78, 22, 467, 24, 468], [2, 520, 145, 5, 81, 6, 114, 1, 26, 57, 191], [2, 23, 130, 169, 137, 1, 26, 1060, 57, 9, 191], [2, 118, 11, 163, 24], [1, 75, 2, 55, 11, 83], [1, 7, 6, 4, 2, 34], [2, 40, 11, 63, 235, 8, 531], [1, 16, 106, 2, 29, 67, 14, 6], [10, 1, 153, 17, 4, 9, 84, 1, 7, 51], [2, 28, 11, 95, 30, 4, 399, 325], [1, 5, 3, 50, 6, 4, 2, 39], [35, 11, 6, 4, 9, 145, 1, 90, 43, 133, 418], [1, 5, 3, 180, 4, 9, 1104, 67, 1, 5, 1105, 1106], [58, 49, 1, 194, 36, 266, 1, 172, 51], [1, 5, 3, 277, 6, 89, 2, 39], [1, 5, 3, 6, 255], [248, 236, 14, 28, 400, 8, 401, 402], [1, 7, 3, 399, 496, 6, 25, 1, 326, 17, 21, 2, 403], [10, 1, 47, 17, 91, 195, 1, 154, 12, 7, 51, 8, 230, 274], [1, 315, 20, 3, 50, 6, 4, 2, 78, 8, 1, 16, 586, 138, 27, 161, 22, 419, 107, 587, 13], [1, 5, 3, 71, 18, 2, 368, 38, 11, 956], [2, 34, 19, 10, 1, 170, 532], [1, 16, 100, 131], [1, 87, 196, 14, 126, 31, 1, 121, 7, 9, 440, 40, 180], [13, 37, 18, 441, 497, 3, 357, 369, 2, 29], [1, 7, 3, 173, 93, 4, 2, 29, 109], [1, 68, 2, 46, 57, 9, 327, 8, 13, 442, 127, 58, 108, 10, 1, 59, 15, 13], [2, 34, 812, 8, 19, 10, 1, 362, 47, 17, 25, 469], [1, 68, 2, 134, 3, 284, 14, 197, 256, 8, 102, 159, 1, 404, 316, 36, 588, 126, 64, 43, 589, 174], [1, 7, 6, 4, 2, 249, 10, 1, 533, 15, 9, 534], [1, 5, 3, 180, 4, 521, 1061, 13, 11, 91, 470, 12, 100], [443, 177, 8, 55, 2, 206, 175, 9, 55, 11, 45, 813], [1, 5, 3, 105, 76, 143, 2, 288, 590, 4, 9, 327, 82], [1, 498, 12, 59, 8, 107, 513, 31, 9, 957, 14, 2, 303, 20, 119, 45, 195], [1, 7, 6, 4, 2, 34, 10, 1, 471, 9, 157], [1, 20, 237, 91, 289, 1, 86, 499, 217, 15, 2, 285, 4, 9, 84], [2, 34, 19, 10, 1, 59], [1, 16, 814, 2, 39], [2, 189, 815, 167, 39, 21, 36, 356, 816, 8, 22, 500, 96, 328, 304, 8, 190, 18, 13, 11, 83], [1, 5, 3, 180, 4, 2, 23, 1, 147, 444, 13], [1, 16, 59, 67, 1, 5, 3, 81, 46, 41], [2, 44, 11, 682, 289, 8, 13, 591, 24], [1, 216, 12, 5, 66, 10, 1, 26, 817, 495, 356], [2, 145, 4, 2, 136, 23, 73, 224], [2, 29, 109, 19, 10, 1, 104, 12, 358, 17], [1, 7, 44, 6, 10, 1, 59, 3, 54], [2, 28, 11, 95, 30, 4, 399, 325], [1, 7, 3, 6, 4, 2, 23], [2, 40, 11, 329, 8, 304], [1, 16, 100, 131], [1, 5, 3, 33, 8, 13, 286, 24, 65, 196], [1, 5, 3, 235, 250], [27, 43, 305, 131, 1, 5, 180, 21, 2, 48], [2, 46, 11, 163, 45, 94], [2, 420, 818, 11, 296, 14, 28, 58, 49], [1, 5, 212, 32, 6, 8, 10, 1, 20, 13, 9, 230, 958, 24], [102, 159, 27, 36, 683, 2, 69, 684, 416, 30, 4, 115], [10, 1, 20, 30, 14, 592, 4, 9, 84, 2, 38, 37, 63, 85], [2, 34, 812, 8, 19, 10, 1, 362, 47, 17, 25, 469], [421, 685, 97, 686, 370, 181, 8, 168, 12, 9, 295], [7, 18, 70, 11, 290, 1107, 369, 2, 122], [9, 959, 14, 2, 303, 162, 10, 1, 269, 960], [1, 7, 6, 4, 9, 136, 23], [1, 5, 3, 251, 41, 4, 2, 32], [9, 959, 14, 2, 303, 162, 10, 1, 269, 960], [1, 7, 3, 6, 4, 2, 39], [1, 5, 3, 50, 6, 4, 2, 39], [1, 5, 6, 31, 1, 16, 961, 962], [1, 5, 36, 48, 41, 22, 257, 79, 188, 1, 110, 5, 3, 33, 53, 218, 53, 139, 342, 445, 113, 36, 963], [1, 5, 681, 186], [1, 7, 88, 6, 58, 49, 1, 106], [1, 5, 3, 56, 6, 4, 2, 42], [2, 74, 48, 11, 964, 31, 9, 128, 239, 37, 18, 64, 290, 965, 21, 3, 446], [1, 200, 3, 819, 14, 126, 820, 194, 2, 145, 183, 821], [1, 5, 3, 23, 6, 114, 1, 192, 15, 9, 1108], [1, 7, 385], [2, 38, 129, 15, 9, 89, 275, 2, 593, 8, 249], [1, 5, 3, 46, 41, 25, 273, 1062, 21, 2, 273, 528], [1, 26, 317, 21, 822, 823, 824, 240, 825, 82, 1, 132, 172, 33], [1, 7, 162, 54, 14, 6, 4, 2, 44], [1, 417, 3, 952, 62, 234, 49, 8, 10, 1, 953, 343, 1, 7, 32, 41], [1, 160, 30, 15, 2, 69, 63, 826], [1, 5, 87, 12, 262, 13, 31, 1, 16], [1, 827, 155, 67, 1, 20, 209, 103, 155], [58, 49, 1, 116, 3, 254, 61, 1, 154, 263], [10, 1, 444, 2, 206, 35, 11, 6, 4, 34, 88], [2, 32, 19, 24, 175], [10, 1, 26, 966, 2, 28, 13, 26, 95, 30, 967], [1, 1063, 2, 66], [2, 189, 815, 167, 39, 21, 36, 356, 816, 8, 22, 500, 96, 328, 304, 8, 190, 18, 13, 11, 83], [1, 5, 6, 18, 279, 4, 2, 122], [1, 5, 3, 81, 6, 4, 2, 968, 103, 44, 209], [1, 110, 133, 82, 27, 687, 151], [1, 7, 6, 4, 2, 39], [2, 145, 7, 237], [1, 87, 12, 217, 2, 465, 12, 100, 183, 808, 31, 247, 466, 139, 809], [1, 7, 6, 4, 2, 42], [9, 959, 14, 2, 303, 162, 10, 1, 269, 960], [1, 5, 3, 46, 41, 4, 688, 53, 10, 13, 37, 33, 82], [2, 23, 11, 163, 45, 94], [9, 6, 37, 18, 64, 128, 345, 9, 40], [1, 72, 594, 12, 306, 472, 15, 2, 34, 10, 1, 47, 595, 1, 7, 8, 330, 3, 280, 596, 597], [35, 11, 3, 50, 6, 4, 2, 331, 1, 5, 87, 12, 341, 6, 262, 126, 31, 13, 225, 43, 229], [1, 5, 3, 6, 255], [2, 598, 96, 65, 80, 164, 252, 16, 148], [1, 7, 51, 10, 1, 689, 4, 212, 14, 2, 422, 62, 36, 690, 53, 291, 138, 691, 213, 107, 9, 184], [10, 1, 170, 155, 1, 5, 117, 173, 93, 4, 2, 535], [1, 5, 3, 56, 109, 6, 114, 1, 219, 12, 9, 191], [2, 28, 95, 30], [1, 7, 88, 6, 58, 49, 1, 106], [1, 7, 224, 15, 2, 828], [1, 5, 60, 215, 171, 15, 2, 98], [2, 69, 160, 30, 175, 58, 692, 178, 2, 693], [1, 5, 3, 54, 14, 332, 10, 1, 65], [27, 694], [1, 315, 20, 3, 42, 41, 25, 1, 101, 1, 829, 124, 830, 12, 831, 240, 832, 419, 107, 9, 833], [1, 7, 51, 10, 1, 689, 4, 212, 14, 2, 422, 62, 36, 690, 53, 291, 138, 691, 213, 107, 9, 184], [1, 26, 111, 241, 8, 1, 969, 2, 118], [2, 189, 1064, 3, 1065, 8, 13, 326, 127, 514, 12, 473, 140, 8, 92, 190, 18, 13, 11, 83], [1, 7, 45, 119, 4, 2, 42, 297], [1, 5, 29, 6, 25, 161, 139, 474, 298], [529, 530, 53, 283, 4, 9, 40], [1, 16, 261, 287, 1, 5, 3, 6, 4, 2, 29], [149, 90, 281, 133, 176, 281, 5, 3, 423, 536, 4, 537, 34], [2, 32, 226, 51, 10, 1, 104, 12, 20, 17], [1, 7, 6, 10, 1066, 1067, 1068], [1, 75, 2, 55, 11, 83], [1, 7, 51, 25, 142, 680], [35, 11, 3, 97, 970, 4, 2, 40], [1, 16, 59, 2, 34, 19, 24], [1, 7, 3, 6, 4, 2, 23], [2, 38, 37, 85, 8, 1, 87, 12, 194, 13, 834, 31, 13, 835, 6, 24], [1, 7, 836, 44, 837, 21, 526], [2, 1109, 68, 167, 46, 15, 3, 1110, 4, 9, 1111, 8, 92, 9, 46, 11, 1112, 1113, 8, 11, 501], [1, 7, 836, 44, 837, 21, 526], [9, 475, 218, 26, 143, 3, 838, 4, 2, 839, 1, 840, 841, 1, 26, 141, 12, 842, 103, 424, 843], [1, 5, 3, 180, 4, 2, 844, 48, 447, 123, 448], [2, 845, 8, 846, 201, 30, 14, 363, 102, 159, 1, 5, 522, 465], [1, 5, 3, 160, 4, 9, 40, 275, 2, 405, 8, 847, 271, 8, 13, 307, 43, 231], [10, 1, 318, 2, 28, 1, 319, 299, 599, 14, 28, 320, 30, 4, 9, 318], [1, 7, 6, 4, 9, 34, 10, 238], [27, 43, 71, 165, 1, 16, 116, 2, 61], [1, 16, 106, 2, 29, 67, 14, 6], [1, 7, 6, 89, 8, 1, 86, 43, 695, 13], [1, 5, 36, 600], [1, 848, 71, 33, 159, 9, 264, 11, 242], [2, 38, 37, 85, 205, 1, 116, 2, 696, 697], [1, 7, 6, 4, 2, 38], [9, 6, 11, 449, 333, 10, 1, 79, 77, 9, 157, 13, 37, 18, 70, 96, 849, 89, 2, 34], [1, 7, 51, 10, 1, 689, 4, 212, 14, 2, 422, 62, 36, 690, 53, 291, 138, 691, 213, 107, 9, 184], [1, 20, 36, 48, 41, 10, 13, 11, 33], [2, 122, 7, 179], [10, 1, 47, 1, 7, 51, 1, 90, 43, 133, 82], [1, 7, 385], [2, 136, 23, 19, 31, 13, 698, 176, 1, 425, 13], [1, 130, 66, 10, 1, 426, 538], [1, 213, 43, 253, 67, 14, 2, 34, 6], [27, 43, 305, 131, 1, 5, 180, 21, 2, 48], [3, 210, 267, 4, 28], [2, 48, 19, 24, 175], [2, 189, 52, 3, 850, 851, 8, 9, 852, 853, 68, 9, 89, 14, 167, 854, 8, 92, 13, 307, 43, 193], [44, 129, 45, 94], [2, 855, 11, 45, 119], [9, 6, 4, 2, 48, 11, 427], [2, 334, 52, 125, 601, 602, 8, 13, 603, 36, 283, 14, 40, 4, 239, 14, 125, 604, 22, 11, 92, 501, 8, 308], [248, 220, 236, 57, 9, 699, 14, 9, 700, 14, 9, 136, 701], [2, 152, 162, 45, 187, 12, 59, 22, 1, 856, 469, 183, 346, 1, 428], [1, 130, 3, 539, 135, 406, 8, 1, 113, 16, 150, 540, 15, 149, 12, 20, 541, 15, 2, 542, 292], [2, 502, 37, 18, 13, 11, 971, 220, 15, 220, 10, 1, 59], [1, 7, 857], [1, 7, 6, 4, 2, 88, 25, 36, 209, 4, 9, 135, 112, 207, 1, 503], [1, 7, 51, 158, 1, 47, 17], [858, 364, 347, 315, 25, 36, 209, 53, 253], [1, 7, 6, 4, 2, 186, 1, 86, 100, 859], [16, 404, 363], [1, 7, 321, 476, 12, 300, 17, 10, 1, 65], [2, 40, 972, 15, 2, 23, 11, 97, 1, 110, 133, 82], [2, 74, 48, 11, 964, 31, 9, 128, 239, 37, 18, 64, 290, 965, 21, 3, 446], [27, 429, 103, 50, 65, 477, 123, 605], [10, 1, 106, 2, 29, 64, 18, 860, 11, 290, 861, 227, 2, 29], [1, 7, 3, 606, 4, 2, 78], [2, 78, 19, 10, 1, 973], [1, 5, 3, 46, 41, 205, 1, 110, 59, 3, 54], [1, 7, 6, 4, 2, 46], [1, 5, 3, 71, 18, 2, 368, 38, 11, 956], [1, 52, 3, 862, 137, 111, 241, 2, 34, 863, 8, 92, 64, 864], [2, 66, 226, 344, 10, 13, 11, 168], [1, 702, 5, 3, 187, 65, 10, 1, 20, 703], [1, 26, 111, 348, 156, 1, 5, 450, 118], [2, 78, 160, 30, 21, 97, 115, 8, 478], [704, 57, 212, 8, 705, 14, 706], [1, 7, 6, 4, 9, 136, 23], [1, 5, 3, 251, 41, 4, 2, 32], [1, 20, 36, 48, 41, 10, 13, 11, 33], [1, 20, 707, 15, 2, 78, 21, 97, 349, 22, 20, 183, 449, 10, 1, 20, 168], [1, 16, 607, 2, 608, 57, 164, 67, 1, 5, 105, 76], [1, 7, 6, 4, 9, 34], [1, 16, 47, 21, 60, 430, 71, 4, 2, 42], [1, 20, 237, 91, 289, 1, 86, 499, 217, 15, 2, 285, 4, 9, 84], [10, 1, 87, 12, 107, 198, 8, 269, 183, 285, 1, 228, 22, 1, 26, 121, 33], [2, 118, 11, 163, 24], [2, 34, 11, 163, 45, 175], [192, 386, 11, 609, 18, 610], [13, 11, 18, 1, 5, 3, 451, 611, 227, 2, 44], [2, 78, 66, 442, 30, 8, 322, 612, 17], [2, 28, 387, 131], [13, 37, 18, 441, 497, 3, 357, 369, 2, 29], [1, 7, 3, 81, 325, 14, 265, 14, 2, 32], [2, 134, 127, 55, 130, 83], [1, 7, 81, 265, 4, 2, 78], [27, 43, 71, 165, 1, 16, 116, 2, 61], [1, 7, 22, 64, 56, 12, 61, 62, 24, 950, 25, 273, 53, 951, 139, 266], [1, 5, 36, 127, 55, 4, 2, 98], [1, 247, 148, 67, 14, 65], [13, 11, 56, 12, 61, 10, 1, 72, 4, 9, 708, 709, 710, 82], [1, 160, 30, 15, 2, 69, 63, 826], [16, 90, 139, 253, 1, 7, 85], [2, 152, 162, 45, 187, 12, 59, 22, 1, 856, 469, 183, 346, 1, 428], [2, 29, 109, 19, 10, 1, 104, 12, 358, 17], [27, 63, 376, 22, 974, 79, 975, 976, 72, 1, 63, 977], [1, 7, 22, 11, 81, 6, 4, 2, 74, 29], [1, 7, 6, 89, 8, 1, 86, 43, 695, 13], [1, 7, 3, 6, 4, 2, 23], [11, 35, 3, 711, 62, 66], [1, 5, 3, 6, 4, 2, 109], [35, 11, 3, 50, 6, 4, 2, 331, 1, 5, 87, 12, 341, 6, 262, 126, 31, 13, 225, 43, 229], [1, 7, 151, 18, 162, 53, 6], [2, 38, 37, 85, 205, 1, 116, 2, 696, 697], [9, 475, 218, 26, 143, 3, 838, 4, 2, 839, 1, 840, 841, 1, 26, 141, 12, 842, 103, 424, 843], [1, 5, 228, 117, 865, 4, 2, 40, 8, 87, 12, 866, 126, 31, 13, 203, 20, 174], [1, 5, 3, 97, 171, 22, 11, 329, 15, 2, 40], [2, 189, 52, 3, 850, 851, 8, 9, 852, 853, 68, 9, 89, 14, 167, 854, 8, 92, 13, 307, 43, 193], [1, 7, 6, 4, 2, 39, 25, 712, 17], [2, 39, 96, 124, 119, 114, 9, 504], [1, 7, 162, 54, 14, 6, 4, 2, 44], [1, 130, 3, 539, 135, 406, 8, 1, 113, 16, 150, 540, 15, 149, 12, 20, 541, 15, 2, 542, 292], [13, 11, 56, 12, 61, 10, 1, 72, 4, 9, 708, 709, 710, 82], [1, 5, 3, 251, 41, 4, 2, 32], [1, 7, 3, 6, 15, 9, 74, 350, 14, 2, 78, 978, 2, 44, 11], [10, 1, 153, 17, 1, 72, 71, 33], [35, 11, 66, 15, 2, 69], [27, 43, 165, 27, 71, 45, 33], [1, 1069, 388, 9, 1070, 14, 2, 271, 137, 1, 26, 515, 117, 1071, 8, 1, 147, 150, 9, 243], [64, 56, 12, 47, 17, 8, 27, 214, 63, 1072], [35, 11, 45, 94, 6, 10, 1, 106, 2, 98], [1, 417, 3, 952, 62, 234, 49, 8, 10, 1, 953, 343, 1, 7, 32, 41], [1, 302, 3, 54, 14, 2, 28], [1, 5, 169, 221, 143, 9, 241, 207], [2, 845, 8, 846, 201, 30, 14, 363, 102, 159, 1, 5, 522, 465], [10, 1, 153, 17, 4, 9, 84, 1, 7, 3, 335, 4, 2, 38], [1, 7, 3, 81, 325, 14, 265, 14, 2, 32], [1, 7, 6, 4, 2, 44, 10, 1, 153, 17], [1, 160, 30, 15, 2, 69, 63, 826], [1, 5, 3, 23, 6, 114, 1, 954, 955, 495, 356], [1, 7, 18, 70, 11, 479, 2, 244], [2, 46, 52, 124, 224, 114, 135, 713], [2, 23, 19, 3, 54, 10, 1, 146], [1, 7, 6, 4, 9, 34], [480, 190, 18, 714, 4, 3, 715, 297], [58, 49, 1, 194, 36, 266, 1, 172, 51], [5, 142, 33, 8, 65], [1, 7, 18, 70, 11, 479, 2, 244], [1, 7, 6, 4, 9, 34, 10, 238], [248, 867, 6], [10, 1, 503, 112, 1, 1114, 2, 29], [1, 315, 20, 3, 50, 6, 4, 2, 78, 8, 1, 16, 586, 138, 27, 161, 22, 419, 107, 587, 13], [1, 7, 6, 4, 2, 128, 29, 25, 9, 351, 207], [35, 11, 60, 6, 22, 481, 103, 2, 78, 17, 12, 2, 74, 98], [1, 5, 115, 4, 349, 234, 21, 3, 54, 14, 336, 15, 2, 69], [1, 16, 106, 2, 206, 35, 11, 6, 4, 9, 88], [1, 7, 3, 606, 4, 2, 78], [1, 5, 3, 868, 429], [1, 7, 3, 50, 6, 4, 2, 118, 88, 10, 1, 47], [2, 32, 19, 4, 9, 23, 8, 9, 6, 543, 80, 108], [138, 407, 613, 193, 614], [2, 34, 203, 377, 12, 146, 131], [2, 152, 201, 12, 544, 202, 1, 79, 17, 53, 77, 157], [10, 27, 545, 4, 9, 84, 1, 7, 215, 8, 5, 452], [2, 119, 387, 232, 131, 8, 64, 124, 18, 60, 62, 291, 197], [25, 238, 1, 5, 117, 6, 371, 2, 46], [1, 222, 221, 8, 9, 615, 203, 377, 12, 193], [1, 5, 117, 6, 10, 27, 238, 178, 2, 152], [10, 1, 47, 17, 91, 616, 2, 76, 11, 105], [278, 1, 7, 18, 3, 811, 15, 2, 78, 22, 467, 24, 468], [1, 546, 3, 254, 55, 4, 2, 134, 8, 1, 86, 43, 150, 9, 243], [9, 142, 6, 4, 9, 42, 1, 7], [35, 453, 107, 70, 199, 21, 2, 716, 717, 1, 5, 12, 269, 718, 102, 15, 9, 719, 204, 2, 516, 73, 720], [1, 86, 547, 150, 263], [35, 11, 36, 169, 548], [13, 19, 10, 1, 389, 2, 98, 17], [1, 68, 2, 271, 283, 3, 86, 13, 257, 150, 243, 8, 9, 55, 11, 721, 8, 127], [10, 1, 101, 91, 94, 390, 2, 38, 226, 85, 8, 51], [10, 1, 47, 17, 91, 616, 2, 76, 11, 105], [2, 128, 29, 722, 10, 1, 106, 2, 98], [1, 5, 3, 171, 8, 13, 270, 63, 187], [1, 5, 391, 42, 6, 8, 372], [2, 46, 19, 8, 1, 16, 378, 13, 617, 64, 177], [1, 979, 2, 46, 8, 13, 166, 19], [2, 189, 96, 3, 54, 14, 66], [1, 5, 3, 6, 22, 481, 17, 103, 2, 128, 869, 12, 2, 396, 397, 13, 11, 57, 64, 475, 10, 1, 870], [1, 7, 3, 606, 4, 2, 78], [2, 42, 37, 364, 163, 31, 223, 13, 37, 174, 25, 1, 101, 70, 980], [248, 220, 236, 57, 9, 699, 14, 9, 700, 14, 9, 136, 701], [2, 39, 37, 392], [1, 7, 51, 25, 161, 3, 549, 266], [1, 5, 115, 4, 349, 234, 21, 3, 54, 14, 336, 15, 2, 69], [1, 7, 385, 10, 1, 47, 17], [1, 7, 3, 173, 93, 4, 2, 29, 109], [1, 7, 3, 54, 14, 6, 4, 9, 122], [9, 66, 26, 431, 24, 12, 7, 871], [1, 5, 3, 868, 429], [1, 130, 3, 539, 135, 406, 8, 1, 113, 16, 150, 540, 15, 149, 12, 20, 541, 15, 2, 542, 292], [158, 1, 47, 17, 1, 7, 51], [1, 5, 3, 550, 15, 2, 405, 22, 307, 43, 193], [1, 26, 111, 112, 8, 618, 21, 88, 6], [1, 16, 100, 9, 872, 1, 5, 3, 105, 76], [9, 6, 4, 2, 48, 11, 427], [10, 1, 47, 1, 7, 51, 1, 90, 43, 133, 82], [1, 5, 3, 97, 171, 22, 11, 329, 15, 2, 40], [2, 44, 19, 137, 27, 151, 82], [1, 5, 3, 218, 723, 58, 108], [35, 11, 3, 391, 724, 4, 2, 250], [2, 38, 129, 15, 9, 89, 275, 2, 593, 8, 249], [2, 855, 11, 45, 119], [35, 73, 293, 14, 551, 15, 2, 552, 4, 9, 84], [1, 5, 3, 473, 15, 9, 23, 14, 2, 134, 22, 113, 257, 79, 188], [1, 5, 3, 63, 171, 93, 231, 12, 2, 337], [10, 27, 161, 553, 1, 5, 6, 371, 2, 40], [1, 222, 2, 32, 57, 9, 348, 873, 213, 1, 5, 3, 874], [2, 292, 74, 24, 62, 554, 555, 2, 44, 19, 45, 175, 12, 9, 408, 1, 16, 101, 53, 148], [2, 28, 387, 131], [1, 26, 317, 21, 725, 1, 16, 61, 726], [2, 39, 19, 24, 8, 1, 16, 245, 77, 53, 17], [1, 110, 90, 287, 57, 474, 8, 121, 1, 7, 875], [1, 5, 3, 50, 6, 8, 482, 619, 4, 2, 118, 88, 10, 1, 104, 12, 47, 15, 13, 8, 59], [1, 7, 385], [1, 153, 17, 57, 164, 71, 33], [10, 1, 79, 12, 148, 1, 72, 71, 33], [1, 16, 106, 2, 29, 67, 14, 6], [2, 23, 19, 24, 3, 54], [37, 18, 35, 73, 727, 8, 279, 728, 4, 2, 122], [1, 5, 255, 6, 158, 1, 300, 77, 21, 3, 33], [1, 20, 707, 15, 2, 78, 21, 97, 349, 22, 20, 183, 449, 10, 1, 20, 168], [1, 65, 3, 54, 10, 1, 729, 730, 138, 11, 199, 21, 2, 244], [1, 16, 607, 2, 608, 57, 164, 67, 1, 5, 105, 76], [1, 5, 620, 15, 2, 69, 22, 300, 8, 79], [1, 5, 3, 56, 6, 4, 2, 42], [35, 11, 3, 391, 724, 4, 2, 250], [2, 855, 11, 45, 119], [58, 49, 1, 194, 36, 266, 1, 172, 51], [1, 5, 3, 63, 187, 65], [144, 87, 343, 981, 31, 982, 86, 983, 24, 17], [1, 7, 3, 81, 6, 4, 2, 29, 88, 8, 13, 225, 43, 79, 188], [1, 5, 3, 171, 15, 2, 40], [10, 1, 170, 112, 1, 5, 88, 6], [142, 6, 4, 9, 48], [138, 407, 613, 193, 614], [248, 236, 14, 28, 400, 8, 401, 402], [10, 1, 318, 2, 28, 1, 319, 299, 599, 14, 28, 320, 30, 4, 9, 318], [1, 7, 22, 64, 56, 12, 61, 62, 24, 950, 25, 273, 53, 951, 139, 266], [2, 29, 109, 19, 10, 1, 104, 12, 358, 17], [10, 1, 261, 99, 185, 1, 7, 18, 416, 2, 23], [1, 5, 384, 355, 15, 2, 40], [1, 7, 520, 6], [1, 984, 3, 373, 62, 985, 986, 1, 7, 6, 4, 2, 46, 18, 46, 41], [1, 7, 321, 476, 12, 300, 17, 10, 1, 65], [200, 12, 987, 2, 40, 58, 988], [2, 334, 26, 876, 123, 125, 877, 8, 92, 125, 134, 11, 119, 97, 8, 179, 8, 9, 55, 11, 308, 878], [13, 19, 10, 1, 879, 2, 98], [1, 5, 6, 4, 2, 42], [42, 6, 25, 880, 881], [1, 7, 6, 4, 2, 34], [9, 55, 11, 121, 127], [35, 11, 36, 169, 548], [10, 1, 101, 390, 1, 319, 2, 76, 621], [1, 5, 6, 4, 2, 882, 8, 2, 42, 18, 70, 515, 13], [1, 7, 51, 158, 1, 47, 17], [2, 46, 19, 8, 1, 16, 378, 13, 617, 64, 177], [2, 48, 19, 8, 64, 344, 10, 1, 622, 2, 48, 11, 63, 181, 8, 623, 379, 624], [102, 159, 27, 36, 683, 2, 69, 684, 416, 30, 4, 115], [2, 38, 37, 85, 25, 2, 362, 108, 4, 9, 191, 82], [10, 1, 170, 112, 1, 5, 88, 6], [64, 56, 12, 100, 185], [1, 5, 3, 180, 4, 521, 1061, 13, 11, 91, 470, 12, 100], [2, 122, 7, 179], [1, 7, 520, 6], [2, 65, 11, 63, 99, 8, 1, 5, 332], [1, 7, 483, 6, 4, 2, 34, 25, 13, 26, 222, 143, 9, 112, 207], [10, 1, 47, 17, 91, 195, 1, 154, 12, 7, 51, 8, 230, 274], [1, 5, 3, 171, 15, 2, 40], [731, 2, 44, 19, 24, 1, 87, 12, 107, 732, 8, 1, 16], [625, 626, 346, 409, 627, 8, 2, 23, 154, 12, 41], [13, 19, 10, 1, 389, 2, 98, 17], [2, 334, 52, 125, 182, 439, 8, 239, 14, 125, 48, 989, 11, 990, 97, 8, 173, 168], [11, 115, 3, 40, 236], [1, 192, 388, 2, 523, 8, 114, 223, 1, 52, 56, 34, 6], [10, 1, 153, 17, 1, 72, 71, 33], [27, 120, 3, 56, 49, 343, 67, 9, 628, 73, 80, 629], [9, 883, 884, 45, 885, 143, 9, 886, 15, 2, 118, 22, 1, 147, 47, 290, 887, 15, 9, 505], [2, 189, 815, 167, 39, 21, 36, 356, 816, 8, 22, 500, 96, 328, 304, 8, 190, 18, 13, 11, 83], [2, 189, 96, 3, 54, 14, 66], [1, 322, 52, 139, 66, 180, 1073, 2, 135, 1074, 10, 80, 14, 3, 374, 2, 23, 130, 1075, 4, 1076], [2, 65, 11, 63, 99, 8, 1, 5, 332], [1, 7, 520, 6], [2, 32, 11, 45, 99, 16, 75, 1077], [1, 7, 19, 4, 2, 44], [1, 16, 59, 2, 34, 19, 24], [1, 65, 3, 54, 10, 1, 729, 730, 138, 11, 199, 21, 2, 244], [1, 7, 3, 50, 6, 4, 9, 42, 25, 309], [114, 1, 219, 369, 9, 630, 1, 5, 6, 15, 2, 48], [2, 34, 203, 377, 12, 146, 131], [1, 72, 376, 62, 2, 484, 67, 1, 86, 499, 363, 10, 1, 72, 57, 9, 1115, 2, 186, 7, 1116], [58, 49, 1, 116, 3, 254, 61, 1, 154, 263], [1, 7, 6, 4, 2, 23], [58, 49, 1, 194, 36, 266, 1, 172, 51], [1, 7, 3, 606, 4, 2, 78], [1, 7, 3, 50, 6, 4, 2, 118, 88, 10, 1, 47], [2, 42, 37, 364, 163, 31, 223, 13, 37, 174, 25, 1, 101, 70, 980], [1, 5, 3, 6, 4, 2, 888], [9, 6, 4, 2, 48, 11, 427], [1, 192, 3, 454, 4, 2, 733, 8, 249], [10, 1, 170, 155, 1, 5, 117, 173, 93, 4, 2, 535], [2, 28, 11, 320, 30, 4, 631, 333, 10, 1, 632, 13], [10, 1, 47, 17, 91, 616, 2, 76, 11, 105], [1, 5, 3, 63, 171, 93, 231, 12, 2, 337], [13, 19, 10, 1, 389, 2, 98, 17], [2, 48, 11, 556], [1, 5, 3, 6, 22, 481, 17, 103, 2, 128, 869, 12, 2, 396, 397, 13, 11, 57, 64, 475, 10, 1, 870], [10, 1, 170, 112, 1, 5, 88, 6], [2, 46, 19, 8, 1, 16, 378, 13, 617, 64, 177], [10, 1, 101, 91, 94, 390, 2, 38, 226, 85, 8, 51], [1, 16, 378, 2, 39, 12, 9, 74, 338, 71, 3, 485, 6], [2, 44, 11, 682, 289, 8, 13, 591, 24], [2, 55, 734, 17, 432], [1, 222, 9, 889, 10, 476, 12, 890, 3, 348], [2, 189, 96, 3, 54, 14, 66], [1, 5, 3, 46, 41, 25, 273, 1062, 21, 2, 273, 528], [2, 29, 11, 163, 24], [58, 84, 10, 1, 153, 17, 2, 39, 37, 18, 1, 633, 15, 4, 199], [64, 56, 12, 47, 17, 8, 27, 214, 63, 1072], [1, 7, 6, 4, 2, 34, 10, 1, 471, 9, 157], [1, 7, 162, 54, 14, 6, 4, 2, 44], [1, 7, 258, 557, 9, 38, 4, 410], [1, 16, 148, 1, 5, 3, 56, 65], [25, 3, 558, 1, 7, 70, 215, 4, 24], [1, 5, 3, 483, 29, 6], [1, 16, 47, 21, 60, 430, 71, 4, 2, 29], [2, 189, 815, 167, 39, 21, 36, 356, 816, 8, 22, 500, 96, 328, 304, 8, 190, 18, 13, 11, 83], [27, 4, 200, 62, 3, 352, 62, 2, 28, 267], [1, 5, 3, 54, 14, 332, 10, 1, 65], [1, 7, 6, 4, 2, 182, 21, 506], [2, 23, 19, 24, 3, 54], [1, 7, 18, 35, 11, 70, 179, 8, 304, 57, 9, 23, 14, 2, 34], [1, 7, 483, 6, 4, 2, 34, 25, 13, 26, 222, 143, 9, 112, 207], [259, 393, 4, 2, 39, 8, 13, 19], [13, 37, 18, 441, 11, 559, 2, 32, 21, 3, 560, 1, 7, 6, 15, 9, 339, 14, 2, 32, 8, 13, 411], [1, 75, 259, 321, 4, 2, 182], [37, 18, 35, 73, 727, 8, 279, 728, 4, 2, 122], [9, 55, 11, 121, 127], [10, 1, 735, 2, 186, 12, 736, 1, 5, 105, 76], [2, 44, 11, 634, 289, 8, 27, 120, 3, 56, 49, 12, 61], [2, 292, 74, 24, 62, 554, 555, 2, 44, 19, 45, 175, 12, 9, 408, 1, 16, 101, 53, 148], [10, 27, 161, 553, 1, 5, 6, 371, 2, 40], [1, 5, 3, 6, 22, 481, 17, 103, 2, 128, 869, 12, 2, 396, 397, 13, 11, 57, 64, 475, 10, 1, 870], [2, 66, 270, 8, 380], [1, 52, 3, 68, 22, 26, 737, 738, 31, 13, 11, 43, 232, 13, 11, 308, 739, 412, 8, 455], [10, 1, 47, 17, 91, 616, 2, 76, 11, 105], [10, 1, 26, 635, 1, 52, 36, 209, 103, 155, 4, 2, 34], [1, 848, 71, 33, 159, 9, 264, 11, 242], [1, 7, 6, 4, 2, 34, 10, 1, 471, 9, 157], [2, 991, 359, 224, 25, 1, 219, 12, 9, 191], [1, 7, 33, 205, 891, 73, 4, 892], [248, 236, 14, 28, 400, 8, 401, 402], [1, 5, 3, 550, 15, 2, 405, 22, 307, 43, 193], [1, 7, 385, 10, 1, 47, 17], [1, 5, 3, 105, 76, 114, 1, 433, 17, 60, 84, 138, 213, 107, 9, 184], [1, 87, 196, 14, 126, 31, 1, 121, 7, 9, 440, 40, 180], [1, 5, 3, 105, 76, 143, 2, 288, 590, 4, 9, 327, 82], [858, 364, 347, 315, 25, 36, 209, 53, 253], [1, 68, 2, 134, 3, 284, 14, 204, 256, 8, 205, 1, 394, 75, 1, 561, 13, 562, 13, 379, 563, 17], [1, 5, 3, 46, 41, 4, 688, 53, 10, 13, 37, 33, 82], [443, 177, 8, 55, 2, 206, 175, 9, 55, 11, 45, 813], [2, 189, 52, 3, 850, 851, 8, 9, 852, 853, 68, 9, 89, 14, 167, 854, 8, 92, 13, 307, 43, 193], [2, 34, 812, 8, 19, 10, 1, 362, 47, 17, 25, 469], [1, 5, 3, 56, 6, 4, 2, 42], [1, 5, 142, 235, 65], [9, 475, 218, 26, 143, 3, 838, 4, 2, 839, 1, 840, 841, 1, 26, 141, 12, 842, 103, 424, 843], [1, 260, 5, 486, 992, 12, 20, 17], [1078, 62, 9, 353], [2, 29, 129, 10, 1, 104, 12, 354, 409, 740], [1, 5, 3, 56, 6, 4, 2, 42], [1, 5, 276, 6, 4, 2, 502, 25, 294, 30], [2, 334, 52, 125, 601, 602, 8, 13, 603, 36, 283, 14, 40, 4, 239, 14, 125, 604, 22, 11, 92, 501, 8, 308], [1, 5, 29, 6, 10, 1, 104, 12, 261, 2, 893], [1, 7, 85, 80, 140], [9, 894, 93, 15, 2, 44, 467, 24, 468], [27, 43, 165, 27, 71, 45, 33], [2, 32, 19, 10, 27, 161, 60], [10, 1, 735, 2, 186, 12, 736, 1, 5, 105, 76], [13, 11, 18, 1, 5, 3, 451, 611, 227, 2, 44], [10, 1, 146, 140, 1, 20, 3, 276, 6, 77, 2, 23], [10, 1, 170, 112, 1, 5, 88, 6], [1, 16, 61, 67, 14, 65], [35, 11, 6, 4, 2, 122, 1, 86, 43, 306, 6], [2, 128, 29, 722, 10, 1, 106, 2, 98], [1, 5, 3, 483, 29, 6], [1, 326, 2, 118, 137, 161, 636, 637, 4, 9, 638], [144, 124, 71, 63, 151, 323], [37, 18, 35, 73, 727, 8, 279, 728, 4, 2, 122], [1, 7, 6, 4, 2, 182, 21, 506], [1, 7, 6, 4, 2, 34], [2, 189, 96, 3, 54, 14, 66], [10, 1, 79, 12, 148, 1, 72, 71, 33], [1, 16, 20, 3, 403, 67, 14, 2, 66], [10, 1, 170, 112, 1, 5, 109, 6], [1, 75, 1, 741, 13, 10, 1, 434, 80, 22, 742, 103, 9, 743, 2, 136, 23, 11, 456, 24], [1, 7, 857], [1, 5, 3, 28, 639], [1, 5, 115, 4, 349, 234, 21, 3, 54, 14, 336, 15, 2, 69], [2, 845, 8, 846, 201, 30, 14, 363, 102, 159, 1, 5, 522, 465], [9, 66, 26, 431, 24, 12, 7, 871], [1, 72, 120, 313, 521, 185, 7, 18, 3, 993, 15, 2, 186, 480, 11, 105], [1, 5, 3, 160, 4, 9, 40, 89, 239, 14, 2, 994, 22, 96, 328, 83, 8, 11, 92, 457, 21, 370], [1, 20, 210, 995, 58, 517, 996, 8, 10, 1, 20, 365, 2, 76, 11, 997], [1, 5, 3, 868, 429], [1, 5, 3, 235, 40], [2, 44, 19, 24], [1, 998, 68, 2, 271, 67, 14, 111, 112, 8, 1, 12, 341, 6, 262, 126, 31, 13, 225, 43, 229], [1, 192, 3, 454, 4, 2, 733, 8, 249], [1, 72, 120, 273, 413], [27, 694], [1, 130, 169, 640], [1, 5, 36, 48, 41, 22, 257, 79, 188, 1, 110, 5, 3, 33, 53, 218, 53, 139, 342, 445, 113, 36, 963], [27, 429, 103, 50, 65, 477, 123, 605], [1, 507, 123, 508, 3, 517, 204, 256, 8, 60, 49, 143, 999, 2, 182, 1000, 1001, 8, 181], [144, 52, 60, 65, 62, 291, 197], [1, 7, 836, 44, 837, 21, 526], [2, 502, 37, 18, 13, 11, 971, 220, 15, 220, 10, 1, 59], [1, 5, 3, 33, 8, 13, 286, 24, 65, 196], [1, 7, 6, 4, 2, 44, 10, 1, 153, 17], [1, 7, 3, 335, 4, 2, 152, 10, 1, 59], [2, 55, 26, 83, 10, 1, 26, 1117, 117, 1118, 4, 2, 524], [7, 18, 70, 11, 290, 1107, 369, 2, 122], [1, 5, 3, 46, 41, 4, 688, 53, 10, 13, 37, 33, 82], [1, 16, 106, 2, 32, 17, 8, 77], [1, 7, 51, 25, 142, 680], [1, 7, 3, 50, 6, 4, 2, 42], [52, 1, 1002, 15, 3, 451, 13, 1003, 5, 162, 45, 94, 18, 60, 1004, 1005, 4, 2, 1006], [1, 5, 6, 31, 1, 16, 961, 962], [1, 7, 6, 4, 2, 39, 137, 27, 294], [1, 213, 43, 253, 67, 14, 2, 34, 6], [1, 7, 22, 64, 56, 12, 61, 62, 24, 950, 25, 273, 53, 951, 139, 266], [1, 72, 120, 273, 413], [1, 5, 3, 218, 58, 49, 1, 101, 310, 126], [50, 6, 8, 99, 233], [35, 11, 3, 50, 6, 4, 2, 744], [1, 7, 51, 10, 1, 194, 374, 487], [10, 1, 153, 17, 4, 9, 84, 1, 7, 3, 335, 4, 2, 38], [1, 26, 169, 143, 112, 207, 1, 26, 317, 21, 745, 746], [1, 5, 3, 50, 6, 4, 2, 48], [625, 626, 346, 409, 627, 8, 2, 23, 154, 12, 41], [200, 12, 987, 2, 40, 58, 988], [1, 16, 61, 67, 14, 65], [1, 153, 17, 57, 164, 71, 33], [1, 216, 196, 14, 6, 747, 12, 20, 174, 31, 1, 121, 7, 9, 440, 23, 6], [1, 7, 33, 8, 395, 102, 159, 2, 285, 73, 99], [10, 1, 47, 17, 1, 7, 18, 27, 141, 12, 267, 77, 748], [2, 32, 41, 114, 1, 433, 17, 60, 84], [1, 7, 3, 50, 6, 4, 2, 32, 10, 1, 75, 91, 56], [2, 34, 19, 10, 1, 59], [1, 5, 3, 68, 15, 2, 46, 22, 749, 83, 103, 316, 9, 750, 57, 9, 191], [1, 52, 3, 6, 4, 2, 34, 10, 1, 26, 288], [1, 153, 17, 21, 3, 392, 39, 58, 84, 458, 407, 31, 223, 3, 284, 14, 204, 751, 64, 23, 432], [27, 169, 1, 16, 170, 155], [2, 244, 7, 99, 18, 211, 73, 457, 21, 332], [1, 16, 150, 263], [9, 34, 37, 18, 13, 641, 8, 1, 347, 147, 146, 13, 381], [488, 26, 752, 12, 5, 36, 127, 55], [2, 34, 19, 10, 1, 170, 532], [1, 16, 90, 287, 1, 7, 3, 85, 4, 2, 38], [2, 29, 19, 24, 45, 94], [1, 7, 6, 89, 1, 90, 43, 133, 138, 13, 11], [58, 49, 1, 245, 12, 74, 1, 7, 3, 50, 6, 4, 2, 39], [1, 546, 3, 254, 55, 4, 2, 134, 8, 1, 86, 43, 150, 9, 243], [1, 110, 90, 287, 57, 474, 8, 121, 1, 7, 875], [10, 1, 389, 2, 134, 1, 7, 6, 4, 2, 29], [1, 5, 276, 6, 4, 2, 502, 25, 294, 30], [1, 7, 3, 335, 4, 2, 152, 10, 1, 59], [1, 16, 166, 1119, 15, 2, 74, 46, 67, 2, 1120, 1121, 14, 9, 118, 74, 24, 21, 1122, 311], [1, 172, 2, 44, 19, 10, 1, 509, 62, 234, 895], [2, 32, 19, 8, 1, 302, 9, 93, 4, 2, 69, 223, 302, 459, 4, 2, 353], [1, 20, 1, 88, 6, 10, 1, 104, 12, 146, 2, 206, 53, 2, 98], [1, 7, 81, 6, 4, 2, 303, 25, 111, 239, 14, 9, 155, 1123], [2, 991, 359, 224, 25, 1, 219, 12, 9, 191], [2, 78, 160, 30, 21, 97, 115, 8, 478], [1, 5, 3, 33, 8, 13, 286, 24, 65, 196], [1, 5, 896, 76], [82, 11, 2, 29, 224, 10, 1, 104, 12, 1007, 17, 9, 1008], [1, 7, 6, 4, 2, 44, 10, 1, 153, 17], [35, 11, 3, 97, 970, 4, 2, 40], [1, 417, 3, 952, 62, 234, 49, 8, 10, 1, 953, 343, 1, 7, 32, 41], [1, 7, 3, 399, 496, 6, 25, 1, 326, 17, 21, 2, 403], [2, 98, 19, 10, 1, 425], [167, 83, 55, 26, 1009, 12, 1010], [1, 5, 3, 235, 250], [1, 7, 6, 4, 9, 34], [2, 23, 11, 163, 45, 94], [2, 598, 96, 65, 80, 164, 252, 16, 148], [2, 44, 19, 137, 27, 151, 82], [2, 23, 19, 3, 54, 10, 1, 146], [1, 20, 299, 349, 14, 1011, 115, 15, 2, 23, 8, 211, 162], [897, 173, 898, 899, 23, 21, 56, 900, 487], [2, 189, 52, 3, 850, 851, 8, 9, 852, 853, 68, 9, 89, 14, 167, 854, 8, 92, 13, 307, 43, 193], [2, 78, 19, 10, 1, 79, 12, 116, 3, 61], [1, 7, 151], [1, 113, 16, 201, 12, 20, 198, 102, 10, 753, 178, 24, 11, 198, 1, 132, 7, 33], [27, 43, 71, 165, 1, 20, 448, 55], [120, 246, 214, 2, 34], [2, 28, 132, 754, 30, 8, 1, 5, 755, 3, 54, 14, 28, 323], [1, 1012, 60, 1013, 71, 14, 1014, 213, 79, 188], [1, 7, 6, 4, 9, 34, 10, 238], [1, 7, 19, 4, 2, 44], [1, 984, 3, 373, 62, 985, 986, 1, 7, 6, 4, 2, 46, 18, 46, 41], [1, 7, 18, 9, 901, 902, 489, 8, 489], [1, 7, 18, 1, 86, 260, 208, 903, 1, 20, 435, 4, 2, 244, 30], [2, 38, 37, 85, 205, 1, 101, 3, 54, 82], [1, 5, 3, 171, 15, 2, 40], [35, 453, 107, 70, 199, 21, 2, 716, 717, 1, 5, 12, 269, 718, 102, 15, 9, 719, 204, 2, 516, 73, 720], [35, 73, 117, 115, 15, 2, 69, 22, 756, 24, 3, 54], [1, 1015, 150, 1016, 53, 1017, 2, 1018, 1019, 149, 33, 1, 26], [1, 16, 47, 21, 60, 430, 71, 4, 2, 42], [1, 7, 3, 6, 4, 2, 23], [1, 110, 5, 9, 510, 12, 90, 9, 185, 22, 1, 216, 12], [2, 38, 37, 85, 8, 1, 75, 22, 2, 69, 11, 564, 8, 1, 16, 148, 131], [1, 7, 18, 70, 11, 479, 2, 244], [2, 118, 88, 411, 10, 1, 217, 265, 15, 2, 46], [9, 475, 218, 26, 143, 3, 838, 4, 2, 839, 1, 840, 841, 1, 26, 141, 12, 842, 103, 424, 843], [2, 46, 11, 163, 45, 94], [1, 7, 18, 144, 132, 130, 70, 4, 2, 250], [2, 38, 37, 85, 205, 1, 116, 2, 696, 697], [1, 132, 7, 18, 1, 5, 1079, 311, 102, 176, 1, 110, 5, 2, 1080], [2, 38, 129, 15, 9, 89, 275, 2, 593, 8, 249], [35, 11, 3, 391, 724, 4, 2, 250], [10, 1, 47, 1, 7, 51, 1, 90, 43, 133, 82], [1, 7, 565, 10, 1, 100, 2, 28, 95, 30], [2, 152, 162, 45, 187, 12, 59, 22, 1, 856, 469, 183, 346, 1, 428], [2, 39, 19, 24, 8, 1, 16, 245, 77, 53, 17], [1, 5, 757, 4, 2, 29], [1, 5, 3, 105, 76, 143, 2, 288, 590, 4, 9, 327, 82], [1, 7, 18, 9, 525, 11, 366], [1, 247, 148, 67, 14, 65], [2, 23, 130, 169, 137, 1, 26, 1060, 57, 9, 191], [1, 5, 3, 46, 41, 4, 688, 53, 10, 13, 37, 33, 82], [144, 52, 60, 65, 62, 291, 197], [35, 11, 36, 1142, 265, 345, 2, 566, 1143, 57, 9, 128, 240, 1, 7, 58, 49, 1, 79, 30, 62, 3, 1144], [1, 72, 132, 33, 102, 10, 1, 72, 904, 905], [10, 2, 1081, 1082, 1083, 1, 172, 3, 56, 496, 6], [2, 520, 145, 5, 81, 6, 114, 1, 26, 57, 191], [1, 7, 6, 4, 2, 32, 21, 3, 452], [1, 5, 105, 76, 25, 1, 216, 3, 199, 642], [2, 643, 7, 18, 211, 73, 644, 202, 645, 8, 73, 312], [1, 5, 3, 54, 14, 34, 6, 158, 1, 79, 273], [1, 5, 109, 6, 57, 2, 74, 206], [1, 7, 81, 265, 4, 2, 78], [1, 216, 12, 107, 30, 14, 61, 25, 141, 17, 3, 1058, 14, 157, 31, 92, 1, 1059, 12, 61, 102, 10, 1, 272, 77], [1, 7, 81, 6, 4, 2, 303, 25, 111, 239, 14, 9, 155, 1123], [1, 7, 3, 50, 6, 4, 2, 42], [1, 5, 3, 39, 6, 10, 1, 272, 4, 212, 14, 2, 422], [2, 145, 4, 2, 136, 23, 73, 224], [1, 5, 3, 6, 4, 2, 1020, 88], [1, 200, 3, 819, 14, 126, 820, 194, 2, 145, 183, 821], [1, 5, 3, 6, 4, 2, 32], [2, 136, 23, 19, 31, 13, 698, 176, 1, 425, 13], [10, 1, 444, 2, 206, 35, 11, 6, 4, 34, 88], [2, 42, 96, 124, 119, 114, 156], [2, 152, 201, 12, 544, 202, 1, 79, 17, 53, 77, 157], [2, 66, 11, 166, 567, 64, 45, 417], [70, 384, 11, 35, 15, 2, 98], [10, 27, 484, 2, 186, 100, 4, 568], [2, 360, 23, 96, 124, 119, 62, 3, 511], [1, 5, 142, 29, 6], [1, 72, 376, 149, 33, 906, 1, 72, 1, 72, 132, 907, 102, 30, 4, 9, 908], [1, 5, 212, 32, 6, 8, 10, 1, 20, 13, 9, 230, 958, 24], [1, 68, 2, 134, 3, 284, 14, 197, 256, 8, 102, 159, 1, 404, 316, 36, 588, 126, 64, 43, 589, 174], [1, 86, 547, 150, 263], [35, 11, 6, 4, 2, 122, 1, 86, 43, 306, 6], [1, 326, 2, 118, 137, 161, 636, 637, 4, 9, 638], [27, 120, 3, 56, 49, 305], [1, 16, 261, 287, 1, 5, 3, 6, 4, 2, 29], [1, 7, 3, 173, 93, 4, 2, 29, 109], [1, 216, 12, 5, 66, 10, 1, 26, 817, 495, 356], [2, 69, 160, 30, 175, 58, 692, 178, 2, 693], [2, 152, 162, 45, 187, 12, 59, 22, 1, 856, 469, 183, 346, 1, 428], [1, 375, 5, 1021, 13, 21, 9, 1022, 67, 1, 72, 1023, 1, 375, 5, 423, 3, 109, 15, 2, 23], [1, 52, 255, 6, 8, 1024, 10, 1, 426, 1025, 1026, 490, 156], [1, 5, 228, 117, 865, 4, 2, 40, 8, 87, 12, 866, 126, 31, 13, 203, 20, 174], [2, 598, 96, 65, 80, 164, 252, 16, 148], [4, 1084, 1, 52, 3, 54, 14, 66], [2, 38, 37, 85, 205, 1, 101, 3, 54, 82], [27, 63, 376, 22, 974, 79, 975, 976, 72, 1, 63, 977], [2, 46, 11, 163, 45, 94], [1, 7, 3, 50, 6, 4, 9, 42, 25, 309], [1, 5, 3, 6, 4, 2, 109], [1, 132, 7, 18, 1, 5, 1079, 311, 102, 176, 1, 110, 5, 2, 1080], [2, 38, 37, 85, 205, 1, 116, 2, 696, 697], [1, 7, 224, 15, 2, 828], [2, 29, 129, 10, 1, 104, 12, 354, 409, 740], [2, 38, 129, 15, 9, 89, 275, 2, 593, 8, 249], [10, 27, 91, 242, 1, 154, 12, 7, 51], [10, 1, 153, 17, 4, 9, 84, 1, 7, 51], [27, 43, 305, 131, 1, 5, 180, 21, 2, 48], [1, 7, 19, 4, 2, 44], [2, 598, 96, 65, 80, 164, 252, 16, 148], [1, 7, 6, 89, 8, 1, 86, 43, 695, 13], [120, 246, 214, 2, 34], [10, 1, 361, 3, 54, 1, 20, 3, 218], [1, 7, 3, 50, 6, 4, 9, 42, 25, 309], [1, 7, 18, 144, 132, 130, 70, 4, 2, 250], [1, 7, 151], [9, 135, 49, 1, 646, 2, 647, 1, 68, 365, 91, 268, 8, 92, 1, 5, 36, 83, 446], [9, 34, 37, 18, 13, 641, 8, 1, 347, 147, 146, 13, 381], [1, 16, 47, 21, 60, 430, 71, 4, 2, 42], [35, 11, 6, 4, 9, 145, 1, 90, 43, 133, 418], [1, 546, 3, 254, 55, 4, 2, 134, 8, 1, 86, 43, 150, 9, 243], [25, 111, 112, 1, 5, 109, 6, 21, 2, 758, 491], [2, 32, 41, 114, 1, 433, 17, 60, 84], [1, 5, 3, 50, 6, 8, 482, 619, 4, 2, 118, 88, 10, 1, 104, 12, 47, 15, 13, 8, 59], [1, 7, 6, 4, 2, 38], [2, 29, 19, 24, 45, 94], [10, 1, 101, 1, 7, 2, 42, 19], [80, 2, 38, 11, 4, 3, 187, 909, 8, 1, 200, 3, 165, 352], [1, 5, 6, 4, 2, 882, 8, 2, 42, 18, 70, 515, 13], [1, 910, 492, 911, 31, 211, 16, 466, 9, 128, 352, 912, 2, 28, 23], [1, 5, 3, 68, 22, 96, 328, 97, 8, 380, 412], [2, 913, 135, 406, 219, 12, 512, 67, 252, 26, 120, 3, 56, 49, 233], [1, 26, 317, 21, 822, 823, 824, 240, 825, 82, 1, 132, 172, 33], [1, 5, 3, 6, 4, 2, 1020, 88], [192, 386, 11, 609, 18, 610], [9, 142, 6, 4, 9, 42, 1, 7], [1, 5, 648, 21, 2, 40], [2, 42, 37, 364, 163, 31, 223, 13, 37, 174, 25, 1, 101, 70, 980], [1, 5, 3, 235, 40], [278, 1, 65, 67, 27, 3, 914], [1, 5, 36, 48, 41, 22, 257, 79, 188, 1, 110, 5, 3, 33, 53, 218, 53, 139, 342, 445, 113, 36, 963], [27, 43, 165, 1, 7, 51], [1, 7, 6, 4, 2, 23], [1, 649, 221, 650, 21, 3, 357, 137, 1, 26, 651], [2, 28, 11, 95, 10, 1, 72, 382, 13], [1, 52, 3, 862, 137, 111, 241, 2, 34, 863, 8, 92, 64, 864], [258, 53, 6, 22, 11, 172, 57, 117, 408, 234, 9, 212, 14, 9, 38, 275, 9, 39, 8, 360, 367], [1, 5, 87, 12, 194, 458, 15, 2, 46, 31, 211, 121, 6, 24], [2, 44, 19, 24], [2, 46, 19, 24, 3, 54, 14, 111, 112], [1, 5, 3, 81, 6, 4, 2, 968, 103, 44, 209], [1, 72, 594, 12, 306, 472, 15, 2, 34, 10, 1, 47, 595, 1, 7, 8, 330, 3, 280, 596, 597], [1, 5, 391, 42, 6, 8, 372], [1, 20, 395, 8, 129, 80, 140], [569, 28, 11, 95, 30, 113, 123, 382, 13], [1, 5, 117, 210, 313, 10, 27, 233, 143, 9, 164], [2, 42, 37, 296, 8, 570, 8, 372, 25, 299, 571], [1, 222, 2, 32, 57, 9, 348, 873, 213, 1, 5, 3, 874], [2, 759, 37, 63, 151, 202, 176, 13, 19, 9, 324, 1, 7, 4, 2, 32, 11, 760, 8, 10, 1, 75, 460, 2, 160, 17, 1, 585, 21, 761], [35, 73, 293, 14, 551, 15, 2, 552, 4, 9, 84], [1, 5, 3, 171, 8, 13, 270, 63, 187], [1, 5, 3, 32, 6, 58, 652, 108], [2, 44, 37, 18, 64, 141, 12, 572], [2, 29, 19, 10, 1, 104, 12, 358, 70, 573, 2, 32], [1, 26, 63, 461, 4, 155, 31, 92, 2, 38, 11, 71, 6], [10, 1, 170, 155, 1, 5, 117, 173, 93, 4, 2, 535], [58, 84, 10, 1, 153, 17, 2, 39, 37, 18, 1, 633, 15, 4, 199], [144, 124, 140, 2, 33, 62, 197, 31, 121, 65, 58, 108], [1, 16, 330, 30, 14, 2, 48, 653, 1, 7, 18, 35, 11, 70, 4, 13, 431, 654], [1, 5, 6, 4, 2, 78, 22, 655, 24], [2, 46, 19, 8, 1, 16, 378, 13, 617, 64, 177], [2, 48, 41, 10, 27, 915, 12, 916], [1, 20, 210, 995, 58, 517, 996, 8, 10, 1, 20, 365, 2, 76, 11, 997], [2, 29, 109, 19, 10, 1, 104, 12, 358, 17], [2, 420, 818, 11, 296, 14, 28, 58, 49], [1, 72, 120, 313, 521, 185, 7, 18, 3, 993, 15, 2, 186, 480, 11, 105], [27, 71, 762], [2, 42, 129, 10, 1, 101, 168, 490, 82], [1, 848, 71, 33, 159, 9, 264, 11, 242], [9, 6, 11, 449, 333, 10, 1, 79, 77, 9, 157, 13, 37, 18, 70, 96, 849, 89, 2, 34], [1, 110, 133, 82, 27, 687, 151], [1, 7, 18, 9, 525, 11, 366], [1, 26, 317, 21, 822, 823, 824, 240, 825, 82, 1, 132, 172, 33], [2, 292, 96, 3, 500, 15, 167, 301, 22, 488, 159, 26, 33, 119, 31, 92, 13, 96, 177, 127, 8, 1027, 321, 80, 108], [1, 5, 115, 4, 349, 234, 21, 3, 54, 14, 336, 15, 2, 69], [1, 7, 51, 25, 142, 680], [1, 7, 6, 4, 2, 39], [1, 110, 5, 313, 340, 4, 61, 31, 30, 61, 11, 45, 99], [1, 7, 22, 64, 56, 12, 61, 62, 24, 950, 25, 273, 53, 951, 139, 266], [1, 52, 3, 862, 137, 111, 241, 2, 34, 863, 8, 92, 64, 864], [2, 38, 37, 85, 8, 1, 75, 22, 2, 69, 11, 564, 8, 1, 16, 148, 131], [1, 7, 6, 89, 8, 1, 86, 43, 695, 13], [1, 16, 59, 2, 34, 19, 24], [11, 35, 3, 711, 62, 66], [10, 1, 87, 12, 107, 198, 8, 269, 183, 285, 1, 228, 22, 1, 26, 121, 33], [1, 7, 6, 4, 2, 249, 10, 1, 533, 15, 9, 534], [248, 236, 14, 28, 400, 8, 401, 402], [2, 34, 11, 163, 45, 175], [10, 1, 87, 12, 107, 198, 8, 269, 183, 285, 1, 228, 22, 1, 26, 121, 33], [10, 1, 47, 17, 91, 195, 1, 154, 12, 7, 51, 8, 230, 274], [50, 6, 8, 99, 233], [2, 122, 41, 158, 13, 11, 33], [97, 1085, 477, 21, 329], [2, 44, 37, 18, 64, 141, 12, 572], [2, 32, 19, 8, 1, 302, 9, 93, 4, 2, 69, 223, 302, 459, 4, 2, 353], [27, 120, 3, 56, 49, 305], [1, 5, 3, 277, 6, 89, 2, 39], [2, 32, 11, 366, 10, 1, 20, 17], [1, 322, 52, 139, 66, 180, 1073, 2, 135, 1074, 10, 80, 14, 3, 374, 2, 23, 130, 1075, 4, 1076], [10, 1, 87, 12, 1124, 9, 1125, 1126, 1, 228, 22, 1, 16, 330, 9, 1127, 14, 9, 1128], [1, 52, 3, 68, 22, 26, 737, 738, 31, 13, 11, 43, 232, 13, 11, 308, 739, 412, 8, 455], [2, 28, 11, 95, 30, 4, 399, 325], [37, 18, 35, 73, 727, 8, 279, 728, 4, 2, 122], [1, 5, 117, 210, 313, 10, 27, 233, 143, 9, 164], [2, 28, 11, 320, 30, 4, 631, 333, 10, 1, 632, 13], [1, 86, 260, 208], [10, 1, 101, 390, 1, 319, 2, 76, 621], [1, 7, 321, 476, 12, 300, 17, 10, 1, 65], [1, 7, 142, 314, 4, 9, 40, 21, 336], [6, 4, 9, 1028, 39], [9, 297, 178, 2, 44, 203, 7, 165], [156, 1, 52, 3, 763, 6], [2, 29, 96, 764, 6], [2, 334, 52, 125, 601, 602, 8, 13, 603, 36, 283, 14, 40, 4, 239, 14, 125, 604, 22, 11, 92, 501, 8, 308], [1, 72, 120, 273, 413], [1, 5, 3, 6, 4, 2, 42], [1, 7, 3, 335, 4, 2, 152, 10, 1, 59], [10, 1, 389, 2, 134, 1, 7, 6, 4, 2, 29], [1, 7, 3, 6, 4, 2, 23, 10, 1, 272, 15, 3, 1029, 62, 373], [2, 28, 95, 30], [1, 16, 261, 287, 1, 5, 3, 6, 4, 2, 29], [35, 6, 4, 2, 46], [1, 5, 3, 235, 40], [1, 7, 857], [2, 845, 8, 846, 201, 30, 14, 363, 102, 159, 1, 5, 522, 465], [1, 5, 3, 160, 4, 9, 40, 89, 239, 14, 2, 994, 22, 96, 328, 83, 8, 11, 92, 457, 21, 370], [1, 414, 196, 21, 2, 39, 6, 8, 1, 166, 200, 12, 107, 174], [1, 7, 33], [1, 20, 436, 14, 115, 15, 2, 69, 22, 322, 79, 188], [13, 37, 18, 1, 16, 116, 3, 254, 61], [2, 28, 11, 95, 10, 1, 72, 382, 13], [1, 5, 3, 181, 1030, 4, 2, 303], [2, 32, 226, 51, 10, 1, 104, 12, 20, 17], [1, 247, 208], [1, 7, 6, 4, 2, 46], [27, 120, 3, 56, 49, 343, 67, 9, 628, 73, 80, 629], [10, 1, 90, 56, 656, 1, 7, 81, 6, 4, 2, 145], [1, 7, 3, 50, 6, 4, 2, 118, 88, 10, 1, 47], [27, 429, 103, 50, 65, 477, 123, 605], [248, 236, 14, 28, 400, 8, 401, 402], [1, 7, 258, 557, 9, 38, 4, 410], [1, 5, 87, 12, 262, 13, 31, 1, 16], [248, 867, 6], [1, 649, 221, 650, 21, 3, 357, 137, 1, 26, 651], [1, 7, 51, 8, 30, 14, 459], [1, 5, 87, 12, 194, 458, 15, 2, 46, 31, 211, 121, 6, 24], [1, 5, 3, 68, 22, 96, 328, 97, 8, 380, 412], [1, 414, 196, 21, 40, 657], [1, 7, 18, 765, 192, 4, 168, 462], [144, 87, 343, 981, 31, 982, 86, 983, 24, 17], [1, 5, 6, 18, 279, 4, 2, 122], [10, 1, 153, 17, 4, 9, 84, 1, 7, 51], [1, 319, 3, 54, 183, 28, 320, 30, 346, 1086, 10, 1, 318, 2, 28], [2, 46, 11, 163, 45, 94], [144, 437, 2, 28, 95, 30, 3, 54, 323], [2, 29, 129, 10, 1, 104, 12, 354, 409, 740], [2, 28, 132, 754, 30, 8, 1, 5, 755, 3, 54, 14, 28, 323], [1, 52, 255, 6, 8, 1024, 10, 1, 426, 1025, 1026, 490, 156], [58, 49, 1, 194, 36, 266, 1, 172, 51], [1, 7, 18, 1, 86, 260, 208, 903, 1, 20, 435, 4, 2, 244, 30], [2, 38, 37, 18, 64, 4, 3, 658], [1, 68, 2, 46, 57, 9, 327, 8, 13, 442, 127, 58, 108, 10, 1, 59, 15, 13], [1, 1012, 60, 1013, 71, 14, 1014, 213, 79, 188], [10, 27, 91, 242, 1, 154, 12, 7, 51], [35, 11, 3, 50, 6, 4, 2, 331, 1, 5, 87, 12, 341, 6, 262, 126, 31, 13, 225, 43, 229], [2, 122, 7, 179], [1, 5, 3, 171, 15, 2, 40], [1, 7, 3, 50, 6, 4, 9, 42, 25, 309], [2, 38, 37, 85, 205, 1, 101, 3, 54, 82], [2, 145, 7, 237], [1, 5, 3, 6, 4, 2, 109], [1, 16, 59, 131, 1, 5, 36, 41, 4, 2, 46], [2, 38, 37, 85, 205, 1, 116, 2, 696, 697], [1, 5, 3, 180, 4, 2, 844, 48, 447, 123, 448], [35, 73, 1154, 10, 1, 7, 659, 371, 3, 399, 472, 8, 282, 1155, 1156, 12, 2, 244, 13, 1157, 591, 9, 1158, 30, 14, 24, 10, 13, 1159], [1, 5, 9, 574, 14, 120, 282, 438, 4, 2, 38], [138, 407, 613, 193, 614], [1, 5, 3, 171, 8, 13, 270, 63, 187], [70, 384, 11, 35, 15, 2, 98], [2, 119, 387, 232, 131, 8, 64, 124, 18, 60, 62, 291, 197], [10, 27, 545, 4, 9, 84, 1, 7, 215, 8, 5, 452], [2, 44, 11, 634, 289, 8, 27, 120, 3, 56, 49, 12, 61], [13, 37, 18, 2, 44, 11, 141, 12, 766, 30, 14, 2, 38, 13, 19], [435, 9, 445, 14, 660], [2, 48, 11, 556], [1, 5, 391, 42, 6, 8, 372], [2, 44, 37, 18, 64, 141, 12, 572], [25, 3, 558, 1, 7, 70, 215, 4, 24], [1, 5, 117, 210, 313, 10, 27, 233, 143, 9, 164], [2, 759, 37, 63, 151, 202, 176, 13, 19, 9, 324, 1, 7, 4, 2, 32, 11, 760, 8, 10, 1, 75, 460, 2, 160, 17, 1, 585, 21, 761], [569, 28, 11, 95, 30, 113, 123, 382, 13], [2, 66, 11, 166, 567, 64, 45, 417], [25, 309, 1, 5, 173, 93, 89, 14, 24], [1, 147, 20, 198, 282, 415, 149, 94, 1, 661, 17, 53, 149, 242, 1, 217, 9, 662, 15], [25, 111, 351, 1, 52, 3, 277, 93, 231, 12, 2, 39], [2, 42, 37, 296, 8, 570, 8, 372, 25, 299, 571], [2, 66, 270, 8, 380], [1, 5, 36, 48, 41, 10, 917], [1, 5, 29, 6, 10, 1, 104, 12, 261, 2, 893], [1, 5, 210, 6, 4, 2, 44], [9, 663, 664, 14, 2, 383, 11, 177, 8, 7, 45, 33], [1, 16, 148, 1, 5, 3, 56, 65], [2, 29, 96, 764, 6], [1, 213, 43, 253, 67, 14, 2, 34, 6], [1, 7, 88, 6, 58, 49, 1, 106], [2, 28, 11, 95, 30, 25, 1, 116, 3, 420], [10, 1, 26, 635, 1, 52, 36, 209, 103, 155, 4, 2, 34], [858, 364, 347, 315, 25, 36, 209, 53, 253], [1, 5, 3, 235, 250], [1, 5, 276, 6, 4, 2, 502, 25, 294, 30], [9, 894, 93, 15, 2, 44, 467, 24, 468], [10, 1, 47, 17, 1, 7, 18, 27, 141, 12, 267, 77, 748], [1, 192, 227, 3, 767, 137, 1, 26, 768, 13, 8, 1, 5, 3, 769, 14, 443, 497, 4, 2, 74, 353, 1, 75, 13, 11, 770, 771], [1, 7, 6, 4, 2, 249, 10, 1, 533, 15, 9, 534], [2, 34, 19, 10, 1, 170, 532], [2, 34, 11, 163, 45, 175], [248, 236, 14, 28, 400, 8, 401, 402], [1, 153, 17, 21, 3, 392, 39, 58, 84, 458, 407, 31, 223, 3, 284, 14, 204, 751, 64, 23, 432], [1, 7, 33, 8, 395, 102, 159, 2, 285, 73, 99], [1, 7, 6, 4, 2, 38], [9, 135, 49, 1, 646, 2, 647, 1, 68, 365, 91, 268, 8, 92, 1, 5, 36, 83, 446], [1, 5, 3, 81, 6, 4, 2, 968, 103, 44, 209], [10, 1, 87, 12, 107, 198, 8, 269, 183, 285, 1, 228, 22, 1, 26, 121, 33], [1, 5, 3, 46, 41, 205, 1, 110, 59, 3, 54], [2, 42, 129, 10, 1, 101, 168, 490, 82], [2, 34, 19, 10, 1, 59], [1, 322, 52, 139, 66, 180, 1073, 2, 135, 1074, 10, 80, 14, 3, 374, 2, 23, 130, 1075, 4, 1076], [1, 72, 376, 149, 33, 906, 1, 72, 1, 72, 132, 907, 102, 30, 4, 9, 908], [2, 189, 815, 167, 39, 21, 36, 356, 816, 8, 22, 500, 96, 328, 304, 8, 190, 18, 13, 11, 83], [1, 7, 6, 4, 2, 182, 21, 506], [1, 7, 6, 4, 2, 250], [1, 546, 3, 254, 55, 4, 2, 134, 8, 1, 86, 43, 150, 9, 243], [58, 49, 1, 245, 12, 74, 1, 7, 3, 50, 6, 4, 2, 39], [1, 16, 47, 17, 1, 7, 2, 424, 11, 214, 89, 2, 386], [1, 16, 150, 263], [1, 7, 33, 8, 395, 102, 159, 2, 285, 73, 99], [1, 5, 115, 15, 2, 23], [9, 135, 49, 1, 646, 2, 647, 1, 68, 365, 91, 268, 8, 92, 1, 5, 36, 83, 446], [2, 32, 41, 114, 1, 433, 17, 60, 84], [144, 130, 3, 56, 49, 12, 61, 72, 1, 120, 3, 44, 575], [44, 129, 45, 94], [1, 7, 18, 70, 11, 479, 2, 244], [2, 38, 37, 85, 205, 1, 116, 2, 696, 697], [529, 530, 53, 283, 4, 9, 40], [10, 1, 47, 17, 91, 195, 1, 154, 12, 7, 51, 8, 230, 274], [2, 65, 11, 63, 99, 8, 1, 5, 332], [1, 16, 298, 165, 1, 5, 3, 6, 4, 2, 34], [58, 49, 13, 1087, 1, 20, 1088, 15, 2, 566, 8, 527], [1, 5, 3, 180, 4, 2, 844, 48, 447, 123, 448], [2, 29, 11, 163, 24], [2, 118, 88, 411, 10, 1, 217, 265, 15, 2, 46], [2, 68, 1129, 53, 1130, 1131, 370], [2, 39, 96, 124, 119, 114, 9, 504], [1, 5, 1089, 65, 21, 1090, 1091, 200, 1092], [9, 959, 14, 2, 303, 162, 10, 1, 269, 960], [1, 16, 607, 2, 608, 57, 164, 67, 1, 5, 105, 76], [10, 1, 47, 17, 1, 7, 18, 27, 141, 12, 267, 77, 748], [2, 38, 37, 18, 64, 4, 3, 658], [1, 16, 59, 67, 1, 5, 3, 81, 46, 41], [2, 23, 19, 24, 8, 1, 16, 146, 13, 53, 59], [1, 7, 33, 8, 395, 102, 159, 2, 285, 73, 99], [1, 260, 5, 486, 992, 12, 20, 17], [1, 5, 3, 23, 6, 114, 1, 954, 955, 495, 356], [1, 68, 2, 134, 3, 284, 14, 197, 256, 8, 102, 159, 1, 404, 316, 36, 588, 126, 64, 43, 589, 174], [2, 46, 19, 8, 1, 16, 378, 13, 617, 64, 177], [2, 122, 41, 158, 13, 11, 33], [114, 1, 219, 369, 9, 630, 1, 5, 6, 15, 2, 48], [1, 5, 3, 277, 6, 89, 2, 39], [35, 11, 6, 4, 2, 122, 1, 86, 43, 306, 6], [1, 75, 259, 70, 199, 21, 2, 55, 13, 225, 43, 201, 12, 193, 18, 13, 428], [2, 34, 203, 377, 12, 146, 131], [25, 3, 558, 1, 7, 70, 215, 4, 24], [1, 5, 3, 50, 6, 4, 2, 136, 42], [2, 38, 37, 85, 25, 2, 362, 108, 4, 9, 191, 82], [2, 40, 11, 329, 8, 304], [13, 19, 10, 1, 389, 2, 98, 17], [421, 685, 97, 686, 370, 181, 8, 168, 12, 9, 295], [1, 86, 547, 150, 263], [1, 26, 576, 4, 9, 32, 111, 241, 135, 164], [158, 1, 47, 17, 1, 7, 51], [1, 5, 87, 12, 262, 13, 31, 1, 16], [1, 7, 33], [1, 7, 51, 25, 161, 3, 549, 266], [1, 7, 6, 4, 2, 32, 21, 3, 452], [1, 247, 148, 67, 14, 65], [1, 7, 81, 6, 4, 2, 303, 25, 111, 239, 14, 9, 155, 1123], [1, 7, 3, 50, 6, 4, 2, 42], [35, 11, 66, 15, 2, 69], [1, 5, 3, 235, 250], [10, 1, 59, 1, 20, 3, 485, 6, 4, 9, 339, 14, 2, 46], [1, 7, 6, 4, 2, 250], [1, 322, 52, 139, 66, 180, 1073, 2, 135, 1074, 10, 80, 14, 3, 374, 2, 23, 130, 1075, 4, 1076], [1, 5, 3, 180, 4, 521, 1061, 13, 11, 91, 470, 12, 100], [10, 1, 87, 12, 1124, 9, 1125, 1126, 1, 228, 22, 1, 16, 330, 9, 1127, 14, 9, 1128], [1, 5, 3, 55, 275, 2, 516, 22, 226, 174, 1132, 8, 223, 1133, 1134, 108, 10, 1, 269, 1135, 528, 12, 298], [1, 7, 6, 4, 2, 23], [2, 68, 1129, 53, 1130, 1131, 370], [144, 437, 2, 28, 95, 30, 3, 54, 323], [57, 362, 13, 37, 166, 1145, 31, 223, 3, 1146, 279, 154, 12, 526, 227, 2, 46], [1, 5, 3, 56, 6, 4, 2, 42], [10, 1, 361, 3, 54, 1, 20, 3, 218], [1, 5, 6, 4, 2, 882, 8, 2, 42, 18, 70, 515, 13], [1, 5, 3, 63, 171, 93, 231, 12, 2, 337], [1, 5, 117, 210, 313, 10, 27, 233, 143, 9, 164], [1, 222, 221, 8, 9, 615, 203, 377, 12, 193], [2, 918, 919, 920, 921, 922, 1, 7, 237, 14, 923, 298], [10, 1, 47, 17, 91, 195, 1, 7, 202, 159, 27, 141, 12, 772], [1, 16, 47, 21, 60, 430, 71, 4, 2, 29], [1, 5, 3, 483, 29, 6], [1, 7, 45, 119, 4, 2, 42, 297], [1, 16, 61, 67, 14, 65], [1, 453, 100, 3, 463, 1, 5, 36, 127, 55], [9, 6, 4, 2, 23, 1031, 18, 3, 50, 357, 4, 13], [1, 5, 3, 277, 6, 89, 2, 39], [13, 19, 10, 1, 389, 2, 98, 17], [35, 11, 3, 50, 6, 4, 2, 744], [200, 12, 987, 2, 40, 58, 988], [2, 44, 11, 682, 289, 8, 13, 591, 24], [1, 26, 169, 143, 112, 207, 1, 26, 317, 21, 745, 746], [2, 334, 52, 125, 182, 439, 8, 239, 14, 125, 48, 989, 11, 990, 97, 8, 173, 168], [421, 685, 97, 686, 370, 181, 8, 168, 12, 9, 295], [1, 86, 260, 106, 2, 39, 13, 19], [2, 28, 11, 320, 30, 4, 631, 333, 10, 1, 632, 13], [1, 7, 6, 4, 2, 88, 25, 36, 209, 4, 9, 135, 112, 207, 1, 503], [1, 7, 51, 10, 1, 194, 374, 487], [10, 1, 153, 17, 4, 9, 84, 1, 7, 3, 335, 4, 2, 38], [1, 5, 36, 600], [35, 11, 6, 4, 2, 122, 1, 86, 43, 306, 6], [2, 122, 41, 158, 13, 11, 33], [1, 86, 547, 150, 263], [1, 52, 3, 68, 22, 26, 737, 738, 31, 13, 11, 43, 232, 13, 11, 308, 739, 412, 8, 455], [1, 7, 3, 220, 15, 220, 6, 4, 2, 152, 10, 1, 471, 157], [16, 404, 363], [3, 210, 267, 4, 28], [10, 1, 59, 64, 56, 12, 61], [2, 28, 11, 320, 30, 4, 631, 333, 10, 1, 632, 13], [1, 86, 260, 106, 2, 39, 13, 19], [1, 5, 3, 251, 41, 4, 2, 136, 23, 240, 286, 13, 470, 12, 106], [10, 1, 101, 91, 94, 390, 2, 38, 226, 85, 8, 51], [1, 5, 3, 81, 6, 4, 2, 46, 18, 665, 6, 21, 666, 2, 6, 667], [1, 52, 3, 68, 22, 26, 737, 738, 31, 13, 11, 43, 232, 13, 11, 308, 739, 412, 8, 455], [144, 124, 71, 63, 151, 323], [10, 1, 47, 17, 91, 195, 1, 7, 202, 159, 27, 141, 12, 772], [3, 210, 267, 4, 28], [1, 7, 3, 220, 15, 220, 6, 4, 2, 152, 10, 1, 471, 157], [1, 20, 36, 48, 41, 10, 13, 11, 33], [10, 1, 101, 390, 1, 319, 2, 76, 621], [2, 122, 41, 158, 13, 11, 33], [1, 7, 18, 35, 11, 70, 179, 8, 304, 57, 9, 23, 14, 2, 34], [2, 334, 26, 876, 123, 125, 877, 8, 92, 125, 134, 11, 119, 97, 8, 179, 8, 9, 55, 11, 308, 878], [1, 7, 18, 144, 132, 130, 70, 4, 2, 250], [2, 55, 734, 17, 432], [13, 359, 202, 3, 506, 31, 464, 9, 6, 11, 312, 8, 427], [2, 29, 11, 163, 24], [1, 7, 321, 476, 12, 300, 17, 10, 1, 65], [1, 7, 142, 314, 4, 9, 40, 21, 336], [9, 71, 14, 263, 1093, 4, 1094, 358], [80, 14, 3, 374, 1, 172, 51, 10, 1, 1032, 17], [2, 189, 130, 3, 1033, 493, 197, 256, 8, 9, 40, 178, 13, 11, 1034, 8, 168, 8, 13, 190, 83], [1, 5, 3, 55, 275, 2, 516, 22, 226, 174, 1132, 8, 223, 1133, 1134, 108, 10, 1, 269, 1135, 528, 12, 298], [1, 7, 151, 18, 162, 53, 6], [35, 11, 3, 391, 724, 4, 2, 250], [2, 28, 11, 95, 30, 4, 399, 325], [1, 5, 3, 180, 4, 2, 23, 1, 147, 444, 13], [2, 189, 815, 167, 39, 21, 36, 356, 816, 8, 22, 500, 96, 328, 304, 8, 190, 18, 13, 11, 83], [1, 7, 254, 398, 10, 1, 295, 66, 810, 123, 187, 93], [1, 26, 317, 21, 822, 823, 824, 240, 825, 82, 1, 132, 172, 33], [13, 19, 10, 1, 879, 2, 98], [1, 7, 51, 10, 1, 194, 374, 487], [42, 6, 25, 880, 881], [1, 75, 259, 70, 199, 21, 2, 55, 13, 225, 43, 201, 12, 193, 18, 13, 428], [1, 5, 3, 50, 6, 4, 2, 48], [1, 7, 18, 35, 11, 70, 179, 8, 304, 57, 9, 23, 14, 2, 34], [10, 1, 59, 64, 56, 12, 61], [10, 1, 47, 17, 91, 616, 2, 76, 11, 105], [1, 7, 3, 220, 15, 220, 6, 4, 2, 152, 10, 1, 471, 157], [114, 1, 219, 369, 9, 630, 1, 5, 6, 15, 2, 48], [10, 1, 47, 17, 91, 195, 1, 7, 202, 159, 27, 141, 12, 772], [10, 1, 261, 99, 185, 1, 7, 18, 416, 2, 23], [2, 28, 11, 95, 30, 25, 1, 116, 3, 420], [2, 83, 55, 418, 3, 807], [1, 59, 58, 108, 31, 92, 1, 20, 268, 14, 61, 25, 141, 514, 3, 268, 324], [1, 72, 132, 33, 102, 10, 1, 72, 904, 905], [248, 220, 236, 57, 9, 699, 14, 9, 700, 14, 9, 136, 701], [1, 87, 196, 14, 126, 31, 1, 121, 7, 9, 440, 40, 180], [1, 16, 814, 2, 39], [1, 5, 60, 215, 171, 15, 2, 98], [10, 2, 1081, 1082, 1083, 1, 172, 3, 56, 496, 6], [1, 5, 3, 218, 58, 49, 1, 101, 310, 126], [1, 315, 20, 3, 50, 6, 4, 2, 78, 8, 1, 16, 586, 138, 27, 161, 22, 419, 107, 587, 13], [35, 37, 18, 3, 179, 1095, 57, 2, 1096, 21, 6, 276, 103, 22], [1, 5, 3, 105, 76, 114, 1, 433, 17, 60, 84, 138, 213, 107, 9, 184], [35, 11, 3, 50, 6, 4, 2, 331], [1, 86, 260, 208], [9, 959, 14, 2, 303, 162, 10, 1, 269, 960], [13, 19, 10, 1, 879, 2, 98], [2, 28, 11, 95, 30, 4, 399, 325], [1, 147, 306, 60, 479, 93, 1, 5, 4, 2, 78], [10, 1, 87, 12, 1124, 9, 1125, 1126, 1, 228, 22, 1, 16, 330, 9, 1127, 14, 9, 1128], [1, 5, 384, 355, 15, 2, 40], [1, 7, 6, 4, 2, 88, 25, 36, 209, 4, 9, 135, 112, 207, 1, 503], [1, 7, 23, 6, 10, 1, 261, 99, 185], [58, 49, 13, 1087, 1, 20, 1088, 15, 2, 566, 8, 527], [1, 5, 142, 29, 6], [1, 5, 3, 46, 41, 25, 273, 1062, 21, 2, 273, 528], [9, 122, 4, 2, 773, 73, 181, 4, 9, 84], [1, 5, 142, 235, 65], [1, 5, 6, 18, 279, 4, 2, 122], [1, 7, 151], [1, 16, 59, 131, 1, 5, 36, 41, 4, 2, 46], [2, 34, 19, 10, 1, 59], [9, 135, 49, 1, 646, 2, 647, 1, 68, 365, 91, 268, 8, 92, 1, 5, 36, 83, 446], [1, 216, 196, 14, 6, 747, 12, 20, 174, 31, 1, 121, 7, 9, 440, 23, 6], [2, 23, 11, 163, 45, 94], [278, 2, 38, 37, 511, 338, 184], [1, 16, 59, 131, 1, 5, 36, 41, 4, 2, 46], [120, 246, 214, 2, 34], [2, 28, 132, 754, 30, 8, 1, 5, 755, 3, 54, 14, 28, 323], [35, 11, 3, 50, 6, 4, 2, 331, 1, 5, 87, 12, 341, 6, 262, 126, 31, 13, 225, 43, 229], [1, 5, 3, 218, 723, 58, 108], [5, 142, 33, 8, 65], [1, 5, 142, 235, 65], [1, 7, 6, 89, 8, 1, 86, 43, 695, 13], [2, 46, 11, 163, 45, 94], [2, 118, 88, 411, 10, 1, 217, 265, 15, 2, 46], [102, 176, 9, 264, 11, 242, 4, 9, 383, 2, 38, 11, 132, 33], [1, 222, 2, 32, 57, 9, 348, 873, 213, 1, 5, 3, 874], [10, 1, 20, 30, 14, 592, 4, 9, 84, 2, 38, 37, 63, 85], [1, 68, 221, 8, 27, 243], [2, 69, 11, 80, 177, 30, 21, 115], [435, 9, 445, 14, 660], [144, 124, 140, 2, 33, 62, 197, 31, 121, 65, 58, 108], [58, 84, 10, 1, 153, 17, 2, 39, 37, 18, 1, 633, 15, 4, 199], [2, 68, 1129, 53, 1130, 1131, 370], [1, 20, 1, 88, 6, 10, 1, 104, 12, 146, 2, 206, 53, 2, 98], [2, 28, 11, 95, 10, 1, 72, 382, 13], [10, 1, 318, 2, 28, 1, 319, 299, 599, 14, 28, 320, 30, 4, 9, 318], [1, 5, 3, 235, 40], [1, 5, 36, 48, 41, 22, 257, 79, 188, 1, 110, 5, 3, 33, 53, 218, 53, 139, 342, 445, 113, 36, 963], [10, 1, 20, 17, 1, 7, 51, 8, 267, 77], [1, 7, 3, 54, 14, 6, 4, 9, 122], [1, 315, 20, 3, 42, 41, 25, 1, 101, 1, 829, 124, 830, 12, 831, 240, 832, 419, 107, 9, 833], [2, 28, 132, 754, 30, 8, 1, 5, 755, 3, 54, 14, 28, 323], [2, 855, 11, 45, 119], [1, 5, 142, 235, 65], [1, 7, 6, 4, 9, 34], [9, 122, 4, 2, 773, 73, 181, 4, 9, 84], [2, 34, 812, 8, 19, 10, 1, 362, 47, 17, 25, 469], [10, 1, 47, 17, 91, 195, 1, 154, 12, 7, 51, 8, 230, 274], [10, 1, 87, 12, 107, 198, 8, 269, 183, 285, 1, 228, 22, 1, 26, 121, 33], [1, 16, 47, 21, 60, 430, 71, 4, 2, 42], [27, 43, 165, 1, 7, 51], [10, 1, 47, 17, 1, 7, 18, 27, 141, 12, 267, 77, 748], [10, 1, 90, 56, 656, 1, 7, 81, 6, 4, 2, 145], [2, 46, 19, 24, 3, 54, 14, 111, 112], [1, 5, 87, 12, 262, 13, 31, 1, 16], [1, 7, 33], [1, 7, 3, 606, 4, 2, 78], [1, 26, 111, 112, 8, 618, 21, 88, 6], [10, 1, 170, 112, 1, 5, 109, 6], [1, 5, 3, 160, 4, 9, 40, 275, 2, 405, 8, 847, 271, 8, 13, 307, 43, 231], [1, 247, 208], [1, 7, 6, 4, 2, 491, 145, 25, 1, 509, 156, 1, 518, 117, 6, 1035, 31, 13, 203, 229], [1, 7, 857], [1, 7, 44, 6, 10, 1, 59, 3, 54], [2, 48, 41, 10, 27, 915, 12, 916], [1, 20, 707, 15, 2, 78, 21, 97, 349, 22, 20, 183, 449, 10, 1, 20, 168], [2, 152, 41, 15, 33, 8, 668, 204], [2, 28, 95, 30], [2, 44, 19, 24], [1, 5, 3, 550, 15, 2, 405, 22, 307, 43, 193], [1, 16, 106, 2, 206, 35, 11, 6, 4, 9, 88], [1, 7, 774, 4, 2, 78], [1, 7, 6, 4, 2, 23], [1, 75, 2, 38, 264, 11, 63, 1036], [2, 42, 129, 25, 1, 361, 139, 924, 361, 82], [1, 5, 3, 105, 76, 25, 2, 32, 26, 222, 156], [1, 52, 3, 50, 6, 4, 2, 42], [1, 5, 3, 171, 8, 13, 270, 63, 187], [1, 68, 2, 271, 283, 3, 86, 13, 257, 150, 243, 8, 9, 55, 11, 721, 8, 127], [1, 5, 3, 251, 41, 4, 2, 136, 23, 240, 286, 13, 470, 12, 106], [25, 309, 1, 5, 173, 93, 89, 14, 24], [2, 34, 37, 85, 8, 13, 775, 324, 9, 342, 108, 57, 9, 339, 14, 9, 157, 776, 35, 26, 3, 777, 12, 778, 15, 12], [1, 979, 2, 46, 8, 13, 166, 19], [1, 75, 259, 321, 4, 2, 182], [2, 122, 41, 158, 13, 11, 33], [50, 6, 8, 99, 233], [1, 5, 3, 277, 6, 89, 2, 39], [1, 86, 260, 106, 2, 39, 13, 19], [2, 48, 19, 8, 64, 344, 10, 1, 622, 2, 48, 11, 63, 181, 8, 623, 379, 624], [2, 152, 201, 12, 544, 202, 1, 79, 17, 53, 77, 157], [1, 20, 36, 48, 41, 10, 13, 11, 33], [35, 11, 36, 169, 548], [1, 26, 63, 461, 4, 155, 31, 92, 2, 38, 11, 71, 6], [1, 68, 221, 8, 27, 243], [2, 32, 19, 8, 1, 302, 9, 93, 4, 2, 69, 223, 302, 459, 4, 2, 353], [1, 5, 3, 50, 6, 4, 2, 136, 42], [13, 37, 18, 2, 44, 11, 141, 12, 766, 30, 14, 2, 38, 13, 19], [27, 120, 3, 56, 49, 305], [10, 1, 101, 390, 1, 319, 2, 76, 621], [35, 11, 3, 398, 93, 4, 2, 39], [2, 119, 387, 232, 131, 8, 64, 124, 18, 60, 62, 291, 197], [35, 11, 6, 4, 2, 122, 1, 86, 43, 306, 6], [1, 52, 3, 68, 22, 26, 737, 738, 31, 13, 11, 43, 232, 13, 11, 308, 739, 412, 8, 455], [2, 128, 29, 722, 10, 1, 106, 2, 98], [1, 7, 81, 6, 4, 9, 32], [1, 72, 376, 149, 33, 906, 1, 72, 1, 72, 132, 907, 102, 30, 4, 9, 908], [35, 11, 3, 391, 724, 4, 2, 250], [2, 40, 972, 15, 2, 23, 11, 97, 1, 110, 133, 82], [2, 145, 7, 237], [2, 32, 19, 24, 175], [1, 5, 3, 171, 15, 2, 40], [1, 7, 18, 9, 901, 902, 489, 8, 489], [144, 87, 343, 981, 31, 982, 86, 983, 24, 17], [1, 5, 410, 258, 4, 2, 925], [144, 437, 2, 28, 95, 30, 3, 54, 323], [1, 5, 3, 63, 187, 65], [1, 926, 140, 137, 927, 12, 928, 9, 929], [1, 7, 23, 6, 10, 1, 261, 99, 185], [2, 189, 130, 3, 1033, 493, 197, 256, 8, 9, 40, 178, 13, 11, 1034, 8, 168, 8, 13, 190, 83], [1, 7, 151, 18, 162, 53, 6], [1, 7, 6, 4, 2, 182, 21, 506], [25, 36, 56, 294, 108, 1, 5, 46, 41], [1, 7, 6, 4, 2, 250], [2, 55, 734, 17, 432], [1, 20, 1, 88, 6, 10, 1, 104, 12, 146, 2, 206, 53, 2, 98], [2, 69, 11, 80, 177, 30, 21, 115], [35, 11, 36, 1142, 265, 345, 2, 566, 1143, 57, 9, 128, 240, 1, 7, 58, 49, 1, 79, 30, 62, 3, 1144], [2, 189, 52, 167, 301, 439, 8, 13, 11, 179, 8, 9, 40, 89, 15, 167, 301, 11, 584, 8, 190, 83], [35, 11, 3, 97, 970, 4, 2, 40], [1, 5, 3, 54, 14, 34, 6, 158, 1, 79, 273], [1, 5, 3, 23, 6, 114, 1, 192, 15, 9, 1108], [1, 68, 2, 134, 3, 284, 14, 204, 256, 8, 205, 1, 394, 75, 1, 561, 13, 562, 13, 379, 563, 17], [1, 5, 3, 46, 41, 4, 688, 53, 10, 13, 37, 33, 82], [858, 364, 347, 315, 25, 36, 209, 53, 253], [1, 72, 71, 45, 51, 38, 11, 45, 1037], [2, 78, 160, 30, 21, 97, 115, 8, 478], [1, 26, 63, 461, 4, 155, 31, 92, 2, 38, 11, 71, 6], [10, 27, 545, 4, 9, 84, 1, 7, 215, 8, 5, 452], [144, 124, 140, 2, 33, 62, 197, 31, 121, 65, 58, 108], [25, 309, 1, 5, 173, 93, 89, 14, 24], [16, 404, 363], [625, 626, 346, 409, 627, 8, 2, 23, 154, 12, 41], [3, 210, 267, 4, 28], [10, 1, 583, 125, 1, 7, 77], [2, 189, 130, 3, 1033, 493, 197, 256, 8, 9, 40, 178, 13, 11, 1034, 8, 168, 8, 13, 190, 83], [1, 910, 492, 911, 31, 211, 16, 466, 9, 128, 352, 912, 2, 28, 23], [10, 1, 79, 12, 148, 1, 72, 71, 33], [2, 128, 29, 722, 10, 1, 106, 2, 98], [1, 5, 142, 29, 6], [2, 334, 26, 876, 123, 125, 877, 8, 92, 125, 134, 11, 119, 97, 8, 179, 8, 9, 55, 11, 308, 878], [10, 1, 87, 12, 1124, 9, 1125, 1126, 1, 228, 22, 1, 16, 330, 9, 1127, 14, 9, 1128], [1, 453, 100, 3, 463, 1, 5, 36, 127, 55], [200, 12, 987, 2, 40, 58, 988], [2, 918, 919, 920, 921, 922, 1, 7, 237, 14, 923, 298], [58, 49, 1, 116, 3, 254, 61, 1, 154, 263], [1, 7, 6, 4, 2, 88, 25, 36, 209, 4, 9, 135, 112, 207, 1, 503], [42, 6, 25, 880, 881], [64, 56, 12, 100, 185], [1, 7, 81, 6, 4, 9, 32], [1, 52, 3, 50, 6, 4, 2, 42], [35, 11, 3, 50, 6, 4, 2, 48, 158, 1, 90, 60], [1, 147, 306, 60, 479, 93, 1, 5, 4, 2, 78], [2, 55, 734, 17, 432], [1, 5, 6, 4, 2, 882, 8, 2, 42, 18, 70, 515, 13], [1, 7, 254, 398, 10, 1, 295, 66, 810, 123, 187, 93], [1, 5, 36, 600], [1, 16, 61, 67, 14, 65], [1, 5, 384, 355, 15, 2, 40], [1, 322, 52, 139, 66, 180, 1073, 2, 135, 1074, 10, 80, 14, 3, 374, 2, 23, 130, 1075, 4, 1076], [1, 7, 51, 10, 1, 194, 374, 487], [2, 334, 52, 125, 182, 439, 8, 239, 14, 125, 48, 989, 11, 990, 97, 8, 173, 168], [25, 238, 1, 5, 117, 6, 371, 2, 46], [2, 48, 11, 556], [1, 65, 3, 54, 10, 1, 729, 730, 138, 11, 199, 21, 2, 244], [2, 34, 19, 10, 1, 170, 532], [1, 5, 117, 210, 313, 10, 27, 233, 143, 9, 164], [25, 3, 558, 1, 7, 70, 215, 4, 24], [2, 29, 19, 10, 1, 104, 12, 358, 70, 573, 2, 32], [1, 5, 3, 171, 8, 13, 270, 63, 187], [10, 27, 161, 553, 1, 5, 6, 371, 2, 40], [2, 759, 37, 63, 151, 202, 176, 13, 19, 9, 324, 1, 7, 4, 2, 32, 11, 760, 8, 10, 1, 75, 460, 2, 160, 17, 1, 585, 21, 761], [10, 1, 59, 17, 3, 669, 14, 157, 2, 128, 34, 19], [1, 5, 410, 258, 4, 2, 925], [2, 65, 11, 63, 99, 8, 1, 5, 332], [1, 7, 6, 4, 2, 250], [1, 7, 6, 4, 2, 34], [1, 7, 6, 4, 2, 23], [2, 29, 11, 163, 24], [1, 5, 142, 29, 6], [192, 386, 11, 609, 18, 610], [1, 26, 779, 123, 780, 8, 1, 7, 51], [1, 130, 66, 10, 1, 426, 538], [2, 334, 52, 125, 601, 602, 8, 13, 603, 36, 283, 14, 40, 4, 239, 14, 125, 604, 22, 11, 92, 501, 8, 308], [1, 7, 3, 81, 6, 4, 2, 29, 10, 1, 104, 12, 354, 70, 99], [10, 1, 735, 2, 186, 12, 736, 1, 5, 105, 76], [1, 90, 43, 133, 82, 1, 7, 33], [9, 663, 664, 14, 2, 383, 11, 177, 8, 7, 45, 33], [2, 29, 96, 764, 6], [454, 930, 12, 245, 128, 53, 74, 931, 123, 214, 9, 368, 38], [1, 7, 3, 335, 4, 2, 152, 10, 1, 59], [58, 49, 1, 494, 2, 28, 35, 73, 45, 492, 28, 4, 2, 494], [2, 78, 66, 442, 30, 8, 322, 612, 17], [10, 1, 170, 112, 1, 5, 109, 6], [2, 28, 11, 95, 30, 25, 1, 116, 3, 420], [10, 1, 503, 112, 1, 1114, 2, 29], [1, 72, 132, 33, 102, 10, 1, 72, 904, 905], [1, 5, 3, 56, 109, 6, 114, 1, 219, 12, 9, 191], [10, 1, 444, 2, 206, 35, 11, 6, 4, 34, 88], [1, 5, 3, 81, 42, 41, 8, 1, 16, 101, 139, 670], [1, 147, 208, 67, 14, 60, 251, 41, 345, 2, 74, 29], [1, 7, 3, 6, 4, 2, 23, 10, 1, 272, 15, 3, 1029, 62, 373], [2, 334, 52, 125, 601, 602, 8, 13, 603, 36, 283, 14, 40, 4, 239, 14, 125, 604, 22, 11, 92, 501, 8, 308], [1, 5, 117, 6, 10, 27, 238, 178, 2, 152], [35, 73, 293, 14, 551, 15, 2, 552, 4, 9, 84], [10, 1, 170, 155, 1, 5, 117, 173, 93, 4, 2, 535], [1, 5, 3, 251, 41, 4, 2, 42, 13, 226, 344, 25, 1, 101], [1, 16, 330, 30, 14, 2, 48, 653, 1, 7, 18, 35, 11, 70, 4, 13, 431, 654], [1, 86, 260, 106, 2, 39, 13, 19], [13, 37, 18, 2, 44, 11, 141, 12, 766, 30, 14, 2, 38, 13, 19], [27, 120, 3, 56, 49, 305], [1, 5, 276, 311, 17, 8, 77, 2, 23], [1, 75, 259, 321, 4, 2, 182], [102, 176, 9, 264, 11, 242, 4, 9, 383, 2, 38, 11, 132, 33], [2, 66, 11, 166, 567, 64, 45, 417], [2, 119, 387, 232, 131, 8, 64, 124, 18, 60, 62, 291, 197], [2, 32, 19, 4, 9, 23, 8, 9, 6, 543, 80, 108], [1, 5, 3, 171, 8, 13, 270, 63, 187], [2, 44, 37, 18, 64, 141, 12, 572], [11, 115, 3, 40, 236], [25, 111, 351, 1, 52, 3, 277, 93, 231, 12, 2, 39], [2, 28, 11, 95, 30, 4, 577], [2, 29, 19, 10, 1, 104, 12, 358, 70, 573, 2, 32], [1, 979, 2, 46, 8, 13, 166, 19], [1, 5, 3, 473, 15, 9, 23, 14, 2, 134, 22, 113, 257, 79, 188], [1, 5, 3, 68, 22, 11, 97, 8, 179], [2, 40, 11, 63, 235, 8, 531], [1, 5, 3, 251, 41, 4, 2, 136, 23, 240, 286, 13, 470, 12, 106], [1, 5, 3, 50, 6, 4, 2, 136, 42], [102, 159, 27, 36, 683, 2, 69, 684, 416, 30, 4, 115], [1, 5, 212, 32, 6, 8, 10, 1, 20, 13, 9, 230, 958, 24], [1, 5, 3, 6, 22, 481, 17, 103, 2, 128, 869, 12, 2, 396, 397, 13, 11, 57, 64, 475, 10, 1, 870], [27, 120, 3, 56, 49, 305], [1, 75, 259, 70, 199, 21, 2, 55, 13, 225, 43, 201, 12, 193, 18, 13, 428], [10, 1, 47, 17, 91, 195, 1, 7, 202, 159, 27, 141, 12, 772], [2, 44, 11, 682, 289, 8, 13, 591, 24], [1, 5, 3, 251, 41, 4, 2, 32], [1, 16, 261, 287, 1, 5, 3, 6, 4, 2, 29], [1, 59, 58, 108, 31, 92, 1, 20, 268, 14, 61, 25, 141, 514, 3, 268, 324], [1, 7, 32, 41], [1, 507, 123, 508, 3, 517, 204, 256, 8, 60, 49, 143, 999, 2, 182, 1000, 1001, 8, 181], [167, 83, 55, 26, 1009, 12, 1010], [1, 5, 36, 127, 55, 4, 2, 98], [2, 38, 37, 85, 8, 1, 87, 12, 194, 13, 834, 31, 13, 835, 6, 24], [1, 7, 63, 85, 4, 2, 38], [1, 5, 757, 4, 2, 29], [1, 7, 565, 10, 1, 100, 2, 28, 95, 30], [13, 11, 56, 12, 61, 10, 1, 72, 4, 9, 708, 709, 710, 82], [27, 120, 3, 56, 49, 343, 67, 9, 628, 73, 80, 629], [1, 7, 3, 399, 496, 6, 25, 1, 326, 17, 21, 2, 403], [2, 32, 226, 51, 10, 1, 104, 12, 20, 17], [2, 189, 52, 167, 301, 439, 8, 13, 11, 179, 8, 9, 40, 89, 15, 167, 301, 11, 584, 8, 190, 83], [1, 213, 43, 253, 67, 14, 2, 34, 6], [1, 5, 246, 4, 233, 4, 671, 672], [2, 598, 96, 65, 80, 164, 252, 16, 148], [1, 5, 3, 23, 6, 114, 1, 954, 955, 495, 356], [1, 7, 18, 70, 11, 479, 2, 244], [1, 7, 6, 4, 9, 34], [2, 118, 88, 411, 10, 1, 217, 265, 15, 2, 46], [1, 132, 7, 18, 1, 5, 1079, 311, 102, 176, 1, 110, 5, 2, 1080], [4, 1084, 1, 52, 3, 54, 14, 66], [1, 5, 3, 97, 171, 22, 11, 329, 15, 2, 40], [1, 5, 6, 18, 279, 4, 2, 122], [2, 46, 52, 124, 224, 114, 135, 713], [1, 1015, 150, 1016, 53, 1017, 2, 1018, 1019, 149, 33, 1, 26], [897, 173, 898, 899, 23, 21, 56, 900, 487], [1, 7, 224, 15, 2, 828], [2, 28, 132, 754, 30, 8, 1, 5, 755, 3, 54, 14, 28, 323], [2, 39, 96, 124, 119, 114, 9, 504], [1, 5, 3, 218, 723, 58, 108], [1, 5, 3, 1038, 8, 1, 518, 1039, 31, 13, 1040, 229], [2, 23, 19, 3, 54, 10, 1, 146], [2, 78, 19, 10, 1, 79, 12, 116, 3, 61], [5, 142, 33, 8, 65], [2, 1097, 11, 1098, 240, 1099, 1, 5, 36, 83, 55], [1, 7, 151], [27, 63, 376, 22, 974, 79, 975, 976, 72, 1, 63, 977], [1, 7, 18, 1, 86, 260, 208, 903, 1, 20, 435, 4, 2, 244, 30], [2, 855, 11, 45, 119], [2, 38, 37, 85, 205, 1, 101, 3, 54, 82], [2, 118, 11, 163, 24], [1, 68, 2, 46, 57, 9, 327, 8, 13, 442, 127, 58, 108, 10, 1, 59, 15, 13], [2, 44, 19, 137, 27, 151, 82], [480, 190, 18, 714, 4, 3, 715, 297], [2, 38, 37, 18, 64, 4, 3, 658], [144, 87, 343, 981, 31, 982, 86, 983, 24, 17], [1078, 62, 9, 353], [2, 78, 19, 10, 1, 79, 12, 116, 3, 61], [2, 44, 19, 137, 27, 151, 82], [480, 190, 18, 714, 4, 3, 715, 297], [1, 7, 6, 4, 9, 34, 10, 238], [1, 5, 3, 97, 171, 22, 11, 329, 15, 2, 40], [1, 7, 18, 765, 192, 4, 168, 462], [2, 38, 37, 85, 205, 1, 101, 3, 54, 82], [2, 38, 129, 15, 9, 89, 275, 2, 593, 8, 249], [2, 118, 88, 411, 10, 1, 217, 265, 15, 2, 46], [27, 43, 305, 131, 1, 5, 180, 21, 2, 48], [1, 7, 781, 659], [35, 11, 3, 50, 6, 4, 2, 331, 1, 5, 87, 12, 341, 6, 262, 126, 31, 13, 225, 43, 229], [1, 5, 3, 6, 4, 2, 32], [1, 5, 3, 312, 4, 2, 122], [1, 5, 3, 56, 109, 6, 114, 1, 219, 12, 9, 191], [1, 110, 5, 296, 782, 14, 783, 21, 2, 337], [1, 26, 317, 21, 725, 1, 16, 61, 726], [9, 297, 178, 2, 44, 203, 7, 165], [1, 20, 3, 34, 6, 10, 1, 59, 3, 54], [10, 1, 47, 17, 91, 195, 1, 154, 12, 7, 51, 8, 230, 274], [1, 130, 66, 10, 1, 426, 538], [1, 702, 5, 3, 187, 65, 10, 1, 20, 703], [1, 5, 3, 39, 6, 10, 1, 272, 4, 212, 14, 2, 422], [142, 6, 4, 9, 360, 74, 350, 14, 78, 8, 375, 5, 6, 12, 23], [1, 498, 12, 524, 31, 1, 20, 3, 210, 932, 4, 2, 136, 23, 10, 1, 933, 140], [1, 5, 3, 6, 4, 2, 1020, 88], [1, 52, 36, 504, 8, 2, 55, 26, 127, 10, 1, 1041, 12, 512], [1, 110, 90, 287, 57, 474, 8, 121, 1, 7, 875], [1, 7, 63, 56, 12, 208], [2, 136, 23, 19, 31, 13, 698, 176, 1, 425, 13], [1, 7, 3, 173, 93, 4, 2, 934, 460, 935, 936, 25, 519, 937], [278, 10, 13, 11, 33, 513, 2, 69, 19, 333, 178, 9, 115, 22, 73, 1042, 12, 1043], [1, 16, 47, 17, 53, 272, 77, 1, 5, 3, 6, 4, 2, 23, 22, 784, 24], [10, 1, 106, 15, 2, 29, 6, 938, 77, 2, 98], [1, 7, 3, 81, 6, 4, 2, 29, 10, 1, 104, 12, 354, 70, 99], [1, 26, 779, 123, 780, 8, 1, 7, 51], [2, 28, 387, 131], [1, 5, 3, 6, 4, 2, 42], [1, 5, 3, 81, 42, 41, 8, 1, 16, 101, 139, 670], [2, 673, 38, 11, 674], [10, 1, 47, 17, 91, 195, 1, 154, 12, 7, 51, 8, 230, 274], [1, 7, 3, 335, 4, 2, 152, 10, 1, 59], [35, 11, 3, 50, 6, 4, 2, 331], [1, 86, 260, 208], [1, 926, 140, 137, 927, 12, 928, 9, 929], [10, 1, 153, 17, 4, 9, 84, 1, 7, 3, 335, 4, 2, 38], [1, 20, 36, 48, 41, 10, 13, 11, 33], [1, 5, 3, 81, 6, 4, 2, 46, 18, 665, 6, 21, 666, 2, 6, 667], [1, 7, 81, 6, 4, 9, 32], [1, 7, 6, 4, 2, 250], [1, 447, 293, 8, 293, 14, 785, 12, 133, 9, 786, 184, 62, 2, 42, 41], [1, 5, 3, 28, 639], [1, 192, 3, 454, 4, 2, 733, 8, 249], [27, 429, 103, 50, 65, 477, 123, 605], [1, 5, 648, 21, 2, 40], [488, 26, 752, 12, 5, 36, 127, 55], [10, 1, 75, 14, 2, 787, 1, 7, 6], [35, 453, 107, 70, 199, 21, 2, 716, 717, 1, 5, 12, 269, 718, 102, 15, 9, 719, 204, 2, 516, 73, 720], [1, 7, 3, 50, 6, 4, 2, 118, 88, 10, 1, 47], [278, 1, 65, 67, 27, 3, 914], [2, 46, 19, 24, 3, 54, 14, 111, 112], [2, 28, 11, 95, 10, 1, 72, 382, 13], [9, 6, 4, 2, 48, 11, 427], [248, 867, 6], [2, 42, 129, 25, 1, 361, 139, 924, 361, 82], [2, 152, 41, 15, 33, 8, 668, 204], [1, 52, 3, 33, 9, 135, 49, 1, 507, 123, 508, 8, 1, 121, 5, 3, 258, 4, 2, 182], [2, 40, 11, 314], [1, 7, 6, 4, 2, 128, 29, 25, 9, 351, 207], [2, 420, 818, 11, 296, 14, 28, 58, 49], [1, 5, 3, 6, 4, 2, 42], [10, 1, 47, 17, 91, 195, 1, 154, 12, 7, 51, 8, 230, 274], [1, 7, 3, 81, 6, 4, 2, 29, 10, 1, 104, 12, 354, 70, 99], [278, 10, 13, 11, 33, 513, 2, 69, 19, 333, 178, 9, 115, 22, 73, 1042, 12, 1043], [1, 172, 2, 44, 19, 10, 1, 509, 62, 234, 895], [1, 110, 5, 296, 782, 14, 783, 21, 2, 337], [2, 39, 11, 788, 24, 1, 16, 148, 789, 14, 13], [2, 42, 129, 25, 1, 361, 139, 924, 361, 82], [10, 1, 106, 2, 29, 64, 18, 860, 11, 290, 861, 227, 2, 29], [1, 5, 3, 28, 639], [1, 7, 3, 6, 4, 2, 39], [1, 7, 6, 4, 2, 23], [1, 75, 2, 38, 264, 11, 63, 1036], [1, 5, 3, 6, 4, 2, 88], [1, 16, 20, 3, 403, 67, 14, 2, 66], [10, 1, 79, 12, 47, 2, 32, 364, 1044], [1, 26, 576, 4, 9, 32, 111, 241, 135, 164], [248, 220, 236, 57, 9, 699, 14, 9, 700, 14, 9, 136, 701], [1, 5, 115, 4, 349, 234, 21, 3, 54, 14, 336, 15, 2, 69], [1, 5, 66, 4, 2, 69, 8, 342, 1045, 4, 2, 806, 18, 314], [278, 10, 13, 11, 33, 513, 2, 69, 19, 333, 178, 9, 115, 22, 73, 1042, 12, 1043], [1, 5, 105, 76, 25, 1, 216, 3, 199, 642], [1, 5, 210, 6, 4, 2, 44], [1, 20, 3, 34, 6, 10, 1, 59, 3, 54], [1, 5, 169, 221, 143, 9, 241, 207], [2, 39, 11, 788, 24, 1, 16, 148, 789, 14, 13], [2, 29, 109, 19, 10, 1, 104, 12, 358, 17], [1, 5, 3, 105, 76, 143, 2, 288, 590, 4, 9, 327, 82], [1, 5, 3, 6, 4, 2, 42], [2, 152, 162, 45, 187, 12, 59, 22, 1, 856, 469, 183, 346, 1, 428], [1, 90, 43, 7, 174, 4, 2, 145], [167, 83, 55, 26, 1009, 12, 1010], [1, 216, 12, 5, 66, 10, 1, 26, 817, 495, 356], [99, 61, 21, 939], [443, 177, 8, 55, 2, 206, 175, 9, 55, 11, 45, 813], [1, 16, 100, 131], [1, 5, 3, 312, 4, 2, 122], [1, 1063, 2, 66], [2, 23, 130, 169, 137, 1, 26, 1060, 57, 9, 191], [1, 7, 3, 81, 6, 4, 2, 29, 10, 1, 104, 12, 354, 70, 99], [27, 43, 71, 165, 1, 16, 116, 2, 61], [1, 52, 196, 14, 253, 156, 45, 1, 7, 50, 109, 311], [1, 147, 208, 67, 14, 60, 251, 41, 345, 2, 74, 29], [2, 152, 1136, 128, 345, 9, 34, 1137, 8, 162, 10, 1, 217, 472, 15, 365], [10, 1, 26, 966, 2, 28, 13, 26, 95, 30, 967], [2, 145, 4, 2, 136, 23, 73, 224], [1, 7, 6, 10, 1066, 1067, 1068], [1, 68, 2, 134, 3, 284, 14, 204, 256, 8, 205, 1, 394, 75, 1, 561, 13, 562, 13, 379, 563, 17], [1, 5, 757, 4, 2, 29], [2, 189, 52, 167, 301, 439, 8, 13, 11, 179, 8, 9, 40, 89, 15, 167, 301, 11, 584, 8, 190, 83], [192, 386, 11, 609, 18, 610], [1, 26, 317, 21, 725, 1, 16, 61, 726], [1, 5, 3, 6, 4, 2, 1020, 88], [9, 663, 664, 14, 2, 383, 11, 177, 8, 7, 45, 33], [1, 86, 547, 150, 263], [1, 5, 29, 6, 25, 161, 139, 474, 298], [1, 5, 3, 54, 14, 332, 10, 1, 65], [10, 1, 47, 17, 91, 195, 1, 7, 202, 159, 27, 141, 12, 772], [1, 5, 6, 4, 2, 882, 8, 2, 42, 18, 70, 515, 13], [2, 334, 26, 876, 123, 125, 877, 8, 92, 125, 134, 11, 119, 97, 8, 179, 8, 9, 55, 11, 308, 878], [42, 6, 25, 880, 881], [10, 1, 59, 64, 56, 12, 61], [10, 1, 170, 112, 1, 5, 88, 6], [2, 264, 940, 8, 2, 38, 20, 941], [1, 7, 45, 119, 4, 2, 42, 297], [10, 1, 20, 17, 1, 100, 2, 40, 675], [1, 65, 3, 54, 10, 1, 729, 730, 138, 11, 199, 21, 2, 244], [35, 453, 107, 70, 199, 21, 2, 716, 717, 1, 5, 12, 269, 718, 102, 15, 9, 719, 204, 2, 516, 73, 720], [1, 5, 115, 15, 2, 23], [10, 1, 87, 12, 116, 942, 176, 2, 28, 1, 228, 22, 13, 11, 95, 30], [1, 192, 227, 3, 767, 137, 1, 26, 768, 13, 8, 1, 5, 3, 769, 14, 443, 497, 4, 2, 74, 353, 1, 75, 13, 11, 770, 771], [1, 7, 385], [1, 113, 16, 201, 12, 20, 198, 102, 10, 753, 178, 24, 11, 198, 1, 132, 7, 33], [1, 437, 36, 676, 677, 4, 2, 76, 10, 1, 104, 12, 245, 57, 185, 17, 231], [27, 43, 71, 165, 1, 20, 448, 55], [1, 7, 6, 4, 2, 491, 145, 25, 1, 509, 156, 1, 518, 117, 6, 1035, 31, 13, 203, 229], [9, 135, 49, 1, 646, 2, 647, 1, 68, 365, 91, 268, 8, 92, 1, 5, 36, 83, 446], [2, 23, 19, 24, 8, 1, 16, 146, 13, 53, 59], [1, 7, 44, 6, 10, 1, 59, 3, 54], [2, 292, 96, 3, 500, 15, 167, 301, 22, 488, 159, 26, 33, 119, 31, 92, 13, 96, 177, 127, 8, 1027, 321, 80, 108], [1, 52, 36, 504, 8, 2, 55, 26, 127, 10, 1, 1041, 12, 512], [1, 26, 1100, 1101, 8, 347, 5, 105, 76], [1, 7, 109, 6, 58, 49, 1, 194, 36, 1046, 266], [1, 498, 12, 524, 31, 1, 20, 3, 210, 932, 4, 2, 136, 23, 10, 1, 933, 140], [1, 5, 3, 218, 58, 49, 1, 101, 310, 126], [704, 57, 212, 8, 705, 14, 706], [58, 49, 1, 494, 2, 28, 35, 73, 45, 492, 28, 4, 2, 494], [1, 359, 340, 288, 943, 8, 1, 944, 1, 945, 91, 94, 462, 227, 2, 413, 67, 60, 946, 11, 456, 24, 92], [1, 26, 1100, 1101, 8, 347, 5, 105, 76], [1, 5, 36, 127, 55, 4, 2, 98], [2, 23, 19, 24, 3, 54], [2, 38, 37, 85, 25, 2, 362, 108, 4, 9, 191, 82], [10, 1, 170, 112, 1, 5, 88, 6], [1, 68, 2, 134, 3, 284, 14, 197, 256, 8, 102, 159, 1, 404, 316, 36, 588, 126, 64, 43, 589, 174], [2, 502, 37, 18, 13, 11, 971, 220, 15, 220, 10, 1, 59], [1, 7, 6, 4, 2, 34, 10, 1, 471, 9, 157], [1, 7, 6, 10, 1, 75, 14, 125], [35, 11, 66, 15, 2, 69], [1, 5, 3, 46, 41, 4, 688, 53, 10, 13, 37, 33, 82], [35, 11, 36, 1142, 265, 345, 2, 566, 1143, 57, 9, 128, 240, 1, 7, 58, 49, 1, 79, 30, 62, 3, 1144], [1, 5, 3, 23, 6, 114, 1, 192, 15, 9, 1108], [64, 56, 12, 47, 17, 8, 27, 214, 63, 1072], [2, 39, 19, 24, 8, 1, 16, 245, 77, 53, 17], [2, 1109, 68, 167, 46, 15, 3, 1110, 4, 9, 1111, 8, 92, 9, 46, 11, 1112, 1113, 8, 11, 501], [1, 7, 18, 9, 525, 11, 366], [1, 302, 3, 54, 14, 2, 28], [858, 364, 347, 315, 25, 36, 209, 53, 253], [1, 7, 162, 54, 14, 6, 4, 2, 44], [1, 7, 836, 44, 837, 21, 526], [2, 189, 1064, 3, 1065, 8, 13, 326, 127, 514, 12, 473, 140, 8, 92, 190, 18, 13, 11, 83], [10, 1, 153, 17, 4, 9, 84, 1, 7, 51], [2, 46, 52, 124, 224, 114, 135, 713], [1, 1015, 150, 1016, 53, 1017, 2, 1018, 1019, 149, 33, 1, 26], [2, 1097, 11, 1098, 240, 1099, 1, 5, 36, 83, 55], [2, 244, 7, 99, 18, 211, 73, 457, 21, 332], [1, 5, 115, 15, 2, 23], [1, 5, 3, 1038, 8, 1, 518, 1039, 31, 13, 1040, 229], [144, 132, 124, 63, 461, 31, 92, 1, 113, 110, 5, 9, 438, 53, 510, 12, 79, 62, 102, 3, 268, 59], [2, 38, 129, 15, 9, 89, 275, 2, 593, 8, 249], [1, 7, 18, 765, 192, 4, 168, 462], [1, 7, 3, 81, 6, 4, 2, 29, 88, 8, 13, 225, 43, 79, 188], [5, 142, 33, 8, 65], [1, 5, 3, 180, 4, 2, 844, 48, 447, 123, 448], [10, 1, 47, 1, 7, 51, 1, 90, 43, 133, 82], [2, 122, 7, 179], [2, 39, 96, 124, 119, 114, 9, 504], [1, 5, 3, 50, 6, 8, 482, 619, 4, 2, 118, 88, 10, 1, 104, 12, 47, 15, 13, 8, 59], [27, 43, 71, 165, 1, 20, 448, 55], [27, 169, 1, 16, 170, 155], [1, 52, 3, 6, 4, 2, 34, 10, 1, 26, 288], [1, 5, 228, 117, 865, 4, 2, 40, 8, 87, 12, 866, 126, 31, 13, 203, 20, 174], [25, 36, 56, 294, 108, 1, 5, 46, 41], [1, 7, 18, 1, 86, 260, 208, 903, 1, 20, 435, 4, 2, 244, 30], [58, 49, 1, 194, 36, 266, 1, 172, 51], [1, 7, 224, 15, 2, 828], [2, 32, 19, 24, 175], [58, 49, 13, 1087, 1, 20, 1088, 15, 2, 566, 8, 527], [2, 46, 52, 124, 224, 114, 135, 713], [1, 5, 3, 1038, 8, 1, 518, 1039, 31, 13, 1040, 229], [1, 5, 3, 218, 723, 58, 108], [10, 1, 26, 635, 1, 52, 36, 209, 103, 155, 4, 2, 34], [1, 7, 51, 25, 142, 680], [731, 2, 44, 19, 24, 1, 87, 12, 107, 732, 8, 1, 16], [858, 364, 347, 315, 25, 36, 209, 53, 253], [2, 98, 19, 10, 1, 425], [1, 216, 12, 5, 66, 10, 1, 26, 817, 495, 356], [1, 5, 36, 255, 6, 1, 147, 790], [1, 498, 12, 59, 8, 107, 513, 31, 9, 957, 14, 2, 303, 20, 119, 45, 195], [52, 1, 1002, 15, 3, 451, 13, 1003, 5, 162, 45, 94, 18, 60, 1004, 1005, 4, 2, 1006], [10, 1, 503, 112, 1, 1114, 2, 29], [10, 1, 47, 17, 91, 195, 1, 154, 12, 7, 51, 8, 230, 274], [1, 7, 88, 6, 58, 49, 1, 106], [2, 189, 1064, 3, 1065, 8, 13, 326, 127, 514, 12, 473, 140, 8, 92, 190, 18, 13, 11, 83], [1, 5, 3, 6, 255], [9, 883, 884, 45, 885, 143, 9, 886, 15, 2, 118, 22, 1, 147, 47, 290, 887, 15, 9, 505], [1, 147, 208, 67, 14, 60, 251, 41, 345, 2, 74, 29], [454, 930, 12, 245, 128, 53, 74, 931, 123, 214, 9, 368, 38], [142, 6, 4, 9, 360, 74, 350, 14, 78, 8, 375, 5, 6, 12, 23], [1, 52, 196, 14, 253, 156, 45, 1, 7, 50, 109, 311], [35, 11, 3, 97, 970, 4, 2, 40], [10, 1, 26, 966, 2, 28, 13, 26, 95, 30, 967], [35, 11, 3, 50, 6, 4, 2, 331, 1, 5, 87, 12, 341, 6, 262, 126, 31, 13, 225, 43, 229], [1, 5, 60, 215, 171, 15, 2, 98], [1, 315, 20, 3, 50, 6, 4, 2, 78, 8, 1, 16, 586, 138, 27, 161, 22, 419, 107, 587, 13], [2, 83, 55, 418, 3, 807], [13, 37, 18, 441, 497, 3, 357, 369, 2, 29], [10, 1, 261, 99, 185, 1, 7, 18, 416, 2, 23], [2, 152, 1136, 128, 345, 9, 34, 1137, 8, 162, 10, 1, 217, 472, 15, 365], [2, 134, 127, 55, 130, 83], [82, 11, 2, 29, 224, 10, 1, 104, 12, 1007, 17, 9, 1008], [1, 16, 166, 1119, 15, 2, 74, 46, 67, 2, 1120, 1121, 14, 9, 118, 74, 24, 21, 1122, 311], [1, 5, 3, 218, 58, 49, 1, 101, 310, 126], [1, 147, 20, 198, 282, 415, 149, 94, 1, 661, 17, 53, 149, 242, 1, 217, 9, 662, 15], [2, 759, 37, 63, 151, 202, 176, 13, 19, 9, 324, 1, 7, 4, 2, 32, 11, 760, 8, 10, 1, 75, 460, 2, 160, 17, 1, 585, 21, 761], [4, 9, 84, 2, 578, 11, 280], [2, 29, 19, 10, 1, 104, 12, 358, 70, 573, 2, 32], [2, 119, 387, 232, 131, 8, 64, 124, 18, 60, 62, 291, 197], [2, 32, 19, 4, 9, 23, 8, 9, 6, 543, 80, 108], [2, 48, 11, 556], [11, 115, 3, 40, 236], [2, 34, 37, 85, 8, 13, 775, 324, 9, 342, 108, 57, 9, 339, 14, 9, 157, 776, 35, 26, 3, 777, 12, 778, 15, 12], [1, 86, 260, 208], [2, 32, 11, 366, 10, 1, 20, 17], [1102, 234, 9, 368, 367], [13, 19, 10, 1, 389, 2, 98, 17], [1, 447, 293, 8, 293, 14, 785, 12, 133, 9, 786, 184, 62, 2, 42, 41], [2, 38, 37, 85, 25, 2, 362, 108, 4, 9, 191, 82], [2, 119, 190, 18, 947, 43, 232, 131], [1, 979, 2, 46, 8, 13, 166, 19], [1, 7, 51, 158, 1, 47, 17], [731, 2, 44, 19, 24, 1, 87, 12, 107, 732, 8, 1, 16], [2, 991, 359, 224, 25, 1, 219, 12, 9, 191], [1, 5, 3, 105, 76, 114, 1, 433, 17, 60, 84, 138, 213, 107, 9, 184], [1, 5, 246, 4, 233, 4, 671, 672], [248, 220, 236, 57, 9, 699, 14, 9, 700, 14, 9, 136, 701], [1, 26, 111, 348, 156, 1, 5, 450, 118], [2, 32, 226, 51, 10, 1, 104, 12, 20, 17], [35, 6, 4, 2, 46], [1, 7, 3, 50, 6, 4, 2, 118, 88, 10, 1, 47], [1, 7, 33], [1, 5, 3, 105, 76, 114, 1, 433, 17, 60, 84, 138, 213, 107, 9, 184], [2, 34, 812, 8, 19, 10, 1, 362, 47, 17, 25, 469], [278, 2, 38, 37, 511, 338, 184], [2, 44, 19, 137, 27, 151, 82], [1, 5, 3, 56, 6, 4, 2, 42], [1, 5, 3, 218, 723, 58, 108], [5, 142, 33, 8, 65], [1, 20, 299, 349, 14, 1011, 115, 15, 2, 23, 8, 211, 162], [1, 7, 151], [2, 1097, 11, 1098, 240, 1099, 1, 5, 36, 83, 55], [11, 35, 3, 711, 62, 66], [120, 246, 214, 2, 34], [1, 7, 33, 10, 9, 164, 948], [2, 78, 19, 10, 1, 79, 12, 116, 3, 61], [2, 189, 52, 3, 850, 851, 8, 9, 852, 853, 68, 9, 89, 14, 167, 854, 8, 92, 13, 307, 43, 193], [1, 5, 3, 1038, 8, 1, 518, 1039, 31, 13, 1040, 229], [35, 11, 3, 50, 6, 4, 2, 331, 1, 5, 87, 12, 341, 6, 262, 126, 31, 13, 225, 43, 229], [144, 132, 124, 63, 461, 31, 92, 1, 113, 110, 5, 9, 438, 53, 510, 12, 79, 62, 102, 3, 268, 59], [1, 16, 59, 2, 34, 19, 24], [1, 7, 22, 11, 81, 6, 4, 2, 74, 29], [2, 28, 132, 754, 30, 8, 1, 5, 755, 3, 54, 14, 28, 323], [1, 5, 3, 180, 4, 2, 844, 48, 447, 123, 448], [897, 173, 898, 899, 23, 21, 56, 900, 487], [1, 5, 142, 235, 65], [1, 5, 6, 18, 279, 4, 2, 122], [1, 7, 18, 765, 192, 4, 168, 462], [58, 49, 1, 194, 36, 266, 1, 172, 51], [1, 5, 228, 117, 865, 4, 2, 40, 8, 87, 12, 866, 126, 31, 13, 203, 20, 174], [2, 38, 37, 18, 64, 4, 3, 658], [1, 132, 7, 18, 1, 5, 1079, 311, 102, 176, 1, 110, 5, 2, 1080], [1, 5, 246, 4, 233, 4, 671, 672], [9, 142, 6, 4, 9, 42, 1, 7], [1, 7, 3, 50, 6, 4, 2, 32, 10, 1, 75, 91, 56], [1, 5, 3, 46, 41, 205, 1, 110, 59, 3, 54], [248, 236, 14, 28, 400, 8, 401, 402], [1, 110, 5, 313, 340, 4, 61, 31, 30, 61, 11, 45, 99], [1, 16, 59, 67, 1, 5, 3, 81, 46, 41], [1, 5, 255, 6, 158, 1, 300, 77, 21, 3, 33], [2, 34, 19, 10, 1, 59], [2, 34, 11, 163, 45, 175], [1, 16, 607, 2, 608, 57, 164, 67, 1, 5, 105, 76], [1, 7, 6, 4, 2, 249, 10, 1, 533, 15, 9, 534], [1, 16, 150, 263], [1, 52, 3, 33, 9, 135, 49, 1, 507, 123, 508, 8, 1, 121, 5, 3, 258, 4, 2, 182], [569, 28, 11, 95, 30, 113, 123, 382, 13], [10, 1, 47, 17, 91, 195, 1, 154, 12, 7, 51, 8, 230, 274], [1, 7, 51, 158, 1, 47, 17], [1, 86, 547, 150, 263], [27, 71, 762], [10, 1, 20, 17, 1, 7, 51, 8, 267, 77], [1, 7, 6, 4, 2, 38], [9, 66, 26, 431, 24, 12, 7, 871], [1, 72, 132, 33, 102, 10, 1, 72, 904, 905], [1, 7, 6, 4, 2, 32, 21, 3, 452], [10, 1, 26, 966, 2, 28, 13, 26, 95, 30, 967], [2, 83, 55, 418, 3, 807], [2, 32, 19, 10, 27, 161, 60], [35, 37, 18, 3, 179, 1095, 57, 2, 1096, 21, 6, 276, 103, 22], [1, 498, 12, 59, 8, 107, 513, 31, 9, 957, 14, 2, 303, 20, 119, 45, 195], [2, 48, 41, 10, 27, 915, 12, 916], [27, 169, 1, 16, 170, 155], [1, 5, 3, 46, 41, 205, 1, 110, 59, 3, 54], [1, 7, 29, 6, 57, 678, 14, 49], [1, 20, 237, 91, 289, 1, 86, 499, 217, 15, 2, 285, 4, 9, 84], [1, 7, 6, 4, 2, 38], [1, 113, 16, 201, 12, 20, 198, 102, 10, 753, 178, 24, 11, 198, 1, 132, 7, 33], [10, 1, 101, 1, 7, 2, 42, 19], [2, 913, 135, 406, 219, 12, 512, 67, 252, 26, 120, 3, 56, 49, 233], [1, 16, 100, 9, 872, 1, 5, 3, 105, 76], [2, 109, 4, 2, 29, 455, 10, 1, 106, 2, 98], [1, 5, 3, 71, 18, 2, 368, 38, 11, 956], [1, 75, 2, 38, 264, 11, 63, 1036], [1, 5, 3, 6, 4, 2, 888], [2, 360, 23, 96, 124, 119, 62, 3, 511], [2, 152, 41, 15, 33, 8, 668, 204], [2, 34, 37, 85, 8, 13, 775, 324, 9, 342, 108, 57, 9, 339, 14, 9, 157, 776, 35, 26, 3, 777, 12, 778, 15, 12], [435, 9, 445, 14, 660], [13, 270, 89, 2, 182], [35, 11, 3, 398, 93, 4, 2, 39], [1, 75, 259, 321, 4, 2, 182], [1, 16, 378, 2, 39, 12, 9, 74, 338, 71, 3, 485, 6], [2, 69, 96, 177, 30, 4, 181, 97, 355, 8, 791, 22, 282, 415, 149, 94, 1, 792, 2, 69, 110, 201, 12, 107, 141, 188], [10, 27, 161, 553, 1, 5, 6, 371, 2, 40], [10, 1, 59, 17, 3, 669, 14, 157, 2, 128, 34, 19], [10, 27, 484, 2, 186, 100, 4, 568], [1, 5, 276, 311, 17, 8, 77, 2, 23], [1, 5, 9, 574, 14, 120, 282, 438, 4, 2, 38], [149, 90, 281, 133, 176, 281, 5, 3, 423, 536, 4, 537, 34], [13, 37, 18, 441, 11, 559, 2, 32, 21, 3, 560, 1, 7, 6, 15, 9, 339, 14, 2, 32, 8, 13, 411], [1, 5, 6, 4, 2, 78, 22, 655, 24], [4, 9, 84, 2, 578, 11, 280], [1, 5, 3, 68, 22, 11, 97, 8, 179], [144, 130, 3, 56, 49, 12, 61, 72, 1, 120, 3, 44, 575], [102, 176, 9, 264, 11, 242, 4, 9, 383, 2, 38, 11, 132, 33], [2, 29, 19, 10, 1, 104, 12, 358, 70, 573, 2, 32], [1, 5, 276, 311, 17, 8, 77, 2, 23], [2, 32, 19, 158, 1, 104, 12, 90, 70], [9, 6, 37, 18, 64, 128, 345, 9, 40], [2, 34, 19, 10, 1, 59], [35, 11, 60, 6, 22, 481, 103, 2, 78, 17, 12, 2, 74, 98], [1, 20, 436, 14, 478, 8, 949, 15, 2, 23], [258, 53, 6, 22, 11, 172, 57, 117, 408, 234, 9, 212, 14, 9, 38, 275, 9, 39, 8, 360, 367], [1, 5, 87, 12, 194, 458, 15, 2, 46, 31, 211, 121, 6, 24], [1, 5, 3, 46, 41, 205, 1, 110, 59, 3, 54], [1, 7, 18, 1, 219, 12, 36, 1047, 1048, 8, 52, 1049, 279, 4, 2, 29], [10, 1, 101, 1, 7, 2, 42, 19], [1, 52, 3, 33, 9, 135, 49, 1, 507, 123, 508, 8, 1, 121, 5, 3, 258, 4, 2, 182], [1, 7, 29, 6, 57, 678, 14, 49], [2, 28, 11, 95, 338, 3, 184, 1, 86, 100, 3, 54, 14, 28, 15, 2, 294, 1050], [16, 90, 139, 253, 1, 7, 85], [1, 5, 757, 4, 2, 29], [305, 139, 280, 679, 286, 2, 48, 129], [1, 5, 3, 50, 6, 8, 482, 619, 4, 2, 118, 88, 10, 1, 104, 12, 47, 15, 13, 8, 59], [1, 52, 3, 6, 4, 2, 34, 10, 1, 26, 288], [1, 16, 90, 287, 1, 7, 3, 85, 4, 2, 38], [58, 49, 1, 245, 12, 74, 1, 7, 3, 50, 6, 4, 2, 39], [35, 73, 117, 115, 15, 2, 69, 22, 756, 24, 3, 54], [10, 1, 153, 17, 4, 9, 84, 1, 7, 3, 335, 4, 2, 38], [1, 5, 6, 4, 2, 42], [13, 359, 202, 3, 506, 31, 464, 9, 6, 11, 312, 8, 427], [2, 55, 734, 17, 432], [1, 26, 63, 461, 4, 155, 31, 92, 2, 38, 11, 71, 6], [1, 7, 6, 4, 2, 23], [2, 189, 815, 167, 39, 21, 36, 356, 816, 8, 22, 500, 96, 328, 304, 8, 190, 18, 13, 11, 83], [1, 7, 483, 6, 4, 2, 34, 25, 13, 26, 222, 143, 9, 112, 207], [1, 5, 3, 251, 41, 4, 2, 136, 23, 240, 286, 13, 470, 12, 106], [35, 11, 3, 50, 6, 4, 2, 331], [2, 189, 130, 3, 1033, 493, 197, 256, 8, 9, 40, 178, 13, 11, 1034, 8, 168, 8, 13, 190, 83], [259, 393, 4, 2, 39, 8, 13, 19], [10, 1, 47, 17, 91, 195, 1, 7, 202, 159, 27, 141, 12, 772], [10, 1, 79, 12, 148, 1, 72, 71, 33], [1, 75, 259, 70, 199, 21, 2, 55, 13, 225, 43, 201, 12, 193, 18, 13, 428], [1, 72, 376, 149, 33, 906, 1, 72, 1, 72, 132, 907, 102, 30, 4, 9, 908], [1, 827, 155, 67, 1, 20, 209, 103, 155], [2, 29, 19, 10, 1, 104, 12, 358, 70, 573, 2, 32], [2, 44, 11, 634, 289, 8, 27, 120, 3, 56, 49, 12, 61], [80, 14, 3, 374, 1, 172, 51, 10, 1, 1032, 17], [1, 5, 3, 180, 4, 2, 23, 1, 147, 444, 13], [2, 119, 387, 232, 131, 8, 64, 124, 18, 60, 62, 291, 197], [1, 5, 384, 355, 15, 2, 40], [2, 32, 19, 4, 9, 23, 8, 9, 6, 543, 80, 108], [1, 7, 6, 4, 2, 182, 21, 506], [1, 5, 3, 50, 6, 4, 2, 136, 42], [2, 119, 190, 18, 947, 43, 232, 131], [1, 5, 3, 180, 4, 521, 1061, 13, 11, 91, 470, 12, 100], [9, 894, 93, 15, 2, 44, 467, 24, 468], [142, 6, 4, 9, 360, 74, 350, 14, 78, 8, 375, 5, 6, 12, 23], [1, 7, 88, 6, 58, 49, 1, 106], [58, 49, 1, 494, 2, 28, 35, 73, 45, 492, 28, 4, 2, 494], [1, 172, 2, 44, 19, 10, 1, 509, 62, 234, 895], [1, 498, 12, 524, 31, 1, 20, 3, 210, 932, 4, 2, 136, 23, 10, 1, 933, 140], [1, 5, 3, 312, 4, 2, 122], [1, 7, 3, 81, 6, 4, 2, 29, 10, 1, 104, 12, 354, 70, 99], [10, 1, 106, 2, 29, 64, 18, 860, 11, 290, 861, 227, 2, 29], [1, 16, 106, 2, 206, 35, 11, 6, 4, 9, 88], [1, 7, 774, 4, 2, 78], [278, 1, 65, 67, 27, 3, 914], [2, 420, 818, 11, 296, 14, 28, 58, 49], [2, 40, 11, 314], [2, 189, 52, 167, 301, 439, 8, 13, 11, 179, 8, 9, 40, 89, 15, 167, 301, 11, 584, 8, 190, 83], [27, 43, 165, 1, 7, 51], [1, 7, 565, 10, 1, 100, 2, 28, 95, 30], [1, 20, 210, 995, 58, 517, 996, 8, 10, 1, 20, 365, 2, 76, 11, 997], [1, 192, 3, 454, 4, 2, 733, 8, 249], [1, 5, 3, 6, 4, 2, 88], [1, 7, 18, 1, 219, 12, 36, 1047, 1048, 8, 52, 1049, 279, 4, 2, 29], [1, 5, 3, 28, 639], [1, 5, 66, 80, 140, 2, 69], [2, 913, 135, 406, 219, 12, 512, 67, 252, 26, 120, 3, 56, 49, 233], [5, 142, 33, 8, 65], [2, 1097, 11, 1098, 240, 1099, 1, 5, 36, 83, 55], [480, 190, 18, 714, 4, 3, 715, 297], [1, 7, 18, 9, 901, 902, 489, 8, 489], [2, 23, 19, 3, 54, 10, 1, 146], [1, 7, 151, 18, 162, 53, 6], [1, 132, 7, 18, 1, 5, 1079, 311, 102, 176, 1, 110, 5, 2, 1080], [1, 7, 3, 81, 6, 4, 2, 29, 88, 8, 13, 225, 43, 79, 188], [9, 475, 218, 26, 143, 3, 838, 4, 2, 839, 1, 840, 841, 1, 26, 141, 12, 842, 103, 424, 843], [1, 7, 3, 81, 325, 14, 265, 15, 9, 527, 14, 2, 39], [1, 7, 224, 15, 2, 828], [1, 7, 18, 70, 11, 479, 2, 244], [2, 78, 19, 10, 1, 79, 12, 116, 3, 61], [1, 222, 9, 889, 10, 476, 12, 890, 3, 348], [9, 122, 4, 2, 773, 73, 181, 4, 9, 84], [1, 7, 151], [2, 598, 96, 65, 80, 164, 252, 16, 148], [1, 7, 18, 144, 132, 130, 70, 4, 2, 250], [1, 375, 5, 1021, 13, 21, 9, 1022, 67, 1, 72, 1023, 1, 375, 5, 423, 3, 109, 15, 2, 23], [1, 7, 781, 659], [1, 20, 299, 349, 14, 1011, 115, 15, 2, 23, 8, 211, 162], [278, 2, 38, 37, 511, 338, 184], [2, 39, 96, 124, 119, 114, 9, 504], [1, 75, 1, 450, 2, 118, 13, 166, 19], [1, 5, 117, 6, 10, 27, 238, 178, 2, 152], [1, 20, 395, 8, 129, 80, 140], [2, 40, 11, 63, 235, 8, 531], [4, 9, 84, 2, 578, 11, 280], [1, 26, 63, 461, 4, 155, 31, 92, 2, 38, 11, 71, 6], [2, 28, 11, 95, 30, 4, 577], [13, 37, 18, 441, 11, 559, 2, 32, 21, 3, 560, 1, 7, 6, 15, 9, 339, 14, 2, 32, 8, 13, 411], [1, 75, 259, 321, 4, 2, 182], [10, 1, 20, 30, 14, 592, 4, 9, 84, 2, 38, 37, 63, 85], [114, 1, 219, 369, 9, 630, 1, 5, 6, 15, 2, 48], [13, 270, 89, 2, 182], [10, 27, 484, 2, 186, 100, 4, 568], [10, 1, 170, 155, 1, 5, 117, 173, 93, 4, 2, 535], [1, 72, 594, 12, 306, 472, 15, 2, 34, 10, 1, 47, 595, 1, 7, 8, 330, 3, 280, 596, 597], [11, 2, 68, 83, 53, 113, 232], [2, 32, 19, 4, 9, 23, 8, 9, 6, 543, 80, 108], [1, 5, 276, 311, 17, 8, 77, 2, 23], [144, 124, 140, 2, 33, 62, 197, 31, 121, 65, 58, 108], [2, 29, 19, 10, 1, 104, 12, 358, 70, 573, 2, 32], [1, 16, 378, 2, 39, 12, 9, 74, 338, 71, 3, 485, 6], [2, 152, 201, 12, 544, 202, 1, 79, 17, 53, 77, 157], [1, 5, 6, 4, 2, 78, 22, 655, 24], [1, 7, 166, 151, 80, 9, 49], [2, 98, 19, 10, 1, 425], [1, 7, 6, 4, 2, 44, 10, 1, 153, 17], [1, 110, 5, 296, 782, 14, 783, 21, 2, 337], [1, 5, 757, 4, 2, 29], [1, 16, 47, 17, 53, 272, 77, 1, 5, 3, 6, 4, 2, 23, 22, 784, 24], [1, 507, 123, 508, 3, 517, 204, 256, 8, 60, 49, 143, 999, 2, 182, 1000, 1001, 8, 181], [10, 1, 106, 15, 2, 29, 6, 938, 77, 2, 98], [1, 20, 3, 34, 6, 10, 1, 59, 3, 54], [1, 7, 70, 162, 24, 4, 340, 61, 8, 1, 247, 116, 2, 61], [1, 7, 6, 10, 1, 75, 14, 125], [2, 413, 11, 1147, 80, 9, 49, 8, 259, 60, 1148, 1149, 4, 2, 250, 22, 286, 13, 1150, 62, 24, 12, 148], [156, 1, 52, 3, 763, 6], [10, 1, 153, 17, 1, 72, 71, 33], [1, 7, 3, 399, 496, 6, 25, 1, 326, 17, 21, 2, 403], [10, 20, 17, 1, 228, 22, 1, 5, 3, 42, 41, 8, 1, 87, 12, 116, 1051, 31, 2, 42, 121, 163, 24], [1, 7, 6, 4, 2, 39, 25, 712, 17], [1, 65, 3, 54, 10, 1, 729, 730, 138, 11, 199, 21, 2, 244], [1, 7, 6, 89, 1, 90, 43, 133, 138, 13, 11], [2, 32, 19, 158, 1, 104, 12, 90, 70], [1, 7, 6, 4, 2, 39], [1, 52, 3, 862, 137, 111, 241, 2, 34, 863, 8, 92, 64, 864], [2, 74, 48, 11, 964, 31, 9, 128, 239, 37, 18, 64, 290, 965, 21, 3, 446], [1, 7, 44, 6, 10, 1, 59, 3, 54], [9, 6, 37, 18, 64, 128, 345, 9, 40], [1, 110, 5, 9, 510, 12, 90, 9, 185, 22, 1, 216, 12], [1, 315, 20, 3, 42, 41, 25, 1, 101, 1, 829, 124, 830, 12, 831, 240, 832, 419, 107, 9, 833], [1, 7, 6, 4, 2, 491, 145, 25, 1, 509, 156, 1, 518, 117, 6, 1035, 31, 13, 203, 229], [27, 43, 71, 165, 1, 20, 448, 55], [27, 71, 762], [2, 74, 350, 129, 94], [305, 139, 280, 679, 286, 2, 48, 129], [488, 26, 752, 12, 5, 36, 127, 55], [10, 1, 20, 17, 1, 100, 2, 40, 675], [1, 26, 111, 241, 8, 1, 969, 2, 118], [1, 5, 3, 71, 18, 2, 368, 38, 11, 956], [1, 75, 1, 741, 13, 10, 1, 434, 80, 22, 742, 103, 9, 743, 2, 136, 23, 11, 456, 24], [1, 5, 3, 105, 76, 25, 2, 32, 26, 222, 156], [1, 72, 120, 313, 521, 185, 7, 18, 3, 993, 15, 2, 186, 480, 11, 105], [1, 52, 3, 33, 9, 135, 49, 1, 507, 123, 508, 8, 1, 121, 5, 3, 258, 4, 2, 182], [97, 1085, 477, 21, 329], [13, 359, 202, 3, 506, 31, 464, 9, 6, 11, 312, 8, 427], [1, 5, 1089, 65, 21, 1090, 1091, 200, 1092], [10, 1, 47, 17, 1, 7, 18, 27, 141, 12, 267, 77, 748], [1, 7, 6, 4, 2, 39, 25, 712, 17], [25, 111, 112, 1, 5, 109, 6, 21, 2, 758, 491], [2, 244, 7, 99, 18, 211, 73, 457, 21, 332], [2, 23, 11, 163, 45, 94], [1, 153, 17, 21, 3, 392, 39, 58, 84, 458, 407, 31, 223, 3, 284, 14, 204, 751, 64, 23, 432], [1, 5, 3, 218, 723, 58, 108], [1, 319, 3, 54, 183, 28, 320, 30, 346, 1086, 10, 1, 318, 2, 28], [2, 28, 132, 754, 30, 8, 1, 5, 755, 3, 54, 14, 28, 323], [1, 7, 151, 18, 162, 53, 6], [2, 29, 129, 10, 1, 104, 12, 354, 409, 740], [2, 145, 7, 237], [1, 222, 9, 889, 10, 476, 12, 890, 3, 348], [1, 7, 18, 1, 86, 260, 208, 903, 1, 20, 435, 4, 2, 244, 30], [2, 46, 11, 163, 45, 94], [278, 2, 38, 37, 511, 338, 184], [4, 1084, 1, 52, 3, 54, 14, 66], [1, 7, 520, 6], [1, 7, 33, 10, 9, 164, 948], [1102, 234, 9, 368, 367], [2, 38, 37, 85, 205, 1, 101, 3, 54, 82], [480, 190, 18, 714, 4, 3, 715, 297], [1, 375, 5, 1021, 13, 21, 9, 1022, 67, 1, 72, 1023, 1, 375, 5, 423, 3, 109, 15, 2, 23], [1, 7, 6, 4, 9, 34, 10, 238], [5, 142, 33, 8, 65], [1, 52, 255, 6, 8, 1024, 10, 1, 426, 1025, 1026, 490, 156], [9, 71, 14, 263, 1093, 4, 1094, 358], [25, 36, 56, 294, 108, 1, 5, 46, 41], [1, 5, 3, 46, 41, 25, 273, 1062, 21, 2, 273, 528], [1, 7, 3, 81, 325, 14, 265, 15, 9, 527, 14, 2, 39], [1, 7, 781, 659], [10, 1, 47, 1, 7, 51, 1, 90, 43, 133, 82], [2, 38, 129, 15, 9, 89, 275, 2, 593, 8, 249], [2, 48, 19, 10, 1, 295, 13], [281, 257, 793, 24, 31, 60, 83, 55, 15, 2, 134, 11, 103, 3, 794, 68, 1, 394, 116, 795], [1, 16, 90, 287, 1, 7, 3, 85, 4, 2, 38], [1, 5, 3, 50, 6, 8, 482, 619, 4, 2, 118, 88, 10, 1, 104, 12, 47, 15, 13, 8, 59], [1, 16, 59, 2, 34, 19, 24], [1, 7, 6, 4, 9, 34], [25, 111, 112, 1, 5, 109, 6, 21, 2, 758, 491], [2, 1097, 11, 1098, 240, 1099, 1, 5, 36, 83, 55], [1, 546, 3, 254, 55, 4, 2, 134, 8, 1, 86, 43, 150, 9, 243], [1, 5, 142, 235, 65], [2, 23, 11, 163, 45, 94], [2, 34, 19, 10, 1, 170, 532], [1, 7, 51, 158, 1, 47, 17], [2, 334, 26, 876, 123, 125, 877, 8, 92, 125, 134, 11, 119, 97, 8, 179, 8, 9, 55, 11, 308, 878], [27, 120, 3, 56, 49, 305], [2, 28, 11, 320, 30, 4, 631, 333, 10, 1, 632, 13], [10, 1, 47, 17, 91, 616, 2, 76, 11, 105], [2, 32, 19, 8, 1, 302, 9, 93, 4, 2, 69, 223, 302, 459, 4, 2, 353], [1, 16, 61, 67, 14, 65], [1, 7, 3, 81, 325, 14, 265, 14, 2, 32], [10, 1, 583, 125, 1, 7, 77], [10, 1, 47, 17, 91, 195, 1, 154, 12, 7, 51, 8, 230, 274], [1, 5, 3, 251, 41, 4, 2, 136, 23, 240, 286, 13, 470, 12, 106], [1, 52, 3, 68, 22, 26, 737, 738, 31, 13, 11, 43, 232, 13, 11, 308, 739, 412, 8, 455], [10, 1, 153, 17, 4, 9, 84, 1, 7, 3, 335, 4, 2, 38], [1, 5, 6, 4, 2, 42], [102, 159, 27, 36, 683, 2, 69, 684, 416, 30, 4, 115], [1, 86, 260, 106, 2, 39, 13, 19], [1, 52, 3, 50, 6, 4, 2, 42], [1, 20, 36, 48, 41, 10, 13, 11, 33], [1, 5, 3, 81, 6, 4, 2, 46, 18, 665, 6, 21, 666, 2, 6, 667], [10, 27, 545, 4, 9, 84, 1, 7, 215, 8, 5, 452], [1, 5, 3, 483, 29, 6], [2, 48, 19, 8, 64, 344, 10, 1, 622, 2, 48, 11, 63, 181, 8, 623, 379, 624], [9, 6, 4, 2, 23, 1031, 18, 3, 50, 357, 4, 13], [1, 447, 293, 8, 293, 14, 785, 12, 133, 9, 786, 184, 62, 2, 42, 41], [1, 7, 18, 35, 11, 70, 179, 8, 304, 57, 9, 23, 14, 2, 34], [10, 1, 47, 17, 91, 195, 1, 7, 202, 159, 27, 141, 12, 772], [1, 326, 2, 118, 137, 161, 636, 637, 4, 9, 638], [1, 20, 436, 14, 115, 15, 2, 69, 22, 322, 79, 188], [1, 7, 3, 6, 4, 2, 23, 10, 1, 272, 15, 3, 1029, 62, 373], [1, 5, 3, 33, 8, 13, 286, 24, 65, 196], [1, 16, 106, 2, 32, 17, 8, 77], [35, 11, 3, 50, 6, 4, 2, 331], [35, 11, 3, 50, 6, 4, 2, 744], [1, 7, 254, 398, 10, 1, 295, 66, 810, 123, 187, 93], [10, 1, 59, 64, 56, 12, 61], [10, 1, 79, 12, 148, 1, 72, 71, 33], [1, 16, 106, 2, 29, 67, 14, 6], [6, 4, 9, 1028, 39], [2, 334, 52, 125, 182, 439, 8, 239, 14, 125, 48, 989, 11, 990, 97, 8, 173, 168], [1138, 97, 355, 15, 2, 1139, 73, 522, 138, 11, 13], [2, 32, 11, 366, 10, 1, 20, 17], [1, 7, 18, 9, 901, 902, 489, 8, 489], [1, 926, 140, 137, 927, 12, 928, 9, 929], [9, 959, 14, 2, 303, 162, 10, 1, 269, 960], [2, 46, 52, 124, 224, 114, 135, 713], [625, 626, 346, 409, 627, 8, 2, 23, 154, 12, 41], [10, 1, 583, 125, 1, 7, 77], [1, 16, 330, 30, 14, 2, 48, 653, 1, 7, 18, 35, 11, 70, 4, 13, 431, 654], [144, 130, 3, 56, 49, 12, 61, 72, 1, 120, 3, 44, 575], [80, 2, 38, 11, 4, 3, 187, 909, 8, 1, 200, 3, 165, 352], [1, 5, 3, 81, 6, 4, 2, 46, 18, 665, 6, 21, 666, 2, 6, 667], [1, 68, 2, 271, 283, 3, 86, 13, 257, 150, 243, 8, 9, 55, 11, 721, 8, 127], [1, 5, 3, 40, 171, 25, 309, 36, 310, 126], [2, 264, 940, 8, 2, 38, 20, 941], [1, 20, 36, 48, 41, 10, 13, 11, 33], [2, 48, 19, 8, 64, 344, 10, 1, 622, 2, 48, 11, 63, 181, 8, 623, 379, 624], [2, 40, 11, 329, 8, 304], [10, 1, 47, 17, 91, 616, 2, 76, 11, 105], [50, 6, 8, 99, 233], [1, 447, 293, 8, 293, 14, 785, 12, 133, 9, 786, 184, 62, 2, 42, 41], [1, 910, 492, 911, 31, 211, 16, 466, 9, 128, 352, 912, 2, 28, 23], [1, 5, 3, 50, 6, 4, 2, 48], [1, 5, 3, 6, 22, 481, 17, 103, 2, 128, 869, 12, 2, 396, 397, 13, 11, 57, 64, 475, 10, 1, 870], [1, 5, 3, 50, 6, 4, 2, 367], [27, 4, 200, 62, 3, 352, 62, 2, 28, 267], [2, 38, 37, 85, 25, 2, 362, 108, 4, 9, 191, 82], [2, 334, 26, 876, 123, 125, 877, 8, 92, 125, 134, 11, 119, 97, 8, 179, 8, 9, 55, 11, 308, 878], [1, 52, 3, 50, 6, 4, 2, 42], [35, 11, 3, 50, 6, 4, 2, 48, 158, 1, 90, 60], [144, 124, 71, 63, 151, 323], [1, 75, 259, 70, 199, 21, 2, 55, 13, 225, 43, 201, 12, 193, 18, 13, 428], [1, 326, 2, 118, 137, 161, 636, 637, 4, 9, 638], [1, 7, 18, 35, 11, 70, 179, 8, 304, 57, 9, 23, 14, 2, 34], [10, 1, 47, 17, 91, 195, 1, 154, 12, 7, 51, 8, 230, 274], [1, 7, 3, 81, 325, 14, 265, 14, 2, 32], [625, 626, 346, 409, 627, 8, 2, 23, 154, 12, 41], [1, 68, 2, 134, 3, 284, 14, 197, 256, 8, 102, 159, 1, 404, 316, 36, 588, 126, 64, 43, 589, 174], [1, 5, 3, 50, 6, 4, 2, 367], [1, 7, 51, 10, 1, 194, 374, 487], [1, 86, 547, 150, 263], [625, 626, 346, 409, 627, 8, 2, 23, 154, 12, 41], [9, 6, 4, 2, 23, 1031, 18, 3, 50, 357, 4, 13], [10, 1, 153, 17, 4, 9, 84, 1, 7, 3, 335, 4, 2, 38], [10, 1, 583, 125, 1, 7, 77], [27, 120, 3, 56, 49, 305], [200, 12, 987, 2, 40, 58, 988], [1, 75, 259, 70, 199, 21, 2, 55, 13, 225, 43, 201, 12, 193, 18, 13, 428], [2, 44, 11, 682, 289, 8, 13, 591, 24], [1, 5, 212, 32, 6, 8, 10, 1, 20, 13, 9, 230, 958, 24], [1, 5, 36, 600], [421, 685, 97, 686, 370, 181, 8, 168, 12, 9, 295], [1, 979, 2, 46, 8, 13, 166, 19], [2, 119, 190, 18, 947, 43, 232, 131], [2, 32, 19, 8, 1, 302, 9, 93, 4, 2, 69, 223, 302, 459, 4, 2, 353], [1, 7, 23, 6, 10, 1, 261, 99, 185], [37, 18, 35, 73, 727, 8, 279, 728, 4, 2, 122], [1, 72, 376, 62, 2, 484, 67, 1, 86, 499, 363, 10, 1, 72, 57, 9, 1115, 2, 186, 7, 1116], [1, 7, 6, 4, 2, 250], [144, 437, 2, 28, 95, 30, 3, 54, 323], [1, 75, 2, 55, 11, 83], [1, 7, 18, 1, 86, 260, 208, 903, 1, 20, 435, 4, 2, 244, 30], [1, 1012, 60, 1013, 71, 14, 1014, 213, 79, 188], [2, 32, 19, 24, 175], [1, 5, 3, 46, 41, 25, 273, 1062, 21, 2, 273, 528], [1, 926, 140, 137, 927, 12, 928, 9, 929], [35, 11, 3, 50, 6, 4, 2, 331], [6, 4, 9, 1028, 39], [25, 36, 56, 294, 108, 1, 5, 46, 41], [2, 189, 96, 3, 54, 14, 66], [1, 86, 260, 208], [1, 7, 3, 81, 6, 4, 2, 29, 88, 8, 13, 225, 43, 79, 188], [1, 5, 410, 258, 4, 2, 925], [2, 39, 96, 124, 119, 114, 9, 504], [1, 319, 3, 54, 183, 28, 320, 30, 346, 1086, 10, 1, 318, 2, 28], [1, 147, 306, 60, 479, 93, 1, 5, 4, 2, 78], [1, 5, 142, 29, 6], [1, 7, 3, 81, 325, 14, 265, 15, 9, 527, 14, 2, 39], [58, 49, 13, 1087, 1, 20, 1088, 15, 2, 566, 8, 527], [1, 7, 6, 4, 2, 182, 21, 506], [1, 827, 155, 67, 1, 20, 209, 103, 155], [2, 68, 1129, 53, 1130, 1131, 370], [1, 16, 298, 165, 1, 5, 3, 6, 4, 2, 34], [1, 5, 3, 63, 187, 65], [1, 7, 18, 9, 901, 902, 489, 8, 489], [1, 16, 106, 2, 29, 67, 14, 6], [2, 32, 11, 366, 10, 1, 20, 17], [1138, 97, 355, 15, 2, 1139, 73, 522, 138, 11, 13], [1, 7, 6, 4, 2, 23], [1102, 234, 9, 368, 367], [2, 145, 7, 237], [57, 362, 13, 37, 166, 1145, 31, 223, 3, 1146, 279, 154, 12, 526, 227, 2, 46], [10, 1, 47, 17, 91, 195, 1, 7, 202, 159, 27, 141, 12, 772], [1, 447, 293, 8, 293, 14, 785, 12, 133, 9, 786, 184, 62, 2, 42, 41], [1, 110, 133, 82, 27, 687, 151], [278, 1, 7, 18, 3, 811, 15, 2, 78, 22, 467, 24, 468], [1, 5, 3, 235, 40], [1, 7, 45, 119, 4, 2, 42, 297], [35, 11, 3, 50, 6, 4, 2, 48, 158, 1, 90, 60], [2, 918, 919, 920, 921, 922, 1, 7, 237, 14, 923, 298], [9, 55, 11, 121, 127], [10, 1, 153, 17, 4, 9, 84, 1, 7, 3, 335, 4, 2, 38], [1, 910, 492, 911, 31, 211, 16, 466, 9, 128, 352, 912, 2, 28, 23], [10, 27, 545, 4, 9, 84, 1, 7, 215, 8, 5, 452], [1, 52, 3, 68, 22, 26, 737, 738, 31, 13, 11, 43, 232, 13, 11, 308, 739, 412, 8, 455], [1, 5, 3, 68, 22, 11, 97, 8, 179], [435, 9, 445, 14, 660], [1, 75, 259, 70, 199, 21, 2, 55, 13, 225, 43, 201, 12, 193, 18, 13, 428], [13, 37, 18, 441, 11, 559, 2, 32, 21, 3, 560, 1, 7, 6, 15, 9, 339, 14, 2, 32, 8, 13, 411], [144, 130, 3, 56, 49, 12, 61, 72, 1, 120, 3, 44, 575], [1, 5, 105, 76, 25, 1, 216, 3, 199, 642], [1, 5, 276, 6, 4, 2, 502, 25, 294, 30], [1, 16, 261, 287, 1, 5, 3, 6, 4, 2, 29], [1, 7, 3, 173, 93, 4, 2, 29, 109], [1, 5, 169, 221, 143, 9, 241, 207], [1, 7, 3, 6, 4, 2, 23, 10, 1, 272, 15, 3, 1029, 62, 373], [1, 5, 3, 50, 6, 4, 2, 39], [1, 7, 63, 85, 4, 2, 38], [1, 5, 3, 6, 4, 2, 32], [1, 147, 208, 67, 14, 60, 251, 41, 345, 2, 74, 29], [1, 7, 6, 4, 9, 136, 23], [10, 1, 444, 2, 206, 35, 11, 6, 4, 34, 88], [731, 2, 44, 19, 24, 1, 87, 12, 107, 732, 8, 1, 16], [529, 530, 53, 283, 4, 9, 40], [1, 7, 142, 314, 4, 9, 40, 21, 336], [97, 1085, 477, 21, 329], [1, 5, 3, 180, 4, 521, 1061, 13, 11, 91, 470, 12, 100], [1, 7, 18, 9, 901, 902, 489, 8, 489], [2, 334, 52, 125, 182, 439, 8, 239, 14, 125, 48, 989, 11, 990, 97, 8, 173, 168], [144, 437, 2, 28, 95, 30, 3, 54, 323], [1, 5, 1089, 65, 21, 1090, 1091, 200, 1092], [1, 7, 6, 4, 2, 23], [37, 18, 35, 73, 727, 8, 279, 728, 4, 2, 122], [2, 23, 19, 24, 3, 54], [80, 14, 3, 374, 1, 172, 51, 10, 1, 1032, 17], [1, 827, 155, 67, 1, 20, 209, 103, 155], [10, 1, 59, 64, 56, 12, 61], [1, 7, 254, 398, 10, 1, 295, 66, 810, 123, 187, 93], [1, 5, 3, 63, 187, 65], [1, 7, 6, 4, 2, 182, 21, 506], [2, 40, 972, 15, 2, 23, 11, 97, 1, 110, 133, 82], [10, 1, 59, 1, 20, 3, 485, 6, 4, 9, 339, 14, 2, 46], [2, 189, 130, 3, 1033, 493, 197, 256, 8, 9, 40, 178, 13, 11, 1034, 8, 168, 8, 13, 190, 83], [1, 7, 483, 6, 4, 2, 34, 25, 13, 26, 222, 143, 9, 112, 207], [2, 598, 96, 65, 80, 164, 252, 16, 148], [2, 38, 129, 15, 9, 89, 275, 2, 593, 8, 249], [2, 38, 37, 18, 64, 4, 3, 658], [1, 7, 22, 11, 81, 6, 4, 2, 74, 29], [1078, 62, 9, 353], [1, 7, 18, 765, 192, 4, 168, 462], [44, 129, 45, 94], [1, 153, 17, 21, 3, 392, 39, 58, 84, 458, 407, 31, 223, 3, 284, 14, 204, 751, 64, 23, 432], [1, 16, 150, 263], [1, 546, 3, 254, 55, 4, 2, 134, 8, 1, 86, 43, 150, 9, 243], [2, 34, 11, 163, 45, 175], [1, 7, 3, 6, 4, 2, 23], [58, 49, 1, 194, 36, 266, 1, 172, 51], [1, 5, 3, 97, 171, 22, 11, 329, 15, 2, 40], [1, 7, 224, 15, 2, 828], [2, 38, 129, 15, 9, 89, 275, 2, 593, 8, 249], [1, 7, 18, 765, 192, 4, 168, 462], [144, 132, 124, 63, 461, 31, 92, 1, 113, 110, 5, 9, 438, 53, 510, 12, 79, 62, 102, 3, 268, 59], [2, 855, 11, 45, 119], [1, 52, 255, 6, 8, 1024, 10, 1, 426, 1025, 1026, 490, 156], [2, 118, 11, 163, 24], [1, 5, 3, 180, 4, 2, 844, 48, 447, 123, 448], [10, 1, 361, 3, 54, 1, 20, 3, 218], [1, 16, 59, 2, 34, 19, 24], [2, 44, 19, 137, 27, 151, 82], [10, 27, 91, 242, 1, 154, 12, 7, 51], [9, 475, 218, 26, 143, 3, 838, 4, 2, 839, 1, 840, 841, 1, 26, 141, 12, 842, 103, 424, 843], [25, 238, 1, 5, 117, 6, 371, 2, 46], [2, 32, 19, 4, 9, 23, 8, 9, 6, 543, 80, 108], [2, 292, 74, 24, 62, 554, 555, 2, 44, 19, 45, 175, 12, 9, 408, 1, 16, 101, 53, 148], [1, 5, 3, 68, 22, 11, 97, 8, 179], [1, 72, 594, 12, 306, 472, 15, 2, 34, 10, 1, 47, 595, 1, 7, 8, 330, 3, 280, 596, 597], [1, 5, 3, 251, 41, 4, 2, 42, 13, 226, 344, 25, 1, 101], [1, 7, 3, 215, 8, 277, 6, 89, 2, 396, 397], [1, 5, 9, 574, 14, 120, 282, 438, 4, 2, 38], [10, 1, 59, 64, 56, 12, 61], [10, 1, 59, 1, 20, 3, 485, 6, 4, 9, 339, 14, 2, 46], [2, 48, 41, 10, 27, 915, 12, 916], [1, 16, 100, 9, 872, 1, 5, 3, 105, 76], [1, 26, 317, 21, 822, 823, 824, 240, 825, 82, 1, 132, 172, 33], [1, 16, 106, 2, 206, 35, 11, 6, 4, 9, 88], [2, 32, 19, 158, 1, 104, 12, 90, 70], [9, 6, 37, 18, 64, 128, 345, 9, 40], [316, 28, 1052], [27, 43, 165, 1, 7, 51], [60, 373, 505, 15, 2, 74, 1053, 11, 103, 95, 388, 2, 1054, 523], [1, 7, 18, 70, 11, 479, 2, 244], [1, 5, 3, 1038, 8, 1, 518, 1039, 31, 13, 1040, 229], [2, 38, 37, 85, 205, 1, 116, 2, 696, 697], [1, 7, 3, 50, 6, 4, 9, 42, 25, 309], [10, 27, 91, 242, 1, 154, 12, 7, 51], [1, 16, 106, 2, 29, 67, 14, 6], [248, 236, 14, 28, 400, 8, 401, 402], [1, 7, 385, 10, 1, 47, 17], [1, 20, 436, 14, 115, 15, 2, 69, 22, 322, 79, 188], [2, 109, 4, 2, 29, 455, 10, 1, 106, 2, 98], [9, 66, 26, 431, 24, 12, 7, 871], [158, 1, 47, 17, 1, 7, 51], [27, 429, 103, 50, 65, 477, 123, 605], [278, 1, 65, 67, 27, 3, 914], [9, 142, 6, 4, 9, 42, 1, 7], [2, 913, 135, 406, 219, 12, 512, 67, 252, 26, 120, 3, 56, 49, 233], [1, 414, 196, 21, 2, 39, 6, 8, 1, 166, 200, 12, 107, 174], [1, 315, 20, 3, 42, 41, 25, 1, 101, 1, 829, 124, 830, 12, 831, 240, 832, 419, 107, 9, 833], [2, 28, 11, 95, 10, 1, 72, 382, 13], [1, 5, 3, 6, 4, 2, 88], [1, 5, 3, 28, 639], [2, 360, 23, 96, 124, 119, 62, 3, 511], [1, 5, 3, 235, 40], [1, 5, 3, 68, 22, 96, 328, 97, 8, 380, 412], [258, 53, 6, 22, 11, 172, 57, 117, 408, 234, 9, 212, 14, 9, 38, 275, 9, 39, 8, 360, 367], [2, 39, 37, 392], [1, 7, 6, 4, 2, 186, 1, 86, 100, 859], [1, 16, 20, 3, 403, 67, 14, 2, 66], [10, 1, 318, 2, 28, 1, 319, 299, 599, 14, 28, 320, 30, 4, 9, 318], [1, 75, 1, 741, 13, 10, 1, 434, 80, 22, 742, 103, 9, 743, 2, 136, 23, 11, 456, 24], [1, 7, 51, 8, 30, 14, 459], [1, 7, 6, 4, 2, 46], [27, 169, 1, 16, 170, 155], [2, 845, 8, 846, 201, 30, 14, 363, 102, 159, 1, 5, 522, 465], [1, 649, 221, 650, 21, 3, 357, 137, 1, 26, 651], [1, 5, 3, 50, 6, 4, 2, 367], [1, 5, 117, 6, 10, 27, 238, 178, 2, 152], [10, 1, 153, 17, 4, 9, 84, 1, 7, 3, 335, 4, 2, 38], [1, 5, 3, 81, 6, 4, 2, 46, 18, 665, 6, 21, 666, 2, 6, 667], [1, 75, 1, 450, 2, 118, 13, 166, 19], [1, 86, 547, 150, 263], [2, 119, 190, 18, 947, 43, 232, 131], [1, 7, 166, 151, 80, 9, 49], [1, 5, 36, 600], [10, 1, 47, 17, 91, 195, 1, 7, 202, 159, 27, 141, 12, 772], [1, 75, 259, 70, 199, 21, 2, 55, 13, 225, 43, 201, 12, 193, 18, 13, 428], [1, 5, 212, 32, 6, 8, 10, 1, 20, 13, 9, 230, 958, 24], [1, 68, 2, 134, 3, 284, 14, 197, 256, 8, 102, 159, 1, 404, 316, 36, 588, 126, 64, 43, 589, 174], [102, 176, 9, 264, 11, 242, 4, 9, 383, 2, 38, 11, 132, 33], [1, 326, 2, 118, 137, 161, 636, 637, 4, 9, 638], [1, 5, 117, 210, 313, 10, 27, 233, 143, 9, 164], [2, 38, 37, 85, 25, 2, 362, 108, 4, 9, 191, 82], [1, 7, 3, 81, 325, 14, 265, 14, 2, 32], [2, 42, 37, 296, 8, 570, 8, 372, 25, 299, 571], [1, 5, 3, 251, 41, 4, 2, 42, 13, 226, 344, 25, 1, 101], [1, 5, 384, 355, 15, 2, 40], [35, 11, 3, 50, 6, 4, 2, 331], [1, 86, 260, 208], [1, 5, 3, 180, 4, 2, 23, 1, 147, 444, 13], [2, 32, 11, 366, 10, 1, 20, 17], [1, 7, 23, 6, 10, 1, 261, 99, 185], [13, 359, 202, 3, 506, 31, 464, 9, 6, 11, 312, 8, 427], [2, 65, 11, 63, 99, 8, 1, 5, 332], [1, 147, 306, 60, 479, 93, 1, 5, 4, 2, 78], [1, 86, 260, 208], [10, 1, 47, 17, 91, 195, 1, 154, 12, 7, 51, 8, 230, 274], [1, 5, 3, 171, 15, 2, 40], [2, 128, 29, 722, 10, 1, 106, 2, 98], [6, 4, 9, 1028, 39], [1, 7, 142, 314, 4, 9, 40, 21, 336], [2, 28, 11, 95, 30, 4, 399, 325], [1102, 234, 9, 368, 367], [1, 75, 2, 55, 11, 83], [1, 7, 321, 476, 12, 300, 17, 10, 1, 65], [1, 16, 298, 165, 1, 5, 3, 6, 4, 2, 34], [37, 18, 35, 73, 727, 8, 279, 728, 4, 2, 122], [35, 11, 3, 50, 6, 4, 2, 331], [1, 222, 9, 889, 10, 476, 12, 890, 3, 348], [1, 5, 3, 50, 6, 4, 2, 48], [1, 7, 6, 4, 2, 88, 25, 36, 209, 4, 9, 135, 112, 207, 1, 503], [149, 90, 281, 133, 176, 281, 5, 3, 423, 536, 4, 537, 34], [1, 5, 3, 180, 4, 9, 1104, 67, 1, 5, 1105, 1106], [35, 6, 4, 2, 46], [1, 417, 3, 952, 62, 234, 49, 8, 10, 1, 953, 343, 1, 7, 32, 41], [2, 189, 1064, 3, 1065, 8, 13, 326, 127, 514, 12, 473, 140, 8, 92, 190, 18, 13, 11, 83], [1, 7, 81, 265, 4, 2, 78], [1, 7, 565, 10, 1, 100, 2, 28, 95, 30], [2, 134, 127, 55, 130, 83], [2, 42, 96, 124, 119, 114, 156], [1, 302, 3, 54, 14, 2, 28], [99, 61, 21, 939], [2, 991, 359, 224, 25, 1, 219, 12, 9, 191], [167, 83, 55, 26, 1009, 12, 1010], [443, 177, 8, 55, 2, 206, 175, 9, 55, 11, 45, 813], [1, 160, 30, 15, 2, 69, 63, 826], [25, 238, 1, 5, 117, 6, 371, 2, 46], [1, 5, 3, 32, 6, 58, 652, 108], [1, 7, 18, 1, 113, 16, 579, 381, 1, 7, 580, 8, 18, 1, 113, 16, 20, 3, 160], [1, 5, 117, 6, 10, 27, 238, 178, 2, 152], [35, 11, 3, 398, 93, 4, 2, 39], [2, 122, 41, 158, 13, 11, 33], [80, 14, 3, 374, 1, 172, 51, 10, 1, 1032, 17], [1, 26, 169, 143, 112, 207, 1, 26, 317, 21, 745, 746], [35, 11, 3, 50, 6, 4, 2, 744], [1, 5, 3, 50, 6, 4, 2, 48], [2, 32, 11, 366, 10, 1, 20, 17], [1, 7, 321, 476, 12, 300, 17, 10, 1, 65], [10, 1, 59, 64, 56, 12, 61], [57, 362, 13, 37, 166, 1145, 31, 223, 3, 1146, 279, 154, 12, 526, 227, 2, 46], [1, 5, 3, 180, 4, 521, 1061, 13, 11, 91, 470, 12, 100], [1, 20, 1, 88, 6, 10, 1, 104, 12, 146, 2, 206, 53, 2, 98], [1, 86, 260, 208], [9, 55, 11, 121, 127], [1, 827, 155, 67, 1, 20, 209, 103, 155], [1, 7, 6, 4, 2, 23], [2, 264, 940, 8, 2, 38, 20, 941], [35, 11, 36, 169, 548], [1, 926, 140, 137, 927, 12, 928, 9, 929], [6, 4, 9, 1028, 39], [1, 5, 29, 6, 25, 161, 139, 474, 298], [13, 19, 10, 1, 879, 2, 98], [13, 359, 202, 3, 506, 31, 464, 9, 6, 11, 312, 8, 427], [97, 1085, 477, 21, 329], [1, 5, 3, 40, 171, 25, 309, 36, 310, 126], [1, 75, 1, 450, 2, 118, 13, 166, 19], [2, 152, 201, 12, 544, 202, 1, 79, 17, 53, 77, 157], [2, 38, 37, 85, 8, 1, 75, 22, 2, 69, 11, 564, 8, 1, 16, 148, 131], [435, 9, 445, 14, 660], [1, 7, 796, 18, 36, 310, 797, 2, 798, 799, 22, 252, 800, 493, 801, 12, 802, 125, 45, 22, 252, 11, 198, 486], [10, 1, 20, 30, 14, 592, 4, 9, 84, 2, 38, 37, 63, 85], [11, 115, 3, 40, 236], [2, 119, 387, 232, 131, 8, 64, 124, 18, 60, 62, 291, 197], [2, 66, 11, 166, 567, 64, 45, 417], [35, 11, 3, 398, 93, 4, 2, 39], [144, 124, 140, 2, 33, 62, 197, 31, 121, 65, 58, 108], [1, 5, 3, 68, 22, 11, 97, 8, 179], [1, 827, 155, 67, 1, 20, 209, 103, 155], [1, 5, 384, 355, 15, 2, 40], [25, 36, 56, 294, 108, 1, 5, 46, 41], [16, 404, 363], [1, 7, 254, 398, 10, 1, 295, 66, 810, 123, 187, 93], [1, 5, 1089, 65, 21, 1090, 1091, 200, 1092], [1, 7, 6, 4, 2, 88, 25, 36, 209, 4, 9, 135, 112, 207, 1, 503], [1, 5, 3, 180, 4, 2, 23, 1, 147, 444, 13], [1, 7, 142, 314, 4, 9, 40, 21, 336], [2, 55, 734, 17, 432], [2, 136, 23, 19, 31, 13, 698, 176, 1, 425, 13], [1, 5, 3, 6, 4, 2, 32], [1, 5, 169, 221, 143, 9, 241, 207], [2, 32, 19, 10, 27, 161, 60], [1, 315, 20, 3, 50, 6, 4, 2, 78, 8, 1, 16, 586, 138, 27, 161, 22, 419, 107, 587, 13], [2, 643, 7, 18, 211, 73, 644, 202, 645, 8, 73, 312], [2, 673, 38, 11, 674], [1, 5, 3, 81, 42, 41, 8, 1, 16, 101, 139, 670], [1, 26, 317, 21, 725, 1, 16, 61, 726], [1, 5, 3, 218, 58, 49, 1, 101, 310, 126], [1, 359, 340, 288, 943, 8, 1, 944, 1, 945, 91, 94, 462, 227, 2, 413, 67, 60, 946, 11, 456, 24, 92], [1, 5, 3, 39, 6, 10, 1, 272, 4, 212, 14, 2, 422], [1, 5, 620, 15, 2, 69, 22, 300, 8, 79], [1, 16, 47, 17, 53, 272, 77, 1, 5, 3, 6, 4, 2, 23, 22, 784, 24], [1, 7, 51, 10, 1, 689, 4, 212, 14, 2, 422, 62, 36, 690, 53, 291, 138, 691, 213, 107, 9, 184], [1, 110, 5, 296, 782, 14, 783, 21, 2, 337], [1, 5, 210, 6, 4, 2, 44], [1, 7, 109, 6, 58, 49, 1, 194, 36, 1046, 266], [10, 1, 106, 15, 2, 29, 6, 938, 77, 2, 98], [35, 11, 6, 4, 9, 145, 1, 90, 43, 133, 418], [10, 1, 20, 17, 1, 100, 2, 40, 675], [1, 434, 3, 99, 803, 156, 8, 10, 1, 20, 17, 464, 1, 172, 3, 81, 29, 6], [2, 34, 11, 163, 45, 175], [1, 7, 88, 6, 58, 49, 1, 106], [1, 5, 3, 105, 76, 8, 1, 16, 100, 4, 9, 804, 138, 11, 9, 184, 463], [2, 152, 1136, 128, 345, 9, 34, 1137, 8, 162, 10, 1, 217, 472, 15, 365], [1, 5, 6, 31, 1, 16, 961, 962], [52, 1, 1002, 15, 3, 451, 13, 1003, 5, 162, 45, 94, 18, 60, 1004, 1005, 4, 2, 1006], [1, 68, 221, 8, 27, 243], [2, 28, 11, 320, 30, 4, 631, 333, 10, 1, 632, 13], [1, 5, 3, 32, 6, 58, 652, 108], [2, 34, 203, 377, 12, 146, 131], [4, 9, 84, 2, 578, 11, 280], [1, 26, 63, 461, 4, 155, 31, 92, 2, 38, 11, 71, 6], [35, 11, 3, 398, 93, 4, 2, 39], [1, 5, 3, 50, 6, 4, 2, 367], [11, 2, 68, 83, 53, 113, 232], [2, 34, 37, 85, 8, 13, 775, 324, 9, 342, 108, 57, 9, 339, 14, 9, 157, 776, 35, 26, 3, 777, 12, 778, 15, 12], [569, 28, 11, 95, 30, 113, 123, 382, 13], [1, 222, 221, 8, 9, 615, 203, 377, 12, 193], [25, 309, 1, 5, 173, 93, 89, 14, 24], [1, 5, 9, 574, 14, 120, 282, 438, 4, 2, 38], [1, 5, 117, 210, 313, 10, 27, 233, 143, 9, 164], [1, 5, 6, 4, 2, 78, 22, 655, 24], [10, 1, 101, 390, 1, 319, 2, 76, 621], [1, 16, 378, 2, 39, 12, 9, 74, 338, 71, 3, 485, 6], [1, 20, 395, 8, 129, 80, 140], [1, 147, 20, 198, 282, 415, 149, 94, 1, 661, 17, 53, 149, 242, 1, 217, 9, 662, 15], [10, 27, 237, 1, 7, 2, 32, 99], [259, 393, 4, 2, 39, 8, 13, 19], [2, 48, 11, 556], [2, 152, 201, 12, 544, 202, 1, 79, 17, 53, 77, 157], [10, 1, 101, 91, 94, 390, 2, 38, 226, 85, 8, 51], [2, 42, 37, 296, 8, 570, 8, 372, 25, 299, 571], [2, 28, 11, 320, 30, 4, 631, 333, 10, 1, 632, 13], [1, 5, 3, 251, 41, 4, 2, 136, 23, 240, 286, 13, 470, 12, 106], [1, 68, 2, 271, 283, 3, 86, 13, 257, 150, 243, 8, 9, 55, 11, 721, 8, 127], [1, 5, 3, 277, 6, 89, 2, 39], [10, 1, 101, 390, 1, 319, 2, 76, 621], [1, 86, 260, 106, 2, 39, 13, 19], [2, 119, 190, 18, 947, 43, 232, 131], [10, 1, 101, 91, 94, 390, 2, 38, 226, 85, 8, 51], [35, 6, 4, 2, 46], [1, 26, 111, 348, 156, 1, 5, 450, 118], [1, 7, 3, 173, 93, 4, 2, 29, 109], [2, 152, 162, 45, 187, 12, 59, 22, 1, 856, 469, 183, 346, 1, 428], [1, 7, 258, 557, 9, 38, 4, 410], [1, 5, 246, 214, 2, 39], [1, 247, 208], [1, 7, 6, 4, 2, 44, 10, 1, 153, 17], [1, 20, 436, 14, 115, 15, 2, 69, 22, 322, 79, 188], [2, 69, 160, 30, 175, 58, 692, 178, 2, 693], [2, 23, 19, 45, 94, 1, 16, 146, 77, 12, 581, 2, 582], [1, 7, 162, 54, 14, 6, 4, 2, 44], [2, 78, 160, 30, 21, 97, 115, 8, 478], [1, 26, 576, 4, 9, 32, 111, 241, 135, 164], [1, 16, 148, 1, 5, 3, 56, 65], [10, 1, 90, 56, 656, 1, 7, 81, 6, 4, 2, 145], [1, 7, 6, 10, 1, 75, 14, 125], [144, 52, 60, 65, 62, 291, 197], [1, 160, 30, 15, 2, 69, 63, 826], [1, 7, 836, 44, 837, 21, 526], [158, 1, 47, 17, 1, 7, 51], [1, 5, 66, 80, 140, 2, 69], [2, 502, 37, 18, 13, 11, 971, 220, 15, 220, 10, 1, 59], [1, 7, 51, 25, 161, 3, 549, 266], [9, 122, 4, 2, 773, 73, 181, 4, 9, 84], [1, 5, 3, 6, 4, 2, 109], [1, 7, 19, 4, 2, 44], [44, 129, 45, 94], [1, 375, 5, 1021, 13, 21, 9, 1022, 67, 1, 72, 1023, 1, 375, 5, 423, 3, 109, 15, 2, 23], [35, 11, 3, 50, 6, 4, 2, 331, 1, 5, 87, 12, 341, 6, 262, 126, 31, 13, 225, 43, 229], [278, 2, 38, 37, 511, 338, 184], [2, 38, 37, 85, 205, 1, 116, 2, 696, 697], [120, 246, 214, 2, 34], [1, 7, 3, 50, 6, 4, 9, 42, 25, 309], [27, 43, 305, 131, 1, 5, 180, 21, 2, 48], [11, 35, 3, 711, 62, 66], [1, 7, 781, 659], [58, 49, 1, 194, 36, 266, 1, 172, 51], [1, 7, 22, 11, 81, 6, 4, 2, 74, 29], [2, 38, 129, 15, 9, 89, 275, 2, 593, 8, 249], [10, 27, 91, 242, 1, 154, 12, 7, 51], [1, 216, 196, 14, 6, 747, 12, 20, 174, 31, 1, 121, 7, 9, 440, 23, 6], [2, 38, 37, 18, 64, 4, 3, 658], [1, 7, 18, 144, 132, 130, 70, 4, 2, 250], [10, 1, 153, 17, 4, 9, 84, 1, 7, 51], [1, 5, 228, 117, 865, 4, 2, 40, 8, 87, 12, 866, 126, 31, 13, 203, 20, 174], [9, 475, 218, 26, 143, 3, 838, 4, 2, 839, 1, 840, 841, 1, 26, 141, 12, 842, 103, 424, 843], [1, 5, 3, 180, 4, 2, 844, 48, 447, 123, 448], [1, 5, 3, 23, 6, 114, 1, 954, 955, 495, 356], [1, 7, 224, 15, 2, 828], [1, 7, 151], [1, 375, 5, 1021, 13, 21, 9, 1022, 67, 1, 72, 1023, 1, 375, 5, 423, 3, 109, 15, 2, 23], [1, 319, 3, 54, 183, 28, 320, 30, 346, 1086, 10, 1, 318, 2, 28], [2, 28, 132, 754, 30, 8, 1, 5, 755, 3, 54, 14, 28, 323], [1, 5, 142, 235, 65], [1, 5, 3, 1038, 8, 1, 518, 1039, 31, 13, 1040, 229], [2, 32, 11, 45, 99, 16, 75, 1077], [1, 5, 66, 4, 2, 69, 8, 342, 1045, 4, 2, 806, 18, 314], [156, 1, 52, 3, 763, 6], [1, 5, 3, 48, 41, 10, 1, 79, 12, 9, 327], [1, 359, 340, 288, 943, 8, 1, 944, 1, 945, 91, 94, 462, 227, 2, 413, 67, 60, 946, 11, 456, 24, 92], [1, 5, 620, 15, 2, 69, 22, 300, 8, 79], [1, 72, 120, 273, 413], [192, 386, 11, 609, 18, 610], [2, 29, 96, 764, 6], [454, 930, 12, 245, 128, 53, 74, 931, 123, 214, 9, 368, 38], [1, 130, 169, 640], [1, 26, 1100, 1101, 8, 347, 5, 105, 76], [10, 1, 389, 2, 134, 1, 7, 6, 4, 2, 29], [2, 28, 11, 95, 30, 25, 1, 116, 3, 420], [2, 39, 11, 788, 24, 1, 16, 148, 789, 14, 13], [9, 663, 664, 14, 2, 383, 11, 177, 8, 7, 45, 33], [2, 413, 11, 1147, 80, 9, 49, 8, 259, 60, 1148, 1149, 4, 2, 250, 22, 286, 13, 1150, 62, 24, 12, 148], [1, 5, 3, 105, 76, 8, 1, 16, 100, 4, 9, 804, 138, 11, 9, 184, 463], [704, 57, 212, 8, 705, 14, 706], [1, 5, 210, 6, 4, 2, 44], [1, 7, 70, 162, 24, 4, 340, 61, 8, 1, 247, 116, 2, 61], [80, 14, 3, 374, 1, 172, 51, 10, 1, 1032, 17], [1, 7, 3, 81, 325, 14, 265, 14, 2, 32], [421, 685, 97, 686, 370, 181, 8, 168, 12, 9, 295], [1, 5, 384, 355, 15, 2, 40], [1, 7, 483, 6, 4, 2, 34, 25, 13, 26, 222, 143, 9, 112, 207], [35, 11, 36, 169, 548], [2, 40, 11, 314], [25, 111, 112, 1, 5, 109, 6, 21, 2, 758, 491], [2, 244, 7, 99, 18, 211, 73, 457, 21, 332], [1, 5, 3, 50, 6, 8, 482, 619, 4, 2, 118, 88, 10, 1, 104, 12, 47, 15, 13, 8, 59], [2, 118, 11, 163, 24], [9, 6, 37, 18, 64, 128, 345, 9, 40], [2, 29, 19, 24, 45, 94], [1, 26, 111, 241, 8, 1, 969, 2, 118], [2, 44, 19, 10, 1, 253], [2, 28, 11, 95, 338, 3, 184, 1, 86, 100, 3, 54, 14, 28, 15, 2, 294, 1050], [1, 649, 221, 650, 21, 3, 357, 137, 1, 26, 651], [2, 360, 23, 96, 124, 119, 62, 3, 511], [1, 5, 87, 12, 194, 458, 15, 2, 46, 31, 211, 121, 6, 24], [1, 7, 6, 4, 2, 186, 1, 86, 100, 859], [488, 26, 752, 12, 5, 36, 127, 55], [1, 7, 18, 1, 219, 12, 36, 1047, 1048, 8, 52, 1049, 279, 4, 2, 29], [2, 39, 19, 24, 8, 1, 16, 47, 21, 60, 6], [1, 5, 3, 160, 4, 9, 40, 275, 2, 405, 8, 847, 271, 8, 13, 307, 43, 231], [2, 109, 4, 2, 29, 455, 10, 1, 106, 2, 98], [10, 1, 20, 17, 1, 7, 51, 8, 267, 77], [1, 7, 6, 4, 2, 23], [1, 5, 87, 12, 262, 13, 31, 1, 16], [35, 73, 117, 115, 15, 2, 69, 22, 756, 24, 3, 54], [278, 1, 7, 18, 3, 811, 15, 2, 78, 22, 467, 24, 468], [2, 48, 41, 10, 27, 915, 12, 916], [1, 5, 620, 15, 2, 69, 22, 300, 8, 79], [13, 11, 18, 1, 5, 3, 451, 611, 227, 2, 44], [2, 673, 38, 11, 674], [316, 28, 1052], [2, 28, 11, 95, 338, 3, 184, 1, 86, 100, 3, 54, 14, 28, 15, 2, 294, 1050], [1, 7, 774, 4, 2, 78], [2, 32, 226, 51, 10, 1, 104, 12, 20, 17], [10, 1, 47, 17, 91, 195, 1, 154, 12, 7, 51, 8, 230, 274], [2, 39, 11, 788, 24, 1, 16, 148, 789, 14, 13], [1, 130, 66, 10, 1, 426, 538], [1, 7, 3, 173, 93, 4, 2, 934, 460, 935, 936, 25, 519, 937], [1, 7, 3, 81, 6, 4, 2, 29, 10, 1, 104, 12, 354, 70, 99], [10, 1, 389, 2, 134, 1, 7, 6, 4, 2, 29], [2, 673, 38, 11, 674], [13, 11, 18, 1, 5, 3, 451, 611, 227, 2, 44], [1, 72, 71, 45, 51, 38, 11, 45, 1037], [1, 5, 246, 4, 233, 4, 671, 672], [1, 5, 3, 50, 6, 4, 2, 39], [2, 39, 19, 24, 8, 1, 16, 245, 77, 53, 17], [1, 5, 757, 4, 2, 29], [1, 7, 6, 4, 2, 39, 137, 27, 294], [1, 5, 3, 251, 41, 4, 2, 32], [1, 7, 162, 54, 14, 6, 4, 2, 44], [1, 16, 814, 2, 39], [1, 5, 36, 127, 55, 4, 2, 98], [1, 5, 896, 76], [1, 7, 6, 10, 1, 75, 14, 125], [858, 364, 347, 315, 25, 36, 209, 53, 253], [1, 7, 32, 41], [1, 16, 166, 1119, 15, 2, 74, 46, 67, 2, 1120, 1121, 14, 9, 118, 74, 24, 21, 1122, 311], [35, 37, 18, 3, 179, 1095, 57, 2, 1096, 21, 6, 276, 103, 22], [35, 11, 66, 15, 2, 69], [1, 1069, 388, 9, 1070, 14, 2, 271, 137, 1, 26, 515, 117, 1071, 8, 1, 147, 150, 9, 243], [1, 216, 12, 5, 66, 10, 1, 26, 817, 495, 356], [10, 1, 735, 2, 186, 12, 736, 1, 5, 105, 76], [1, 5, 1055, 4, 2, 1056], [1, 20, 1, 88, 6, 10, 1, 104, 12, 146, 2, 206, 53, 2, 98], [2, 122, 41, 158, 13, 11, 33], [35, 11, 3, 50, 6, 4, 2, 48, 158, 1, 90, 60], [1, 447, 293, 8, 293, 14, 785, 12, 133, 9, 786, 184, 62, 2, 42, 41], [10, 1, 75, 14, 2, 787, 1, 7, 6], [1, 7, 29, 6, 57, 678, 14, 49], [10, 1, 170, 112, 1, 5, 109, 6], [1, 5, 3, 50, 6, 8, 482, 619, 4, 2, 118, 88, 10, 1, 104, 12, 47, 15, 13, 8, 59], [35, 73, 117, 115, 15, 2, 69, 22, 756, 24, 3, 54], [2, 48, 19, 24, 175], [1, 5, 3, 105, 76, 25, 2, 32, 26, 222, 156], [305, 139, 280, 679, 286, 2, 48, 129], [1, 130, 169, 640], [1, 130, 169, 640], [1, 247, 148, 67, 14, 65], [1140, 1, 170, 351, 1, 7, 3, 29, 6], [64, 56, 12, 47, 17, 8, 27, 214, 63, 1072], [1, 7, 85], [1, 216, 12, 5, 66, 10, 1, 26, 817, 495, 356], [1, 192, 388, 2, 523, 8, 114, 223, 1, 52, 56, 34, 6], [1, 507, 123, 508, 3, 517, 204, 256, 8, 60, 49, 143, 999, 2, 182, 1000, 1001, 8, 181], [1, 848, 71, 33, 159, 9, 264, 11, 242], [10, 1, 1141, 63, 56, 1, 7, 48, 41], [1, 90, 43, 7, 174, 4, 2, 145], [1, 5, 142, 235, 65], [1, 65, 3, 54, 10, 1, 729, 730, 138, 11, 199, 21, 2, 244], [1, 5, 3, 50, 6, 8, 482, 619, 4, 2, 118, 88, 10, 1, 104, 12, 47, 15, 13, 8, 59], [2, 855, 11, 45, 119], [2, 32, 11, 45, 99, 16, 75, 1077], [1, 319, 3, 54, 183, 28, 320, 30, 346, 1086, 10, 1, 318, 2, 28], [1, 7, 781, 659], [1, 113, 16, 201, 12, 20, 198, 102, 10, 753, 178, 24, 11, 198, 1, 132, 7, 33], [10, 1, 87, 12, 107, 198, 8, 269, 183, 285, 1, 228, 22, 1, 26, 121, 33], [2, 34, 19, 10, 1, 170, 532], [1, 5, 3, 68, 15, 2, 46, 22, 749, 83, 103, 316, 9, 750, 57, 9, 191], [1, 7, 6, 89, 1, 90, 43, 133, 138, 13, 11], [1, 5, 1089, 65, 21, 1090, 1091, 200, 1092], [1, 16, 298, 165, 1, 5, 3, 6, 4, 2, 34], [1, 5, 3, 56, 6, 4, 2, 42], [1, 5, 410, 258, 4, 2, 925], [1, 7, 3, 81, 325, 14, 265, 15, 9, 527, 14, 2, 39], [1, 52, 255, 6, 8, 1024, 10, 1, 426, 1025, 1026, 490, 156], [1, 68, 2, 46, 57, 9, 327, 8, 13, 442, 127, 58, 108, 10, 1, 59, 15, 13], [1, 5, 246, 4, 233, 4, 671, 672], [2, 23, 19, 45, 94, 1, 16, 146, 77, 12, 581, 2, 582], [1, 7, 32, 41], [2, 32, 19, 10, 27, 161, 60], [1, 5, 681, 186], [1, 7, 18, 2, 44, 11, 15, 1057], [1, 7, 18, 9, 525, 11, 366], [1, 192, 388, 2, 523, 8, 114, 223, 1, 52, 56, 34, 6], [1, 5, 3, 23, 6, 114, 1, 192, 15, 9, 1108], [2, 78, 66, 442, 30, 8, 322, 612, 17], [10, 20, 17, 1, 228, 22, 1, 5, 3, 42, 41, 8, 1, 87, 12, 116, 1051, 31, 2, 42, 121, 163, 24], [1, 5, 6, 31, 1, 16, 961, 962], [1, 5, 1055, 4, 2, 1056], [1, 5, 36, 48, 41, 10, 917], [10, 1, 170, 155, 1, 5, 117, 173, 93, 4, 2, 535], [1, 5, 391, 42, 6, 8, 372], [1, 20, 36, 48, 41, 10, 13, 11, 33], [50, 6, 8, 99, 233], [10, 1, 47, 17, 91, 195, 1, 154, 12, 7, 51, 8, 230, 274], [10, 1, 170, 112, 1, 5, 88, 6], [2, 23, 19, 45, 94, 1, 16, 146, 77, 12, 581, 2, 582], [1, 7, 565, 10, 1, 100, 2, 28, 95, 30], [10, 1, 26, 635, 1, 52, 36, 209, 103, 155, 4, 2, 34], [2, 913, 135, 406, 219, 12, 512, 67, 252, 26, 120, 3, 56, 49, 233], [2, 109, 4, 2, 29, 455, 10, 1, 106, 2, 98], [1, 7, 774, 4, 2, 78], [1, 5, 3, 97, 171, 22, 11, 329, 15, 2, 40], [1, 7, 3, 81, 6, 4, 2, 29, 88, 8, 13, 225, 43, 79, 188], [1, 216, 196, 14, 6, 747, 12, 20, 174, 31, 1, 121, 7, 9, 440, 23, 6], [2, 118, 88, 411, 10, 1, 217, 265, 15, 2, 46], [9, 122, 4, 2, 773, 73, 181, 4, 9, 84], [1, 68, 2, 46, 57, 9, 327, 8, 13, 442, 127, 58, 108, 10, 1, 59, 15, 13], [10, 1, 361, 3, 54, 1, 20, 3, 218], [2, 39, 96, 124, 119, 114, 9, 504], [1, 7, 3, 6, 4, 2, 23], [1, 7, 781, 659], [1, 7, 6, 89, 8, 1, 86, 43, 695, 13], [44, 129, 45, 94], [1, 16, 59, 2, 34, 19, 24], [731, 2, 44, 19, 24, 1, 87, 12, 107, 732, 8, 1, 16], [1, 5, 3, 251, 41, 4, 2, 32], [1, 216, 12, 5, 66, 10, 1, 26, 817, 495, 356], [2, 42, 129, 10, 1, 101, 168, 490, 82], [10, 1, 170, 112, 1, 5, 109, 6], [27, 71, 762], [1, 52, 3, 862, 137, 111, 241, 2, 34, 863, 8, 92, 64, 864], [1, 7, 6, 89, 1, 90, 43, 133, 138, 13, 11], [1, 16, 47, 17, 1, 7, 2, 424, 11, 214, 89, 2, 386], [1, 7, 29, 6, 57, 678, 14, 49], [2, 244, 7, 99, 18, 211, 73, 457, 21, 332], [1, 7, 45, 119, 4, 2, 42, 297], [42, 6, 25, 880, 881], [625, 626, 346, 409, 627, 8, 2, 23, 154, 12, 41], [144, 130, 3, 56, 49, 12, 61, 72, 1, 120, 3, 44, 575], [1, 5, 36, 600], [10, 1, 101, 1, 7, 2, 42, 19], [35, 11, 60, 6, 22, 481, 103, 2, 78, 17, 12, 2, 74, 98], [10, 1, 79, 12, 47, 2, 32, 364, 1044], [1, 5, 3, 46, 41, 205, 1, 110, 59, 3, 54], [1, 7, 18, 9, 525, 11, 366], [1, 5, 60, 215, 171, 15, 2, 98], [2, 28, 11, 95, 30, 25, 1, 116, 3, 420], [1, 5, 36, 48, 41, 10, 917], [52, 1, 1002, 15, 3, 451, 13, 1003, 5, 162, 45, 94, 18, 60, 1004, 1005, 4, 2, 1006], [1, 5, 109, 6, 57, 2, 74, 206], [10, 1, 354, 2, 337, 17, 1, 5, 3, 335, 4, 2, 249], [1, 7, 88, 6, 58, 49, 1, 106], [35, 73, 117, 115, 15, 2, 69, 22, 756, 24, 3, 54], [1, 26, 317, 21, 822, 823, 824, 240, 825, 82, 1, 132, 172, 33], [1, 7, 6, 89, 1, 90, 43, 133, 138, 13, 11], [1, 7, 3, 482, 93, 4, 2, 34, 519, 49, 1, 1103], [1, 110, 5, 9, 510, 12, 90, 9, 185, 22, 1, 216, 12], [35, 11, 6, 4, 9, 145, 1, 90, 43, 133, 418], [2, 38, 37, 85, 8, 1, 75, 22, 2, 69, 11, 564, 8, 1, 16, 148, 131], [1, 153, 17, 57, 164, 71, 33], [10, 1, 170, 112, 1, 5, 109, 6], [248, 867, 6], [1, 5, 3, 160, 4, 9, 40, 89, 239, 14, 2, 994, 22, 96, 328, 83, 8, 11, 92, 457, 21, 370], [1, 7, 33], [1, 7, 29, 6, 57, 678, 14, 49], [2, 44, 19, 10, 1, 253], [25, 111, 351, 1, 52, 3, 277, 93, 231, 12, 2, 39], [102, 176, 9, 264, 11, 242, 4, 9, 383, 2, 38, 11, 132, 33], [2, 28, 11, 95, 30, 4, 577], [2, 40, 11, 63, 235, 8, 531], [27, 120, 3, 56, 49, 305], [2, 74, 48, 11, 964, 31, 9, 128, 239, 37, 18, 64, 290, 965, 21, 3, 446], [13, 11, 56, 12, 61, 10, 1, 72, 4, 9, 708, 709, 710, 82], [1, 26, 111, 241, 8, 1, 969, 2, 118], [10, 1, 106, 2, 29, 64, 18, 860, 11, 290, 861, 227, 2, 29], [1, 7, 6, 4, 2, 38], [1, 213, 43, 253, 67, 14, 2, 34, 6], [1, 5, 3, 868, 429], [1, 7, 3, 54, 14, 6, 4, 9, 122], [1, 5, 3, 181, 1030, 4, 2, 303], [1, 315, 20, 3, 42, 41, 25, 1, 101, 1, 829, 124, 830, 12, 831, 240, 832, 419, 107, 9, 833], [1, 5, 3, 6, 4, 2, 888], [10, 1, 1141, 63, 56, 1, 7, 48, 41], [1, 216, 12, 5, 66, 10, 1, 26, 817, 495, 356], [2, 48, 19, 10, 1, 295, 13], [1, 546, 3, 254, 55, 4, 2, 134, 8, 1, 86, 43, 150, 9, 243], [1, 16, 47, 17, 1, 7, 2, 424, 11, 214, 89, 2, 386], [1, 153, 17, 57, 164, 71, 33], [1, 16, 47, 21, 60, 430, 71, 4, 2, 29], [1, 52, 3, 50, 6, 4, 2, 42], [1, 926, 140, 137, 927, 12, 928, 9, 929], [2, 292, 74, 24, 62, 554, 555, 2, 44, 19, 45, 175, 12, 9, 408, 1, 16, 101, 53, 148], [1, 5, 142, 29, 6], [1, 147, 306, 60, 479, 93, 1, 5, 4, 2, 78], [70, 384, 11, 35, 15, 2, 98], [1, 5, 3, 32, 6, 58, 652, 108], [2, 23, 19, 24, 3, 54], [2, 48, 19, 8, 64, 344, 10, 1, 622, 2, 48, 11, 63, 181, 8, 623, 379, 624], [1, 7, 81, 6, 4, 9, 32], [1, 7, 6, 4, 2, 250], [1, 5, 3, 50, 6, 4, 2, 367], [1, 7, 254, 398, 10, 1, 295, 66, 810, 123, 187, 93], [102, 159, 27, 36, 683, 2, 69, 684, 416, 30, 4, 115], [10, 27, 237, 1, 7, 2, 32, 99], [2, 44, 11, 682, 289, 8, 13, 591, 24], [1, 86, 260, 106, 2, 39, 13, 19], [10, 1, 735, 2, 186, 12, 736, 1, 5, 105, 76], [1, 5, 3, 6, 4, 2, 42], [1, 26, 779, 123, 780, 8, 1, 7, 51], [1, 5, 66, 4, 2, 69, 8, 342, 1045, 4, 2, 806, 18, 314], [1, 16, 20, 3, 403, 67, 14, 2, 66], [2, 152, 41, 15, 33, 8, 668, 204], [278, 1, 7, 18, 3, 811, 15, 2, 78, 22, 467, 24, 468], [1, 26, 576, 4, 9, 32, 111, 241, 135, 164], [2, 46, 19, 24, 3, 54, 14, 111, 112], [2, 23, 19, 45, 94, 1, 16, 146, 77, 12, 581, 2, 582], [1, 5, 3, 160, 4, 9, 40, 275, 2, 405, 8, 847, 271, 8, 13, 307, 43, 231], [10, 1, 318, 2, 28, 1, 319, 299, 599, 14, 28, 320, 30, 4, 9, 318], [2, 42, 129, 25, 1, 361, 139, 924, 361, 82], [2, 44, 19, 24], [1, 5, 246, 214, 2, 39], [1, 68, 2, 134, 3, 284, 14, 204, 256, 8, 205, 1, 394, 75, 1, 561, 13, 562, 13, 379, 563, 17], [2, 46, 52, 124, 224, 114, 135, 713], [1, 5, 228, 117, 865, 4, 2, 40, 8, 87, 12, 866, 126, 31, 13, 203, 20, 174], [1, 7, 33, 10, 9, 164, 948], [4, 1084, 1, 52, 3, 54, 14, 66], [1, 7, 19, 4, 2, 44], [1, 5, 3, 1038, 8, 1, 518, 1039, 31, 13, 1040, 229], [1, 7, 22, 11, 81, 6, 4, 2, 74, 29], [1, 5, 3, 23, 6, 114, 1, 954, 955, 495, 356], [1, 984, 3, 373, 62, 985, 986, 1, 7, 6, 4, 2, 46, 18, 46, 41], [1, 222, 221, 8, 9, 615, 203, 377, 12, 193], [1, 7, 18, 1, 113, 16, 579, 381, 1, 7, 580, 8, 18, 1, 113, 16, 20, 3, 160], [25, 238, 1, 5, 117, 6, 371, 2, 46], [1, 7, 796, 18, 36, 310, 797, 2, 798, 799, 22, 252, 800, 493, 801, 12, 802, 125, 45, 22, 252, 11, 198, 486], [10, 27, 237, 1, 7, 2, 32, 99], [1, 5, 3, 32, 6, 58, 652, 108], [102, 176, 9, 264, 11, 242, 4, 9, 383, 2, 38, 11, 132, 33], [2, 69, 11, 80, 177, 30, 21, 115], [11, 115, 3, 40, 236], [35, 11, 3, 398, 93, 4, 2, 39], [149, 90, 281, 133, 176, 281, 5, 3, 423, 536, 4, 537, 34], [1, 5, 3, 68, 22, 11, 97, 8, 179], [1, 7, 3, 215, 8, 277, 6, 89, 2, 396, 397], [1, 68, 221, 8, 27, 243], [259, 393, 4, 2, 39, 8, 13, 19], [1, 16, 330, 30, 14, 2, 48, 653, 1, 7, 18, 35, 11, 70, 4, 13, 431, 654], [2, 78, 160, 30, 21, 97, 115, 8, 478], [1, 7, 162, 54, 14, 6, 4, 2, 44], [1, 5, 3, 105, 76, 114, 1, 433, 17, 60, 84, 138, 213, 107, 9, 184], [2, 502, 37, 18, 13, 11, 971, 220, 15, 220, 10, 1, 59], [1, 5, 3, 48, 41, 10, 1, 79, 12, 9, 327], [1, 5, 1055, 4, 2, 1056], [192, 386, 11, 609, 18, 610], [2, 28, 11, 95, 338, 3, 184, 1, 86, 100, 3, 54, 14, 28, 15, 2, 294, 1050], [1, 110, 5, 313, 340, 4, 61, 31, 30, 61, 11, 45, 99], [10, 1, 75, 14, 2, 787, 1, 7, 6], [10, 1, 79, 12, 47, 2, 32, 364, 1044], [1, 16, 150, 263], [2, 23, 11, 163, 45, 94], [35, 73, 117, 115, 15, 2, 69, 22, 756, 24, 3, 54], [1, 7, 3, 50, 6, 4, 2, 32, 10, 1, 75, 91, 56], [25, 111, 112, 1, 5, 109, 6, 21, 2, 758, 491], [1, 26, 317, 21, 822, 823, 824, 240, 825, 82, 1, 132, 172, 33], [1, 434, 3, 99, 803, 156, 8, 10, 1, 20, 17, 464, 1, 172, 3, 81, 29, 6], [1, 5, 3, 6, 4, 2, 888], [35, 11, 60, 6, 22, 481, 103, 2, 78, 17, 12, 2, 74, 98], [1, 20, 707, 15, 2, 78, 21, 97, 349, 22, 20, 183, 449, 10, 1, 20, 168], [1, 546, 3, 254, 55, 4, 2, 134, 8, 1, 86, 43, 150, 9, 243], [1, 7, 3, 482, 93, 4, 2, 34, 519, 49, 1, 1103], [258, 53, 6, 22, 11, 172, 57, 117, 408, 234, 9, 212, 14, 9, 38, 275, 9, 39, 8, 360, 367], [35, 11, 3, 50, 6, 4, 2, 331], [1, 5, 384, 355, 15, 2, 40], [1, 926, 140, 137, 927, 12, 928, 9, 929], [10, 1, 87, 12, 1124, 9, 1125, 1126, 1, 228, 22, 1, 16, 330, 9, 1127, 14, 9, 1128], [1, 52, 3, 6, 4, 2, 34, 10, 1, 26, 288], [1, 437, 36, 676, 677, 4, 2, 76, 10, 1, 104, 12, 245, 57, 185, 17, 231], [1, 16, 90, 287, 1, 7, 3, 85, 4, 2, 38], [305, 139, 280, 679, 286, 2, 48, 129], [1, 5, 3, 50, 6, 8, 482, 619, 4, 2, 118, 88, 10, 1, 104, 12, 47, 15, 13, 8, 59], [1, 113, 16, 201, 12, 20, 198, 102, 10, 753, 178, 24, 11, 198, 1, 132, 7, 33], [281, 257, 793, 24, 31, 60, 83, 55, 15, 2, 134, 11, 103, 3, 794, 68, 1, 394, 116, 795], [25, 309, 1, 5, 173, 93, 89, 14, 24], [2, 32, 19, 4, 9, 23, 8, 9, 6, 543, 80, 108], [1, 130, 169, 640], [120, 246, 214, 2, 34], [10, 1, 59, 1, 20, 3, 485, 6, 4, 9, 339, 14, 2, 46], [9, 475, 218, 26, 143, 3, 838, 4, 2, 839, 1, 840, 841, 1, 26, 141, 12, 842, 103, 424, 843], [2, 122, 7, 179], [1, 7, 18, 9, 901, 902, 489, 8, 489], [2, 34, 812, 8, 19, 10, 1, 362, 47, 17, 25, 469], [1, 5, 3, 55, 275, 2, 516, 22, 226, 174, 1132, 8, 223, 1133, 1134, 108, 10, 1, 269, 1135, 528, 12, 298], [1, 7, 23, 6, 10, 1, 261, 99, 185], [1, 5, 410, 258, 4, 2, 925], [2, 32, 19, 24, 175], [1, 16, 106, 2, 29, 67, 14, 6], [1, 7, 19, 4, 2, 44], [1, 68, 2, 46, 57, 9, 327, 8, 13, 442, 127, 58, 108, 10, 1, 59, 15, 13], [1, 5, 228, 117, 865, 4, 2, 40, 8, 87, 12, 866, 126, 31, 13, 203, 20, 174], [2, 244, 7, 99, 18, 211, 73, 457, 21, 332], [1, 7, 6, 4, 2, 39, 25, 712, 17], [1, 7, 3, 50, 6, 4, 2, 32, 10, 1, 75, 91, 56], [1, 1015, 150, 1016, 53, 1017, 2, 1018, 1019, 149, 33, 1, 26], [625, 626, 346, 409, 627, 8, 2, 23, 154, 12, 41], [13, 37, 18, 441, 11, 559, 2, 32, 21, 3, 560, 1, 7, 6, 15, 9, 339, 14, 2, 32, 8, 13, 411], [1, 5, 3, 50, 6, 4, 2, 367], [1, 5, 3, 6, 22, 481, 17, 103, 2, 128, 869, 12, 2, 396, 397, 13, 11, 57, 64, 475, 10, 1, 870], [1, 68, 2, 271, 283, 3, 86, 13, 257, 150, 243, 8, 9, 55, 11, 721, 8, 127], [2, 119, 190, 18, 947, 43, 232, 131], [50, 6, 8, 99, 233], [1, 5, 36, 600], [10, 1, 101, 91, 94, 390, 2, 38, 226, 85, 8, 51], [10, 1, 101, 390, 1, 319, 2, 76, 621], [35, 11, 36, 169, 548], [10, 1, 59, 17, 3, 669, 14, 157, 2, 128, 34, 19], [1, 414, 196, 21, 40, 657], [1, 87, 12, 217, 2, 465, 12, 100, 183, 808, 31, 247, 466, 139, 809], [1, 827, 155, 67, 1, 20, 209, 103, 155], [1, 86, 260, 208], [2, 145, 7, 237], [1, 7, 6, 4, 2, 88, 25, 36, 209, 4, 9, 135, 112, 207, 1, 503], [1, 16, 298, 165, 1, 5, 3, 6, 4, 2, 34], [2, 40, 972, 15, 2, 23, 11, 97, 1, 110, 133, 82], [1, 20, 1, 88, 6, 10, 1, 104, 12, 146, 2, 206, 53, 2, 98], [13, 359, 202, 3, 506, 31, 464, 9, 6, 11, 312, 8, 427], [1, 5, 410, 258, 4, 2, 925], [1, 5, 3, 483, 29, 6], [1, 5, 3, 68, 22, 11, 97, 8, 179], [11, 2, 68, 83, 53, 113, 232], [35, 73, 293, 14, 551, 15, 2, 552, 4, 9, 84], [64, 56, 12, 100, 185], [1, 5, 3, 54, 14, 332, 10, 1, 65], [10, 1, 170, 112, 1, 5, 88, 6], [1, 20, 1, 88, 6, 10, 1, 104, 12, 146, 2, 206, 53, 2, 98], [1, 5, 29, 6, 25, 161, 139, 474, 298], [58, 49, 1, 116, 3, 254, 61, 1, 154, 263], [142, 6, 4, 9, 48], [1, 5, 3, 483, 29, 6], [2, 264, 940, 8, 2, 38, 20, 941], [1, 5, 3, 6, 22, 481, 17, 103, 2, 128, 869, 12, 2, 396, 397, 13, 11, 57, 64, 475, 10, 1, 870], [1, 5, 3, 40, 171, 25, 309, 36, 310, 126], [2, 918, 919, 920, 921, 922, 1, 7, 237, 14, 923, 298], [142, 6, 4, 9, 48], [16, 404, 363], [1, 5, 3, 50, 6, 4, 2, 136, 42], [2, 40, 972, 15, 2, 23, 11, 97, 1, 110, 133, 82], [9, 959, 14, 2, 303, 162, 10, 1, 269, 960], [1, 5, 384, 355, 15, 2, 40], [1, 5, 1089, 65, 21, 1090, 1091, 200, 1092], [1, 984, 3, 373, 62, 985, 986, 1, 7, 6, 4, 2, 46, 18, 46, 41], [2, 32, 11, 45, 99, 16, 75, 1077], [529, 530, 53, 283, 4, 9, 40], [1, 7, 6, 4, 2, 38], [35, 11, 60, 6, 22, 481, 103, 2, 78, 17, 12, 2, 74, 98], [1, 16, 47, 21, 60, 430, 71, 4, 2, 29], [1, 86, 260, 106, 2, 39, 13, 19], [1, 5, 3, 50, 6, 4, 2, 136, 42], [2, 46, 19, 8, 1, 16, 378, 13, 617, 64, 177], [1, 7, 3, 215, 8, 277, 6, 89, 2, 396, 397], [149, 90, 281, 133, 176, 281, 5, 3, 423, 536, 4, 537, 34], [1, 302, 3, 54, 14, 2, 28], [2, 78, 66, 442, 30, 8, 322, 612, 17], [1, 5, 681, 186], [1, 5, 3, 6, 255], [1, 5, 246, 4, 233, 4, 671, 672], [10, 1, 26, 635, 1, 52, 36, 209, 103, 155, 4, 2, 34], [2, 520, 145, 5, 81, 6, 114, 1, 26, 57, 191], [1, 7, 6, 4, 2, 42], [1, 5, 3, 55, 275, 2, 516, 22, 226, 174, 1132, 8, 223, 1133, 1134, 108, 10, 1, 269, 1135, 528, 12, 298], [35, 11, 3, 391, 724, 4, 2, 250], [1, 72, 376, 62, 2, 484, 67, 1, 86, 499, 363, 10, 1, 72, 57, 9, 1115, 2, 186, 7, 1116], [10, 1, 79, 12, 148, 1, 72, 71, 33], [2, 29, 11, 163, 24], [1102, 234, 9, 368, 367], [13, 359, 202, 3, 506, 31, 464, 9, 6, 11, 312, 8, 427], [2, 23, 19, 3, 54, 10, 1, 146], [1, 5, 228, 117, 865, 4, 2, 40, 8, 87, 12, 866, 126, 31, 13, 203, 20, 174], [1, 7, 18, 70, 11, 479, 2, 244], [1, 5, 3, 6, 4, 2, 109], [2, 78, 19, 10, 1, 79, 12, 116, 3, 61], [1, 7, 151], [1, 7, 33, 8, 395, 102, 159, 2, 285, 73, 99], [2, 38, 37, 85, 205, 1, 116, 2, 696, 697], [2, 46, 52, 124, 224, 114, 135, 713], [1, 5, 115, 15, 2, 23], [1, 5, 276, 311, 17, 8, 77, 2, 23], [70, 384, 11, 35, 15, 2, 98], [1, 5, 6, 4, 2, 78, 22, 655, 24], [138, 407, 613, 193, 614], [149, 90, 281, 133, 176, 281, 5, 3, 423, 536, 4, 537, 34], [1, 5, 3, 50, 6, 4, 2, 48], [1, 7, 23, 6, 10, 1, 261, 99, 185], [1, 5, 3, 160, 4, 9, 40, 275, 2, 405, 8, 847, 271, 8, 13, 307, 43, 231], [1, 7, 51, 8, 30, 14, 459], [2, 42, 37, 364, 163, 31, 223, 13, 37, 174, 25, 1, 101, 70, 980], [1, 7, 33], [248, 867, 6], [1, 5, 87, 12, 262, 13, 31, 1, 16], [2, 360, 23, 96, 124, 119, 62, 3, 511], [2, 28, 11, 95, 338, 3, 184, 1, 86, 100, 3, 54, 14, 28, 15, 2, 294, 1050], [1, 5, 87, 12, 194, 458, 15, 2, 46, 31, 211, 121, 6, 24], [2, 78, 19, 10, 1, 79, 12, 116, 3, 61], [9, 475, 218, 26, 143, 3, 838, 4, 2, 839, 1, 840, 841, 1, 26, 141, 12, 842, 103, 424, 843], [1, 5, 3, 6, 4, 2, 109], [58, 49, 13, 1087, 1, 20, 1088, 15, 2, 566, 8, 527], [1, 5, 66, 80, 140, 2, 69], [2, 40, 11, 314], [421, 55, 805], [1, 5, 3, 160, 4, 9, 40, 89, 239, 14, 2, 994, 22, 96, 328, 83, 8, 11, 92, 457, 21, 370], [1, 5, 246, 214, 2, 39], [1, 7, 6, 4, 2, 39, 25, 712, 17], [248, 236, 14, 28, 400, 8, 401, 402], [1, 434, 3, 99, 803, 156, 8, 10, 1, 20, 17, 464, 1, 172, 3, 81, 29, 6], [1, 16, 100, 9, 872, 1, 5, 3, 105, 76], [248, 867, 6], [1, 153, 17, 21, 3, 392, 39, 58, 84, 458, 407, 31, 223, 3, 284, 14, 204, 751, 64, 23, 432], [1, 447, 293, 8, 293, 14, 785, 12, 133, 9, 786, 184, 62, 2, 42, 41], [1, 16, 61, 67, 14, 65], [102, 159, 27, 36, 683, 2, 69, 684, 416, 30, 4, 115], [1, 5, 276, 311, 17, 8, 77, 2, 23], [1, 7, 51, 158, 1, 47, 17], [11, 2, 68, 83, 53, 113, 232], [1, 16, 330, 30, 14, 2, 48, 653, 1, 7, 18, 35, 11, 70, 4, 13, 431, 654], [2, 28, 11, 95, 30, 4, 577], [25, 238, 1, 5, 117, 6, 371, 2, 46], [10, 1, 47, 1, 7, 51, 1, 90, 43, 133, 82], [2, 23, 19, 24, 3, 54], [37, 18, 35, 73, 727, 8, 279, 728, 4, 2, 122], [80, 14, 3, 374, 1, 172, 51, 10, 1, 1032, 17], [35, 11, 3, 391, 724, 4, 2, 250], [9, 71, 14, 263, 1093, 4, 1094, 358], [1, 1012, 60, 1013, 71, 14, 1014, 213, 79, 188], [1, 827, 155, 67, 1, 20, 209, 103, 155], [1, 7, 6, 4, 2, 23], [435, 9, 445, 14, 660], [2, 23, 19, 45, 94, 1, 16, 146, 77, 12, 581, 2, 582], [1, 7, 81, 6, 4, 2, 303, 25, 111, 239, 14, 9, 155, 1123], [1140, 1, 170, 351, 1, 7, 3, 29, 6], [1, 192, 388, 2, 523, 8, 114, 223, 1, 52, 56, 34, 6], [1, 130, 3, 539, 135, 406, 8, 1, 113, 16, 150, 540, 15, 149, 12, 20, 541, 15, 2, 542, 292], [1, 447, 293, 8, 293, 14, 785, 12, 133, 9, 786, 184, 62, 2, 42, 41], [1, 5, 3, 235, 250], [2, 38, 37, 85, 8, 1, 87, 12, 194, 13, 834, 31, 13, 835, 6, 24], [1, 7, 6, 4, 2, 44, 10, 1, 153, 17], [1, 16, 330, 30, 14, 2, 48, 653, 1, 7, 18, 35, 11, 70, 4, 13, 431, 654], [2, 32, 19, 4, 9, 23, 8, 9, 6, 543, 80, 108], [10, 1, 170, 155, 1, 5, 117, 173, 93, 4, 2, 535], [80, 2, 38, 11, 4, 3, 187, 909, 8, 1, 200, 3, 165, 352], [1, 7, 6, 4, 2, 34], [1, 7, 6, 4, 2, 250], [1, 72, 376, 149, 33, 906, 1, 72, 1, 72, 132, 907, 102, 30, 4, 9, 908], [37, 18, 35, 73, 727, 8, 279, 728, 4, 2, 122], [35, 11, 3, 50, 6, 4, 2, 331], [2, 189, 96, 3, 54, 14, 66], [2, 28, 11, 95, 30, 4, 399, 325], [138, 407, 613, 193, 614], [2, 48, 19, 10, 1, 295, 13], [1, 7, 18, 1, 113, 16, 579, 381, 1, 7, 580, 8, 18, 1, 113, 16, 20, 3, 160], [1, 20, 395, 8, 129, 80, 140], [1, 147, 20, 198, 282, 415, 149, 94, 1, 661, 17, 53, 149, 242, 1, 217, 9, 662, 15], [2, 32, 11, 366, 10, 1, 20, 17], [35, 11, 3, 50, 6, 4, 2, 331], [1, 75, 2, 55, 11, 83], [1, 86, 260, 208], [1, 5, 3, 50, 6, 4, 2, 48], [13, 359, 202, 3, 506, 31, 464, 9, 6, 11, 312, 8, 427], [1, 130, 169, 640], [1, 7, 70, 162, 24, 4, 340, 61, 8, 1, 247, 116, 2, 61], [13, 11, 18, 1, 5, 3, 451, 611, 227, 2, 44], [1, 7, 3, 173, 93, 4, 2, 934, 460, 935, 936, 25, 519, 937], [1, 7, 85, 80, 140], [9, 297, 178, 2, 44, 203, 7, 165], [1, 153, 17, 57, 164, 71, 33], [1, 16, 47, 17, 1, 7, 2, 424, 11, 214, 89, 2, 386], [9, 142, 6, 4, 9, 42, 1, 7], [1, 52, 196, 14, 253, 156, 45, 1, 7, 50, 109, 311], [2, 46, 19, 8, 1, 16, 378, 13, 617, 64, 177], [1, 7, 166, 151, 80, 9, 49], [10, 27, 484, 2, 186, 100, 4, 568], [13, 270, 89, 2, 182], [70, 384, 11, 35, 15, 2, 98], [102, 159, 27, 36, 683, 2, 69, 684, 416, 30, 4, 115], [2, 119, 190, 18, 947, 43, 232, 131], [1, 222, 2, 32, 57, 9, 348, 873, 213, 1, 5, 3, 874], [2, 48, 19, 8, 64, 344, 10, 1, 622, 2, 48, 11, 63, 181, 8, 623, 379, 624], [1, 979, 2, 46, 8, 13, 166, 19], [258, 53, 6, 22, 11, 172, 57, 117, 408, 234, 9, 212, 14, 9, 38, 275, 9, 39, 8, 360, 367], [1, 315, 20, 3, 42, 41, 25, 1, 101, 1, 829, 124, 830, 12, 831, 240, 832, 419, 107, 9, 833], [1, 16, 814, 2, 39], [2, 39, 37, 392], [1, 130, 3, 539, 135, 406, 8, 1, 113, 16, 150, 540, 15, 149, 12, 20, 541, 15, 2, 542, 292], [1, 5, 36, 255, 6, 1, 147, 790], [99, 61, 21, 939], [1, 16, 106, 2, 32, 17, 8, 77], [1, 5, 3, 235, 250], [2, 98, 19, 10, 1, 425], [2, 39, 19, 24, 8, 1, 16, 245, 77, 53, 17], [1, 5, 3, 50, 6, 4, 2, 39], [1, 7, 18, 765, 192, 4, 168, 462], [144, 132, 124, 63, 461, 31, 92, 1, 113, 110, 5, 9, 438, 53, 510, 12, 79, 62, 102, 3, 268, 59], [1, 52, 255, 6, 8, 1024, 10, 1, 426, 1025, 1026, 490, 156], [1, 20, 299, 349, 14, 1011, 115, 15, 2, 23, 8, 211, 162], [1, 7, 33, 10, 9, 164, 948], [1, 7, 6, 4, 9, 34, 10, 238], [10, 1, 361, 3, 54, 1, 20, 3, 218], [1, 7, 3, 6, 4, 2, 23], [1, 7, 3, 81, 6, 4, 2, 29, 88, 8, 13, 225, 43, 79, 188], [1, 5, 3, 180, 4, 2, 844, 48, 447, 123, 448], [1, 16, 59, 2, 34, 19, 24], [10, 1, 361, 3, 54, 1, 20, 3, 218], [2, 34, 812, 8, 19, 10, 1, 362, 47, 17, 25, 469], [9, 122, 4, 2, 773, 73, 181, 4, 9, 84], [1, 7, 3, 81, 325, 14, 265, 15, 9, 527, 14, 2, 39], [1, 7, 19, 4, 2, 44], [1, 68, 2, 46, 57, 9, 327, 8, 13, 442, 127, 58, 108, 10, 1, 59, 15, 13], [27, 63, 376, 22, 974, 79, 975, 976, 72, 1, 63, 977], [1, 16, 59, 131, 1, 5, 36, 41, 4, 2, 46], [1, 5, 6, 18, 279, 4, 2, 122], [2, 29, 129, 10, 1, 104, 12, 354, 409, 740], [1, 7, 22, 11, 81, 6, 4, 2, 74, 29], [1, 315, 20, 3, 50, 6, 4, 2, 78, 8, 1, 16, 586, 138, 27, 161, 22, 419, 107, 587, 13], [58, 49, 1, 494, 2, 28, 35, 73, 45, 492, 28, 4, 2, 494], [1, 172, 2, 44, 19, 10, 1, 509, 62, 234, 895], [1, 68, 2, 134, 3, 284, 14, 197, 256, 8, 102, 159, 1, 404, 316, 36, 588, 126, 64, 43, 589, 174], [2, 189, 130, 3, 1033, 493, 197, 256, 8, 9, 40, 178, 13, 11, 1034, 8, 168, 8, 13, 190, 83], [1, 26, 169, 143, 112, 207, 1, 26, 317, 21, 745, 746], [1, 7, 6, 89, 1, 90, 43, 133, 138, 13, 11], [2, 32, 41, 114, 1, 433, 17, 60, 84], [2, 34, 19, 10, 1, 170, 532], [1, 7, 33], [1, 26, 111, 112, 8, 618, 21, 88, 6], [2, 913, 135, 406, 219, 12, 512, 67, 252, 26, 120, 3, 56, 49, 233], [1, 7, 51, 8, 30, 14, 459], [1, 7, 3, 6, 4, 2, 39], [1, 315, 20, 3, 42, 41, 25, 1, 101, 1, 829, 124, 830, 12, 831, 240, 832, 419, 107, 9, 833], [1, 5, 3, 6, 4, 2, 888], [258, 53, 6, 22, 11, 172, 57, 117, 408, 234, 9, 212, 14, 9, 38, 275, 9, 39, 8, 360, 367], [9, 297, 178, 2, 44, 203, 7, 165], [1, 5, 3, 81, 42, 41, 8, 1, 16, 101, 139, 670], [58, 49, 1, 494, 2, 28, 35, 73, 45, 492, 28, 4, 2, 494], [1, 7, 3, 335, 4, 2, 152, 10, 1, 59], [1, 26, 779, 123, 780, 8, 1, 7, 51], [13, 11, 18, 1, 5, 3, 451, 611, 227, 2, 44], [1, 5, 620, 15, 2, 69, 22, 300, 8, 79], [9, 663, 664, 14, 2, 383, 11, 177, 8, 7, 45, 33], [1, 130, 169, 640], [10, 1, 1141, 63, 56, 1, 7, 48, 41], [27, 694], [1, 7, 6, 4, 2, 42], [1140, 1, 170, 351, 1, 7, 3, 29, 6], [1, 16, 59, 67, 1, 5, 3, 81, 46, 41], [2, 413, 11, 1147, 80, 9, 49, 8, 259, 60, 1148, 1149, 4, 2, 250, 22, 286, 13, 1150, 62, 24, 12, 148], [1, 7, 3, 81, 6, 4, 2, 29, 10, 1, 104, 12, 354, 70, 99], [1, 7, 6, 4, 2, 39, 137, 27, 294], [1140, 1, 170, 351, 1, 7, 3, 29, 6], [1, 16, 59, 67, 1, 5, 3, 81, 46, 41], [144, 437, 2, 28, 95, 30, 3, 54, 323], [144, 87, 343, 981, 31, 982, 86, 983, 24, 17], [1, 7, 33, 8, 395, 102, 159, 2, 285, 73, 99], [1, 7, 151, 18, 162, 53, 6], [1, 213, 43, 253, 67, 14, 2, 34, 6], [10, 1, 354, 2, 337, 17, 1, 5, 3, 335, 4, 2, 249], [35, 37, 18, 3, 179, 1095, 57, 2, 1096, 21, 6, 276, 103, 22], [1, 5, 3, 218, 723, 58, 108], [1, 7, 3, 399, 496, 6, 25, 1, 326, 17, 21, 2, 403], [2, 28, 11, 95, 10, 1, 72, 382, 13], [2, 38, 37, 18, 64, 4, 3, 658], [1, 7, 6, 4, 2, 39], [10, 1, 318, 2, 28, 1, 319, 299, 599, 14, 28, 320, 30, 4, 9, 318], [60, 373, 505, 15, 2, 74, 1053, 11, 103, 95, 388, 2, 1054, 523], [2, 136, 23, 19, 31, 13, 698, 176, 1, 425, 13], [2, 78, 66, 442, 30, 8, 322, 612, 17], [82, 11, 2, 29, 224, 10, 1, 104, 12, 1007, 17, 9, 1008], [1, 75, 1, 741, 13, 10, 1, 434, 80, 22, 742, 103, 9, 743, 2, 136, 23, 11, 456, 24], [1, 7, 3, 215, 8, 277, 6, 89, 2, 396, 397], [1, 75, 259, 321, 4, 2, 182], [1, 247, 148, 67, 14, 65], [2, 991, 359, 224, 25, 1, 219, 12, 9, 191], [1, 113, 16, 201, 12, 20, 198, 102, 10, 753, 178, 24, 11, 198, 1, 132, 7, 33], [2, 66, 270, 8, 380], [1, 7, 3, 220, 15, 220, 6, 4, 2, 152, 10, 1, 471, 157], [57, 362, 13, 37, 166, 1145, 31, 223, 3, 1146, 279, 154, 12, 526, 227, 2, 46], [2, 40, 11, 329, 8, 304], [1, 5, 212, 32, 6, 8, 10, 1, 20, 13, 9, 230, 958, 24], [1, 7, 3, 81, 6, 4, 2, 29, 10, 1, 104, 12, 354, 70, 99], [2, 39, 11, 788, 24, 1, 16, 148, 789, 14, 13], [2, 109, 4, 2, 29, 455, 10, 1, 106, 2, 98], [58, 84, 10, 1, 153, 17, 2, 39, 37, 18, 1, 633, 15, 4, 199], [2, 39, 19, 24, 8, 1, 16, 47, 21, 60, 6], [2, 48, 41, 10, 27, 915, 12, 916], [27, 43, 71, 165, 1, 20, 448, 55], [10, 1, 361, 3, 54, 1, 20, 3, 218], [9, 34, 37, 18, 13, 641, 8, 1, 347, 147, 146, 13, 381], [1, 7, 3, 220, 15, 220, 6, 4, 2, 152, 10, 1, 471, 157], [2, 44, 11, 682, 289, 8, 13, 591, 24], [13, 270, 89, 2, 182], [1, 5, 681, 186], [10, 1, 47, 17, 91, 195, 1, 154, 12, 7, 51, 8, 230, 274], [1, 5, 1089, 65, 21, 1090, 1091, 200, 1092], [1, 7, 18, 35, 11, 70, 179, 8, 304, 57, 9, 23, 14, 2, 34], [1, 7, 6, 4, 9, 34, 10, 238], [10, 1, 47, 1, 7, 51, 1, 90, 43, 133, 82], [10, 1, 59, 1, 20, 3, 485, 6, 4, 9, 339, 14, 2, 46], [1, 5, 6, 4, 2, 78, 22, 655, 24], [1, 26, 317, 21, 725, 1, 16, 61, 726], [1, 5, 3, 39, 6, 10, 1, 272, 4, 212, 14, 2, 422], [10, 1, 261, 99, 185, 1, 7, 18, 416, 2, 23], [1, 984, 3, 373, 62, 985, 986, 1, 7, 6, 4, 2, 46, 18, 46, 41], [1, 7, 6, 4, 9, 34], [13, 37, 18, 1, 16, 116, 3, 254, 61], [10, 27, 484, 2, 186, 100, 4, 568], [1, 7, 3, 220, 15, 220, 6, 4, 2, 152, 10, 1, 471, 157], [2, 44, 37, 18, 64, 141, 12, 572], [2, 189, 96, 3, 54, 14, 66], [1, 5, 276, 311, 17, 8, 77, 2, 23], [13, 37, 18, 2, 44, 11, 141, 12, 766, 30, 14, 2, 38, 13, 19], [58, 84, 10, 1, 153, 17, 2, 39, 37, 18, 1, 633, 15, 4, 199], [10, 1, 20, 30, 14, 592, 4, 9, 84, 2, 38, 37, 63, 85], [2, 48, 11, 556], [2, 119, 387, 232, 131, 8, 64, 124, 18, 60, 62, 291, 197], [1, 7, 45, 119, 4, 2, 42, 297], [1, 5, 3, 180, 4, 2, 23, 1, 147, 444, 13], [2, 128, 29, 722, 10, 1, 106, 2, 98], [156, 1, 52, 3, 763, 6], [1, 5, 3, 50, 6, 4, 2, 367], [1, 16, 59, 131, 1, 5, 36, 41, 4, 2, 46], [2, 23, 19, 3, 54, 10, 1, 146], [1, 5, 3, 105, 76, 8, 1, 16, 100, 4, 9, 804, 138, 11, 9, 184, 463], [1, 5, 3, 81, 42, 41, 8, 1, 16, 101, 139, 670], [9, 297, 178, 2, 44, 203, 7, 165], [1, 16, 59, 131, 1, 5, 36, 41, 4, 2, 46], [1, 110, 133, 82, 27, 687, 151], [2, 48, 19, 24, 175], [1, 7, 81, 6, 4, 9, 32], [10, 1, 20, 17, 1, 7, 51, 8, 267, 77], [1, 5, 3, 68, 22, 11, 97, 8, 179], [10, 1, 101, 91, 94, 390, 2, 38, 226, 85, 8, 51], [25, 3, 558, 1, 7, 70, 215, 4, 24], [1, 7, 836, 44, 837, 21, 526], [2, 46, 19, 8, 1, 16, 378, 13, 617, 64, 177], [1, 649, 221, 650, 21, 3, 357, 137, 1, 26, 651], [1, 7, 6, 4, 2, 34], [1, 7, 18, 35, 11, 70, 179, 8, 304, 57, 9, 23, 14, 2, 34], [480, 190, 18, 714, 4, 3, 715, 297], [1, 147, 306, 60, 479, 93, 1, 5, 4, 2, 78], [6, 4, 9, 1028, 39], [2, 134, 127, 55, 130, 83], [1, 5, 3, 6, 4, 2, 1020, 88], [1, 5, 896, 76], [1, 507, 123, 508, 3, 517, 204, 256, 8, 60, 49, 143, 999, 2, 182, 1000, 1001, 8, 181], [27, 43, 71, 165, 1, 16, 116, 2, 61], [1, 7, 63, 85, 4, 2, 38], [158, 1, 47, 17, 1, 7, 51], [1, 26, 1100, 1101, 8, 347, 5, 105, 76], [2, 40, 11, 329, 8, 304], [10, 1, 146, 140, 1, 20, 3, 276, 6, 77, 2, 23], [2, 38, 37, 85, 8, 1, 87, 12, 194, 13, 834, 31, 13, 835, 6, 24], [10, 1, 101, 390, 1, 319, 2, 76, 621], [1, 7, 45, 119, 4, 2, 42, 297], [2, 264, 940, 8, 2, 38, 20, 941], [2, 28, 11, 320, 30, 4, 631, 333, 10, 1, 632, 13], [35, 11, 3, 50, 6, 4, 2, 744], [2, 48, 19, 8, 64, 344, 10, 1, 622, 2, 48, 11, 63, 181, 8, 623, 379, 624], [10, 1, 87, 12, 1124, 9, 1125, 1126, 1, 228, 22, 1, 16, 330, 9, 1127, 14, 9, 1128], [1, 68, 2, 271, 283, 3, 86, 13, 257, 150, 243, 8, 9, 55, 11, 721, 8, 127], [1, 5, 210, 6, 4, 2, 44], [1, 5, 60, 215, 171, 15, 2, 98], [1, 7, 51, 25, 142, 680], [1, 16, 100, 131], [2, 34, 19, 10, 1, 170, 532], [1, 16, 47, 17, 1, 7, 2, 424, 11, 214, 89, 2, 386], [1, 437, 36, 676, 677, 4, 2, 76, 10, 1, 104, 12, 245, 57, 185, 17, 231], [2, 38, 37, 85, 8, 1, 75, 22, 2, 69, 11, 564, 8, 1, 16, 148, 131], [10, 1, 20, 17, 1, 100, 2, 40, 675], [10, 1, 87, 12, 116, 942, 176, 2, 28, 1, 228, 22, 13, 11, 95, 30], [2, 855, 11, 45, 119], [1, 130, 66, 10, 1, 426, 538], [2, 189, 96, 3, 54, 14, 66], [2, 32, 19, 24, 175], [1, 848, 71, 33, 159, 9, 264, 11, 242], [1, 16, 106, 2, 32, 17, 8, 77], [1, 507, 123, 508, 3, 517, 204, 256, 8, 60, 49, 143, 999, 2, 182, 1000, 1001, 8, 181], [1, 192, 3, 454, 4, 2, 733, 8, 249], [1, 5, 246, 4, 233, 4, 671, 672], [1, 414, 196, 21, 40, 657], [1, 247, 208], [1, 1015, 150, 1016, 53, 1017, 2, 1018, 1019, 149, 33, 1, 26], [1, 7, 6, 4, 9, 34, 10, 238], [1, 90, 43, 7, 174, 4, 2, 145], [99, 61, 21, 939], [1, 7, 6, 4, 2, 42], [27, 4, 200, 62, 3, 352, 62, 2, 28, 267], [1, 5, 6, 4, 2, 42], [1, 7, 6, 4, 2, 23], [1, 5, 3, 160, 4, 9, 40, 89, 239, 14, 2, 994, 22, 96, 328, 83, 8, 11, 92, 457, 21, 370], [1, 52, 3, 33, 9, 135, 49, 1, 507, 123, 508, 8, 1, 121, 5, 3, 258, 4, 2, 182], [2, 74, 48, 11, 964, 31, 9, 128, 239, 37, 18, 64, 290, 965, 21, 3, 446], [1, 5, 3, 218, 58, 49, 1, 101, 310, 126], [1, 7, 6, 4, 2, 39], [9, 6, 11, 449, 333, 10, 1, 79, 77, 9, 157, 13, 37, 18, 70, 96, 849, 89, 2, 34], [10, 1, 20, 17, 1, 7, 51, 8, 267, 77], [1, 7, 3, 54, 14, 6, 4, 9, 122], [10, 27, 237, 1, 7, 2, 32, 99], [2, 119, 190, 18, 947, 43, 232, 131], [10, 1, 170, 155, 1, 5, 117, 173, 93, 4, 2, 535], [1, 16, 100, 131], [2, 74, 350, 129, 94], [2, 28, 11, 95, 30, 25, 1, 116, 3, 420], [1, 110, 90, 287, 57, 474, 8, 121, 1, 7, 875], [1, 90, 43, 133, 82, 1, 7, 33], [1, 5, 29, 6, 10, 1, 104, 12, 261, 2, 893], [336, 393, 8, 246, 238], [1, 5, 115, 15, 2, 23], [2, 28, 11, 95, 30, 4, 399, 325], [1, 7, 151, 18, 162, 53, 6], [10, 27, 545, 4, 9, 84, 1, 7, 215, 8, 5, 452], [10, 27, 484, 2, 186, 100, 4, 568], [10, 27, 237, 1, 7, 2, 32, 99], [2, 44, 37, 18, 64, 141, 12, 572], [25, 111, 351, 1, 52, 3, 277, 93, 231, 12, 2, 39], [1, 16, 59, 131, 1, 5, 36, 41, 4, 2, 46], [1, 7, 18, 765, 192, 4, 168, 462], [2, 189, 52, 3, 850, 851, 8, 9, 852, 853, 68, 9, 89, 14, 167, 854, 8, 92, 13, 307, 43, 193], [11, 35, 3, 711, 62, 66], [10, 1, 87, 12, 116, 942, 176, 2, 28, 1, 228, 22, 13, 11, 95, 30], [2, 38, 37, 85, 8, 1, 75, 22, 2, 69, 11, 564, 8, 1, 16, 148, 131], [1, 7, 258, 557, 9, 38, 4, 410], [2, 39, 37, 392], [35, 11, 3, 97, 970, 4, 2, 40], [1, 147, 306, 60, 479, 93, 1, 5, 4, 2, 78], [1, 52, 255, 6, 8, 1024, 10, 1, 426, 1025, 1026, 490, 156], [2, 32, 19, 4, 9, 23, 8, 9, 6, 543, 80, 108], [80, 2, 38, 11, 4, 3, 187, 909, 8, 1, 200, 3, 165, 352], [35, 11, 6, 4, 2, 122, 1, 86, 43, 306, 6], [27, 120, 3, 56, 49, 305], [2, 46, 19, 8, 1, 16, 378, 13, 617, 64, 177], [10, 1, 170, 112, 1, 5, 88, 6], [35, 11, 36, 169, 548], [1, 7, 6, 4, 2, 128, 29, 25, 9, 351, 207], [10, 1, 90, 56, 656, 1, 7, 81, 6, 4, 2, 145], [1, 5, 3, 160, 4, 9, 40, 275, 2, 405, 8, 847, 271, 8, 13, 307, 43, 231], [1, 26, 169, 143, 112, 207, 1, 26, 317, 21, 745, 746], [10, 1, 170, 112, 1, 5, 88, 6], [144, 124, 71, 63, 151, 323], [138, 407, 613, 193, 614], [16, 90, 139, 253, 1, 7, 85], [1, 247, 148, 67, 14, 65], [9, 663, 664, 14, 2, 383, 11, 177, 8, 7, 45, 33], [1, 926, 140, 137, 927, 12, 928, 9, 929], [2, 68, 1129, 53, 1130, 1131, 370], [2, 145, 7, 237], [2, 32, 11, 366, 10, 1, 20, 17], [1, 16, 47, 21, 60, 430, 71, 4, 2, 42], [2, 34, 37, 85, 8, 13, 775, 324, 9, 342, 108, 57, 9, 339, 14, 9, 157, 776, 35, 26, 3, 777, 12, 778, 15, 12], [1, 7, 857], [1, 5, 3, 68, 22, 96, 328, 97, 8, 380, 412], [5, 142, 33, 8, 65], [1, 7, 6, 89, 8, 1, 86, 43, 695, 13], [1, 5, 246, 214, 2, 39], [2, 152, 41, 15, 33, 8, 668, 204], [10, 1, 26, 635, 1, 52, 36, 209, 103, 155, 4, 2, 34], [1, 68, 2, 134, 3, 284, 14, 204, 256, 8, 205, 1, 394, 75, 1, 561, 13, 562, 13, 379, 563, 17], [1, 20, 436, 14, 115, 15, 2, 69, 22, 322, 79, 188], [1, 7, 51, 25, 161, 3, 549, 266], [114, 1, 219, 369, 9, 630, 1, 5, 6, 15, 2, 48], [1, 5, 6, 4, 2, 78, 22, 655, 24], [102, 176, 9, 264, 11, 242, 4, 9, 383, 2, 38, 11, 132, 33], [10, 27, 237, 1, 7, 2, 32, 99], [1, 5, 117, 6, 10, 27, 238, 178, 2, 152], [2, 66, 270, 8, 380], [2, 673, 38, 11, 674], [1, 5, 109, 6, 57, 2, 74, 206], [1, 5, 3, 6, 4, 2, 32], [1, 5, 3, 6, 255], [35, 37, 18, 3, 179, 1095, 57, 2, 1096, 21, 6, 276, 103, 22], [316, 28, 1052], [1, 7, 18, 144, 132, 130, 70, 4, 2, 250], [10, 1, 583, 125, 1, 7, 77], [2, 189, 815, 167, 39, 21, 36, 356, 816, 8, 22, 500, 96, 328, 304, 8, 190, 18, 13, 11, 83], [1, 86, 547, 150, 263], [9, 55, 11, 121, 127], [1, 827, 155, 67, 1, 20, 209, 103, 155], [625, 626, 346, 409, 627, 8, 2, 23, 154, 12, 41], [2, 122, 41, 158, 13, 11, 33], [13, 359, 202, 3, 506, 31, 464, 9, 6, 11, 312, 8, 427], [1, 7, 254, 398, 10, 1, 295, 66, 810, 123, 187, 93], [58, 49, 1, 116, 3, 254, 61, 1, 154, 263], [1, 7, 3, 482, 93, 4, 2, 34, 519, 49, 1, 1103], [2, 44, 19, 24], [1, 359, 340, 288, 943, 8, 1, 944, 1, 945, 91, 94, 462, 227, 2, 413, 67, 60, 946, 11, 456, 24, 92], [1, 702, 5, 3, 187, 65, 10, 1, 20, 703], [1, 7, 22, 64, 56, 12, 61, 62, 24, 950, 25, 273, 53, 951, 139, 266], [1, 7, 3, 399, 496, 6, 25, 1, 326, 17, 21, 2, 403], [1, 247, 148, 67, 14, 65], [1, 7, 6, 4, 2, 32, 21, 3, 452], [2, 32, 19, 10, 27, 161, 60], [13, 37, 18, 441, 497, 3, 357, 369, 2, 29], [10, 1, 47, 17, 91, 195, 1, 154, 12, 7, 51, 8, 230, 274], [10, 1, 354, 2, 337, 17, 1, 5, 3, 335, 4, 2, 249], [82, 11, 2, 29, 224, 10, 1, 104, 12, 1007, 17, 9, 1008], [1, 5, 109, 6, 57, 2, 74, 206], [10, 1, 261, 99, 185, 1, 7, 18, 416, 2, 23], [1, 7, 3, 6, 15, 9, 74, 350, 14, 2, 78, 978, 2, 44, 11], [1, 414, 196, 21, 40, 657], [2, 28, 95, 30], [13, 37, 18, 1, 16, 116, 3, 254, 61], [2, 32, 226, 51, 10, 1, 104, 12, 20, 17], [1, 7, 51, 25, 161, 3, 549, 266], [1, 20, 210, 995, 58, 517, 996, 8, 10, 1, 20, 365, 2, 76, 11, 997], [1, 7, 162, 54, 14, 6, 4, 2, 44], [1, 16, 106, 2, 32, 17, 8, 77], [1, 7, 565, 10, 1, 100, 2, 28, 95, 30], [1, 59, 58, 108, 31, 92, 1, 20, 268, 14, 61, 25, 141, 514, 3, 268, 324], [1, 16, 148, 1, 5, 3, 56, 65], [1, 7, 18, 9, 525, 11, 366], [1, 5, 3, 50, 6, 4, 2, 39], [27, 120, 3, 56, 49, 343, 67, 9, 628, 73, 80, 629], [35, 6, 4, 2, 46], [1, 7, 3, 399, 496, 6, 25, 1, 326, 17, 21, 2, 403], [2, 98, 19, 10, 1, 425], [167, 83, 55, 26, 1009, 12, 1010], [2, 78, 19, 10, 1, 973], [1, 26, 111, 112, 8, 618, 21, 88, 6], [27, 429, 103, 50, 65, 477, 123, 605], [2, 152, 41, 15, 33, 8, 668, 204], [1, 7, 6, 4, 2, 46], [1, 7, 109, 6, 58, 49, 1, 194, 36, 1046, 266], [2, 413, 11, 1147, 80, 9, 49, 8, 259, 60, 1148, 1149, 4, 2, 250, 22, 286, 13, 1150, 62, 24, 12, 148], [10, 1, 47, 17, 91, 195, 1, 154, 12, 7, 51, 8, 230, 274], [2, 673, 38, 11, 674], [1, 5, 620, 15, 2, 69, 22, 300, 8, 79], [10, 1, 106, 15, 2, 29, 6, 938, 77, 2, 98], [1, 359, 340, 288, 943, 8, 1, 944, 1, 945, 91, 94, 462, 227, 2, 413, 67, 60, 946, 11, 456, 24, 92], [1, 110, 90, 287, 57, 474, 8, 121, 1, 7, 875], [1, 7, 70, 162, 24, 4, 340, 61, 8, 1, 247, 116, 2, 61], [1, 5, 105, 76, 25, 1, 216, 3, 199, 642], [27, 4, 200, 62, 3, 352, 62, 2, 28, 267], [64, 56, 12, 100, 185], [1, 68, 2, 271, 283, 3, 86, 13, 257, 150, 243, 8, 9, 55, 11, 721, 8, 127], [1, 52, 3, 50, 6, 4, 2, 42], [2, 48, 19, 8, 64, 344, 10, 1, 622, 2, 48, 11, 63, 181, 8, 623, 379, 624], [2, 32, 19, 8, 1, 302, 9, 93, 4, 2, 69, 223, 302, 459, 4, 2, 353], [1, 453, 100, 3, 463, 1, 5, 36, 127, 55], [2, 918, 919, 920, 921, 922, 1, 7, 237, 14, 923, 298], [1, 910, 492, 911, 31, 211, 16, 466, 9, 128, 352, 912, 2, 28, 23], [1, 326, 2, 118, 137, 161, 636, 637, 4, 9, 638], [10, 1, 47, 17, 91, 616, 2, 76, 11, 105], [1, 5, 3, 50, 6, 4, 2, 136, 42], [1, 5, 3, 40, 171, 25, 309, 36, 310, 126], [1, 7, 6, 4, 2, 34], [1, 5, 6, 4, 2, 42], [35, 11, 6, 4, 9, 145, 1, 90, 43, 133, 418], [25, 111, 112, 1, 5, 109, 6, 21, 2, 758, 491], [2, 23, 11, 163, 45, 94], [156, 1, 52, 3, 763, 6], [1, 26, 779, 123, 780, 8, 1, 7, 51], [1, 7, 85, 80, 140], [1, 5, 3, 312, 4, 2, 122], [1, 7, 51, 10, 1, 689, 4, 212, 14, 2, 422, 62, 36, 690, 53, 291, 138, 691, 213, 107, 9, 184], [10, 1, 47, 17, 91, 195, 1, 154, 12, 7, 51, 8, 230, 274], [13, 11, 18, 1, 5, 3, 451, 611, 227, 2, 44], [1, 5, 3, 105, 76, 8, 1, 16, 100, 4, 9, 804, 138, 11, 9, 184, 463], [1, 7, 85, 80, 140], [1, 7, 3, 173, 93, 4, 2, 934, 460, 935, 936, 25, 519, 937], [9, 663, 664, 14, 2, 383, 11, 177, 8, 7, 45, 33], [156, 1, 52, 3, 763, 6], [1, 52, 36, 504, 8, 2, 55, 26, 127, 10, 1, 1041, 12, 512], [1, 7, 63, 56, 12, 208], [1, 20, 3, 34, 6, 10, 1, 59, 3, 54], [2, 643, 7, 18, 211, 73, 644, 202, 645, 8, 73, 312], [27, 694], [2, 29, 96, 764, 6], [1, 7, 85], [10, 1, 389, 2, 134, 1, 7, 6, 4, 2, 29], [1, 7, 6, 10, 1066, 1067, 1068], [2, 66, 226, 344, 10, 13, 11, 168], [1, 302, 3, 54, 14, 2, 28], [1, 5, 3, 54, 14, 332, 10, 1, 65], [2, 334, 26, 876, 123, 125, 877, 8, 92, 125, 134, 11, 119, 97, 8, 179, 8, 9, 55, 11, 308, 878], [10, 1, 583, 125, 1, 7, 77], [2, 122, 41, 158, 13, 11, 33], [1, 5, 3, 483, 29, 6], [1, 5, 3, 251, 41, 4, 2, 136, 23, 240, 286, 13, 470, 12, 106], [144, 124, 71, 63, 151, 323], [27, 120, 3, 56, 49, 305], [1, 52, 3, 50, 6, 4, 2, 42], [10, 1, 59, 64, 56, 12, 61], [80, 2, 38, 11, 4, 3, 187, 909, 8, 1, 200, 3, 165, 352], [1, 86, 260, 106, 2, 39, 13, 19], [35, 11, 66, 15, 2, 69], [1, 5, 169, 221, 143, 9, 241, 207], [2, 28, 387, 131], [192, 386, 11, 609, 18, 610], [9, 883, 884, 45, 885, 143, 9, 886, 15, 2, 118, 22, 1, 147, 47, 290, 887, 15, 9, 505], [1, 87, 12, 217, 2, 465, 12, 100, 183, 808, 31, 247, 466, 139, 809], [1, 5, 109, 6, 57, 2, 74, 206], [1, 16, 47, 17, 53, 272, 77, 1, 5, 3, 6, 4, 2, 23, 22, 784, 24], [1, 7, 3, 50, 6, 4, 2, 42], [1, 5, 29, 6, 10, 1, 104, 12, 261, 2, 893], [2, 55, 26, 83, 10, 1, 26, 1117, 117, 1118, 4, 2, 524], [1, 5, 757, 4, 2, 29], [529, 530, 53, 283, 4, 9, 40], [1, 7, 18, 9, 525, 11, 366], [1, 1063, 2, 66], [2, 69, 160, 30, 175, 58, 692, 178, 2, 693], [10, 27, 91, 242, 1, 154, 12, 7, 51], [1, 16, 150, 263], [1, 7, 3, 81, 325, 14, 265, 15, 9, 527, 14, 2, 39], [1, 7, 385], [1, 5, 255, 6, 158, 1, 300, 77, 21, 3, 33], [1, 192, 227, 3, 767, 137, 1, 26, 768, 13, 8, 1, 5, 3, 769, 14, 443, 497, 4, 2, 74, 353, 1, 75, 13, 11, 770, 771], [9, 34, 37, 18, 13, 641, 8, 1, 347, 147, 146, 13, 381], [1, 65, 3, 54, 10, 1, 729, 730, 138, 11, 199, 21, 2, 244], [281, 257, 793, 24, 31, 60, 83, 55, 15, 2, 134, 11, 103, 3, 794, 68, 1, 394, 116, 795], [2, 39, 19, 24, 8, 1, 16, 47, 21, 60, 6], [1, 546, 3, 254, 55, 4, 2, 134, 8, 1, 86, 43, 150, 9, 243], [1, 20, 237, 91, 289, 1, 86, 499, 217, 15, 2, 285, 4, 9, 84], [11, 35, 3, 711, 62, 66], [2, 32, 41, 114, 1, 433, 17, 60, 84], [10, 1, 75, 14, 2, 787, 1, 7, 6], [1, 7, 6, 4, 2, 249, 10, 1, 533, 15, 9, 534], [1, 153, 17, 21, 3, 392, 39, 58, 84, 458, 407, 31, 223, 3, 284, 14, 204, 751, 64, 23, 432], [2, 44, 19, 137, 27, 151, 82], [1, 5, 3, 97, 171, 22, 11, 329, 15, 2, 40], [2, 34, 812, 8, 19, 10, 1, 362, 47, 17, 25, 469], [1, 5, 3, 180, 4, 2, 844, 48, 447, 123, 448], [1, 5, 3, 55, 275, 2, 516, 22, 226, 174, 1132, 8, 223, 1133, 1134, 108, 10, 1, 269, 1135, 528, 12, 298], [1, 7, 6, 4, 9, 34, 10, 238], [1, 7, 18, 9, 901, 902, 489, 8, 489], [336, 393, 8, 246, 238], [10, 27, 545, 4, 9, 84, 1, 7, 215, 8, 5, 452], [10, 1, 20, 30, 14, 592, 4, 9, 84, 2, 38, 37, 63, 85], [1, 7, 18, 1, 113, 16, 579, 381, 1, 7, 580, 8, 18, 1, 113, 16, 20, 3, 160], [25, 309, 1, 5, 173, 93, 89, 14, 24], [13, 37, 18, 441, 11, 559, 2, 32, 21, 3, 560, 1, 7, 6, 15, 9, 339, 14, 2, 32, 8, 13, 411], [435, 9, 445, 14, 660], [1, 414, 196, 21, 2, 39, 6, 8, 1, 166, 200, 12, 107, 174], [1, 5, 66, 80, 140, 2, 69], [10, 1, 106, 2, 29, 64, 18, 860, 11, 290, 861, 227, 2, 29], [1, 7, 6, 4, 2, 186, 1, 86, 100, 859], [1, 5, 3, 6, 4, 2, 88], [9, 6, 4, 2, 48, 11, 427], [248, 236, 14, 28, 400, 8, 401, 402], [1, 7, 33], [1, 5, 66, 80, 140, 2, 69], [1, 5, 3, 160, 4, 9, 40, 275, 2, 405, 8, 847, 271, 8, 13, 307, 43, 231], [278, 1, 7, 18, 3, 811, 15, 2, 78, 22, 467, 24, 468], [158, 1, 47, 17, 1, 7, 51], [10, 1, 20, 17, 1, 7, 51, 8, 267, 77], [1, 5, 3, 68, 22, 96, 328, 97, 8, 380, 412], [1, 7, 258, 557, 9, 38, 4, 410], [2, 40, 972, 15, 2, 23, 11, 97, 1, 110, 133, 82], [2, 28, 11, 95, 30, 4, 399, 325], [1, 7, 321, 476, 12, 300, 17, 10, 1, 65], [1, 7, 520, 6], [1, 5, 3, 81, 6, 4, 2, 46, 18, 665, 6, 21, 666, 2, 6, 667], [1, 5, 3, 46, 41, 4, 688, 53, 10, 13, 37, 33, 82], [1, 68, 2, 134, 3, 284, 14, 204, 256, 8, 205, 1, 394, 75, 1, 561, 13, 562, 13, 379, 563, 17], [1, 26, 576, 4, 9, 32, 111, 241, 135, 164], [1, 247, 208], [1, 130, 3, 539, 135, 406, 8, 1, 113, 16, 150, 540, 15, 149, 12, 20, 541, 15, 2, 542, 292], [27, 120, 3, 56, 49, 343, 67, 9, 628, 73, 80, 629], [1, 90, 43, 7, 174, 4, 2, 145], [1, 16, 148, 1, 5, 3, 56, 65], [1, 16, 106, 2, 206, 35, 11, 6, 4, 9, 88], [1, 26, 576, 4, 9, 32, 111, 241, 135, 164], [1, 7, 6, 4, 2, 46], [1, 7, 3, 606, 4, 2, 78], [1, 5, 3, 105, 76, 143, 2, 288, 590, 4, 9, 327, 82], [2, 46, 19, 24, 3, 54, 14, 111, 112], [27, 120, 3, 56, 49, 343, 67, 9, 628, 73, 80, 629], [1, 216, 196, 14, 6, 747, 12, 20, 174, 31, 1, 121, 7, 9, 440, 23, 6], [1, 7, 6, 4, 9, 34], [2, 29, 129, 10, 1, 104, 12, 354, 409, 740], [1, 5, 3, 97, 171, 22, 11, 329, 15, 2, 40], [1, 7, 781, 659], [2, 44, 19, 137, 27, 151, 82], [1, 7, 3, 399, 496, 6, 25, 1, 326, 17, 21, 2, 403], [2, 69, 160, 30, 175, 58, 692, 178, 2, 693], [1, 7, 565, 10, 1, 100, 2, 28, 95, 30], [1, 16, 261, 287, 1, 5, 3, 6, 4, 2, 29], [1, 7, 63, 85, 4, 2, 38], [1, 7, 51, 25, 161, 3, 549, 266], [1, 160, 30, 15, 2, 69, 63, 826], [1, 87, 196, 14, 126, 31, 1, 121, 7, 9, 440, 40, 180], [2, 39, 19, 24, 8, 1, 16, 245, 77, 53, 17], [35, 6, 4, 2, 46], [2, 74, 350, 129, 94], [1, 5, 648, 21, 2, 40], [2, 34, 203, 377, 12, 146, 131], [35, 11, 36, 169, 548], [2, 334, 26, 876, 123, 125, 877, 8, 92, 125, 134, 11, 119, 97, 8, 179, 8, 9, 55, 11, 308, 878], [64, 56, 12, 100, 185], [1, 447, 293, 8, 293, 14, 785, 12, 133, 9, 786, 184, 62, 2, 42, 41], [1, 5, 3, 68, 22, 11, 97, 8, 179], [1, 5, 3, 81, 6, 4, 2, 46, 18, 665, 6, 21, 666, 2, 6, 667], [25, 3, 558, 1, 7, 70, 215, 4, 24], [13, 19, 10, 1, 389, 2, 98, 17], [13, 270, 89, 2, 182], [9, 6, 4, 2, 23, 1031, 18, 3, 50, 357, 4, 13], [10, 1, 106, 2, 29, 64, 18, 860, 11, 290, 861, 227, 2, 29], [2, 420, 818, 11, 296, 14, 28, 58, 49], [2, 44, 19, 24], [9, 6, 37, 18, 64, 128, 345, 9, 40], [1, 5, 3, 235, 40], [2, 152, 41, 15, 33, 8, 668, 204], [1, 5, 3, 6, 4, 2, 888], [316, 28, 1052], [2, 360, 23, 96, 124, 119, 62, 3, 511], [278, 1, 65, 67, 27, 3, 914], [2, 28, 11, 95, 10, 1, 72, 382, 13], [1, 110, 133, 82, 27, 687, 151], [258, 53, 6, 22, 11, 172, 57, 117, 408, 234, 9, 212, 14, 9, 38, 275, 9, 39, 8, 360, 367], [2, 42, 129, 25, 1, 361, 139, 924, 361, 82], [1, 7, 6, 4, 2, 186, 1, 86, 100, 859], [1, 5, 3, 71, 18, 2, 368, 38, 11, 956], [10, 1, 47, 17, 91, 195, 1, 154, 12, 7, 51, 8, 230, 274], [1, 7, 3, 6, 15, 9, 74, 350, 14, 2, 78, 978, 2, 44, 11], [2, 145, 4, 2, 136, 23, 73, 224], [1, 7, 3, 50, 6, 4, 2, 42], [10, 2, 1081, 1082, 1083, 1, 172, 3, 56, 496, 6], [1, 52, 196, 14, 253, 156, 45, 1, 7, 50, 109, 311], [27, 43, 165, 27, 71, 45, 33], [1, 5, 681, 186], [10, 1, 79, 12, 47, 2, 32, 364, 1044], [281, 257, 793, 24, 31, 60, 83, 55, 15, 2, 134, 11, 103, 3, 794, 68, 1, 394, 116, 795], [1, 26, 111, 241, 8, 1, 969, 2, 118], [10, 1, 87, 12, 107, 198, 8, 269, 183, 285, 1, 228, 22, 1, 26, 121, 33], [258, 53, 6, 22, 11, 172, 57, 117, 408, 234, 9, 212, 14, 9, 38, 275, 9, 39, 8, 360, 367], [1, 5, 3, 71, 18, 2, 368, 38, 11, 956], [1, 7, 44, 6, 10, 1, 59, 3, 54], [60, 373, 505, 15, 2, 74, 1053, 11, 103, 95, 388, 2, 1054, 523], [1, 110, 5, 313, 340, 4, 61, 31, 30, 61, 11, 45, 99], [1, 7, 51, 8, 30, 14, 459], [1, 5, 87, 12, 262, 13, 31, 1, 16], [1, 998, 68, 2, 271, 67, 14, 111, 112, 8, 1, 12, 341, 6, 262, 126, 31, 13, 225, 43, 229], [1, 75, 1, 450, 2, 118, 13, 166, 19], [11, 2, 68, 83, 53, 113, 232], [2, 69, 11, 80, 177, 30, 21, 115], [2, 66, 270, 8, 380], [11, 115, 3, 40, 236], [1, 5, 3, 251, 41, 4, 2, 42, 13, 226, 344, 25, 1, 101], [1, 5, 3, 50, 6, 4, 2, 367], [2, 152, 201, 12, 544, 202, 1, 79, 17, 53, 77, 157], [1, 5, 117, 6, 10, 27, 238, 178, 2, 152], [2, 66, 11, 166, 567, 64, 45, 417], [2, 42, 37, 296, 8, 570, 8, 372, 25, 299, 571], [1, 16, 378, 2, 39, 12, 9, 74, 338, 71, 3, 485, 6], [10, 1, 101, 390, 1, 319, 2, 76, 621], [25, 238, 1, 5, 117, 6, 371, 2, 46], [102, 159, 27, 36, 683, 2, 69, 684, 416, 30, 4, 115], [2, 48, 11, 556], [70, 384, 11, 35, 15, 2, 98], [35, 11, 3, 398, 93, 4, 2, 39], [1, 222, 2, 32, 57, 9, 348, 873, 213, 1, 5, 3, 874], [10, 27, 237, 1, 7, 2, 32, 99], [2, 66, 270, 8, 380], [1, 326, 2, 118, 137, 161, 636, 637, 4, 9, 638], [2, 48, 19, 8, 64, 344, 10, 1, 622, 2, 48, 11, 63, 181, 8, 623, 379, 624], [1, 7, 166, 151, 80, 9, 49], [2, 44, 11, 634, 289, 8, 27, 120, 3, 56, 49, 12, 61], [1, 5, 3, 63, 171, 93, 231, 12, 2, 337], [10, 1, 20, 30, 14, 592, 4, 9, 84, 2, 38, 37, 63, 85], [1, 7, 32, 41], [2, 32, 19, 158, 1, 104, 12, 90, 70], [2, 29, 19, 24, 45, 94], [1, 7, 385], [2, 34, 19, 10, 1, 59], [1, 16, 150, 263], [2, 34, 19, 10, 1, 170, 532], [421, 55, 805], [1, 16, 607, 2, 608, 57, 164, 67, 1, 5, 105, 76], [1, 5, 648, 21, 2, 40], [1, 5, 60, 215, 171, 15, 2, 98], [192, 386, 11, 609, 18, 610], [1, 5, 109, 6, 57, 2, 74, 206], [1, 200, 3, 819, 14, 126, 820, 194, 2, 145, 183, 821], [1, 7, 70, 162, 24, 4, 340, 61, 8, 1, 247, 116, 2, 61], [13, 11, 18, 1, 5, 3, 451, 611, 227, 2, 44], [1, 216, 12, 107, 30, 14, 61, 25, 141, 17, 3, 1058, 14, 157, 31, 92, 1, 1059, 12, 61, 102, 10, 1, 272, 77], [35, 11, 45, 94, 6, 10, 1, 106, 2, 98], [10, 1, 146, 140, 1, 20, 3, 276, 6, 77, 2, 23], [9, 297, 178, 2, 44, 203, 7, 165], [2, 29, 96, 764, 6], [13, 11, 18, 1, 5, 3, 451, 611, 227, 2, 44], [1, 359, 340, 288, 943, 8, 1, 944, 1, 945, 91, 94, 462, 227, 2, 413, 67, 60, 946, 11, 456, 24, 92], [1, 7, 3, 173, 93, 4, 2, 934, 460, 935, 936, 25, 519, 937], [27, 694], [1, 7, 85], [1, 200, 3, 819, 14, 126, 820, 194, 2, 145, 183, 821], [52, 1, 1002, 15, 3, 451, 13, 1003, 5, 162, 45, 94, 18, 60, 1004, 1005, 4, 2, 1006], [82, 11, 2, 29, 224, 10, 1, 104, 12, 1007, 17, 9, 1008], [1, 5, 109, 6, 57, 2, 74, 206], [1, 7, 6, 4, 2, 42], [1, 5, 246, 4, 233, 4, 671, 672], [1, 7, 6, 4, 9, 136, 23], [2, 69, 160, 30, 175, 58, 692, 178, 2, 693], [1, 5, 3, 251, 41, 4, 2, 32], [167, 83, 55, 26, 1009, 12, 1010], [1, 7, 33, 205, 891, 73, 4, 892], [1, 5, 3, 46, 41, 4, 688, 53, 10, 13, 37, 33, 82], [99, 61, 21, 939], [2, 991, 359, 224, 25, 1, 219, 12, 9, 191], [27, 43, 71, 165, 1, 16, 116, 2, 61], [2, 38, 37, 85, 8, 1, 87, 12, 194, 13, 834, 31, 13, 835, 6, 24], [1, 5, 896, 76], [316, 28, 1052], [2, 29, 19, 24, 45, 94], [1, 16, 298, 165, 1, 5, 3, 6, 4, 2, 34], [1, 7, 18, 9, 901, 902, 489, 8, 489], [1, 7, 81, 6, 4, 9, 32], [1, 984, 3, 373, 62, 985, 986, 1, 7, 6, 4, 2, 46, 18, 46, 41], [10, 1, 47, 17, 91, 195, 1, 154, 12, 7, 51, 8, 230, 274], [144, 437, 2, 28, 95, 30, 3, 54, 323], [6, 4, 9, 1028, 39], [2, 55, 734, 17, 432], [1, 222, 9, 889, 10, 476, 12, 890, 3, 348], [2, 189, 96, 3, 54, 14, 66], [58, 49, 13, 1087, 1, 20, 1088, 15, 2, 566, 8, 527], [1, 16, 59, 67, 1, 5, 3, 81, 46, 41], [897, 173, 898, 899, 23, 21, 56, 900, 487], [1, 260, 5, 486, 992, 12, 20, 17], [1, 5, 648, 21, 2, 40], [2, 48, 19, 10, 1, 295, 13], [1, 702, 5, 3, 187, 65, 10, 1, 20, 703], [1, 7, 3, 50, 6, 4, 2, 32, 10, 1, 75, 91, 56], [2, 38, 37, 85, 8, 1, 75, 22, 2, 69, 11, 564, 8, 1, 16, 148, 131], [10, 1, 87, 12, 116, 942, 176, 2, 28, 1, 228, 22, 13, 11, 95, 30], [2, 69, 96, 177, 30, 4, 181, 97, 355, 8, 791, 22, 282, 415, 149, 94, 1, 792, 2, 69, 110, 201, 12, 107, 141, 188], [1, 72, 594, 12, 306, 472, 15, 2, 34, 10, 1, 47, 595, 1, 7, 8, 330, 3, 280, 596, 597], [35, 73, 293, 14, 551, 15, 2, 552, 4, 9, 84], [1, 16, 378, 2, 39, 12, 9, 74, 338, 71, 3, 485, 6], [2, 292, 74, 24, 62, 554, 555, 2, 44, 19, 45, 175, 12, 9, 408, 1, 16, 101, 53, 148], [10, 1, 170, 155, 1, 5, 117, 173, 93, 4, 2, 535], [2, 66, 11, 166, 567, 64, 45, 417], [2, 66, 270, 8, 380], [13, 270, 89, 2, 182], [102, 176, 9, 264, 11, 242, 4, 9, 383, 2, 38, 11, 132, 33], [1, 72, 376, 62, 2, 484, 67, 1, 86, 499, 363, 10, 1, 72, 57, 9, 1115, 2, 186, 7, 1116], [1, 5, 3, 97, 171, 22, 11, 329, 15, 2, 40], [2, 32, 11, 45, 99, 16, 75, 1077], [1, 7, 3, 50, 6, 4, 9, 42, 25, 309], [2, 78, 19, 10, 1, 79, 12, 116, 3, 61], [27, 43, 71, 165, 1, 20, 448, 55], [58, 49, 1, 245, 12, 74, 1, 7, 3, 50, 6, 4, 2, 39], [27, 43, 305, 131, 1, 5, 180, 21, 2, 48], [10, 1, 153, 17, 4, 9, 84, 1, 7, 51], [1, 7, 3, 6, 4, 2, 23], [1, 72, 594, 12, 306, 472, 15, 2, 34, 10, 1, 47, 595, 1, 7, 8, 330, 3, 280, 596, 597], [144, 130, 3, 56, 49, 12, 61, 72, 1, 120, 3, 44, 575], [144, 124, 71, 63, 151, 323], [10, 27, 161, 553, 1, 5, 6, 371, 2, 40], [1, 7, 18, 1, 113, 16, 579, 381, 1, 7, 580, 8, 18, 1, 113, 16, 20, 3, 160], [1, 5, 3, 68, 22, 96, 328, 97, 8, 380, 412], [1, 5, 3, 550, 15, 2, 405, 22, 307, 43, 193], [1, 7, 6, 4, 2, 46], [1, 7, 51, 25, 142, 680], [1, 7, 18, 9, 525, 11, 366], [1, 7, 6, 4, 2, 39, 137, 27, 294], [1, 302, 3, 54, 14, 2, 28], [144, 52, 60, 65, 62, 291, 197], [1, 7, 6, 10, 1066, 1067, 1068], [25, 36, 56, 294, 108, 1, 5, 46, 41], [1, 75, 2, 55, 11, 83], [1, 7, 6, 4, 2, 34], [1, 5, 6, 18, 279, 4, 2, 122], [1, 375, 5, 1021, 13, 21, 9, 1022, 67, 1, 72, 1023, 1, 375, 5, 423, 3, 109, 15, 2, 23], [278, 2, 38, 37, 511, 338, 184], [27, 4, 200, 62, 3, 352, 62, 2, 28, 267], [1, 5, 3, 54, 14, 332, 10, 1, 65], [1, 910, 492, 911, 31, 211, 16, 466, 9, 128, 352, 912, 2, 28, 23], [10, 1, 59, 17, 3, 669, 14, 157, 2, 128, 34, 19], [11, 115, 3, 40, 236], [1, 7, 18, 1, 113, 16, 579, 381, 1, 7, 580, 8, 18, 1, 113, 16, 20, 3, 160], [1, 7, 166, 151, 80, 9, 49], [58, 84, 10, 1, 153, 17, 2, 39, 37, 18, 1, 633, 15, 4, 199], [1, 5, 3, 32, 6, 58, 652, 108], [114, 1, 219, 369, 9, 630, 1, 5, 6, 15, 2, 48], [1, 5, 276, 311, 17, 8, 77, 2, 23], [1, 7, 3, 215, 8, 277, 6, 89, 2, 396, 397], [10, 27, 161, 553, 1, 5, 6, 371, 2, 40], [2, 152, 201, 12, 544, 202, 1, 79, 17, 53, 77, 157], [1, 7, 51, 158, 1, 47, 17], [1, 7, 3, 81, 325, 14, 265, 14, 2, 32], [1, 447, 293, 8, 293, 14, 785, 12, 133, 9, 786, 184, 62, 2, 42, 41], [1, 26, 169, 143, 112, 207, 1, 26, 317, 21, 745, 746], [1, 5, 29, 6, 25, 161, 139, 474, 298], [1, 5, 3, 277, 6, 89, 2, 39], [13, 19, 10, 1, 389, 2, 98, 17], [1, 453, 100, 3, 463, 1, 5, 36, 127, 55], [1, 222, 9, 889, 10, 476, 12, 890, 3, 348], [2, 32, 19, 8, 1, 302, 9, 93, 4, 2, 69, 223, 302, 459, 4, 2, 353], [1, 16, 61, 67, 14, 65], [1, 86, 260, 106, 2, 39, 13, 19], [2, 119, 190, 18, 947, 43, 232, 131], [102, 159, 27, 36, 683, 2, 69, 684, 416, 30, 4, 115], [1, 5, 3, 483, 29, 6], [1, 68, 2, 271, 283, 3, 86, 13, 257, 150, 243, 8, 9, 55, 11, 721, 8, 127], [421, 685, 97, 686, 370, 181, 8, 168, 12, 9, 295], [1, 5, 3, 50, 6, 4, 2, 136, 42], [1, 5, 3, 251, 41, 4, 2, 136, 23, 240, 286, 13, 470, 12, 106], [1, 68, 2, 134, 3, 284, 14, 197, 256, 8, 102, 159, 1, 404, 316, 36, 588, 126, 64, 43, 589, 174], [2, 122, 41, 158, 13, 11, 33], [1, 910, 492, 911, 31, 211, 16, 466, 9, 128, 352, 912, 2, 28, 23], [35, 6, 4, 2, 46], [10, 1, 26, 635, 1, 52, 36, 209, 103, 155, 4, 2, 34], [248, 220, 236, 57, 9, 699, 14, 9, 700, 14, 9, 136, 701], [1, 998, 68, 2, 271, 67, 14, 111, 112, 8, 1, 12, 341, 6, 262, 126, 31, 13, 225, 43, 229], [2, 42, 37, 364, 163, 31, 223, 13, 37, 174, 25, 1, 101, 70, 980], [2, 189, 52, 167, 301, 439, 8, 13, 11, 179, 8, 9, 40, 89, 15, 167, 301, 11, 584, 8, 190, 83], [1, 20, 436, 14, 115, 15, 2, 69, 22, 322, 79, 188], [2, 44, 19, 10, 1, 253], [1, 16, 261, 287, 1, 5, 3, 6, 4, 2, 29], [1, 68, 2, 134, 3, 284, 14, 204, 256, 8, 205, 1, 394, 75, 1, 561, 13, 562, 13, 379, 563, 17], [2, 360, 23, 96, 124, 119, 62, 3, 511], [1, 7, 18, 1, 219, 12, 36, 1047, 1048, 8, 52, 1049, 279, 4, 2, 29], [2, 420, 818, 11, 296, 14, 28, 58, 49], [1, 5, 6, 4, 2, 882, 8, 2, 42, 18, 70, 515, 13], [1, 68, 2, 134, 3, 284, 14, 197, 256, 8, 102, 159, 1, 404, 316, 36, 588, 126, 64, 43, 589, 174], [2, 264, 940, 8, 2, 38, 20, 941], [27, 4, 200, 62, 3, 352, 62, 2, 28, 267], [2, 32, 19, 8, 1, 302, 9, 93, 4, 2, 69, 223, 302, 459, 4, 2, 353], [10, 1, 47, 17, 91, 616, 2, 76, 11, 105], [2, 38, 37, 85, 25, 2, 362, 108, 4, 9, 191, 82], [2, 28, 11, 320, 30, 4, 631, 333, 10, 1, 632, 13], [2, 48, 19, 8, 64, 344, 10, 1, 622, 2, 48, 11, 63, 181, 8, 623, 379, 624], [1, 20, 395, 8, 129, 80, 140], [10, 1, 59, 17, 3, 669, 14, 157, 2, 128, 34, 19], [1, 5, 6, 31, 1, 16, 961, 962], [1, 7, 3, 50, 6, 4, 2, 42], [2, 42, 96, 124, 119, 114, 156], [192, 386, 11, 609, 18, 610], [1, 5, 3, 218, 58, 49, 1, 101, 310, 126], [2, 643, 7, 18, 211, 73, 644, 202, 645, 8, 73, 312], [1, 5, 3, 251, 41, 4, 2, 32], [57, 362, 13, 37, 166, 1145, 31, 223, 3, 1146, 279, 154, 12, 526, 227, 2, 46], [1, 16, 298, 165, 1, 5, 3, 6, 4, 2, 34], [1, 7, 321, 476, 12, 300, 17, 10, 1, 65], [1, 5, 3, 180, 4, 2, 23, 1, 147, 444, 13], [1138, 97, 355, 15, 2, 1139, 73, 522, 138, 11, 13], [10, 1, 101, 1, 7, 2, 42, 19], [10, 1, 47, 17, 1, 7, 18, 27, 141, 12, 267, 77, 748], [1, 52, 3, 6, 4, 2, 34, 10, 1, 26, 288], [2, 42, 129, 10, 1, 101, 168, 490, 82], [2, 23, 19, 3, 54, 10, 1, 146], [10, 1, 153, 17, 4, 9, 84, 1, 7, 51], [44, 129, 45, 94], [2, 1097, 11, 1098, 240, 1099, 1, 5, 36, 83, 55], [897, 173, 898, 899, 23, 21, 56, 900, 487], [27, 43, 71, 165, 1, 20, 448, 55], [1, 20, 299, 349, 14, 1011, 115, 15, 2, 23, 8, 211, 162], [1, 7, 781, 659], [1, 1015, 150, 1016, 53, 1017, 2, 1018, 1019, 149, 33, 1, 26], [27, 43, 305, 131, 1, 5, 180, 21, 2, 48], [2, 66, 11, 166, 567, 64, 45, 417], [1, 16, 378, 2, 39, 12, 9, 74, 338, 71, 3, 485, 6], [35, 11, 3, 398, 93, 4, 2, 39], [1, 75, 259, 321, 4, 2, 182], [2, 44, 37, 18, 64, 141, 12, 572], [2, 759, 37, 63, 151, 202, 176, 13, 19, 9, 324, 1, 7, 4, 2, 32, 11, 760, 8, 10, 1, 75, 460, 2, 160, 17, 1, 585, 21, 761], [13, 37, 18, 2, 44, 11, 141, 12, 766, 30, 14, 2, 38, 13, 19], [1, 5, 391, 42, 6, 8, 372], [25, 3, 558, 1, 7, 70, 215, 4, 24], [1, 5, 117, 6, 10, 27, 238, 178, 2, 152], [2, 28, 11, 95, 30, 4, 577], [13, 270, 89, 2, 182], [10, 1, 59, 17, 3, 669, 14, 157, 2, 128, 34, 19], [2, 334, 52, 125, 182, 439, 8, 239, 14, 125, 48, 989, 11, 990, 97, 8, 173, 168], [1, 7, 3, 50, 6, 4, 2, 118, 88, 10, 1, 47], [1, 7, 3, 482, 93, 4, 2, 34, 519, 49, 1, 1103], [1, 5, 115, 4, 349, 234, 21, 3, 54, 14, 336, 15, 2, 69], [10, 1, 79, 12, 47, 2, 32, 364, 1044], [258, 53, 6, 22, 11, 172, 57, 117, 408, 234, 9, 212, 14, 9, 38, 275, 9, 39, 8, 360, 367], [1, 7, 33, 10, 9, 164, 948], [44, 129, 45, 94], [11, 35, 3, 711, 62, 66], [1, 52, 255, 6, 8, 1024, 10, 1, 426, 1025, 1026, 490, 156], [1, 5, 3, 97, 171, 22, 11, 329, 15, 2, 40], [1, 16, 59, 131, 1, 5, 36, 41, 4, 2, 46], [1, 132, 7, 18, 1, 5, 1079, 311, 102, 176, 1, 110, 5, 2, 1080], [2, 46, 52, 124, 224, 114, 135, 713], [1, 7, 18, 765, 192, 4, 168, 462], [1, 7, 3, 50, 6, 4, 2, 118, 88, 10, 1, 47], [10, 1, 318, 2, 28, 1, 319, 299, 599, 14, 28, 320, 30, 4, 9, 318], [1, 192, 3, 454, 4, 2, 733, 8, 249], [1, 7, 385, 10, 1, 47, 17], [1, 7, 51, 8, 30, 14, 459], [1, 16, 261, 287, 1, 5, 3, 6, 4, 2, 29], [1, 87, 196, 14, 126, 31, 1, 121, 7, 9, 440, 40, 180], [27, 429, 103, 50, 65, 477, 123, 605], [1, 7, 6, 4, 2, 42], [9, 66, 26, 431, 24, 12, 7, 871], [1, 26, 111, 112, 8, 618, 21, 88, 6], [2, 360, 23, 96, 124, 119, 62, 3, 511], [1, 7, 6, 4, 2, 46], [1, 5, 3, 28, 639], [1, 7, 6, 4, 2, 23], [1, 7, 258, 557, 9, 38, 4, 410], [2, 40, 11, 329, 8, 304], [1, 7, 254, 398, 10, 1, 295, 66, 810, 123, 187, 93], [1, 7, 142, 314, 4, 9, 40, 21, 336], [2, 189, 130, 3, 1033, 493, 197, 256, 8, 9, 40, 178, 13, 11, 1034, 8, 168, 8, 13, 190, 83], [1, 7, 6, 4, 2, 42], [1, 5, 3, 105, 76, 143, 2, 288, 590, 4, 9, 327, 82], [1, 848, 71, 33, 159, 9, 264, 11, 242], [1, 7, 836, 44, 837, 21, 526], [1, 87, 196, 14, 126, 31, 1, 121, 7, 9, 440, 40, 180], [1, 5, 3, 50, 6, 4, 2, 39], [2, 152, 162, 45, 187, 12, 59, 22, 1, 856, 469, 183, 346, 1, 428], [1, 7, 6, 4, 9, 136, 23], [27, 43, 71, 165, 1, 16, 116, 2, 61], [1, 213, 43, 253, 67, 14, 2, 34, 6], [435, 9, 445, 14, 660], [2, 292, 74, 24, 62, 554, 555, 2, 44, 19, 45, 175, 12, 9, 408, 1, 16, 101, 53, 148], [1, 5, 3, 473, 15, 9, 23, 14, 2, 134, 22, 113, 257, 79, 188], [1, 5, 391, 42, 6, 8, 372], [1, 5, 6, 4, 2, 78, 22, 655, 24], [1, 68, 221, 8, 27, 243], [1, 72, 594, 12, 306, 472, 15, 2, 34, 10, 1, 47, 595, 1, 7, 8, 330, 3, 280, 596, 597], [25, 111, 351, 1, 52, 3, 277, 93, 231, 12, 2, 39], [11, 115, 3, 40, 236], [2, 66, 270, 8, 380], [1, 5, 3, 473, 15, 9, 23, 14, 2, 134, 22, 113, 257, 79, 188], [144, 130, 3, 56, 49, 12, 61, 72, 1, 120, 3, 44, 575], [1, 7, 166, 151, 80, 9, 49], [70, 384, 11, 35, 15, 2, 98], [1, 5, 3, 32, 6, 58, 652, 108], [569, 28, 11, 95, 30, 113, 123, 382, 13], [2, 29, 19, 24, 45, 94], [9, 6, 11, 449, 333, 10, 1, 79, 77, 9, 157, 13, 37, 18, 70, 96, 849, 89, 2, 34], [10, 1, 87, 12, 107, 198, 8, 269, 183, 285, 1, 228, 22, 1, 26, 121, 33], [1, 52, 3, 6, 4, 2, 34, 10, 1, 26, 288], [1, 75, 1, 741, 13, 10, 1, 434, 80, 22, 742, 103, 9, 743, 2, 136, 23, 11, 456, 24], [10, 1, 47, 17, 1, 7, 18, 27, 141, 12, 267, 77, 748], [1, 5, 3, 68, 15, 2, 46, 22, 749, 83, 103, 316, 9, 750, 57, 9, 191], [1, 437, 36, 676, 677, 4, 2, 76, 10, 1, 104, 12, 245, 57, 185, 17, 231], [1, 26, 63, 461, 4, 155, 31, 92, 2, 38, 11, 71, 6], [2, 69, 96, 177, 30, 4, 181, 97, 355, 8, 791, 22, 282, 415, 149, 94, 1, 792, 2, 69, 110, 201, 12, 107, 141, 188], [1, 222, 221, 8, 9, 615, 203, 377, 12, 193], [144, 130, 3, 56, 49, 12, 61, 72, 1, 120, 3, 44, 575], [1, 5, 3, 32, 6, 58, 652, 108], [10, 1, 170, 155, 1, 5, 117, 173, 93, 4, 2, 535], [102, 176, 9, 264, 11, 242, 4, 9, 383, 2, 38, 11, 132, 33], [10, 27, 484, 2, 186, 100, 4, 568], [336, 393, 8, 246, 238], [9, 297, 178, 2, 44, 203, 7, 165], [2, 152, 1136, 128, 345, 9, 34, 1137, 8, 162, 10, 1, 217, 472, 15, 365], [1, 5, 36, 48, 41, 10, 917], [2, 83, 55, 418, 3, 807], [1, 5, 3, 6, 4, 2, 1020, 88], [2, 32, 19, 10, 27, 161, 60], [10, 1, 444, 2, 206, 35, 11, 6, 4, 34, 88], [35, 11, 3, 97, 970, 4, 2, 40], [1, 16, 100, 131], [2, 46, 19, 8, 1, 16, 378, 13, 617, 64, 177], [9, 6, 11, 449, 333, 10, 1, 79, 77, 9, 157, 13, 37, 18, 70, 96, 849, 89, 2, 34], [9, 34, 37, 18, 13, 641, 8, 1, 347, 147, 146, 13, 381], [2, 34, 11, 163, 45, 175], [2, 48, 19, 10, 1, 295, 13], [27, 71, 762], [2, 48, 19, 24, 175], [2, 78, 19, 10, 1, 973], [10, 1, 20, 17, 1, 100, 2, 40, 675], [1, 5, 3, 6, 4, 2, 109], [1, 7, 33, 10, 9, 164, 948], [2, 122, 7, 179], [5, 142, 33, 8, 65], [1, 7, 3, 50, 6, 4, 9, 42, 25, 309], [1, 5, 3, 868, 429], [1, 359, 340, 288, 943, 8, 1, 944, 1, 945, 91, 94, 462, 227, 2, 413, 67, 60, 946, 11, 456, 24, 92], [1, 7, 18, 1, 219, 12, 36, 1047, 1048, 8, 52, 1049, 279, 4, 2, 29], [2, 420, 818, 11, 296, 14, 28, 58, 49], [1, 498, 12, 524, 31, 1, 20, 3, 210, 932, 4, 2, 136, 23, 10, 1, 933, 140], [2, 39, 11, 788, 24, 1, 16, 148, 789, 14, 13], [1, 7, 142, 314, 4, 9, 40, 21, 336], [1, 5, 3, 50, 6, 4, 2, 48], [1, 5, 142, 29, 6], [1, 72, 376, 149, 33, 906, 1, 72, 1, 72, 132, 907, 102, 30, 4, 9, 908], [2, 38, 37, 85, 25, 2, 362, 108, 4, 9, 191, 82], [1, 52, 3, 50, 6, 4, 2, 42], [50, 6, 8, 99, 233], [2, 23, 19, 24, 3, 54], [10, 1, 59, 64, 56, 12, 61], [10, 1, 20, 17, 1, 100, 2, 40, 675], [2, 34, 11, 163, 45, 175], [2, 23, 19, 24, 8, 1, 16, 146, 13, 53, 59], [1, 1015, 150, 1016, 53, 1017, 2, 1018, 1019, 149, 33, 1, 26], [1, 437, 36, 676, 677, 4, 2, 76, 10, 1, 104, 12, 245, 57, 185, 17, 231], [1, 153, 17, 21, 3, 392, 39, 58, 84, 458, 407, 31, 223, 3, 284, 14, 204, 751, 64, 23, 432], [10, 1, 87, 12, 107, 198, 8, 269, 183, 285, 1, 228, 22, 1, 26, 121, 33], [1, 7, 51, 10, 1, 689, 4, 212, 14, 2, 422, 62, 36, 690, 53, 291, 138, 691, 213, 107, 9, 184], [2, 29, 96, 764, 6], [1, 498, 12, 524, 31, 1, 20, 3, 210, 932, 4, 2, 136, 23, 10, 1, 933, 140], [1, 5, 3, 6, 4, 2, 42], [1, 26, 317, 21, 822, 823, 824, 240, 825, 82, 1, 132, 172, 33], [2, 360, 23, 96, 124, 119, 62, 3, 511], [1, 7, 6, 4, 2, 38], [1, 7, 3, 606, 4, 2, 78], [1, 7, 6, 4, 2, 186, 1, 86, 100, 859], [1, 7, 51, 25, 161, 3, 549, 266], [2, 23, 19, 45, 94, 1, 16, 146, 77, 12, 581, 2, 582], [1, 5, 3, 105, 76, 8, 1, 16, 100, 4, 9, 804, 138, 11, 9, 184, 463], [1, 213, 43, 253, 67, 14, 2, 34, 6], [1, 7, 85], [1, 5, 66, 4, 2, 69, 8, 342, 1045, 4, 2, 806, 18, 314], [1, 7, 18, 9, 525, 11, 366], [1, 87, 196, 14, 126, 31, 1, 121, 7, 9, 440, 40, 180], [35, 11, 3, 97, 970, 4, 2, 40], [454, 930, 12, 245, 128, 53, 74, 931, 123, 214, 9, 368, 38], [1, 5, 3, 218, 58, 49, 1, 101, 310, 126], [2, 520, 145, 5, 81, 6, 114, 1, 26, 57, 191], [1, 302, 3, 54, 14, 2, 28], [2, 643, 7, 18, 211, 73, 644, 202, 645, 8, 73, 312], [1, 7, 88, 6, 58, 49, 1, 106], [1, 7, 18, 9, 525, 11, 366], [1, 72, 132, 33, 102, 10, 1, 72, 904, 905], [2, 42, 96, 124, 119, 114, 156], [1, 5, 169, 221, 143, 9, 241, 207], [1, 5, 105, 76, 25, 1, 216, 3, 199, 642], [10, 2, 1081, 1082, 1083, 1, 172, 3, 56, 496, 6], [1, 5, 3, 180, 4, 9, 1104, 67, 1, 5, 1105, 1106], [27, 43, 165, 27, 71, 45, 33], [1, 5, 36, 48, 41, 10, 917], [10, 1, 153, 17, 1, 72, 71, 33], [1, 5, 115, 4, 349, 234, 21, 3, 54, 14, 336, 15, 2, 69], [10, 1, 26, 635, 1, 52, 36, 209, 103, 155, 4, 2, 34], [1, 7, 258, 557, 9, 38, 4, 410], [1, 7, 565, 10, 1, 100, 2, 28, 95, 30], [35, 6, 4, 2, 46], [1, 5, 36, 255, 6, 1, 147, 790], [2, 23, 19, 45, 94, 1, 16, 146, 77, 12, 581, 2, 582], [1, 16, 20, 3, 403, 67, 14, 2, 66], [1, 414, 196, 21, 2, 39, 6, 8, 1, 166, 200, 12, 107, 174], [1, 5, 3, 105, 76, 114, 1, 433, 17, 60, 84, 138, 213, 107, 9, 184], [1, 26, 111, 112, 8, 618, 21, 88, 6], [2, 189, 52, 167, 301, 439, 8, 13, 11, 179, 8, 9, 40, 89, 15, 167, 301, 11, 584, 8, 190, 83], [731, 2, 44, 19, 24, 1, 87, 12, 107, 732, 8, 1, 16], [1, 7, 3, 606, 4, 2, 78], [1, 7, 3, 173, 93, 4, 2, 29, 109], [10, 1, 26, 635, 1, 52, 36, 209, 103, 155, 4, 2, 34], [1, 7, 33, 205, 891, 73, 4, 892], [731, 2, 44, 19, 24, 1, 87, 12, 107, 732, 8, 1, 16], [1, 7, 32, 41], [1, 72, 71, 45, 51, 38, 11, 45, 1037], [7, 18, 70, 11, 290, 1107, 369, 2, 122], [2, 991, 359, 224, 25, 1, 219, 12, 9, 191], [1, 5, 3, 46, 41, 4, 688, 53, 10, 13, 37, 33, 82], [144, 52, 60, 65, 62, 291, 197], [1, 5, 3, 105, 76, 114, 1, 433, 17, 60, 84, 138, 213, 107, 9, 184], [1, 5, 246, 4, 233, 4, 671, 672], [2, 66, 226, 344, 10, 13, 11, 168], [2, 23, 19, 45, 94, 1, 16, 146, 77, 12, 581, 2, 582], [1, 5, 36, 127, 55, 4, 2, 98], [1, 7, 6, 10, 1, 75, 14, 125], [1, 5, 36, 255, 6, 1, 147, 790], [2, 38, 37, 85, 8, 1, 87, 12, 194, 13, 834, 31, 13, 835, 6, 24], [2, 23, 130, 169, 137, 1, 26, 1060, 57, 9, 191], [1, 7, 6, 4, 2, 42], [1, 247, 148, 67, 14, 65], [2, 69, 160, 30, 175, 58, 692, 178, 2, 693], [1, 7, 85], [13, 11, 56, 12, 61, 10, 1, 72, 4, 9, 708, 709, 710, 82], [2, 28, 11, 95, 10, 1, 72, 382, 13], [1, 20, 436, 14, 115, 15, 2, 69, 22, 322, 79, 188], [2, 46, 19, 24, 3, 54, 14, 111, 112], [1, 5, 3, 6, 4, 2, 88], [1, 7, 3, 606, 4, 2, 78], [2, 28, 95, 30], [1, 192, 3, 454, 4, 2, 733, 8, 249], [1, 5, 66, 80, 140, 2, 69], [13, 37, 18, 1, 16, 116, 3, 254, 61], [1, 5, 3, 28, 639], [1, 5, 3, 235, 40], [1, 16, 106, 2, 206, 35, 11, 6, 4, 9, 88], [1, 16, 20, 3, 403, 67, 14, 2, 66], [27, 43, 165, 1, 7, 51], [1, 5, 246, 214, 2, 39], [1, 26, 779, 123, 780, 8, 1, 7, 51], [2, 643, 7, 18, 211, 73, 644, 202, 645, 8, 73, 312], [454, 930, 12, 245, 128, 53, 74, 931, 123, 214, 9, 368, 38], [278, 10, 13, 11, 33, 513, 2, 69, 19, 333, 178, 9, 115, 22, 73, 1042, 12, 1043], [1, 7, 85, 80, 140], [1, 7, 18, 2, 44, 11, 15, 1057], [1, 5, 3, 81, 42, 41, 8, 1, 16, 101, 139, 670], [704, 57, 212, 8, 705, 14, 706], [1, 130, 66, 10, 1, 426, 538], [1, 5, 29, 6, 10, 1, 104, 12, 261, 2, 893], [10, 1, 354, 2, 337, 17, 1, 5, 3, 335, 4, 2, 249], [1, 7, 63, 56, 12, 208], [10, 1, 47, 17, 91, 195, 1, 154, 12, 7, 51, 8, 230, 274], [1, 498, 12, 59, 8, 107, 513, 31, 9, 957, 14, 2, 303, 20, 119, 45, 195], [9, 297, 178, 2, 44, 203, 7, 165], [1, 5, 3, 6, 4, 2, 32], [2, 78, 66, 442, 30, 8, 322, 612, 17], [9, 894, 93, 15, 2, 44, 467, 24, 468], [1, 7, 88, 6, 58, 49, 1, 106], [10, 20, 17, 1, 228, 22, 1, 5, 3, 42, 41, 8, 1, 87, 12, 116, 1051, 31, 2, 42, 121, 163, 24], [1, 5, 36, 48, 41, 10, 917], [9, 6, 4, 2, 23, 1031, 18, 3, 50, 357, 4, 13], [2, 44, 11, 682, 289, 8, 13, 591, 24], [2, 334, 52, 125, 182, 439, 8, 239, 14, 125, 48, 989, 11, 990, 97, 8, 173, 168], [144, 124, 71, 63, 151, 323], [1, 52, 3, 68, 22, 26, 737, 738, 31, 13, 11, 43, 232, 13, 11, 308, 739, 412, 8, 455], [13, 19, 10, 1, 389, 2, 98, 17], [80, 2, 38, 11, 4, 3, 187, 909, 8, 1, 200, 3, 165, 352], [35, 11, 6, 4, 2, 122, 1, 86, 43, 306, 6], [1, 16, 47, 21, 60, 430, 71, 4, 2, 29], [16, 404, 363], [1, 5, 3, 81, 6, 4, 2, 46, 18, 665, 6, 21, 666, 2, 6, 667], [1, 7, 3, 81, 325, 14, 265, 14, 2, 32], [1, 5, 648, 21, 2, 40], [421, 55, 805], [2, 38, 37, 85, 8, 1, 75, 22, 2, 69, 11, 564, 8, 1, 16, 148, 131], [9, 142, 6, 4, 9, 42, 1, 7], [1, 16, 47, 17, 1, 7, 2, 424, 11, 214, 89, 2, 386], [1, 75, 1, 741, 13, 10, 1, 434, 80, 22, 742, 103, 9, 743, 2, 136, 23, 11, 456, 24], [1, 5, 255, 6, 158, 1, 300, 77, 21, 3, 33], [1, 7, 6, 4, 2, 39, 25, 712, 17], [281, 257, 793, 24, 31, 60, 83, 55, 15, 2, 134, 11, 103, 3, 794, 68, 1, 394, 116, 795], [1, 5, 105, 76, 25, 1, 216, 3, 199, 642], [1, 5, 620, 15, 2, 69, 22, 300, 8, 79], [1, 7, 109, 6, 58, 49, 1, 194, 36, 1046, 266], [1, 72, 120, 273, 413], [1, 702, 5, 3, 187, 65, 10, 1, 20, 703], [2, 78, 66, 442, 30, 8, 322, 612, 17], [1, 5, 3, 56, 109, 6, 114, 1, 219, 12, 9, 191], [1, 7, 63, 56, 12, 208], [2, 29, 96, 764, 6], [1, 7, 3, 81, 6, 4, 2, 29, 10, 1, 104, 12, 354, 70, 99], [1, 130, 66, 10, 1, 426, 538], [1, 5, 3, 6, 4, 2, 42], [1, 7, 3, 335, 4, 2, 152, 10, 1, 59], [1, 5, 29, 6, 10, 1, 104, 12, 261, 2, 893], [1, 7, 3, 173, 93, 4, 2, 934, 460, 935, 936, 25, 519, 937], [1, 5, 3, 56, 109, 6, 114, 1, 219, 12, 9, 191], [1, 5, 3, 48, 41, 10, 1, 79, 12, 9, 327], [1, 5, 169, 221, 143, 9, 241, 207], [10, 1, 735, 2, 186, 12, 736, 1, 5, 105, 76], [1, 72, 120, 273, 413], [1, 172, 2, 44, 19, 10, 1, 509, 62, 234, 895], [192, 386, 11, 609, 18, 610], [1, 110, 90, 287, 57, 474, 8, 121, 1, 7, 875], [1, 26, 317, 21, 725, 1, 16, 61, 726], [2, 334, 52, 125, 601, 602, 8, 13, 603, 36, 283, 14, 40, 4, 239, 14, 125, 604, 22, 11, 92, 501, 8, 308], [2, 28, 11, 95, 30, 25, 1, 116, 3, 420], [2, 673, 38, 11, 674], [1, 702, 5, 3, 187, 65, 10, 1, 20, 703], [1, 90, 43, 133, 82, 1, 7, 33], [9, 297, 178, 2, 44, 203, 7, 165], [1, 110, 5, 296, 782, 14, 783, 21, 2, 337], [9, 894, 93, 15, 2, 44, 467, 24, 468], [1, 5, 3, 312, 4, 2, 122], [10, 1, 47, 17, 91, 195, 1, 154, 12, 7, 51, 8, 230, 274], [10, 1, 106, 15, 2, 29, 6, 938, 77, 2, 98], [2, 39, 11, 788, 24, 1, 16, 148, 789, 14, 13], [1, 5, 3, 23, 6, 114, 1, 192, 15, 9, 1108], [1, 5, 3, 180, 4, 9, 1104, 67, 1, 5, 1105, 1106], [82, 11, 2, 29, 224, 10, 1, 104, 12, 1007, 17, 9, 1008], [35, 11, 66, 15, 2, 69], [529, 530, 53, 283, 4, 9, 40], [2, 134, 127, 55, 130, 83], [1, 7, 81, 6, 4, 2, 303, 25, 111, 239, 14, 9, 155, 1123], [1, 7, 18, 9, 525, 11, 366], [1, 1063, 2, 66], [16, 90, 139, 253, 1, 7, 85], [2, 83, 55, 418, 3, 807], [35, 11, 36, 169, 548], [58, 49, 1, 116, 3, 254, 61, 1, 154, 263], [1, 5, 3, 50, 6, 4, 2, 48], [1, 7, 6, 4, 2, 88, 25, 36, 209, 4, 9, 135, 112, 207, 1, 503], [1, 5, 36, 600], [1, 5, 3, 50, 6, 4, 2, 136, 42], [1, 7, 51, 10, 1, 194, 374, 487], [200, 12, 987, 2, 40, 58, 988], [1, 16, 61, 67, 14, 65], [625, 626, 346, 409, 627, 8, 2, 23, 154, 12, 41], [9, 55, 11, 121, 127], [1, 322, 52, 139, 66, 180, 1073, 2, 135, 1074, 10, 80, 14, 3, 374, 2, 23, 130, 1075, 4, 1076], [27, 4, 200, 62, 3, 352, 62, 2, 28, 267], [1, 26, 169, 143, 112, 207, 1, 26, 317, 21, 745, 746], [13, 19, 10, 1, 879, 2, 98], [3, 210, 267, 4, 28], [2, 918, 919, 920, 921, 922, 1, 7, 237, 14, 923, 298], [82, 11, 2, 29, 224, 10, 1, 104, 12, 1007, 17, 9, 1008], [1, 5, 3, 39, 6, 10, 1, 272, 4, 212, 14, 2, 422], [10, 1, 261, 99, 185, 1, 7, 18, 416, 2, 23], [1, 52, 196, 14, 253, 156, 45, 1, 7, 50, 109, 311], [2, 520, 145, 5, 81, 6, 114, 1, 26, 57, 191], [1, 16, 166, 1119, 15, 2, 74, 46, 67, 2, 1120, 1121, 14, 9, 118, 74, 24, 21, 1122, 311], [35, 37, 18, 3, 179, 1095, 57, 2, 1096, 21, 6, 276, 103, 22], [1, 5, 3, 6, 255], [1, 5, 1055, 4, 2, 1056], [1, 5, 681, 186], [9, 663, 664, 14, 2, 383, 11, 177, 8, 7, 45, 33], [1, 5, 3, 218, 58, 49, 1, 101, 310, 126], [1, 20, 3, 34, 6, 10, 1, 59, 3, 54], [1, 216, 12, 107, 30, 14, 61, 25, 141, 17, 3, 1058, 14, 157, 31, 92, 1, 1059, 12, 61, 102, 10, 1, 272, 77], [704, 57, 212, 8, 705, 14, 706], [10, 1, 26, 966, 2, 28, 13, 26, 95, 30, 967], [142, 6, 4, 9, 360, 74, 350, 14, 78, 8, 375, 5, 6, 12, 23], [1, 5, 3, 6, 4, 2, 32], [2, 28, 11, 95, 30, 25, 1, 116, 3, 420], [1, 200, 3, 819, 14, 126, 820, 194, 2, 145, 183, 821], [1, 7, 3, 6, 4, 2, 23, 10, 1, 272, 15, 3, 1029, 62, 373], [10, 2, 1081, 1082, 1083, 1, 172, 3, 56, 496, 6], [156, 1, 52, 3, 763, 6], [10, 1, 444, 2, 206, 35, 11, 6, 4, 34, 88], [9, 894, 93, 15, 2, 44, 467, 24, 468], [10, 1, 354, 2, 337, 17, 1, 5, 3, 335, 4, 2, 249], [52, 1, 1002, 15, 3, 451, 13, 1003, 5, 162, 45, 94, 18, 60, 1004, 1005, 4, 2, 1006], [1, 26, 317, 21, 725, 1, 16, 61, 726], [1, 72, 132, 33, 102, 10, 1, 72, 904, 905], [1, 7, 6, 4, 2, 32, 21, 3, 452], [336, 393, 8, 246, 238], [2, 643, 7, 18, 211, 73, 644, 202, 645, 8, 73, 312], [1, 7, 32, 41], [443, 177, 8, 55, 2, 206, 175, 9, 55, 11, 45, 813], [144, 52, 60, 65, 62, 291, 197], [2, 23, 130, 169, 137, 1, 26, 1060, 57, 9, 191], [1, 16, 106, 2, 32, 17, 8, 77], [2, 66, 226, 344, 10, 13, 11, 168], [9, 135, 49, 1, 646, 2, 647, 1, 68, 365, 91, 268, 8, 92, 1, 5, 36, 83, 446], [1, 7, 33, 8, 395, 102, 159, 2, 285, 73, 99], [1, 5, 3, 105, 76, 25, 2, 32, 26, 222, 156], [281, 257, 793, 24, 31, 60, 83, 55, 15, 2, 134, 11, 103, 3, 794, 68, 1, 394, 116, 795], [1, 16, 90, 287, 1, 7, 3, 85, 4, 2, 38], [58, 49, 1, 245, 12, 74, 1, 7, 3, 50, 6, 4, 2, 39], [10, 1, 87, 12, 116, 942, 176, 2, 28, 1, 228, 22, 13, 11, 95, 30], [9, 122, 4, 2, 773, 73, 181, 4, 9, 84], [25, 111, 112, 1, 5, 109, 6, 21, 2, 758, 491], [2, 23, 19, 24, 8, 1, 16, 146, 13, 53, 59], [1, 216, 196, 14, 6, 747, 12, 20, 174, 31, 1, 121, 7, 9, 440, 23, 6], [10, 1, 47, 17, 1, 7, 18, 27, 141, 12, 267, 77, 748], [1, 52, 3, 6, 4, 2, 34, 10, 1, 26, 288], [35, 11, 3, 391, 724, 4, 2, 250], [1, 7, 3, 50, 6, 4, 2, 32, 10, 1, 75, 91, 56], [1, 434, 3, 99, 803, 156, 8, 10, 1, 20, 17, 464, 1, 172, 3, 81, 29, 6], [1, 216, 196, 14, 6, 747, 12, 20, 174, 31, 1, 121, 7, 9, 440, 23, 6], [1, 7, 6, 4, 2, 491, 145, 25, 1, 509, 156, 1, 518, 117, 6, 1035, 31, 13, 203, 229], [1, 153, 17, 57, 164, 71, 33], [1, 7, 6, 4, 9, 34], [305, 139, 280, 679, 286, 2, 48, 129], [2, 48, 19, 24, 175], [488, 26, 752, 12, 5, 36, 127, 55], [2, 118, 11, 163, 24], [1, 16, 150, 263], [1, 5, 3, 105, 76, 25, 2, 32, 26, 222, 156], [10, 1, 170, 112, 1, 5, 109, 6], [1, 7, 44, 6, 10, 1, 59, 3, 54], [1, 437, 36, 676, 677, 4, 2, 76, 10, 1, 104, 12, 245, 57, 185, 17, 231], [1, 5, 3, 171, 15, 2, 40], [1, 375, 5, 1021, 13, 21, 9, 1022, 67, 1, 72, 1023, 1, 375, 5, 423, 3, 109, 15, 2, 23], [44, 129, 45, 94], [1138, 97, 355, 15, 2, 1139, 73, 522, 138, 11, 13], [1, 16, 106, 2, 29, 67, 14, 6], [1, 7, 19, 4, 2, 44], [2, 29, 11, 163, 24], [144, 437, 2, 28, 95, 30, 3, 54, 323], [2, 122, 7, 179], [1, 7, 3, 81, 6, 4, 2, 29, 88, 8, 13, 225, 43, 79, 188], [2, 29, 129, 10, 1, 104, 12, 354, 409, 740], [9, 71, 14, 263, 1093, 4, 1094, 358], [10, 1, 47, 17, 91, 195, 1, 154, 12, 7, 51, 8, 230, 274], [2, 32, 11, 45, 99, 16, 75, 1077], [1, 984, 3, 373, 62, 985, 986, 1, 7, 6, 4, 2, 46, 18, 46, 41], [1, 16, 378, 2, 39, 12, 9, 74, 338, 71, 3, 485, 6], [1, 5, 3, 32, 6, 58, 652, 108], [1, 222, 2, 32, 57, 9, 348, 873, 213, 1, 5, 3, 874], [1, 5, 117, 6, 10, 27, 238, 178, 2, 152], [11, 2, 68, 83, 53, 113, 232], [144, 130, 3, 56, 49, 12, 61, 72, 1, 120, 3, 44, 575], [569, 28, 11, 95, 30, 113, 123, 382, 13], [2, 69, 96, 177, 30, 4, 181, 97, 355, 8, 791, 22, 282, 415, 149, 94, 1, 792, 2, 69, 110, 201, 12, 107, 141, 188], [1, 20, 395, 8, 129, 80, 140], [25, 238, 1, 5, 117, 6, 371, 2, 46], [2, 42, 37, 296, 8, 570, 8, 372, 25, 299, 571], [1, 5, 9, 574, 14, 120, 282, 438, 4, 2, 38], [2, 44, 11, 634, 289, 8, 27, 120, 3, 56, 49, 12, 61], [1, 16, 330, 30, 14, 2, 48, 653, 1, 7, 18, 35, 11, 70, 4, 13, 431, 654], [1, 5, 3, 473, 15, 9, 23, 14, 2, 134, 22, 113, 257, 79, 188], [1, 5, 3, 251, 41, 4, 2, 42, 13, 226, 344, 25, 1, 101], [2, 40, 11, 63, 235, 8, 531], [1, 26, 63, 461, 4, 155, 31, 92, 2, 38, 11, 71, 6], [1, 7, 774, 4, 2, 78], [1, 90, 43, 133, 82, 1, 7, 33], [1, 649, 221, 650, 21, 3, 357, 137, 1, 26, 651], [13, 37, 18, 1, 16, 116, 3, 254, 61], [9, 6, 4, 2, 48, 11, 427], [1, 20, 436, 14, 115, 15, 2, 69, 22, 322, 79, 188], [1, 26, 779, 123, 780, 8, 1, 7, 51], [1, 5, 246, 214, 2, 39], [1, 247, 208], [2, 334, 52, 125, 601, 602, 8, 13, 603, 36, 283, 14, 40, 4, 239, 14, 125, 604, 22, 11, 92, 501, 8, 308], [2, 913, 135, 406, 219, 12, 512, 67, 252, 26, 120, 3, 56, 49, 233], [1, 5, 246, 214, 2, 39], [1, 414, 196, 21, 2, 39, 6, 8, 1, 166, 200, 12, 107, 174], [27, 429, 103, 50, 65, 477, 123, 605], [1, 16, 106, 2, 206, 35, 11, 6, 4, 9, 88], [1, 5, 3, 550, 15, 2, 405, 22, 307, 43, 193], [248, 867, 6], [2, 152, 41, 15, 33, 8, 668, 204], [1, 75, 2, 38, 264, 11, 63, 1036], [1, 7, 6, 4, 2, 46], [1, 20, 210, 995, 58, 517, 996, 8, 10, 1, 20, 365, 2, 76, 11, 997], [1, 7, 6, 4, 2, 128, 29, 25, 9, 351, 207], [1, 7, 857], [1, 414, 196, 21, 40, 657], [10, 1, 318, 2, 28, 1, 319, 299, 599, 14, 28, 320, 30, 4, 9, 318], [1, 16, 100, 9, 872, 1, 5, 3, 105, 76], [1, 5, 87, 12, 262, 13, 31, 1, 16], [1, 68, 2, 134, 3, 284, 14, 204, 256, 8, 205, 1, 394, 75, 1, 561, 13, 562, 13, 379, 563, 17], [1, 5, 3, 235, 40], [1, 7, 3, 6, 4, 2, 39], [1, 998, 68, 2, 271, 67, 14, 111, 112, 8, 1, 12, 341, 6, 262, 126, 31, 13, 225, 43, 229], [1, 20, 436, 14, 115, 15, 2, 69, 22, 322, 79, 188], [2, 46, 19, 24, 3, 54, 14, 111, 112], [1, 192, 3, 454, 4, 2, 733, 8, 249], [1, 5, 87, 12, 194, 458, 15, 2, 46, 31, 211, 121, 6, 24], [1, 16, 20, 3, 403, 67, 14, 2, 66], [1, 247, 208], [1, 7, 3, 50, 6, 4, 2, 118, 88, 10, 1, 47], [1, 26, 576, 4, 9, 32, 111, 241, 135, 164], [1, 926, 140, 137, 927, 12, 928, 9, 929], [102, 159, 27, 36, 683, 2, 69, 684, 416, 30, 4, 115], [2, 78, 160, 30, 21, 97, 115, 8, 478], [144, 52, 60, 65, 62, 291, 197], [858, 364, 347, 315, 25, 36, 209, 53, 253], [1, 7, 6, 4, 2, 39, 137, 27, 294], [1, 414, 196, 21, 40, 657], [1, 5, 36, 255, 6, 1, 147, 790], [99, 61, 21, 939], [248, 236, 14, 28, 400, 8, 401, 402], [1, 72, 71, 45, 51, 38, 11, 45, 1037], [2, 98, 19, 10, 1, 425], [1, 7, 258, 557, 9, 38, 4, 410], [1, 7, 33, 205, 891, 73, 4, 892], [1, 7, 6, 4, 2, 42], [2, 38, 37, 85, 8, 1, 87, 12, 194, 13, 834, 31, 13, 835, 6, 24], [167, 83, 55, 26, 1009, 12, 1010], [1, 5, 3, 251, 41, 4, 2, 32], [1, 16, 814, 2, 39], [1, 7, 6, 10, 1, 75, 14, 125], [27, 43, 71, 165, 1, 16, 116, 2, 61], [1, 7, 51, 25, 142, 680], [2, 55, 26, 83, 10, 1, 26, 1117, 117, 1118, 4, 2, 524], [1, 7, 32, 41], [1, 7, 857], [1, 16, 20, 3, 403, 67, 14, 2, 66], [1, 5, 3, 235, 40], [2, 78, 19, 10, 1, 973], [1, 7, 51, 25, 161, 3, 549, 266], [1, 26, 111, 112, 8, 618, 21, 88, 6], [1, 130, 3, 539, 135, 406, 8, 1, 113, 16, 150, 540, 15, 149, 12, 20, 541, 15, 2, 542, 292], [1, 7, 385, 10, 1, 47, 17], [1, 59, 58, 108, 31, 92, 1, 20, 268, 14, 61, 25, 141, 514, 3, 268, 324], [10, 1, 90, 56, 656, 1, 7, 81, 6, 4, 2, 145], [10, 1, 26, 635, 1, 52, 36, 209, 103, 155, 4, 2, 34], [1, 68, 2, 134, 3, 284, 14, 204, 256, 8, 205, 1, 394, 75, 1, 561, 13, 562, 13, 379, 563, 17], [1, 7, 258, 557, 9, 38, 4, 410], [1, 5, 3, 160, 4, 9, 40, 275, 2, 405, 8, 847, 271, 8, 13, 307, 43, 231], [13, 37, 18, 1, 16, 116, 3, 254, 61], [1, 7, 18, 144, 132, 130, 70, 4, 2, 250], [1078, 62, 9, 353], [1, 260, 5, 486, 992, 12, 20, 17], [1, 7, 19, 4, 2, 44], [1, 16, 59, 131, 1, 5, 36, 41, 4, 2, 46], [1, 260, 5, 486, 992, 12, 20, 17], [1, 5, 142, 235, 65], [1, 7, 3, 6, 4, 2, 23], [2, 118, 88, 411, 10, 1, 217, 265, 15, 2, 46], [1, 68, 2, 134, 3, 284, 14, 204, 256, 8, 205, 1, 394, 75, 1, 561, 13, 562, 13, 379, 563, 17], [1, 130, 3, 539, 135, 406, 8, 1, 113, 16, 150, 540, 15, 149, 12, 20, 541, 15, 2, 542, 292], [27, 43, 71, 165, 1, 16, 116, 2, 61], [858, 364, 347, 315, 25, 36, 209, 53, 253], [1, 848, 71, 33, 159, 9, 264, 11, 242], [1, 16, 106, 2, 32, 17, 8, 77], [1, 7, 836, 44, 837, 21, 526], [1, 414, 196, 21, 40, 657], [1, 5, 757, 4, 2, 29], [248, 220, 236, 57, 9, 699, 14, 9, 700, 14, 9, 136, 701], [1, 5, 3, 235, 250], [144, 52, 60, 65, 62, 291, 197], [1, 5, 3, 105, 76, 143, 2, 288, 590, 4, 9, 327, 82], [1, 247, 208], [1, 7, 32, 41], [1, 7, 6, 4, 2, 44, 10, 1, 153, 17], [1, 26, 576, 4, 9, 32, 111, 241, 135, 164], [1, 5, 36, 255, 6, 1, 147, 790], [1, 72, 71, 45, 51, 38, 11, 45, 1037], [248, 236, 14, 28, 400, 8, 401, 402], [10, 1, 26, 635, 1, 52, 36, 209, 103, 155, 4, 2, 34], [2, 23, 19, 45, 94, 1, 16, 146, 77, 12, 581, 2, 582], [1, 7, 258, 557, 9, 38, 4, 410], [1, 5, 3, 46, 41, 4, 688, 53, 10, 13, 37, 33, 82], [1, 5, 3, 550, 15, 2, 405, 22, 307, 43, 193], [1, 7, 162, 54, 14, 6, 4, 2, 44], [10, 1, 20, 17, 1, 100, 2, 40, 675], [10, 1, 87, 12, 107, 198, 8, 269, 183, 285, 1, 228, 22, 1, 26, 121, 33], [2, 39, 19, 24, 8, 1, 16, 47, 21, 60, 6], [2, 34, 19, 10, 1, 170, 532], [1, 52, 3, 50, 6, 4, 2, 42], [25, 111, 351, 1, 52, 3, 277, 93, 231, 12, 2, 39], [2, 759, 37, 63, 151, 202, 176, 13, 19, 9, 324, 1, 7, 4, 2, 32, 11, 760, 8, 10, 1, 75, 460, 2, 160, 17, 1, 585, 21, 761], [50, 6, 8, 99, 233], [1, 5, 3, 54, 14, 332, 10, 1, 65], [1, 5, 3, 473, 15, 9, 23, 14, 2, 134, 22, 113, 257, 79, 188], [10, 1, 20, 30, 14, 592, 4, 9, 84, 2, 38, 37, 63, 85], [35, 11, 3, 50, 6, 4, 2, 48, 158, 1, 90, 60], [3, 210, 267, 4, 28], [1, 16, 61, 67, 14, 65], [35, 11, 6, 4, 2, 122, 1, 86, 43, 306, 6], [1, 326, 2, 118, 137, 161, 636, 637, 4, 9, 638], [10, 27, 545, 4, 9, 84, 1, 7, 215, 8, 5, 452], [138, 407, 613, 193, 614], [144, 124, 140, 2, 33, 62, 197, 31, 121, 65, 58, 108], [1, 7, 3, 81, 325, 14, 265, 14, 2, 32], [1, 5, 3, 483, 29, 6], [2, 264, 940, 8, 2, 38, 20, 941], [1, 20, 395, 8, 129, 80, 140], [2, 918, 919, 920, 921, 922, 1, 7, 237, 14, 923, 298], [1, 26, 169, 143, 112, 207, 1, 26, 317, 21, 745, 746], [200, 12, 987, 2, 40, 58, 988], [1, 7, 18, 35, 11, 70, 179, 8, 304, 57, 9, 23, 14, 2, 34], [1, 5, 36, 48, 41, 22, 257, 79, 188, 1, 110, 5, 3, 33, 53, 218, 53, 139, 342, 445, 113, 36, 963], [1, 72, 120, 313, 521, 185, 7, 18, 3, 993, 15, 2, 186, 480, 11, 105], [1, 5, 87, 12, 194, 458, 15, 2, 46, 31, 211, 121, 6, 24], [1, 110, 5, 313, 340, 4, 61, 31, 30, 61, 11, 45, 99], [1, 7, 18, 1, 219, 12, 36, 1047, 1048, 8, 52, 1049, 279, 4, 2, 29], [1, 7, 3, 54, 14, 6, 4, 9, 122], [1, 7, 6, 4, 2, 128, 29, 25, 9, 351, 207], [1, 5, 3, 181, 1030, 4, 2, 303], [1, 998, 68, 2, 271, 67, 14, 111, 112, 8, 1, 12, 341, 6, 262, 126, 31, 13, 225, 43, 229], [278, 1, 7, 18, 3, 811, 15, 2, 78, 22, 467, 24, 468], [1, 7, 6, 4, 2, 39], [1, 26, 111, 241, 8, 1, 969, 2, 118], [1, 5, 87, 12, 262, 13, 31, 1, 16], [1, 7, 3, 482, 93, 4, 2, 34, 519, 49, 1, 1103], [1, 16, 100, 9, 872, 1, 5, 3, 105, 76], [1, 52, 3, 862, 137, 111, 241, 2, 34, 863, 8, 92, 64, 864], [1, 7, 857], [336, 393, 8, 246, 238], [1, 5, 6, 31, 1, 16, 961, 962], [13, 37, 18, 441, 497, 3, 357, 369, 2, 29], [142, 6, 4, 9, 360, 74, 350, 14, 78, 8, 375, 5, 6, 12, 23], [1, 5, 3, 39, 6, 10, 1, 272, 4, 212, 14, 2, 422], [1, 5, 1055, 4, 2, 1056], [10, 1, 444, 2, 206, 35, 11, 6, 4, 34, 88], [2, 28, 387, 131], [1, 20, 3, 34, 6, 10, 1, 59, 3, 54], [1, 147, 208, 67, 14, 60, 251, 41, 345, 2, 74, 29], [35, 11, 3, 50, 6, 4, 2, 331, 1, 5, 87, 12, 341, 6, 262, 126, 31, 13, 225, 43, 229], [10, 1, 153, 17, 1, 72, 71, 33], [1, 110, 5, 313, 340, 4, 61, 31, 30, 61, 11, 45, 99], [10, 1, 75, 14, 2, 787, 1, 7, 6], [1, 52, 3, 6, 4, 2, 34, 10, 1, 26, 288], [1, 20, 436, 14, 478, 8, 949, 15, 2, 23], [2, 292, 96, 3, 500, 15, 167, 301, 22, 488, 159, 26, 33, 119, 31, 92, 13, 96, 177, 127, 8, 1027, 321, 80, 108], [2, 48, 19, 10, 1, 295, 13], [1, 5, 3, 6, 4, 2, 888], [9, 34, 37, 18, 13, 641, 8, 1, 347, 147, 146, 13, 381], [2, 29, 19, 24, 45, 94], [35, 11, 60, 6, 22, 481, 103, 2, 78, 17, 12, 2, 74, 98], [1, 5, 3, 68, 15, 2, 46, 22, 749, 83, 103, 316, 9, 750, 57, 9, 191], [58, 49, 1, 245, 12, 74, 1, 7, 3, 50, 6, 4, 2, 39], [2, 34, 11, 163, 45, 175], [2, 39, 19, 24, 8, 1, 16, 47, 21, 60, 6], [2, 42, 129, 10, 1, 101, 168, 490, 82], [1, 5, 255, 6, 158, 1, 300, 77, 21, 3, 33], [2, 74, 48, 11, 964, 31, 9, 128, 239, 37, 18, 64, 290, 965, 21, 3, 446], [1, 5, 3, 81, 6, 4, 2, 968, 103, 44, 209], [421, 55, 805], [2, 32, 19, 158, 1, 104, 12, 90, 70], [2, 48, 19, 24, 175], [1, 5, 3, 68, 22, 96, 328, 97, 8, 380, 412], [2, 42, 129, 25, 1, 361, 139, 924, 361, 82], [10, 1, 106, 2, 29, 64, 18, 860, 11, 290, 861, 227, 2, 29], [10, 1, 79, 12, 47, 2, 32, 364, 1044], [1, 7, 6, 4, 2, 46], [2, 48, 41, 10, 27, 915, 12, 916], [2, 48, 11, 556], [2, 44, 11, 634, 289, 8, 27, 120, 3, 56, 49, 12, 61], [25, 309, 1, 5, 173, 93, 89, 14, 24], [25, 3, 558, 1, 7, 70, 215, 4, 24], [114, 1, 219, 369, 9, 630, 1, 5, 6, 15, 2, 48], [1, 5, 3, 473, 15, 9, 23, 14, 2, 134, 22, 113, 257, 79, 188], [2, 66, 11, 166, 567, 64, 45, 417], [1, 7, 796, 18, 36, 310, 797, 2, 798, 799, 22, 252, 800, 493, 801, 12, 802, 125, 45, 22, 252, 11, 198, 486], [1, 68, 221, 8, 27, 243], [2, 292, 74, 24, 62, 554, 555, 2, 44, 19, 45, 175, 12, 9, 408, 1, 16, 101, 53, 148], [10, 27, 484, 2, 186, 100, 4, 568], [10, 1, 47, 17, 91, 195, 1, 154, 12, 7, 51, 8, 230, 274], [13, 37, 18, 2, 44, 11, 141, 12, 766, 30, 14, 2, 38, 13, 19], [1, 147, 20, 198, 282, 415, 149, 94, 1, 661, 17, 53, 149, 242, 1, 217, 9, 662, 15], [1, 7, 796, 18, 36, 310, 797, 2, 798, 799, 22, 252, 800, 493, 801, 12, 802, 125, 45, 22, 252, 11, 198, 486], [1, 5, 3, 32, 6, 58, 652, 108], [1, 5, 3, 50, 6, 4, 2, 136, 42], [1, 52, 3, 68, 22, 26, 737, 738, 31, 13, 11, 43, 232, 13, 11, 308, 739, 412, 8, 455], [10, 1, 47, 17, 91, 195, 1, 7, 202, 159, 27, 141, 12, 772], [11, 2, 68, 83, 53, 113, 232], [4, 9, 84, 2, 578, 11, 280], [2, 40, 11, 329, 8, 304], [2, 292, 74, 24, 62, 554, 555, 2, 44, 19, 45, 175, 12, 9, 408, 1, 16, 101, 53, 148], [2, 28, 11, 320, 30, 4, 631, 333, 10, 1, 632, 13], [10, 1, 101, 91, 94, 390, 2, 38, 226, 85, 8, 51], [2, 34, 37, 85, 8, 13, 775, 324, 9, 342, 108, 57, 9, 339, 14, 9, 157, 776, 35, 26, 3, 777, 12, 778, 15, 12], [2, 32, 19, 4, 9, 23, 8, 9, 6, 543, 80, 108], [1, 5, 3, 6, 22, 481, 17, 103, 2, 128, 869, 12, 2, 396, 397, 13, 11, 57, 64, 475, 10, 1, 870], [2, 1109, 68, 167, 46, 15, 3, 1110, 4, 9, 1111, 8, 92, 9, 46, 11, 1112, 1113, 8, 11, 501], [2, 23, 130, 169, 137, 1, 26, 1060, 57, 9, 191], [2, 69, 160, 30, 175, 58, 692, 178, 2, 693], [1, 7, 6, 4, 2, 39, 137, 27, 294], [144, 52, 60, 65, 62, 291, 197], [1, 7, 33, 205, 891, 73, 4, 892], [1, 75, 1, 741, 13, 10, 1, 434, 80, 22, 742, 103, 9, 743, 2, 136, 23, 11, 456, 24], [2, 23, 19, 24, 8, 1, 16, 146, 13, 53, 59], [1, 7, 44, 6, 10, 1, 59, 3, 54], [1, 7, 29, 6, 57, 678, 14, 49], [1, 20, 237, 91, 289, 1, 86, 499, 217, 15, 2, 285, 4, 9, 84], [1, 16, 59, 67, 1, 5, 3, 81, 46, 41], [1, 437, 36, 676, 677, 4, 2, 76, 10, 1, 104, 12, 245, 57, 185, 17, 231], [1, 7, 6, 89, 1, 90, 43, 133, 138, 13, 11], [2, 292, 96, 3, 500, 15, 167, 301, 22, 488, 159, 26, 33, 119, 31, 92, 13, 96, 177, 127, 8, 1027, 321, 80, 108], [1, 75, 1, 741, 13, 10, 1, 434, 80, 22, 742, 103, 9, 743, 2, 136, 23, 11, 456, 24], [2, 48, 19, 10, 1, 295, 13], [1, 7, 6, 4, 2, 491, 145, 25, 1, 509, 156, 1, 518, 117, 6, 1035, 31, 13, 203, 229], [10, 1, 87, 12, 116, 942, 176, 2, 28, 1, 228, 22, 13, 11, 95, 30], [1, 192, 227, 3, 767, 137, 1, 26, 768, 13, 8, 1, 5, 3, 769, 14, 443, 497, 4, 2, 74, 353, 1, 75, 13, 11, 770, 771], [1, 5, 3, 68, 15, 2, 46, 22, 749, 83, 103, 316, 9, 750, 57, 9, 191], [2, 244, 7, 99, 18, 211, 73, 457, 21, 332], [1, 130, 66, 10, 1, 426, 538], [1, 7, 109, 6, 58, 49, 1, 194, 36, 1046, 266], [1, 7, 18, 2, 44, 11, 15, 1057], [2, 136, 23, 19, 31, 13, 698, 176, 1, 425, 13], [1, 5, 3, 218, 58, 49, 1, 101, 310, 126], [1, 498, 12, 59, 8, 107, 513, 31, 9, 957, 14, 2, 303, 20, 119, 45, 195], [9, 883, 884, 45, 885, 143, 9, 886, 15, 2, 118, 22, 1, 147, 47, 290, 887, 15, 9, 505], [1, 5, 36, 48, 41, 10, 917], [1, 5, 3, 56, 109, 6, 114, 1, 219, 12, 9, 191], [10, 1, 106, 15, 2, 29, 6, 938, 77, 2, 98], [1, 5, 210, 6, 4, 2, 44], [27, 43, 165, 27, 71, 45, 33], [58, 49, 1, 494, 2, 28, 35, 73, 45, 492, 28, 4, 2, 494], [9, 663, 664, 14, 2, 383, 11, 177, 8, 7, 45, 33], [35, 11, 3, 50, 6, 4, 2, 331, 1, 5, 87, 12, 341, 6, 262, 126, 31, 13, 225, 43, 229], [1, 52, 36, 504, 8, 2, 55, 26, 127, 10, 1, 1041, 12, 512], [10, 1, 47, 17, 91, 195, 1, 154, 12, 7, 51, 8, 230, 274], [1, 5, 276, 6, 4, 2, 502, 25, 294, 30], [2, 28, 387, 131], [1, 5, 3, 39, 6, 10, 1, 272, 4, 212, 14, 2, 422], [454, 930, 12, 245, 128, 53, 74, 931, 123, 214, 9, 368, 38], [2, 643, 7, 18, 211, 73, 644, 202, 645, 8, 73, 312], [1, 26, 317, 21, 725, 1, 16, 61, 726], [1, 110, 90, 287, 57, 474, 8, 121, 1, 7, 875], [1, 5, 620, 15, 2, 69, 22, 300, 8, 79], [1, 7, 109, 6, 58, 49, 1, 194, 36, 1046, 266], [1, 498, 12, 524, 31, 1, 20, 3, 210, 932, 4, 2, 136, 23, 10, 1, 933, 140], [1, 7, 85, 80, 140], [1, 5, 66, 4, 2, 69, 8, 342, 1045, 4, 2, 806, 18, 314], [1, 26, 1100, 1101, 8, 347, 5, 105, 76], [2, 39, 11, 788, 24, 1, 16, 148, 789, 14, 13], [1, 5, 3, 56, 109, 6, 114, 1, 219, 12, 9, 191], [10, 1, 1141, 63, 56, 1, 7, 48, 41], [35, 11, 66, 15, 2, 69], [2, 34, 203, 377, 12, 146, 131], [144, 130, 3, 56, 49, 12, 61, 72, 1, 120, 3, 44, 575], [1, 7, 32, 41], [1, 848, 71, 33, 159, 9, 264, 11, 242], [1, 16, 106, 2, 32, 17, 8, 77], [13, 11, 56, 12, 61, 10, 1, 72, 4, 9, 708, 709, 710, 82], [1, 7, 63, 85, 4, 2, 38], [1, 7, 836, 44, 837, 21, 526], [60, 373, 505, 15, 2, 74, 1053, 11, 103, 95, 388, 2, 1054, 523], [1, 5, 3, 68, 15, 2, 46, 22, 749, 83, 103, 316, 9, 750, 57, 9, 191], [10, 1, 101, 1, 7, 2, 42, 19], [1, 5, 36, 48, 41, 22, 257, 79, 188, 1, 110, 5, 3, 33, 53, 218, 53, 139, 342, 445, 113, 36, 963], [1, 110, 133, 82, 27, 687, 151], [1, 5, 3, 180, 4, 2, 23, 1, 147, 444, 13], [25, 36, 56, 294, 108, 1, 5, 46, 41], [2, 32, 19, 24, 175], [2, 122, 7, 179], [1138, 97, 355, 15, 2, 1139, 73, 522, 138, 11, 13], [1, 5, 3, 171, 15, 2, 40], [1, 1012, 60, 1013, 71, 14, 1014, 213, 79, 188], [1, 7, 3, 81, 325, 14, 265, 15, 9, 527, 14, 2, 39], [144, 87, 343, 981, 31, 982, 86, 983, 24, 17], [1, 75, 2, 55, 11, 83], [10, 1, 47, 1, 7, 51, 1, 90, 43, 133, 82], [2, 145, 7, 237], [2, 128, 29, 722, 10, 1, 106, 2, 98], [2, 32, 11, 45, 99, 16, 75, 1077], [9, 71, 14, 263, 1093, 4, 1094, 358], [1, 7, 385], [1, 216, 196, 14, 6, 747, 12, 20, 174, 31, 1, 121, 7, 9, 440, 23, 6], [11, 35, 3, 711, 62, 66], [1, 7, 6, 4, 9, 34], [1, 7, 6, 4, 2, 249, 10, 1, 533, 15, 9, 534], [2, 48, 11, 556], [1, 20, 395, 8, 129, 80, 140], [70, 384, 11, 35, 15, 2, 98], [1, 5, 9, 574, 14, 120, 282, 438, 4, 2, 38], [1, 5, 6, 4, 2, 78, 22, 655, 24], [2, 152, 201, 12, 544, 202, 1, 79, 17, 53, 77, 157], [25, 3, 558, 1, 7, 70, 215, 4, 24], [13, 37, 18, 441, 11, 559, 2, 32, 21, 3, 560, 1, 7, 6, 15, 9, 339, 14, 2, 32, 8, 13, 411], [2, 29, 19, 10, 1, 104, 12, 358, 70, 573, 2, 32], [569, 28, 11, 95, 30, 113, 123, 382, 13], [1, 5, 3, 473, 15, 9, 23, 14, 2, 134, 22, 113, 257, 79, 188], [58, 84, 10, 1, 153, 17, 2, 39, 37, 18, 1, 633, 15, 4, 199], [1, 5, 3, 63, 171, 93, 231, 12, 2, 337], [144, 124, 140, 2, 33, 62, 197, 31, 121, 65, 58, 108], [2, 40, 11, 63, 235, 8, 531], [2, 69, 11, 80, 177, 30, 21, 115], [1, 5, 3, 48, 41, 10, 1, 79, 12, 9, 327], [1, 5, 3, 81, 42, 41, 8, 1, 16, 101, 139, 670], [1, 110, 90, 287, 57, 474, 8, 121, 1, 7, 875], [1, 984, 3, 373, 62, 985, 986, 1, 7, 6, 4, 2, 46, 18, 46, 41], [1138, 97, 355, 15, 2, 1139, 73, 522, 138, 11, 13], [2, 46, 52, 124, 224, 114, 135, 713], [1, 5, 648, 21, 2, 40], [1, 5, 6, 18, 279, 4, 2, 122], [10, 27, 91, 242, 1, 154, 12, 7, 51], [27, 63, 376, 22, 974, 79, 975, 976, 72, 1, 63, 977], [35, 453, 107, 70, 199, 21, 2, 716, 717, 1, 5, 12, 269, 718, 102, 15, 9, 719, 204, 2, 516, 73, 720], [1, 7, 385], [1, 5, 3, 6, 4, 2, 109], [2, 598, 96, 65, 80, 164, 252, 16, 148], [1, 7, 6, 89, 8, 1, 86, 43, 695, 13], [1, 65, 3, 54, 10, 1, 729, 730, 138, 11, 199, 21, 2, 244], [1, 20, 237, 91, 289, 1, 86, 499, 217, 15, 2, 285, 4, 9, 84], [1, 5, 3, 105, 76, 25, 2, 32, 26, 222, 156], [1, 113, 16, 201, 12, 20, 198, 102, 10, 753, 178, 24, 11, 198, 1, 132, 7, 33], [1, 20, 299, 349, 14, 1011, 115, 15, 2, 23, 8, 211, 162], [897, 173, 898, 899, 23, 21, 56, 900, 487], [149, 90, 281, 133, 176, 281, 5, 3, 423, 536, 4, 537, 34], [144, 124, 140, 2, 33, 62, 197, 31, 121, 65, 58, 108], [58, 84, 10, 1, 153, 17, 2, 39, 37, 18, 1, 633, 15, 4, 199], [1, 7, 3, 215, 8, 277, 6, 89, 2, 396, 397], [1, 5, 66, 80, 140, 2, 69], [1, 68, 2, 134, 3, 284, 14, 204, 256, 8, 205, 1, 394, 75, 1, 561, 13, 562, 13, 379, 563, 17], [1, 247, 208], [1140, 1, 170, 351, 1, 7, 3, 29, 6], [2, 39, 19, 24, 8, 1, 16, 245, 77, 53, 17], [1, 90, 43, 7, 174, 4, 2, 145], [1, 7, 3, 399, 496, 6, 25, 1, 326, 17, 21, 2, 403], [13, 11, 56, 12, 61, 10, 1, 72, 4, 9, 708, 709, 710, 82], [1, 5, 3, 180, 4, 2, 23, 1, 147, 444, 13], [1, 7, 6, 4, 2, 182, 21, 506], [1, 72, 376, 62, 2, 484, 67, 1, 86, 499, 363, 10, 1, 72, 57, 9, 1115, 2, 186, 7, 1116], [1, 7, 23, 6, 10, 1, 261, 99, 185], [1, 7, 142, 314, 4, 9, 40, 21, 336], [2, 29, 11, 163, 24], [58, 49, 13, 1087, 1, 20, 1088, 15, 2, 566, 8, 527], [2, 32, 19, 24, 175], [2, 65, 11, 63, 99, 8, 1, 5, 332], [529, 530, 53, 283, 4, 9, 40], [1, 7, 483, 6, 4, 2, 34, 25, 13, 26, 222, 143, 9, 112, 207], [1, 5, 142, 29, 6], [1, 72, 376, 149, 33, 906, 1, 72, 1, 72, 132, 907, 102, 30, 4, 9, 908], [1102, 234, 9, 368, 367], [1, 7, 81, 6, 4, 9, 32], [2, 128, 29, 722, 10, 1, 106, 2, 98], [2, 23, 19, 3, 54, 10, 1, 146], [44, 129, 45, 94], [1078, 62, 9, 353], [10, 27, 91, 242, 1, 154, 12, 7, 51], [1, 20, 299, 349, 14, 1011, 115, 15, 2, 23, 8, 211, 162], [1, 5, 142, 235, 65], [2, 38, 129, 15, 9, 89, 275, 2, 593, 8, 249], [1, 7, 6, 89, 8, 1, 86, 43, 695, 13], [1, 16, 59, 2, 34, 19, 24], [4, 1084, 1, 52, 3, 54, 14, 66], [2, 1097, 11, 1098, 240, 1099, 1, 5, 36, 83, 55], [1, 7, 51, 10, 1, 194, 374, 487], [3, 210, 267, 4, 28], [2, 918, 919, 920, 921, 922, 1, 7, 237, 14, 923, 298], [9, 6, 4, 2, 23, 1031, 18, 3, 50, 357, 4, 13], [142, 6, 4, 9, 48], [1, 5, 29, 6, 25, 161, 139, 474, 298], [1, 7, 45, 119, 4, 2, 42, 297], [2, 264, 940, 8, 2, 38, 20, 941], [13, 270, 89, 2, 182], [2, 28, 11, 95, 30, 4, 577], [102, 176, 9, 264, 11, 242, 4, 9, 383, 2, 38, 11, 132, 33], [1, 5, 3, 251, 41, 4, 2, 42, 13, 226, 344, 25, 1, 101], [1, 20, 395, 8, 129, 80, 140], [25, 111, 351, 1, 52, 3, 277, 93, 231, 12, 2, 39], [149, 90, 281, 133, 176, 281, 5, 3, 423, 536, 4, 537, 34], [259, 393, 4, 2, 39, 8, 13, 19], [1, 222, 2, 32, 57, 9, 348, 873, 213, 1, 5, 3, 874], [1, 16, 378, 2, 39, 12, 9, 74, 338, 71, 3, 485, 6], [70, 384, 11, 35, 15, 2, 98], [144, 124, 140, 2, 33, 62, 197, 31, 121, 65, 58, 108], [2, 119, 387, 232, 131, 8, 64, 124, 18, 60, 62, 291, 197], [25, 238, 1, 5, 117, 6, 371, 2, 46], [1, 5, 3, 473, 15, 9, 23, 14, 2, 134, 22, 113, 257, 79, 188], [2, 34, 203, 377, 12, 146, 131], [2, 66, 270, 8, 380], [25, 3, 558, 1, 7, 70, 215, 4, 24], [1, 5, 6, 4, 2, 78, 22, 655, 24], [1, 16, 47, 21, 60, 430, 71, 4, 2, 29], [35, 11, 3, 50, 6, 4, 2, 48, 158, 1, 90, 60], [1, 16, 61, 67, 14, 65], [35, 11, 6, 4, 2, 122, 1, 86, 43, 306, 6], [80, 2, 38, 11, 4, 3, 187, 909, 8, 1, 200, 3, 165, 352], [1, 5, 3, 54, 14, 332, 10, 1, 65], [1, 5, 6, 4, 2, 882, 8, 2, 42, 18, 70, 515, 13], [1, 7, 45, 119, 4, 2, 42, 297], [50, 6, 8, 99, 233], [10, 1, 47, 17, 91, 616, 2, 76, 11, 105], [1, 72, 376, 149, 33, 906, 1, 72, 1, 72, 132, 907, 102, 30, 4, 9, 908], [9, 6, 4, 2, 23, 1031, 18, 3, 50, 357, 4, 13], [142, 6, 4, 9, 48], [42, 6, 25, 880, 881], [1, 5, 6, 4, 2, 882, 8, 2, 42, 18, 70, 515, 13], [2, 48, 19, 8, 64, 344, 10, 1, 622, 2, 48, 11, 63, 181, 8, 623, 379, 624], [2, 264, 940, 8, 2, 38, 20, 941], [1, 7, 45, 119, 4, 2, 42, 297], [50, 6, 8, 99, 233], [10, 1, 583, 125, 1, 7, 77], [1, 75, 259, 70, 199, 21, 2, 55, 13, 225, 43, 201, 12, 193, 18, 13, 428], [1, 453, 100, 3, 463, 1, 5, 36, 127, 55], [1, 5, 3, 277, 6, 89, 2, 39], [3, 210, 267, 4, 28], [27, 4, 200, 62, 3, 352, 62, 2, 28, 267], [144, 124, 71, 63, 151, 323], [2, 918, 919, 920, 921, 922, 1, 7, 237, 14, 923, 298], [27, 120, 3, 56, 49, 343, 67, 9, 628, 73, 80, 629], [1, 7, 6, 4, 2, 39], [1, 5, 36, 48, 41, 22, 257, 79, 188, 1, 110, 5, 3, 33, 53, 218, 53, 139, 342, 445, 113, 36, 963], [1, 26, 576, 4, 9, 32, 111, 241, 135, 164], [1, 7, 51, 25, 161, 3, 549, 266], [1, 5, 66, 80, 140, 2, 69], [2, 40, 11, 314], [1, 16, 106, 2, 206, 35, 11, 6, 4, 9, 88], [1, 7, 6, 4, 2, 23], [1, 5, 3, 868, 429], [1, 75, 2, 38, 264, 11, 63, 1036], [248, 236, 14, 28, 400, 8, 401, 402], [1, 7, 385, 10, 1, 47, 17], [2, 109, 4, 2, 29, 455, 10, 1, 106, 2, 98], [1, 7, 6, 4, 2, 186, 1, 86, 100, 859], [9, 66, 26, 431, 24, 12, 7, 871], [1, 7, 3, 173, 93, 4, 2, 29, 109], [316, 28, 1052], [1, 7, 3, 6, 4, 2, 39], [1, 130, 3, 539, 135, 406, 8, 1, 113, 16, 150, 540, 15, 149, 12, 20, 541, 15, 2, 542, 292], [1, 16, 20, 3, 403, 67, 14, 2, 66], [1, 5, 3, 81, 6, 4, 2, 968, 103, 44, 209], [1, 59, 58, 108, 31, 92, 1, 20, 268, 14, 61, 25, 141, 514, 3, 268, 324], [1, 247, 208], [1, 414, 196, 21, 2, 39, 6, 8, 1, 166, 200, 12, 107, 174], [1, 5, 36, 255, 6, 1, 147, 790], [1, 5, 246, 214, 2, 39], [1, 7, 774, 4, 2, 78], [1, 7, 3, 482, 93, 4, 2, 34, 519, 49, 1, 1103], [1, 5, 3, 550, 15, 2, 405, 22, 307, 43, 193], [1, 7, 258, 557, 9, 38, 4, 410], [1, 5, 3, 181, 1030, 4, 2, 303], [35, 11, 36, 169, 548], [1, 7, 6, 4, 2, 34], [35, 11, 3, 50, 6, 4, 2, 744], [35, 11, 6, 4, 2, 122, 1, 86, 43, 306, 6], [1, 5, 3, 40, 171, 25, 309, 36, 310, 126], [10, 1, 101, 91, 94, 390, 2, 38, 226, 85, 8, 51], [64, 56, 12, 100, 185], [142, 6, 4, 9, 48], [1, 453, 100, 3, 463, 1, 5, 36, 127, 55], [1, 16, 61, 67, 14, 65], [1, 5, 6, 4, 2, 42], [1, 7, 3, 81, 325, 14, 265, 14, 2, 32], [144, 124, 140, 2, 33, 62, 197, 31, 121, 65, 58, 108], [4, 9, 84, 2, 578, 11, 280], [2, 69, 96, 177, 30, 4, 181, 97, 355, 8, 791, 22, 282, 415, 149, 94, 1, 792, 2, 69, 110, 201, 12, 107, 141, 188], [2, 69, 11, 80, 177, 30, 21, 115], [35, 73, 293, 14, 551, 15, 2, 552, 4, 9, 84], [25, 3, 558, 1, 7, 70, 215, 4, 24], [1, 72, 594, 12, 306, 472, 15, 2, 34, 10, 1, 47, 595, 1, 7, 8, 330, 3, 280, 596, 597], [58, 84, 10, 1, 153, 17, 2, 39, 37, 18, 1, 633, 15, 4, 199], [569, 28, 11, 95, 30, 113, 123, 382, 13], [1, 7, 18, 1, 113, 16, 579, 381, 1, 7, 580, 8, 18, 1, 113, 16, 20, 3, 160], [35, 11, 45, 94, 6, 10, 1, 106, 2, 98], [1, 216, 12, 5, 66, 10, 1, 26, 817, 495, 356], [1, 7, 22, 64, 56, 12, 61, 62, 24, 950, 25, 273, 53, 951, 139, 266], [1, 1063, 2, 66], [10, 1, 444, 2, 206, 35, 11, 6, 4, 34, 88], [1, 5, 60, 215, 171, 15, 2, 98], [1, 16, 100, 131], [1, 16, 47, 17, 53, 272, 77, 1, 5, 3, 6, 4, 2, 23, 22, 784, 24], [2, 28, 387, 131], [9, 894, 93, 15, 2, 44, 467, 24, 468], [704, 57, 212, 8, 705, 14, 706], [1, 5, 169, 221, 143, 9, 241, 207], [1, 5, 36, 48, 41, 10, 917], [1, 7, 6, 10, 1066, 1067, 1068], [1, 7, 3, 50, 6, 4, 2, 42], [2, 145, 4, 2, 136, 23, 73, 224], [2, 32, 19, 10, 27, 161, 60], [1, 5, 3, 105, 76, 143, 2, 288, 590, 4, 9, 327, 82], [2, 55, 734, 17, 432], [1, 20, 1, 88, 6, 10, 1, 104, 12, 146, 2, 206, 53, 2, 98], [2, 128, 29, 722, 10, 1, 106, 2, 98], [1, 7, 81, 6, 4, 9, 32], [9, 55, 11, 121, 127], [6, 4, 9, 1028, 39], [35, 11, 3, 50, 6, 4, 2, 744], [2, 32, 19, 158, 1, 104, 12, 90, 70], [2, 74, 350, 129, 94], [2, 38, 37, 85, 8, 1, 75, 22, 2, 69, 11, 564, 8, 1, 16, 148, 131], [1, 7, 6, 4, 2, 39, 25, 712, 17], [1, 192, 227, 3, 767, 137, 1, 26, 768, 13, 8, 1, 5, 3, 769, 14, 443, 497, 4, 2, 74, 353, 1, 75, 13, 11, 770, 771], [27, 43, 71, 165, 1, 20, 448, 55], [1, 5, 3, 50, 6, 8, 482, 619, 4, 2, 118, 88, 10, 1, 104, 12, 47, 15, 13, 8, 59], [27, 71, 762], [1, 7, 29, 6, 57, 678, 14, 49], [2, 34, 19, 10, 1, 170, 532], [1, 16, 47, 17, 1, 7, 2, 424, 11, 214, 89, 2, 386], [1, 7, 385], [35, 453, 107, 70, 199, 21, 2, 716, 717, 1, 5, 12, 269, 718, 102, 15, 9, 719, 204, 2, 516, 73, 720], [1, 20, 237, 91, 289, 1, 86, 499, 217, 15, 2, 285, 4, 9, 84], [2, 23, 19, 24, 8, 1, 16, 146, 13, 53, 59], [2, 244, 7, 99, 18, 211, 73, 457, 21, 332], [1, 20, 707, 15, 2, 78, 21, 97, 349, 22, 20, 183, 449, 10, 1, 20, 168], [1, 5, 3, 68, 15, 2, 46, 22, 749, 83, 103, 316, 9, 750, 57, 9, 191], [2, 39, 19, 24, 8, 1, 16, 47, 21, 60, 6], [2, 48, 19, 24, 175], [9, 142, 6, 4, 9, 42, 1, 7], [35, 11, 6, 4, 9, 145, 1, 90, 43, 133, 418], [10, 1, 170, 112, 1, 5, 109, 6], [1, 132, 7, 18, 1, 5, 1079, 311, 102, 176, 1, 110, 5, 2, 1080], [27, 63, 376, 22, 974, 79, 975, 976, 72, 1, 63, 977], [1, 5, 3, 56, 6, 4, 2, 42], [2, 189, 52, 3, 850, 851, 8, 9, 852, 853, 68, 9, 89, 14, 167, 854, 8, 92, 13, 307, 43, 193], [11, 35, 3, 711, 62, 66], [1, 5, 3, 23, 6, 114, 1, 954, 955, 495, 356], [2, 598, 96, 65, 80, 164, 252, 16, 148], [1, 5, 3, 1038, 8, 1, 518, 1039, 31, 13, 1040, 229], [4, 1084, 1, 52, 3, 54, 14, 66], [2, 38, 37, 18, 64, 4, 3, 658], [2, 29, 19, 10, 1, 104, 12, 358, 70, 573, 2, 32], [1, 7, 18, 1, 113, 16, 579, 381, 1, 7, 580, 8, 18, 1, 113, 16, 20, 3, 160], [1, 75, 1, 450, 2, 118, 13, 166, 19], [1, 5, 3, 32, 6, 58, 652, 108], [4, 9, 84, 2, 578, 11, 280], [2, 66, 270, 8, 380], [2, 44, 11, 634, 289, 8, 27, 120, 3, 56, 49, 12, 61], [10, 27, 545, 4, 9, 84, 1, 7, 215, 8, 5, 452], [1, 222, 221, 8, 9, 615, 203, 377, 12, 193], [1, 5, 3, 171, 8, 13, 270, 63, 187], [569, 28, 11, 95, 30, 113, 123, 382, 13], [1, 7, 796, 18, 36, 310, 797, 2, 798, 799, 22, 252, 800, 493, 801, 12, 802, 125, 45, 22, 252, 11, 198, 486], [2, 69, 96, 177, 30, 4, 181, 97, 355, 8, 791, 22, 282, 415, 149, 94, 1, 792, 2, 69, 110, 201, 12, 107, 141, 188], [10, 27, 484, 2, 186, 100, 4, 568], [25, 309, 1, 5, 173, 93, 89, 14, 24], [144, 130, 3, 56, 49, 12, 61, 72, 1, 120, 3, 44, 575], [9, 55, 11, 121, 127], [1, 7, 520, 6], [1, 7, 6, 4, 2, 88, 25, 36, 209, 4, 9, 135, 112, 207, 1, 503], [2, 42, 129, 25, 1, 361, 139, 924, 361, 82], [10, 1, 75, 14, 2, 787, 1, 7, 6], [1, 5, 3, 81, 6, 4, 2, 968, 103, 44, 209], [2, 109, 4, 2, 29, 455, 10, 1, 106, 2, 98], [1, 5, 3, 6, 4, 2, 888], [1, 110, 5, 313, 340, 4, 61, 31, 30, 61, 11, 45, 99], [278, 1, 65, 67, 27, 3, 914], [1, 52, 3, 33, 9, 135, 49, 1, 507, 123, 508, 8, 1, 121, 5, 3, 258, 4, 2, 182], [1, 26, 111, 241, 8, 1, 969, 2, 118], [1, 75, 2, 38, 264, 11, 63, 1036], [2, 913, 135, 406, 219, 12, 512, 67, 252, 26, 120, 3, 56, 49, 233], [1, 52, 3, 862, 137, 111, 241, 2, 34, 863, 8, 92, 64, 864], [1, 7, 151], [1, 7, 3, 6, 4, 2, 23], [1, 7, 19, 4, 2, 44], [144, 132, 124, 63, 461, 31, 92, 1, 113, 110, 5, 9, 438, 53, 510, 12, 79, 62, 102, 3, 268, 59], [1, 5, 228, 117, 865, 4, 2, 40, 8, 87, 12, 866, 126, 31, 13, 203, 20, 174], [2, 38, 37, 18, 64, 4, 3, 658], [1, 20, 299, 349, 14, 1011, 115, 15, 2, 23, 8, 211, 162], [1078, 62, 9, 353], [1, 7, 22, 11, 81, 6, 4, 2, 74, 29], [1, 16, 59, 2, 34, 19, 24], [2, 118, 11, 163, 24], [1, 7, 6, 4, 9, 34, 10, 238], [480, 190, 18, 714, 4, 3, 715, 297], [2, 29, 129, 10, 1, 104, 12, 354, 409, 740], [27, 43, 305, 131, 1, 5, 180, 21, 2, 48], [2, 23, 19, 3, 54, 10, 1, 146], [2, 39, 96, 124, 119, 114, 9, 504], [4, 1084, 1, 52, 3, 54, 14, 66], [2, 46, 11, 163, 45, 94], [2, 23, 19, 45, 94, 1, 16, 146, 77, 12, 581, 2, 582], [1, 16, 814, 2, 39], [1, 26, 576, 4, 9, 32, 111, 241, 135, 164], [2, 189, 52, 167, 301, 439, 8, 13, 11, 179, 8, 9, 40, 89, 15, 167, 301, 11, 584, 8, 190, 83], [27, 120, 3, 56, 49, 343, 67, 9, 628, 73, 80, 629], [1, 16, 148, 1, 5, 3, 56, 65], [1, 75, 2, 38, 264, 11, 63, 1036], [731, 2, 44, 19, 24, 1, 87, 12, 107, 732, 8, 1, 16], [1, 7, 33], [2, 32, 226, 51, 10, 1, 104, 12, 20, 17], [158, 1, 47, 17, 1, 7, 51], [1, 130, 3, 539, 135, 406, 8, 1, 113, 16, 150, 540, 15, 149, 12, 20, 541, 15, 2, 542, 292], [10, 1, 20, 17, 1, 7, 51, 8, 267, 77], [2, 39, 37, 392], [1, 649, 221, 650, 21, 3, 357, 137, 1, 26, 651], [1, 7, 51, 25, 161, 3, 549, 266], [1, 247, 208], [9, 6, 4, 2, 48, 11, 427], [13, 37, 18, 1, 16, 116, 3, 254, 61], [1, 5, 3, 68, 22, 96, 328, 97, 8, 380, 412], [1, 414, 196, 21, 40, 657], [1, 7, 774, 4, 2, 78], [2, 46, 19, 24, 3, 54, 14, 111, 112], [1, 59, 58, 108, 31, 92, 1, 20, 268, 14, 61, 25, 141, 514, 3, 268, 324], [1, 147, 20, 198, 282, 415, 149, 94, 1, 661, 17, 53, 149, 242, 1, 217, 9, 662, 15], [114, 1, 219, 369, 9, 630, 1, 5, 6, 15, 2, 48], [1, 5, 142, 29, 6], [1, 326, 2, 118, 137, 161, 636, 637, 4, 9, 638], [2, 68, 1129, 53, 1130, 1131, 370], [529, 530, 53, 283, 4, 9, 40], [1, 86, 260, 208], [1, 7, 23, 6, 10, 1, 261, 99, 185], [1, 5, 3, 251, 41, 4, 2, 32], [2, 98, 19, 10, 1, 425], [1, 7, 63, 85, 4, 2, 38], [1, 507, 123, 508, 3, 517, 204, 256, 8, 60, 49, 143, 999, 2, 182, 1000, 1001, 8, 181], [1, 414, 196, 21, 40, 657], [1, 5, 246, 4, 233, 4, 671, 672], [1, 7, 33, 205, 891, 73, 4, 892], [1, 16, 814, 2, 39], [2, 502, 37, 18, 13, 11, 971, 220, 15, 220, 10, 1, 59], [1, 7, 3, 215, 8, 277, 6, 89, 2, 396, 397], [1, 75, 259, 321, 4, 2, 182], [13, 270, 89, 2, 182], [2, 69, 96, 177, 30, 4, 181, 97, 355, 8, 791, 22, 282, 415, 149, 94, 1, 792, 2, 69, 110, 201, 12, 107, 141, 188], [1, 5, 117, 210, 313, 10, 27, 233, 143, 9, 164], [1, 5, 3, 171, 8, 13, 270, 63, 187], [2, 44, 11, 634, 289, 8, 27, 120, 3, 56, 49, 12, 61], [144, 130, 3, 56, 49, 12, 61, 72, 1, 120, 3, 44, 575], [102, 176, 9, 264, 11, 242, 4, 9, 383, 2, 38, 11, 132, 33], [2, 40, 11, 63, 235, 8, 531], [1, 5, 3, 251, 41, 4, 2, 42, 13, 226, 344, 25, 1, 101], [10, 27, 161, 553, 1, 5, 6, 371, 2, 40], [2, 29, 19, 10, 1, 104, 12, 358, 70, 573, 2, 32], [10, 27, 237, 1, 7, 2, 32, 99], [1, 7, 142, 314, 4, 9, 40, 21, 336], [1, 222, 221, 8, 9, 615, 203, 377, 12, 193], [2, 69, 11, 80, 177, 30, 21, 115], [1, 5, 3, 251, 41, 4, 2, 42, 13, 226, 344, 25, 1, 101], [35, 73, 293, 14, 551, 15, 2, 552, 4, 9, 84], [13, 37, 18, 441, 11, 559, 2, 32, 21, 3, 560, 1, 7, 6, 15, 9, 339, 14, 2, 32, 8, 13, 411], [1, 147, 20, 198, 282, 415, 149, 94, 1, 661, 17, 53, 149, 242, 1, 217, 9, 662, 15], [2, 34, 37, 85, 8, 13, 775, 324, 9, 342, 108, 57, 9, 339, 14, 9, 157, 776, 35, 26, 3, 777, 12, 778, 15, 12], [1, 7, 3, 215, 8, 277, 6, 89, 2, 396, 397], [2, 32, 19, 4, 9, 23, 8, 9, 6, 543, 80, 108], [13, 270, 89, 2, 182], [1, 5, 117, 6, 10, 27, 238, 178, 2, 152], [10, 1, 20, 30, 14, 592, 4, 9, 84, 2, 38, 37, 63, 85], [2, 44, 11, 634, 289, 8, 27, 120, 3, 56, 49, 12, 61], [1, 72, 594, 12, 306, 472, 15, 2, 34, 10, 1, 47, 595, 1, 7, 8, 330, 3, 280, 596, 597], [2, 44, 37, 18, 64, 141, 12, 572], [2, 42, 37, 296, 8, 570, 8, 372, 25, 299, 571], [1, 68, 221, 8, 27, 243], [1, 5, 117, 210, 313, 10, 27, 233, 143, 9, 164], [35, 11, 3, 398, 93, 4, 2, 39], [1, 5, 3, 63, 171, 93, 231, 12, 2, 337], [1, 16, 330, 30, 14, 2, 48, 653, 1, 7, 18, 35, 11, 70, 4, 13, 431, 654], [435, 9, 445, 14, 660], [25, 3, 558, 1, 7, 70, 215, 4, 24], [25, 309, 1, 5, 173, 93, 89, 14, 24], [2, 34, 203, 377, 12, 146, 131], [11, 2, 68, 83, 53, 113, 232], [1, 16, 378, 2, 39, 12, 9, 74, 338, 71, 3, 485, 6], [10, 27, 545, 4, 9, 84, 1, 7, 215, 8, 5, 452], [2, 69, 96, 177, 30, 4, 181, 97, 355, 8, 791, 22, 282, 415, 149, 94, 1, 792, 2, 69, 110, 201, 12, 107, 141, 188], [1, 7, 18, 1, 113, 16, 579, 381, 1, 7, 580, 8, 18, 1, 113, 16, 20, 3, 160], [1, 75, 259, 321, 4, 2, 182], [1, 7, 6, 89, 1, 90, 43, 133, 138, 13, 11], [2, 74, 350, 129, 94], [2, 34, 11, 163, 45, 175], [1, 7, 385], [248, 236, 14, 28, 400, 8, 401, 402], [35, 11, 6, 4, 9, 145, 1, 90, 43, 133, 418], [1, 16, 607, 2, 608, 57, 164, 67, 1, 5, 105, 76], [1, 20, 237, 91, 289, 1, 86, 499, 217, 15, 2, 285, 4, 9, 84], [1, 20, 436, 14, 478, 8, 949, 15, 2, 23], [1, 153, 17, 21, 3, 392, 39, 58, 84, 458, 407, 31, 223, 3, 284, 14, 204, 751, 64, 23, 432], [9, 142, 6, 4, 9, 42, 1, 7], [2, 32, 19, 158, 1, 104, 12, 90, 70], [2, 34, 19, 10, 1, 59], [1, 16, 59, 67, 1, 5, 3, 81, 46, 41], [27, 71, 762], [1, 5, 3, 50, 6, 8, 482, 619, 4, 2, 118, 88, 10, 1, 104, 12, 47, 15, 13, 8, 59], [1, 434, 3, 99, 803, 156, 8, 10, 1, 20, 17, 464, 1, 172, 3, 81, 29, 6], [2, 48, 19, 24, 175], [2, 34, 37, 85, 8, 13, 775, 324, 9, 342, 108, 57, 9, 339, 14, 9, 157, 776, 35, 26, 3, 777, 12, 778, 15, 12], [2, 44, 37, 18, 64, 141, 12, 572], [70, 384, 11, 35, 15, 2, 98], [1, 75, 1, 450, 2, 118, 13, 166, 19], [25, 309, 1, 5, 173, 93, 89, 14, 24], [149, 90, 281, 133, 176, 281, 5, 3, 423, 536, 4, 537, 34], [10, 27, 237, 1, 7, 2, 32, 99], [58, 84, 10, 1, 153, 17, 2, 39, 37, 18, 1, 633, 15, 4, 199], [1, 5, 3, 473, 15, 9, 23, 14, 2, 134, 22, 113, 257, 79, 188], [114, 1, 219, 369, 9, 630, 1, 5, 6, 15, 2, 48], [1, 5, 3, 251, 41, 4, 2, 42, 13, 226, 344, 25, 1, 101], [2, 48, 11, 556], [2, 32, 19, 4, 9, 23, 8, 9, 6, 543, 80, 108], [2, 34, 203, 377, 12, 146, 131], [13, 270, 89, 2, 182], [2, 69, 11, 80, 177, 30, 21, 115], [4, 9, 84, 2, 578, 11, 280], [10, 27, 545, 4, 9, 84, 1, 7, 215, 8, 5, 452], [25, 111, 351, 1, 52, 3, 277, 93, 231, 12, 2, 39], [569, 28, 11, 95, 30, 113, 123, 382, 13], [704, 57, 212, 8, 705, 14, 706], [1, 16, 47, 21, 60, 430, 71, 4, 2, 42], [2, 244, 7, 99, 18, 211, 73, 457, 21, 332], [1, 5, 681, 186], [9, 883, 884, 45, 885, 143, 9, 886, 15, 2, 118, 22, 1, 147, 47, 290, 887, 15, 9, 505], [1, 130, 66, 10, 1, 426, 538], [1, 7, 3, 6, 15, 9, 74, 350, 14, 2, 78, 978, 2, 44, 11], [1, 52, 196, 14, 253, 156, 45, 1, 7, 50, 109, 311], [27, 43, 165, 27, 71, 45, 33], [1, 5, 6, 31, 1, 16, 961, 962], [1, 7, 3, 6, 4, 2, 23, 10, 1, 272, 15, 3, 1029, 62, 373], [10, 1, 153, 17, 1, 72, 71, 33], [10, 1, 354, 2, 337, 17, 1, 5, 3, 335, 4, 2, 249], [1, 7, 3, 6, 15, 9, 74, 350, 14, 2, 78, 978, 2, 44, 11], [2, 42, 96, 124, 119, 114, 156], [1, 7, 6, 4, 2, 32, 21, 3, 452], [1, 5, 3, 23, 6, 114, 1, 192, 15, 9, 1108], [1, 7, 81, 265, 4, 2, 78], [2, 134, 127, 55, 130, 83], [1, 216, 12, 107, 30, 14, 61, 25, 141, 17, 3, 1058, 14, 157, 31, 92, 1, 1059, 12, 61, 102, 10, 1, 272, 77], [1, 7, 18, 2, 44, 11, 15, 1057], [1, 5, 1055, 4, 2, 1056], [454, 930, 12, 245, 128, 53, 74, 931, 123, 214, 9, 368, 38], [1, 498, 12, 59, 8, 107, 513, 31, 9, 957, 14, 2, 303, 20, 119, 45, 195], [2, 29, 109, 19, 10, 1, 104, 12, 358, 17], [2, 189, 1064, 3, 1065, 8, 13, 326, 127, 514, 12, 473, 140, 8, 92, 190, 18, 13, 11, 83], [10, 1, 261, 99, 185, 1, 7, 18, 416, 2, 23], [1, 7, 18, 9, 525, 11, 366], [1, 87, 12, 217, 2, 465, 12, 100, 183, 808, 31, 247, 466, 139, 809], [52, 1, 1002, 15, 3, 451, 13, 1003, 5, 162, 45, 94, 18, 60, 1004, 1005, 4, 2, 1006], [10, 1, 26, 966, 2, 28, 13, 26, 95, 30, 967], [10, 2, 1081, 1082, 1083, 1, 172, 3, 56, 496, 6], [1, 5, 3, 39, 6, 10, 1, 272, 4, 212, 14, 2, 422], [1, 315, 20, 3, 50, 6, 4, 2, 78, 8, 1, 16, 586, 138, 27, 161, 22, 419, 107, 587, 13], [2, 136, 23, 19, 31, 13, 698, 176, 1, 425, 13], [35, 11, 3, 50, 6, 4, 2, 331, 1, 5, 87, 12, 341, 6, 262, 126, 31, 13, 225, 43, 229], [2, 40, 11, 329, 8, 304], [9, 6, 37, 18, 64, 128, 345, 9, 40], [1, 5, 3, 71, 18, 2, 368, 38, 11, 956], [1, 437, 36, 676, 677, 4, 2, 76, 10, 1, 104, 12, 245, 57, 185, 17, 231], [278, 1, 7, 18, 3, 811, 15, 2, 78, 22, 467, 24, 468], [1, 5, 255, 6, 158, 1, 300, 77, 21, 3, 33], [1, 52, 3, 862, 137, 111, 241, 2, 34, 863, 8, 92, 64, 864], [1, 7, 6, 4, 2, 38], [2, 38, 37, 85, 8, 1, 75, 22, 2, 69, 11, 564, 8, 1, 16, 148, 131], [2, 44, 19, 10, 1, 253], [10, 1, 75, 14, 2, 787, 1, 7, 6], [1, 5, 3, 868, 429], [35, 11, 6, 4, 9, 145, 1, 90, 43, 133, 418], [35, 11, 60, 6, 22, 481, 103, 2, 78, 17, 12, 2, 74, 98], [2, 48, 41, 10, 27, 915, 12, 916], [1, 20, 237, 91, 289, 1, 86, 499, 217, 15, 2, 285, 4, 9, 84], [2, 34, 19, 10, 1, 59], [1, 110, 5, 313, 340, 4, 61, 31, 30, 61, 11, 45, 99], [1, 5, 3, 181, 1030, 4, 2, 303], [2, 42, 129, 10, 1, 101, 168, 490, 82], [1, 7, 3, 482, 93, 4, 2, 34, 519, 49, 1, 1103], [1, 16, 607, 2, 608, 57, 164, 67, 1, 5, 105, 76], [1, 5, 3, 6, 4, 2, 888], [1, 5, 3, 68, 15, 2, 46, 22, 749, 83, 103, 316, 9, 750, 57, 9, 191], [10, 1, 79, 12, 47, 2, 32, 364, 1044], [1, 26, 111, 241, 8, 1, 969, 2, 118], [1, 110, 133, 82, 27, 687, 151], [488, 26, 752, 12, 5, 36, 127, 55], [1, 7, 6, 89, 1, 90, 43, 133, 138, 13, 11], [1, 16, 47, 21, 60, 430, 71, 4, 2, 42], [1, 7, 29, 6, 57, 678, 14, 49], [1, 5, 648, 21, 2, 40], [10, 1, 101, 1, 7, 2, 42, 19], [248, 220, 236, 57, 9, 699, 14, 9, 700, 14, 9, 136, 701], [731, 2, 44, 19, 24, 1, 87, 12, 107, 732, 8, 1, 16], [1, 72, 71, 45, 51, 38, 11, 45, 1037], [1, 16, 59, 2, 34, 19, 24], [1, 7, 18, 1, 86, 260, 208, 903, 1, 20, 435, 4, 2, 244, 30], [1, 7, 6, 89, 8, 1, 86, 43, 695, 13], [2, 855, 11, 45, 119], [1, 7, 18, 70, 11, 479, 2, 244], [10, 27, 91, 242, 1, 154, 12, 7, 51], [1, 5, 3, 171, 15, 2, 40], [1, 1012, 60, 1013, 71, 14, 1014, 213, 79, 188], [2, 39, 96, 124, 119, 114, 9, 504], [1, 222, 9, 889, 10, 476, 12, 890, 3, 348], [2, 46, 52, 124, 224, 114, 135, 713], [1, 7, 151, 18, 162, 53, 6], [1, 72, 120, 273, 413], [1, 5, 620, 15, 2, 69, 22, 300, 8, 79], [1, 7, 85, 80, 140], [1, 5, 3, 81, 42, 41, 8, 1, 16, 101, 139, 670], [142, 6, 4, 9, 48], [35, 11, 3, 50, 6, 4, 2, 744], [1, 147, 306, 60, 479, 93, 1, 5, 4, 2, 78], [97, 1085, 477, 21, 329], [1, 5, 3, 180, 4, 2, 23, 1, 147, 444, 13], [13, 19, 10, 1, 879, 2, 98], [2, 48, 19, 10, 1, 295, 13], [1, 546, 3, 254, 55, 4, 2, 134, 8, 1, 86, 43, 150, 9, 243], [1, 113, 16, 201, 12, 20, 198, 102, 10, 753, 178, 24, 11, 198, 1, 132, 7, 33], [11, 35, 3, 711, 62, 66], [1, 260, 5, 486, 992, 12, 20, 17], [1, 434, 3, 99, 803, 156, 8, 10, 1, 20, 17, 464, 1, 172, 3, 81, 29, 6], [1, 16, 607, 2, 608, 57, 164, 67, 1, 5, 105, 76], [9, 142, 6, 4, 9, 42, 1, 7], [1, 192, 227, 3, 767, 137, 1, 26, 768, 13, 8, 1, 5, 3, 769, 14, 443, 497, 4, 2, 74, 353, 1, 75, 13, 11, 770, 771], [2, 74, 350, 129, 94], [10, 1, 47, 17, 1, 7, 18, 27, 141, 12, 267, 77, 748], [35, 73, 117, 115, 15, 2, 69, 22, 756, 24, 3, 54], [1, 7, 6, 4, 2, 249, 10, 1, 533, 15, 9, 534], [1, 7, 6, 4, 9, 34], [9, 135, 49, 1, 646, 2, 647, 1, 68, 365, 91, 268, 8, 92, 1, 5, 36, 83, 446], [2, 23, 11, 163, 45, 94], [1, 16, 59, 67, 1, 5, 3, 81, 46, 41], [144, 132, 124, 63, 461, 31, 92, 1, 113, 110, 5, 9, 438, 53, 510, 12, 79, 62, 102, 3, 268, 59], [1, 26, 1100, 1101, 8, 347, 5, 105, 76], [1, 90, 43, 133, 82, 1, 7, 33], [1, 5, 210, 6, 4, 2, 44], [1, 7, 70, 162, 24, 4, 340, 61, 8, 1, 247, 116, 2, 61], [1, 7, 85, 80, 140], [1, 359, 340, 288, 943, 8, 1, 944, 1, 945, 91, 94, 462, 227, 2, 413, 67, 60, 946, 11, 456, 24, 92], [10, 1, 90, 56, 656, 1, 7, 81, 6, 4, 2, 145], [1, 5, 246, 214, 2, 39], [10, 1, 20, 17, 1, 7, 51, 8, 267, 77], [2, 40, 11, 314], [1, 52, 3, 33, 9, 135, 49, 1, 507, 123, 508, 8, 1, 121, 5, 3, 258, 4, 2, 182], [35, 11, 60, 6, 22, 481, 103, 2, 78, 17, 12, 2, 74, 98], [1, 7, 6, 4, 2, 128, 29, 25, 9, 351, 207], [2, 28, 95, 30], [1, 498, 12, 524, 31, 1, 20, 3, 210, 932, 4, 2, 136, 23, 10, 1, 933, 140], [1, 52, 36, 504, 8, 2, 55, 26, 127, 10, 1, 1041, 12, 512], [1, 7, 109, 6, 58, 49, 1, 194, 36, 1046, 266], [1, 5, 3, 312, 4, 2, 122], [58, 49, 1, 494, 2, 28, 35, 73, 45, 492, 28, 4, 2, 494], [1, 5, 620, 15, 2, 69, 22, 300, 8, 79], [27, 694], [16, 90, 139, 253, 1, 7, 85], [1, 16, 148, 1, 5, 3, 56, 65], [35, 11, 45, 94, 6, 10, 1, 106, 2, 98], [336, 393, 8, 246, 238], [2, 189, 1064, 3, 1065, 8, 13, 326, 127, 514, 12, 473, 140, 8, 92, 190, 18, 13, 11, 83], [1, 7, 18, 2, 44, 11, 15, 1057], [10, 1, 503, 112, 1, 1114, 2, 29], [1, 417, 3, 952, 62, 234, 49, 8, 10, 1, 953, 343, 1, 7, 32, 41], [1, 7, 3, 6, 4, 2, 23, 10, 1, 272, 15, 3, 1029, 62, 373], [1, 7, 81, 265, 4, 2, 78], [1, 5, 3, 6, 255], [10, 1, 444, 2, 206, 35, 11, 6, 4, 34, 88], [1, 5, 3, 6, 4, 2, 32], [1, 5, 3, 39, 6, 10, 1, 272, 4, 212, 14, 2, 422], [10, 1, 106, 15, 2, 29, 6, 938, 77, 2, 98], [1, 5, 60, 215, 171, 15, 2, 98], [1, 5, 1055, 4, 2, 1056], [64, 56, 12, 47, 17, 8, 27, 214, 63, 1072], [2, 78, 66, 442, 30, 8, 322, 612, 17], [1, 498, 12, 59, 8, 107, 513, 31, 9, 957, 14, 2, 303, 20, 119, 45, 195], [1, 315, 20, 3, 50, 6, 4, 2, 78, 8, 1, 16, 586, 138, 27, 161, 22, 419, 107, 587, 13], [2, 83, 55, 418, 3, 807], [1, 216, 12, 107, 30, 14, 61, 25, 141, 17, 3, 1058, 14, 157, 31, 92, 1, 1059, 12, 61, 102, 10, 1, 272, 77], [27, 429, 103, 50, 65, 477, 123, 605], [1, 16, 261, 287, 1, 5, 3, 6, 4, 2, 29], [9, 6, 4, 2, 48, 11, 427], [1, 5, 3, 6, 4, 2, 88], [27, 120, 3, 56, 49, 343, 67, 9, 628, 73, 80, 629], [1, 26, 576, 4, 9, 32, 111, 241, 135, 164], [1, 649, 221, 650, 21, 3, 357, 137, 1, 26, 651], [2, 46, 19, 24, 3, 54, 14, 111, 112], [1, 7, 3, 173, 93, 4, 2, 29, 109], [443, 177, 8, 55, 2, 206, 175, 9, 55, 11, 45, 813], [1, 26, 111, 348, 156, 1, 5, 450, 118], [1, 16, 261, 287, 1, 5, 3, 6, 4, 2, 29], [1, 7, 51, 25, 142, 680], [99, 61, 21, 939], [2, 32, 226, 51, 10, 1, 104, 12, 20, 17], [2, 502, 37, 18, 13, 11, 971, 220, 15, 220, 10, 1, 59], [1, 7, 6, 4, 2, 44, 10, 1, 153, 17], [1, 1063, 2, 66], [2, 55, 26, 83, 10, 1, 26, 1117, 117, 1118, 4, 2, 524], [1, 7, 774, 4, 2, 78], [1, 414, 196, 21, 2, 39, 6, 8, 1, 166, 200, 12, 107, 174], [278, 1, 65, 67, 27, 3, 914], [1, 998, 68, 2, 271, 67, 14, 111, 112, 8, 1, 12, 341, 6, 262, 126, 31, 13, 225, 43, 229], [1, 7, 6, 4, 2, 128, 29, 25, 9, 351, 207], [1, 16, 100, 9, 872, 1, 5, 3, 105, 76], [2, 44, 19, 24], [2, 42, 129, 25, 1, 361, 139, 924, 361, 82], [2, 40, 11, 314], [1, 5, 3, 68, 22, 96, 328, 97, 8, 380, 412], [2, 44, 19, 10, 1, 253], [9, 66, 26, 431, 24, 12, 7, 871], [27, 43, 165, 27, 71, 45, 33], [1, 130, 169, 640], [1, 16, 47, 17, 53, 272, 77, 1, 5, 3, 6, 4, 2, 23, 22, 784, 24], [1, 7, 3, 173, 93, 4, 2, 934, 460, 935, 936, 25, 519, 937], [1, 5, 276, 6, 4, 2, 502, 25, 294, 30], [13, 11, 18, 1, 5, 3, 451, 611, 227, 2, 44], [9, 883, 884, 45, 885, 143, 9, 886, 15, 2, 118, 22, 1, 147, 47, 290, 887, 15, 9, 505], [10, 1, 146, 140, 1, 20, 3, 276, 6, 77, 2, 23], [35, 11, 3, 50, 6, 4, 2, 331, 1, 5, 87, 12, 341, 6, 262, 126, 31, 13, 225, 43, 229], [1, 5, 3, 39, 6, 10, 1, 272, 4, 212, 14, 2, 422], [1, 5, 210, 6, 4, 2, 44], [1, 20, 3, 34, 6, 10, 1, 59, 3, 54], [1, 52, 36, 504, 8, 2, 55, 26, 127, 10, 1, 1041, 12, 512], [1, 315, 20, 3, 50, 6, 4, 2, 78, 8, 1, 16, 586, 138, 27, 161, 22, 419, 107, 587, 13], [1, 5, 3, 48, 41, 10, 1, 79, 12, 9, 327], [2, 28, 387, 131], [1, 72, 132, 33, 102, 10, 1, 72, 904, 905], [142, 6, 4, 9, 360, 74, 350, 14, 78, 8, 375, 5, 6, 12, 23], [1, 5, 3, 56, 109, 6, 114, 1, 219, 12, 9, 191], [1, 110, 5, 296, 782, 14, 783, 21, 2, 337], [1, 5, 109, 6, 57, 2, 74, 206], [1, 7, 6, 4, 2, 88, 25, 36, 209, 4, 9, 135, 112, 207, 1, 503], [1, 5, 3, 483, 29, 6], [10, 1, 101, 91, 94, 390, 2, 38, 226, 85, 8, 51], [2, 38, 37, 85, 25, 2, 362, 108, 4, 9, 191, 82], [10, 1, 47, 17, 91, 195, 1, 154, 12, 7, 51, 8, 230, 274], [421, 685, 97, 686, 370, 181, 8, 168, 12, 9, 295], [35, 11, 36, 169, 548], [1, 75, 259, 70, 199, 21, 2, 55, 13, 225, 43, 201, 12, 193, 18, 13, 428], [9, 55, 11, 121, 127], [1, 7, 51, 158, 1, 47, 17], [3, 210, 267, 4, 28], [1, 5, 3, 251, 41, 4, 2, 136, 23, 240, 286, 13, 470, 12, 106], [1, 7, 18, 35, 11, 70, 179, 8, 304, 57, 9, 23, 14, 2, 34], [1, 5, 3, 277, 6, 89, 2, 39], [2, 32, 19, 158, 1, 104, 12, 90, 70], [1, 110, 5, 9, 510, 12, 90, 9, 185, 22, 1, 216, 12], [1, 7, 6, 4, 2, 249, 10, 1, 533, 15, 9, 534], [2, 48, 19, 10, 1, 295, 13], [1, 20, 3, 34, 6, 10, 1, 59, 3, 54], [10, 1, 735, 2, 186, 12, 736, 1, 5, 105, 76], [1, 110, 5, 296, 782, 14, 783, 21, 2, 337], [1, 5, 3, 218, 58, 49, 1, 101, 310, 126], [278, 10, 13, 11, 33, 513, 2, 69, 19, 333, 178, 9, 115, 22, 73, 1042, 12, 1043], [2, 28, 387, 131], [1, 90, 43, 133, 82, 1, 7, 33], [2, 673, 38, 11, 674], [2, 39, 11, 788, 24, 1, 16, 148, 789, 14, 13], [1, 7, 70, 162, 24, 4, 340, 61, 8, 1, 247, 116, 2, 61], [9, 663, 664, 14, 2, 383, 11, 177, 8, 7, 45, 33], [1, 5, 3, 48, 41, 10, 1, 79, 12, 9, 327], [2, 643, 7, 18, 211, 73, 644, 202, 645, 8, 73, 312], [1, 359, 340, 288, 943, 8, 1, 944, 1, 945, 91, 94, 462, 227, 2, 413, 67, 60, 946, 11, 456, 24, 92], [27, 694], [1, 5, 210, 6, 4, 2, 44], [1, 5, 3, 105, 76, 8, 1, 16, 100, 4, 9, 804, 138, 11, 9, 184, 463], [1, 172, 2, 44, 19, 10, 1, 509, 62, 234, 895], [1, 130, 66, 10, 1, 426, 538], [1, 7, 70, 162, 24, 4, 340, 61, 8, 1, 247, 116, 2, 61], [1, 5, 3, 81, 42, 41, 8, 1, 16, 101, 139, 670], [1, 16, 47, 17, 53, 272, 77, 1, 5, 3, 6, 4, 2, 23, 22, 784, 24], [278, 10, 13, 11, 33, 513, 2, 69, 19, 333, 178, 9, 115, 22, 73, 1042, 12, 1043], [1, 5, 66, 4, 2, 69, 8, 342, 1045, 4, 2, 806, 18, 314], [1, 5, 620, 15, 2, 69, 22, 300, 8, 79], [1, 5, 3, 6, 4, 2, 42], [1, 5, 105, 76, 25, 1, 216, 3, 199, 642], [1, 5, 29, 6, 10, 1, 104, 12, 261, 2, 893], [1, 5, 3, 33, 8, 13, 286, 24, 65, 196], [2, 23, 130, 169, 137, 1, 26, 1060, 57, 9, 191], [1, 5, 896, 76], [1, 7, 22, 64, 56, 12, 61, 62, 24, 950, 25, 273, 53, 951, 139, 266], [2, 42, 96, 124, 119, 114, 156], [2, 1109, 68, 167, 46, 15, 3, 1110, 4, 9, 1111, 8, 92, 9, 46, 11, 1112, 1113, 8, 11, 501], [1, 417, 3, 952, 62, 234, 49, 8, 10, 1, 953, 343, 1, 7, 32, 41], [1, 7, 81, 265, 4, 2, 78], [2, 189, 1064, 3, 1065, 8, 13, 326, 127, 514, 12, 473, 140, 8, 92, 190, 18, 13, 11, 83], [2, 145, 4, 2, 136, 23, 73, 224], [35, 11, 36, 1142, 265, 345, 2, 566, 1143, 57, 9, 128, 240, 1, 7, 58, 49, 1, 79, 30, 62, 3, 1144], [7, 18, 70, 11, 290, 1107, 369, 2, 122], [1, 498, 12, 524, 31, 1, 20, 3, 210, 932, 4, 2, 136, 23, 10, 1, 933, 140], [1, 16, 100, 131], [1, 26, 111, 348, 156, 1, 5, 450, 118], [42, 6, 25, 880, 881], [1, 910, 492, 911, 31, 211, 16, 466, 9, 128, 352, 912, 2, 28, 23], [64, 56, 12, 100, 185], [421, 685, 97, 686, 370, 181, 8, 168, 12, 9, 295], [10, 1, 79, 12, 148, 1, 72, 71, 33], [1, 5, 6, 4, 2, 42], [1, 5, 6, 4, 2, 882, 8, 2, 42, 18, 70, 515, 13], [35, 11, 3, 50, 6, 4, 2, 48, 158, 1, 90, 60], [1, 16, 47, 21, 60, 430, 71, 4, 2, 29], [9, 6, 4, 2, 23, 1031, 18, 3, 50, 357, 4, 13], [1, 7, 51, 158, 1, 47, 17], [1, 5, 29, 6, 25, 161, 139, 474, 298], [1, 5, 3, 6, 4, 2, 1020, 88], [1, 5, 6, 31, 1, 16, 961, 962], [1, 5, 105, 76, 25, 1, 216, 3, 199, 642], [1, 5, 36, 48, 41, 10, 917], [10, 20, 17, 1, 228, 22, 1, 5, 3, 42, 41, 8, 1, 87, 12, 116, 1051, 31, 2, 42, 121, 163, 24], [2, 32, 19, 10, 27, 161, 60], [2, 136, 23, 19, 31, 13, 698, 176, 1, 425, 13], [1, 7, 88, 6, 58, 49, 1, 106], [1, 5, 276, 6, 4, 2, 502, 25, 294, 30], [1, 7, 18, 9, 525, 11, 366], [1, 7, 3, 6, 15, 9, 74, 350, 14, 2, 78, 978, 2, 44, 11], [1, 1069, 388, 9, 1070, 14, 2, 271, 137, 1, 26, 515, 117, 1071, 8, 1, 147, 150, 9, 243], [2, 145, 4, 2, 136, 23, 73, 224], [1, 498, 12, 59, 8, 107, 513, 31, 9, 957, 14, 2, 303, 20, 119, 45, 195], [35, 11, 3, 50, 6, 4, 2, 331, 1, 5, 87, 12, 341, 6, 262, 126, 31, 13, 225, 43, 229], [454, 930, 12, 245, 128, 53, 74, 931, 123, 214, 9, 368, 38], [10, 1, 47, 17, 91, 195, 1, 154, 12, 7, 51, 8, 230, 274], [10, 1, 153, 17, 1, 72, 71, 33], [2, 83, 55, 418, 3, 807], [1, 7, 18, 2, 44, 11, 15, 1057], [1, 147, 208, 67, 14, 60, 251, 41, 345, 2, 74, 29], [13, 37, 18, 441, 497, 3, 357, 369, 2, 29], [27, 43, 165, 27, 71, 45, 33], [1, 5, 3, 180, 4, 9, 1104, 67, 1, 5, 1105, 1106], [2, 42, 96, 124, 119, 114, 156], [99, 61, 21, 939], [7, 18, 70, 11, 290, 1107, 369, 2, 122], [1, 1069, 388, 9, 1070, 14, 2, 271, 137, 1, 26, 515, 117, 1071, 8, 1, 147, 150, 9, 243], [1, 7, 33, 205, 891, 73, 4, 892], [1, 26, 111, 348, 156, 1, 5, 450, 118], [1, 16, 59, 131, 1, 5, 36, 41, 4, 2, 46], [1, 7, 385], [1, 7, 6, 4, 2, 39, 25, 712, 17], [1, 546, 3, 254, 55, 4, 2, 134, 8, 1, 86, 43, 150, 9, 243], [1, 153, 17, 21, 3, 392, 39, 58, 84, 458, 407, 31, 223, 3, 284, 14, 204, 751, 64, 23, 432], [2, 48, 19, 10, 1, 295, 13], [35, 453, 107, 70, 199, 21, 2, 716, 717, 1, 5, 12, 269, 718, 102, 15, 9, 719, 204, 2, 516, 73, 720], [1, 7, 6, 4, 2, 249, 10, 1, 533, 15, 9, 534], [1, 222, 9, 889, 10, 476, 12, 890, 3, 348], [2, 145, 7, 237], [9, 142, 6, 4, 9, 42, 1, 7], [10, 1, 47, 17, 1, 7, 18, 27, 141, 12, 267, 77, 748], [9, 135, 49, 1, 646, 2, 647, 1, 68, 365, 91, 268, 8, 92, 1, 5, 36, 83, 446], [421, 55, 805], [2, 34, 11, 163, 45, 175], [2, 74, 350, 129, 94], [2, 23, 19, 24, 8, 1, 16, 146, 13, 53, 59], [1, 75, 1, 741, 13, 10, 1, 434, 80, 22, 742, 103, 9, 743, 2, 136, 23, 11, 456, 24], [144, 132, 124, 63, 461, 31, 92, 1, 113, 110, 5, 9, 438, 53, 510, 12, 79, 62, 102, 3, 268, 59], [1, 5, 648, 21, 2, 40], [1, 20, 707, 15, 2, 78, 21, 97, 349, 22, 20, 183, 449, 10, 1, 20, 168], [1, 16, 607, 2, 608, 57, 164, 67, 1, 5, 105, 76], [1, 260, 5, 486, 992, 12, 20, 17], [25, 111, 112, 1, 5, 109, 6, 21, 2, 758, 491], [35, 11, 6, 4, 9, 145, 1, 90, 43, 133, 418], [2, 48, 19, 10, 1, 295, 13], [58, 49, 1, 245, 12, 74, 1, 7, 3, 50, 6, 4, 2, 39], [1, 16, 90, 287, 1, 7, 3, 85, 4, 2, 38], [2, 244, 7, 99, 18, 211, 73, 457, 21, 332], [1, 7, 781, 659], [1, 5, 6, 18, 279, 4, 2, 122], [2, 38, 37, 85, 205, 1, 101, 3, 54, 82], [2, 145, 7, 237], [2, 38, 37, 18, 64, 4, 3, 658], [1, 1012, 60, 1013, 71, 14, 1014, 213, 79, 188], [144, 87, 343, 981, 31, 982, 86, 983, 24, 17], [278, 2, 38, 37, 511, 338, 184], [2, 65, 11, 63, 99, 8, 1, 5, 332], [1, 7, 151], [9, 959, 14, 2, 303, 162, 10, 1, 269, 960], [5, 142, 33, 8, 65], [2, 28, 132, 754, 30, 8, 1, 5, 755, 3, 54, 14, 28, 323], [120, 246, 214, 2, 34], [1, 75, 2, 55, 11, 83], [102, 176, 9, 264, 11, 242, 4, 9, 383, 2, 38, 11, 132, 33], [1, 5, 3, 171, 8, 13, 270, 63, 187], [25, 111, 351, 1, 52, 3, 277, 93, 231, 12, 2, 39], [1, 5, 117, 210, 313, 10, 27, 233, 143, 9, 164], [1, 5, 3, 63, 171, 93, 231, 12, 2, 337], [2, 34, 203, 377, 12, 146, 131], [1, 7, 166, 151, 80, 9, 49], [2, 66, 270, 8, 380], [2, 44, 37, 18, 64, 141, 12, 572], [144, 124, 140, 2, 33, 62, 197, 31, 121, 65, 58, 108], [10, 27, 161, 553, 1, 5, 6, 371, 2, 40], [35, 73, 293, 14, 551, 15, 2, 552, 4, 9, 84], [1, 75, 259, 321, 4, 2, 182], [13, 270, 89, 2, 182], [44, 129, 45, 94], [1, 5, 410, 258, 4, 2, 925], [1, 5, 3, 550, 15, 2, 405, 22, 307, 43, 193], [1, 5, 3, 105, 76, 8, 1, 16, 100, 4, 9, 804, 138, 11, 9, 184, 463], [1, 7, 3, 606, 4, 2, 78], [2, 46, 19, 24, 3, 54, 14, 111, 112], [248, 236, 14, 28, 400, 8, 401, 402], [2, 28, 95, 30], [1, 5, 3, 868, 429], [2, 28, 11, 95, 10, 1, 72, 382, 13], [1, 7, 51, 8, 30, 14, 459], [1, 7, 385, 10, 1, 47, 17], [13, 37, 18, 1, 16, 116, 3, 254, 61], [27, 43, 165, 1, 7, 51], [1, 7, 6, 4, 2, 23], [278, 1, 65, 67, 27, 3, 914], [2, 42, 37, 364, 163, 31, 223, 13, 37, 174, 25, 1, 101, 70, 980], [10, 1, 90, 56, 656, 1, 7, 81, 6, 4, 2, 145], [1, 7, 3, 54, 14, 6, 4, 9, 122], [1, 5, 3, 160, 4, 9, 40, 89, 239, 14, 2, 994, 22, 96, 328, 83, 8, 11, 92, 457, 21, 370], [2, 420, 818, 11, 296, 14, 28, 58, 49], [2, 40, 11, 314], [1, 7, 774, 4, 2, 78], [2, 44, 19, 24], [2, 42, 129, 25, 1, 361, 139, 924, 361, 82], [2, 78, 19, 10, 1, 973], [1, 5, 3, 181, 1030, 4, 2, 303], [1, 7, 18, 1, 219, 12, 36, 1047, 1048, 8, 52, 1049, 279, 4, 2, 29], [2, 29, 11, 163, 24], [1, 5, 3, 46, 41, 25, 273, 1062, 21, 2, 273, 528], [1, 7, 63, 85, 4, 2, 38], [1, 5, 757, 4, 2, 29], [1, 7, 6, 4, 2, 34, 10, 1, 471, 9, 157], [2, 189, 52, 167, 301, 439, 8, 13, 11, 179, 8, 9, 40, 89, 15, 167, 301, 11, 584, 8, 190, 83], [1, 213, 43, 253, 67, 14, 2, 34, 6], [1, 5, 896, 76], [1, 7, 51, 25, 161, 3, 549, 266], [443, 177, 8, 55, 2, 206, 175, 9, 55, 11, 45, 813], [1, 5, 36, 127, 55, 4, 2, 98], [1, 87, 196, 14, 126, 31, 1, 121, 7, 9, 440, 40, 180], [2, 39, 19, 24, 8, 1, 16, 245, 77, 53, 17], [1, 5, 3, 550, 15, 2, 405, 22, 307, 43, 193], [35, 6, 4, 2, 46], [1, 5, 3, 50, 6, 4, 2, 39], [1, 7, 6, 4, 9, 136, 23], [2, 32, 226, 51, 10, 1, 104, 12, 20, 17], [13, 11, 56, 12, 61, 10, 1, 72, 4, 9, 708, 709, 710, 82], [1, 5, 66, 80, 140, 2, 69], [1, 7, 3, 6, 4, 2, 39], [2, 845, 8, 846, 201, 30, 14, 363, 102, 159, 1, 5, 522, 465], [2, 39, 37, 392], [2, 152, 41, 15, 33, 8, 668, 204], [1, 5, 3, 28, 639], [2, 44, 19, 10, 1, 253], [1, 414, 196, 21, 2, 39, 6, 8, 1, 166, 200, 12, 107, 174], [1, 5, 3, 50, 6, 4, 2, 39], [1, 7, 565, 10, 1, 100, 2, 28, 95, 30], [1, 5, 3, 550, 15, 2, 405, 22, 307, 43, 193], [2, 40, 11, 314], [1, 7, 51, 8, 30, 14, 459], [1, 5, 3, 68, 22, 96, 328, 97, 8, 380, 412], [1, 5, 36, 255, 6, 1, 147, 790], [27, 429, 103, 50, 65, 477, 123, 605], [2, 42, 37, 364, 163, 31, 223, 13, 37, 174, 25, 1, 101, 70, 980], [1, 20, 436, 14, 115, 15, 2, 69, 22, 322, 79, 188], [1, 7, 18, 1, 86, 260, 208, 903, 1, 20, 435, 4, 2, 244, 30], [2, 118, 11, 163, 24], [278, 2, 38, 37, 511, 338, 184], [2, 118, 11, 163, 24], [480, 190, 18, 714, 4, 3, 715, 297], [2, 28, 132, 754, 30, 8, 1, 5, 755, 3, 54, 14, 28, 323], [2, 23, 19, 3, 54, 10, 1, 146], [2, 38, 37, 85, 205, 1, 101, 3, 54, 82], [1, 26, 111, 348, 156, 1, 5, 450, 118], [1, 7, 6, 4, 2, 39, 137, 27, 294], [2, 78, 160, 30, 21, 97, 115, 8, 478], [1, 7, 33, 205, 891, 73, 4, 892], [1, 7, 51, 25, 142, 680], [1, 16, 148, 1, 5, 3, 56, 65], [1, 507, 123, 508, 3, 517, 204, 256, 8, 60, 49, 143, 999, 2, 182, 1000, 1001, 8, 181], [2, 991, 359, 224, 25, 1, 219, 12, 9, 191], [1, 213, 43, 253, 67, 14, 2, 34, 6], [1, 5, 3, 50, 6, 4, 2, 39], [1, 5, 896, 76], [2, 98, 19, 10, 1, 425], [1, 7, 6, 4, 9, 136, 23], [1, 7, 385, 10, 1, 47, 17], [1, 7, 6, 4, 2, 34, 10, 1, 471, 9, 157], [2, 39, 37, 392], [1, 5, 36, 127, 55, 4, 2, 98], [1, 7, 3, 173, 93, 4, 2, 29, 109], [2, 38, 37, 85, 8, 1, 87, 12, 194, 13, 834, 31, 13, 835, 6, 24], [1, 7, 6, 10, 1, 75, 14, 125], [1, 7, 385], [9, 6, 11, 449, 333, 10, 1, 79, 77, 9, 157, 13, 37, 18, 70, 96, 849, 89, 2, 34], [27, 169, 1, 16, 170, 155], [10, 1, 59, 17, 3, 669, 14, 157, 2, 128, 34, 19], [1, 7, 18, 1, 113, 16, 579, 381, 1, 7, 580, 8, 18, 1, 113, 16, 20, 3, 160], [1, 72, 594, 12, 306, 472, 15, 2, 34, 10, 1, 47, 595, 1, 7, 8, 330, 3, 280, 596, 597], [1, 5, 9, 574, 14, 120, 282, 438, 4, 2, 38], [2, 40, 11, 63, 235, 8, 531], [1, 7, 3, 215, 8, 277, 6, 89, 2, 396, 397], [1, 5, 29, 6, 25, 161, 139, 474, 298], [1, 5, 3, 40, 171, 25, 309, 36, 310, 126], [1, 7, 796, 18, 36, 310, 797, 2, 798, 799, 22, 252, 800, 493, 801, 12, 802, 125, 45, 22, 252, 11, 198, 486], [1, 16, 47, 21, 60, 430, 71, 4, 2, 29], [10, 1, 583, 125, 1, 7, 77], [10, 1, 153, 17, 4, 9, 84, 1, 7, 3, 335, 4, 2, 38], [1, 68, 2, 134, 3, 284, 14, 197, 256, 8, 102, 159, 1, 404, 316, 36, 588, 126, 64, 43, 589, 174], [1, 20, 36, 48, 41, 10, 13, 11, 33], [13, 37, 18, 441, 11, 559, 2, 32, 21, 3, 560, 1, 7, 6, 15, 9, 339, 14, 2, 32, 8, 13, 411], [421, 685, 97, 686, 370, 181, 8, 168, 12, 9, 295], [1, 7, 51, 10, 1, 194, 374, 487], [2, 38, 37, 85, 25, 2, 362, 108, 4, 9, 191, 82], [144, 124, 71, 63, 151, 323], [2, 48, 41, 10, 27, 915, 12, 916], [2, 28, 11, 95, 338, 3, 184, 1, 86, 100, 3, 54, 14, 28, 15, 2, 294, 1050], [1, 7, 51, 8, 30, 14, 459], [1, 7, 3, 50, 6, 4, 2, 118, 88, 10, 1, 47], [1, 20, 436, 14, 478, 8, 949, 15, 2, 23], [1, 7, 3, 6, 4, 2, 39], [1, 16, 106, 2, 206, 35, 11, 6, 4, 9, 88], [2, 109, 4, 2, 29, 455, 10, 1, 106, 2, 98], [1, 5, 3, 868, 429], [1, 315, 20, 3, 42, 41, 25, 1, 101, 1, 829, 124, 830, 12, 831, 240, 832, 419, 107, 9, 833], [2, 78, 19, 10, 1, 973], [1, 5, 3, 160, 4, 9, 40, 275, 2, 405, 8, 847, 271, 8, 13, 307, 43, 231], [1, 5, 115, 4, 349, 234, 21, 3, 54, 14, 336, 15, 2, 69], [1, 5, 210, 6, 4, 2, 44], [1, 200, 3, 819, 14, 126, 820, 194, 2, 145, 183, 821], [156, 1, 52, 3, 763, 6], [1, 216, 12, 107, 30, 14, 61, 25, 141, 17, 3, 1058, 14, 157, 31, 92, 1, 1059, 12, 61, 102, 10, 1, 272, 77], [1, 16, 47, 17, 53, 272, 77, 1, 5, 3, 6, 4, 2, 23, 22, 784, 24], [1, 7, 18, 2, 44, 11, 15, 1057], [2, 152, 1136, 128, 345, 9, 34, 1137, 8, 162, 10, 1, 217, 472, 15, 365], [35, 11, 45, 94, 6, 10, 1, 106, 2, 98], [1, 7, 6, 10, 1066, 1067, 1068], [10, 20, 17, 1, 228, 22, 1, 5, 3, 42, 41, 8, 1, 87, 12, 116, 1051, 31, 2, 42, 121, 163, 24], [1, 5, 105, 76, 25, 1, 216, 3, 199, 642], [2, 520, 145, 5, 81, 6, 114, 1, 26, 57, 191], [9, 894, 93, 15, 2, 44, 467, 24, 468], [1, 26, 317, 21, 725, 1, 16, 61, 726], [35, 11, 66, 15, 2, 69], [1, 87, 12, 217, 2, 465, 12, 100, 183, 808, 31, 247, 466, 139, 809], [1, 5, 276, 6, 4, 2, 502, 25, 294, 30], [1, 1069, 388, 9, 1070, 14, 2, 271, 137, 1, 26, 515, 117, 1071, 8, 1, 147, 150, 9, 243], [2, 28, 11, 95, 338, 3, 184, 1, 86, 100, 3, 54, 14, 28, 15, 2, 294, 1050], [316, 28, 1052], [10, 1, 20, 17, 1, 100, 2, 40, 675], [1, 192, 227, 3, 767, 137, 1, 26, 768, 13, 8, 1, 5, 3, 769, 14, 443, 497, 4, 2, 74, 353, 1, 75, 13, 11, 770, 771], [2, 34, 19, 10, 1, 59], [1, 434, 3, 99, 803, 156, 8, 10, 1, 20, 17, 464, 1, 172, 3, 81, 29, 6], [1, 52, 3, 862, 137, 111, 241, 2, 34, 863, 8, 92, 64, 864], [2, 74, 350, 129, 94], [1, 16, 47, 21, 60, 430, 71, 4, 2, 42], [1, 315, 20, 3, 42, 41, 25, 1, 101, 1, 829, 124, 830, 12, 831, 240, 832, 419, 107, 9, 833], [35, 453, 107, 70, 199, 21, 2, 716, 717, 1, 5, 12, 269, 718, 102, 15, 9, 719, 204, 2, 516, 73, 720], [27, 71, 762], [1, 16, 90, 287, 1, 7, 3, 85, 4, 2, 38], [1, 110, 133, 82, 27, 687, 151], [2, 23, 19, 24, 8, 1, 16, 146, 13, 53, 59], [1, 16, 607, 2, 608, 57, 164, 67, 1, 5, 105, 76], [316, 28, 1052], [1, 5, 3, 63, 171, 93, 231, 12, 2, 337], [1, 7, 18, 1, 113, 16, 579, 381, 1, 7, 580, 8, 18, 1, 113, 16, 20, 3, 160], [259, 393, 4, 2, 39, 8, 13, 19], [1, 7, 166, 151, 80, 9, 49], [70, 384, 11, 35, 15, 2, 98], [1, 5, 3, 81, 6, 4, 2, 46, 18, 665, 6, 21, 666, 2, 6, 667], [2, 69, 96, 177, 30, 4, 181, 97, 355, 8, 791, 22, 282, 415, 149, 94, 1, 792, 2, 69, 110, 201, 12, 107, 141, 188], [2, 40, 11, 63, 235, 8, 531], [1, 979, 2, 46, 8, 13, 166, 19], [2, 32, 19, 8, 1, 302, 9, 93, 4, 2, 69, 223, 302, 459, 4, 2, 353], [259, 393, 4, 2, 39, 8, 13, 19], [1, 5, 3, 251, 41, 4, 2, 42, 13, 226, 344, 25, 1, 101], [2, 44, 11, 682, 289, 8, 13, 591, 24], [1, 5, 3, 251, 41, 4, 2, 136, 23, 240, 286, 13, 470, 12, 106], [1, 68, 221, 8, 27, 243], [11, 115, 3, 40, 236], [1, 5, 212, 32, 6, 8, 10, 1, 20, 13, 9, 230, 958, 24], [50, 6, 8, 99, 233], [1, 86, 260, 106, 2, 39, 13, 19], [1, 68, 2, 271, 283, 3, 86, 13, 257, 150, 243, 8, 9, 55, 11, 721, 8, 127], [1, 75, 259, 70, 199, 21, 2, 55, 13, 225, 43, 201, 12, 193, 18, 13, 428], [1, 5, 3, 277, 6, 89, 2, 39], [1, 86, 547, 150, 263], [1, 5, 391, 42, 6, 8, 372], [1, 7, 3, 220, 15, 220, 6, 4, 2, 152, 10, 1, 471, 157], [1, 72, 71, 45, 51, 38, 11, 45, 1037], [2, 55, 26, 83, 10, 1, 26, 1117, 117, 1118, 4, 2, 524], [60, 373, 505, 15, 2, 74, 1053, 11, 103, 95, 388, 2, 1054, 523], [1, 16, 106, 2, 32, 17, 8, 77], [443, 177, 8, 55, 2, 206, 175, 9, 55, 11, 45, 813], [2, 66, 226, 344, 10, 13, 11, 168], [2, 98, 19, 10, 1, 425], [1, 90, 43, 7, 174, 4, 2, 145], [1, 7, 3, 399, 496, 6, 25, 1, 326, 17, 21, 2, 403], [27, 71, 762], [2, 48, 19, 24, 175], [10, 1, 75, 14, 2, 787, 1, 7, 6], [2, 38, 37, 85, 8, 1, 75, 22, 2, 69, 11, 564, 8, 1, 16, 148, 131], [9, 34, 37, 18, 13, 641, 8, 1, 347, 147, 146, 13, 381], [35, 11, 6, 4, 9, 145, 1, 90, 43, 133, 418], [1, 52, 3, 6, 4, 2, 34, 10, 1, 26, 288], [27, 169, 1, 16, 170, 155], [1, 110, 5, 9, 510, 12, 90, 9, 185, 22, 1, 216, 12], [1, 20, 436, 14, 478, 8, 949, 15, 2, 23], [1, 5, 255, 6, 158, 1, 300, 77, 21, 3, 33], [2, 42, 129, 10, 1, 101, 168, 490, 82], [305, 139, 280, 679, 286, 2, 48, 129], [9, 6, 11, 449, 333, 10, 1, 79, 77, 9, 157, 13, 37, 18, 70, 96, 849, 89, 2, 34], [10, 1, 20, 17, 1, 100, 2, 40, 675], [488, 26, 752, 12, 5, 36, 127, 55], [2, 32, 41, 114, 1, 433, 17, 60, 84], [10, 1, 101, 1, 7, 2, 42, 19], [9, 135, 49, 1, 646, 2, 647, 1, 68, 365, 91, 268, 8, 92, 1, 5, 36, 83, 446], [1, 16, 47, 17, 53, 272, 77, 1, 5, 3, 6, 4, 2, 23, 22, 784, 24], [10, 1, 26, 966, 2, 28, 13, 26, 95, 30, 967], [2, 32, 19, 10, 27, 161, 60], [10, 1, 153, 17, 1, 72, 71, 33], [1, 5, 3, 6, 4, 2, 1020, 88], [35, 37, 18, 3, 179, 1095, 57, 2, 1096, 21, 6, 276, 103, 22], [10, 2, 1081, 1082, 1083, 1, 172, 3, 56, 496, 6], [1, 110, 5, 296, 782, 14, 783, 21, 2, 337], [1, 5, 3, 6, 4, 2, 32], [336, 393, 8, 246, 238], [1, 5, 169, 221, 143, 9, 241, 207], [1, 26, 779, 123, 780, 8, 1, 7, 51], [1, 5, 105, 76, 25, 1, 216, 3, 199, 642], [704, 57, 212, 8, 705, 14, 706], [1, 5, 3, 105, 76, 8, 1, 16, 100, 4, 9, 804, 138, 11, 9, 184, 463], [1, 5, 3, 48, 41, 10, 1, 79, 12, 9, 327], [2, 78, 66, 442, 30, 8, 322, 612, 17], [1, 7, 3, 173, 93, 4, 2, 934, 460, 935, 936, 25, 519, 937], [10, 1, 735, 2, 186, 12, 736, 1, 5, 105, 76], [1, 5, 1055, 4, 2, 1056], [1, 7, 3, 6, 15, 9, 74, 350, 14, 2, 78, 978, 2, 44, 11], [10, 1, 47, 17, 91, 195, 1, 154, 12, 7, 51, 8, 230, 274], [10, 1, 389, 2, 134, 1, 7, 6, 4, 2, 29], [1, 7, 51, 10, 1, 689, 4, 212, 14, 2, 422, 62, 36, 690, 53, 291, 138, 691, 213, 107, 9, 184], [1, 90, 43, 133, 82, 1, 7, 33], [27, 694], [2, 334, 52, 125, 601, 602, 8, 13, 603, 36, 283, 14, 40, 4, 239, 14, 125, 604, 22, 11, 92, 501, 8, 308], [278, 10, 13, 11, 33, 513, 2, 69, 19, 333, 178, 9, 115, 22, 73, 1042, 12, 1043], [10, 1, 146, 140, 1, 20, 3, 276, 6, 77, 2, 23], [1, 7, 3, 335, 4, 2, 152, 10, 1, 59], [1, 110, 5, 296, 782, 14, 783, 21, 2, 337], [1, 7, 63, 56, 12, 208], [1, 5, 3, 81, 42, 41, 8, 1, 16, 101, 139, 670], [1, 172, 2, 44, 19, 10, 1, 509, 62, 234, 895], [1, 702, 5, 3, 187, 65, 10, 1, 20, 703], [1, 302, 3, 54, 14, 2, 28], [2, 32, 19, 10, 27, 161, 60], [64, 56, 12, 47, 17, 8, 27, 214, 63, 1072], [1, 192, 388, 2, 523, 8, 114, 223, 1, 52, 56, 34, 6], [1, 5, 3, 6, 4, 2, 32], [1, 7, 18, 2, 44, 11, 15, 1057], [10, 1, 59, 17, 3, 669, 14, 157, 2, 128, 34, 19], [1, 5, 3, 105, 76, 143, 2, 288, 590, 4, 9, 327, 82], [1, 7, 6, 4, 2, 34, 10, 1, 471, 9, 157], [1, 72, 71, 45, 51, 38, 11, 45, 1037], [731, 2, 44, 19, 24, 1, 87, 12, 107, 732, 8, 1, 16], [1, 5, 3, 50, 6, 4, 2, 39], [1, 16, 814, 2, 39], [1, 87, 196, 14, 126, 31, 1, 121, 7, 9, 440, 40, 180], [1, 59, 58, 108, 31, 92, 1, 20, 268, 14, 61, 25, 141, 514, 3, 268, 324], [1, 5, 36, 127, 55, 4, 2, 98], [704, 57, 212, 8, 705, 14, 706], [1, 160, 30, 15, 2, 69, 63, 826], [1, 5, 36, 255, 6, 1, 147, 790], [443, 177, 8, 55, 2, 206, 175, 9, 55, 11, 45, 813], [35, 11, 6, 4, 9, 145, 1, 90, 43, 133, 418], [1, 20, 436, 14, 478, 8, 949, 15, 2, 23], [1, 7, 29, 6, 57, 678, 14, 49], [35, 11, 3, 391, 724, 4, 2, 250], [2, 65, 11, 63, 99, 8, 1, 5, 332], [1, 319, 3, 54, 183, 28, 320, 30, 346, 1086, 10, 1, 318, 2, 28], [1, 7, 321, 476, 12, 300, 17, 10, 1, 65], [1, 7, 3, 335, 4, 2, 152, 10, 1, 59], [2, 34, 19, 10, 1, 170, 532], [1, 1015, 150, 1016, 53, 1017, 2, 1018, 1019, 149, 33, 1, 26], [2, 23, 19, 24, 8, 1, 16, 146, 13, 53, 59], [1, 5, 3, 105, 76, 25, 2, 32, 26, 222, 156], [35, 453, 107, 70, 199, 21, 2, 716, 717, 1, 5, 12, 269, 718, 102, 15, 9, 719, 204, 2, 516, 73, 720], [144, 132, 124, 63, 461, 31, 92, 1, 113, 110, 5, 9, 438, 53, 510, 12, 79, 62, 102, 3, 268, 59], [1, 20, 237, 91, 289, 1, 86, 499, 217, 15, 2, 285, 4, 9, 84], [2, 42, 37, 296, 8, 570, 8, 372, 25, 299, 571], [1, 5, 3, 171, 8, 13, 270, 63, 187], [1, 5, 391, 42, 6, 8, 372], [2, 28, 11, 95, 30, 4, 577], [138, 407, 613, 193, 614], [1, 68, 221, 8, 27, 243], [2, 119, 387, 232, 131, 8, 64, 124, 18, 60, 62, 291, 197], [259, 393, 4, 2, 39, 8, 13, 19], [2, 34, 203, 377, 12, 146, 131], [35, 11, 3, 398, 93, 4, 2, 39], [10, 1, 59, 17, 3, 669, 14, 157, 2, 128, 34, 19], [25, 238, 1, 5, 117, 6, 371, 2, 46], [1, 7, 3, 215, 8, 277, 6, 89, 2, 396, 397], [11, 2, 68, 83, 53, 113, 232], [149, 90, 281, 133, 176, 281, 5, 3, 423, 536, 4, 537, 34], [10, 1, 47, 17, 91, 195, 1, 154, 12, 7, 51, 8, 230, 274], [1, 110, 5, 296, 782, 14, 783, 21, 2, 337], [1, 1012, 60, 1013, 71, 14, 1014, 213, 79, 188], [1, 216, 196, 14, 6, 747, 12, 20, 174, 31, 1, 121, 7, 9, 440, 23, 6], [1, 16, 47, 17, 1, 7, 2, 424, 11, 214, 89, 2, 386], [1, 7, 6, 4, 2, 249, 10, 1, 533, 15, 9, 534], [2, 32, 41, 114, 1, 433, 17, 60, 84], [9, 135, 49, 1, 646, 2, 647, 1, 68, 365, 91, 268, 8, 92, 1, 5, 36, 83, 446], [1, 20, 707, 15, 2, 78, 21, 97, 349, 22, 20, 183, 449, 10, 1, 20, 168], [35, 11, 3, 50, 6, 4, 2, 331, 1, 5, 87, 12, 341, 6, 262, 126, 31, 13, 225, 43, 229], [1, 16, 150, 263], [2, 23, 19, 3, 54, 10, 1, 146], [1, 52, 3, 6, 4, 2, 34, 10, 1, 26, 288], [1, 153, 17, 21, 3, 392, 39, 58, 84, 458, 407, 31, 223, 3, 284, 14, 204, 751, 64, 23, 432], [1078, 62, 9, 353], [305, 139, 280, 679, 286, 2, 48, 129], [2, 759, 37, 63, 151, 202, 176, 13, 19, 9, 324, 1, 7, 4, 2, 32, 11, 760, 8, 10, 1, 75, 460, 2, 160, 17, 1, 585, 21, 761], [1, 979, 2, 46, 8, 13, 166, 19], [10, 1, 90, 56, 656, 1, 7, 81, 6, 4, 2, 145], [2, 83, 55, 418, 3, 807], [1, 7, 32, 41], [80, 14, 3, 374, 1, 172, 51, 10, 1, 1032, 17], [2, 189, 96, 3, 54, 14, 66], [1, 5, 3, 46, 41, 25, 273, 1062, 21, 2, 273, 528], [2, 23, 19, 24, 3, 54], [2, 189, 130, 3, 1033, 493, 197, 256, 8, 9, 40, 178, 13, 11, 1034, 8, 168, 8, 13, 190, 83], [2, 189, 815, 167, 39, 21, 36, 356, 816, 8, 22, 500, 96, 328, 304, 8, 190, 18, 13, 11, 83], [1, 5, 3, 50, 6, 4, 2, 48], [35, 11, 3, 391, 724, 4, 2, 250], [9, 55, 11, 121, 127], [97, 1085, 477, 21, 329], [2, 28, 11, 95, 30, 4, 399, 325], [2, 598, 96, 65, 80, 164, 252, 16, 148], [2, 34, 812, 8, 19, 10, 1, 362, 47, 17, 25, 469], [2, 118, 88, 411, 10, 1, 217, 265, 15, 2, 46], [1, 5, 3, 23, 6, 114, 1, 954, 955, 495, 356], [27, 63, 376, 22, 974, 79, 975, 976, 72, 1, 63, 977], [10, 1, 153, 17, 4, 9, 84, 1, 7, 51], [1, 5, 3, 218, 723, 58, 108], [1, 7, 224, 15, 2, 828], [9, 122, 4, 2, 773, 73, 181, 4, 9, 84], [480, 190, 18, 714, 4, 3, 715, 297], [1, 7, 151], [1, 16, 59, 131, 1, 5, 36, 41, 4, 2, 46], [27, 43, 305, 131, 1, 5, 180, 21, 2, 48], [1, 5, 3, 6, 4, 2, 109], [35, 11, 3, 50, 6, 4, 2, 331, 1, 5, 87, 12, 341, 6, 262, 126, 31, 13, 225, 43, 229], [2, 44, 19, 137, 27, 151, 82], [1, 26, 169, 143, 112, 207, 1, 26, 317, 21, 745, 746], [80, 2, 38, 11, 4, 3, 187, 909, 8, 1, 200, 3, 165, 352], [64, 56, 12, 100, 185], [1, 5, 6, 4, 2, 42], [16, 404, 363], [35, 11, 3, 50, 6, 4, 2, 48, 158, 1, 90, 60], [144, 124, 71, 63, 151, 323], [42, 6, 25, 880, 881], [1, 453, 100, 3, 463, 1, 5, 36, 127, 55], [1, 5, 3, 40, 171, 25, 309, 36, 310, 126], [2, 29, 19, 10, 1, 104, 12, 358, 70, 573, 2, 32], [13, 37, 18, 441, 11, 559, 2, 32, 21, 3, 560, 1, 7, 6, 15, 9, 339, 14, 2, 32, 8, 13, 411], [1, 72, 594, 12, 306, 472, 15, 2, 34, 10, 1, 47, 595, 1, 7, 8, 330, 3, 280, 596, 597], [2, 292, 74, 24, 62, 554, 555, 2, 44, 19, 45, 175, 12, 9, 408, 1, 16, 101, 53, 148], [1, 75, 259, 321, 4, 2, 182], [2, 40, 11, 63, 235, 8, 531], [2, 48, 11, 556], [35, 11, 3, 398, 93, 4, 2, 39], [2, 69, 96, 177, 30, 4, 181, 97, 355, 8, 791, 22, 282, 415, 149, 94, 1, 792, 2, 69, 110, 201, 12, 107, 141, 188], [10, 27, 237, 1, 7, 2, 32, 99], [435, 9, 445, 14, 660], [2, 69, 11, 80, 177, 30, 21, 115], [2, 34, 37, 85, 8, 13, 775, 324, 9, 342, 108, 57, 9, 339, 14, 9, 157, 776, 35, 26, 3, 777, 12, 778, 15, 12], [25, 309, 1, 5, 173, 93, 89, 14, 24], [10, 1, 170, 155, 1, 5, 117, 173, 93, 4, 2, 535], [10, 1, 20, 30, 14, 592, 4, 9, 84, 2, 38, 37, 63, 85], [13, 37, 18, 2, 44, 11, 141, 12, 766, 30, 14, 2, 38, 13, 19], [138, 407, 613, 193, 614], [4, 9, 84, 2, 578, 11, 280], [1, 26, 63, 461, 4, 155, 31, 92, 2, 38, 11, 71, 6], [2, 759, 37, 63, 151, 202, 176, 13, 19, 9, 324, 1, 7, 4, 2, 32, 11, 760, 8, 10, 1, 75, 460, 2, 160, 17, 1, 585, 21, 761], [1, 75, 1, 450, 2, 118, 13, 166, 19], [10, 27, 484, 2, 186, 100, 4, 568], [1, 5, 9, 574, 14, 120, 282, 438, 4, 2, 38], [1, 68, 2, 134, 3, 284, 14, 197, 256, 8, 102, 159, 1, 404, 316, 36, 588, 126, 64, 43, 589, 174], [1, 52, 3, 50, 6, 4, 2, 42], [1, 68, 2, 271, 283, 3, 86, 13, 257, 150, 243, 8, 9, 55, 11, 721, 8, 127], [2, 40, 11, 329, 8, 304], [42, 6, 25, 880, 881], [10, 1, 47, 17, 91, 195, 1, 154, 12, 7, 51, 8, 230, 274], [35, 11, 36, 169, 548], [1, 326, 2, 118, 137, 161, 636, 637, 4, 9, 638], [27, 4, 200, 62, 3, 352, 62, 2, 28, 267], [144, 87, 343, 981, 31, 982, 86, 983, 24, 17], [2, 128, 29, 722, 10, 1, 106, 2, 98], [1, 86, 547, 150, 263], [35, 11, 3, 50, 6, 4, 2, 48, 158, 1, 90, 60], [1, 5, 36, 600], [10, 1, 153, 17, 4, 9, 84, 1, 7, 3, 335, 4, 2, 38], [16, 404, 363], [1, 5, 3, 81, 6, 4, 2, 46, 18, 665, 6, 21, 666, 2, 6, 667], [1, 5, 3, 50, 6, 4, 2, 367], [1, 7, 3, 220, 15, 220, 6, 4, 2, 152, 10, 1, 471, 157], [1, 7, 18, 35, 11, 70, 179, 8, 304, 57, 9, 23, 14, 2, 34], [2, 44, 11, 682, 289, 8, 13, 591, 24], [64, 56, 12, 100, 185], [1, 5, 212, 32, 6, 8, 10, 1, 20, 13, 9, 230, 958, 24], [200, 12, 987, 2, 40, 58, 988], [1, 26, 169, 143, 112, 207, 1, 26, 317, 21, 745, 746], [1, 52, 3, 50, 6, 4, 2, 42], [2, 334, 26, 876, 123, 125, 877, 8, 92, 125, 134, 11, 119, 97, 8, 179, 8, 9, 55, 11, 308, 878], [1, 5, 6, 4, 2, 42], [1, 16, 47, 21, 60, 430, 71, 4, 2, 29], [13, 19, 10, 1, 389, 2, 98, 17], [1, 20, 36, 48, 41, 10, 13, 11, 33], [1, 326, 2, 118, 137, 161, 636, 637, 4, 9, 638], [1, 52, 3, 68, 22, 26, 737, 738, 31, 13, 11, 43, 232, 13, 11, 308, 739, 412, 8, 455], [10, 1, 47, 17, 91, 195, 1, 154, 12, 7, 51, 8, 230, 274], [1, 5, 3, 54, 14, 332, 10, 1, 65], [10, 1, 101, 91, 94, 390, 2, 38, 226, 85, 8, 51], [2, 28, 11, 95, 10, 1, 72, 382, 13], [2, 78, 19, 10, 1, 973], [1, 414, 196, 21, 40, 657], [2, 39, 37, 392], [10, 1, 20, 17, 1, 7, 51, 8, 267, 77], [158, 1, 47, 17, 1, 7, 51], [248, 867, 6], [13, 37, 18, 1, 16, 116, 3, 254, 61], [1, 5, 3, 28, 639], [2, 28, 95, 30], [27, 429, 103, 50, 65, 477, 123, 605], [2, 845, 8, 846, 201, 30, 14, 363, 102, 159, 1, 5, 522, 465], [1, 7, 565, 10, 1, 100, 2, 28, 95, 30], [2, 23, 19, 45, 94, 1, 16, 146, 77, 12, 581, 2, 582], [10, 1, 79, 12, 47, 2, 32, 364, 1044], [2, 32, 226, 51, 10, 1, 104, 12, 20, 17], [10, 1, 101, 390, 1, 319, 2, 76, 621], [1, 5, 3, 251, 41, 4, 2, 136, 23, 240, 286, 13, 470, 12, 106], [16, 404, 363], [80, 2, 38, 11, 4, 3, 187, 909, 8, 1, 200, 3, 165, 352], [1, 5, 36, 600], [10, 1, 583, 125, 1, 7, 77], [1, 5, 3, 483, 29, 6], [2, 40, 11, 329, 8, 304], [2, 122, 41, 158, 13, 11, 33], [1, 7, 3, 220, 15, 220, 6, 4, 2, 152, 10, 1, 471, 157], [2, 66, 11, 166, 567, 64, 45, 417], [1, 5, 9, 574, 14, 120, 282, 438, 4, 2, 38], [2, 145, 4, 2, 136, 23, 73, 224], [1, 7, 18, 9, 525, 11, 366], [10, 1, 106, 15, 2, 29, 6, 938, 77, 2, 98], [52, 1, 1002, 15, 3, 451, 13, 1003, 5, 162, 45, 94, 18, 60, 1004, 1005, 4, 2, 1006], [1, 5, 105, 76, 25, 1, 216, 3, 199, 642], [1, 200, 3, 819, 14, 126, 820, 194, 2, 145, 183, 821], [1, 87, 12, 217, 2, 465, 12, 100, 183, 808, 31, 247, 466, 139, 809], [9, 71, 14, 263, 1093, 4, 1094, 358], [1, 75, 2, 55, 11, 83], [1, 5, 410, 258, 4, 2, 925], [25, 36, 56, 294, 108, 1, 5, 46, 41], [2, 32, 19, 24, 175], [1, 7, 6, 4, 2, 250], [1, 72, 376, 149, 33, 906, 1, 72, 1, 72, 132, 907, 102, 30, 4, 9, 908], [1, 7, 6, 4, 2, 34], [305, 139, 280, 679, 286, 2, 48, 129], [27, 169, 1, 16, 170, 155], [10, 1, 20, 17, 1, 100, 2, 40, 675], [1, 20, 436, 14, 478, 8, 949, 15, 2, 23], [281, 257, 793, 24, 31, 60, 83, 55, 15, 2, 134, 11, 103, 3, 794, 68, 1, 394, 116, 795], [2, 292, 96, 3, 500, 15, 167, 301, 22, 488, 159, 26, 33, 119, 31, 92, 13, 96, 177, 127, 8, 1027, 321, 80, 108], [1, 437, 36, 676, 677, 4, 2, 76, 10, 1, 104, 12, 245, 57, 185, 17, 231], [1, 75, 1, 741, 13, 10, 1, 434, 80, 22, 742, 103, 9, 743, 2, 136, 23, 11, 456, 24], [2, 23, 11, 163, 45, 94], [1, 5, 3, 105, 76, 25, 2, 32, 26, 222, 156], [1, 7, 6, 4, 2, 491, 145, 25, 1, 509, 156, 1, 518, 117, 6, 1035, 31, 13, 203, 229], [1, 7, 6, 4, 2, 249, 10, 1, 533, 15, 9, 534], [9, 34, 37, 18, 13, 641, 8, 1, 347, 147, 146, 13, 381], [10, 1, 87, 12, 116, 942, 176, 2, 28, 1, 228, 22, 13, 11, 95, 30], [1, 5, 115, 15, 2, 23], [1, 16, 90, 287, 1, 7, 3, 85, 4, 2, 38], [1, 16, 607, 2, 608, 57, 164, 67, 1, 5, 105, 76], [1, 113, 16, 201, 12, 20, 198, 102, 10, 753, 178, 24, 11, 198, 1, 132, 7, 33], [1, 5, 648, 21, 2, 40], [421, 55, 805], [1, 434, 3, 99, 803, 156, 8, 10, 1, 20, 17, 464, 1, 172, 3, 81, 29, 6], [1, 7, 33, 8, 395, 102, 159, 2, 285, 73, 99], [9, 6, 11, 449, 333, 10, 1, 79, 77, 9, 157, 13, 37, 18, 70, 96, 849, 89, 2, 34], [2, 29, 19, 24, 45, 94], [1, 16, 59, 67, 1, 5, 3, 81, 46, 41], [2, 38, 37, 85, 205, 1, 101, 3, 54, 82], [1, 375, 5, 1021, 13, 21, 9, 1022, 67, 1, 72, 1023, 1, 375, 5, 423, 3, 109, 15, 2, 23], [1, 7, 33, 10, 9, 164, 948], [1, 260, 5, 486, 992, 12, 20, 17], [2, 29, 129, 10, 1, 104, 12, 354, 409, 740], [480, 190, 18, 714, 4, 3, 715, 297], [1, 68, 2, 46, 57, 9, 327, 8, 13, 442, 127, 58, 108, 10, 1, 59, 15, 13], [9, 122, 4, 2, 773, 73, 181, 4, 9, 84], [1, 16, 330, 30, 14, 2, 48, 653, 1, 7, 18, 35, 11, 70, 4, 13, 431, 654], [1, 20, 395, 8, 129, 80, 140], [2, 48, 11, 556], [2, 42, 37, 296, 8, 570, 8, 372, 25, 299, 571], [25, 111, 351, 1, 52, 3, 277, 93, 231, 12, 2, 39], [10, 27, 161, 553, 1, 5, 6, 371, 2, 40], [1, 147, 20, 198, 282, 415, 149, 94, 1, 661, 17, 53, 149, 242, 1, 217, 9, 662, 15], [259, 393, 4, 2, 39, 8, 13, 19], [13, 37, 18, 441, 11, 559, 2, 32, 21, 3, 560, 1, 7, 6, 15, 9, 339, 14, 2, 32, 8, 13, 411], [10, 27, 237, 1, 7, 2, 32, 99], [1, 5, 3, 63, 171, 93, 231, 12, 2, 337], [35, 73, 293, 14, 551, 15, 2, 552, 4, 9, 84], [2, 119, 387, 232, 131, 8, 64, 124, 18, 60, 62, 291, 197], [11, 115, 3, 40, 236], [1, 26, 63, 461, 4, 155, 31, 92, 2, 38, 11, 71, 6], [35, 11, 3, 50, 6, 4, 2, 744], [13, 19, 10, 1, 879, 2, 98], [1, 192, 227, 3, 767, 137, 1, 26, 768, 13, 8, 1, 5, 3, 769, 14, 443, 497, 4, 2, 74, 353, 1, 75, 13, 11, 770, 771], [1, 20, 210, 995, 58, 517, 996, 8, 10, 1, 20, 365, 2, 76, 11, 997], [1, 110, 5, 9, 510, 12, 90, 9, 185, 22, 1, 216, 12], [10, 1, 101, 1, 7, 2, 42, 19], [1, 7, 6, 4, 2, 38], [1, 7, 6, 4, 2, 39], [2, 42, 129, 10, 1, 101, 168, 490, 82], [1, 5, 3, 46, 41, 205, 1, 110, 59, 3, 54], [1, 5, 3, 71, 18, 2, 368, 38, 11, 956], [1, 5, 3, 160, 4, 9, 40, 89, 239, 14, 2, 994, 22, 96, 328, 83, 8, 11, 92, 457, 21, 370], [9, 66, 26, 431, 24, 12, 7, 871], [1, 110, 133, 82, 27, 687, 151], [9, 6, 11, 449, 333, 10, 1, 79, 77, 9, 157, 13, 37, 18, 70, 96, 849, 89, 2, 34], [2, 74, 48, 11, 964, 31, 9, 128, 239, 37, 18, 64, 290, 965, 21, 3, 446], [2, 598, 96, 65, 80, 164, 252, 16, 148], [897, 173, 898, 899, 23, 21, 56, 900, 487], [35, 11, 3, 50, 6, 4, 2, 331, 1, 5, 87, 12, 341, 6, 262, 126, 31, 13, 225, 43, 229], [120, 246, 214, 2, 34], [1, 7, 224, 15, 2, 828], [1, 5, 3, 218, 723, 58, 108], [27, 63, 376, 22, 974, 79, 975, 976, 72, 1, 63, 977], [10, 1, 361, 3, 54, 1, 20, 3, 218], [1, 5, 6, 18, 279, 4, 2, 122], [2, 118, 88, 411, 10, 1, 217, 265, 15, 2, 46], [1, 5, 66, 80, 140, 2, 69], [1, 5, 246, 4, 233, 4, 671, 672], [1, 5, 3, 105, 76, 114, 1, 433, 17, 60, 84, 138, 213, 107, 9, 184], [35, 6, 4, 2, 46], [1, 7, 63, 85, 4, 2, 38], [1, 5, 3, 235, 40], [10, 1, 90, 56, 656, 1, 7, 81, 6, 4, 2, 145], [1, 414, 196, 21, 2, 39, 6, 8, 1, 166, 200, 12, 107, 174], [1, 7, 857], [1, 7, 6, 4, 9, 136, 23], [1, 7, 3, 173, 93, 4, 2, 29, 109], [2, 40, 11, 314], [1, 5, 3, 550, 15, 2, 405, 22, 307, 43, 193], [1, 7, 6, 4, 2, 186, 1, 86, 100, 859], [1, 5, 36, 255, 6, 1, 147, 790], [1, 5, 3, 105, 76, 143, 2, 288, 590, 4, 9, 327, 82], [2, 913, 135, 406, 219, 12, 512, 67, 252, 26, 120, 3, 56, 49, 233], [1, 16, 20, 3, 403, 67, 14, 2, 66], [248, 220, 236, 57, 9, 699, 14, 9, 700, 14, 9, 136, 701], [1, 5, 87, 12, 262, 13, 31, 1, 16], [2, 334, 52, 125, 182, 439, 8, 239, 14, 125, 48, 989, 11, 990, 97, 8, 173, 168], [35, 11, 3, 50, 6, 4, 2, 744], [1, 7, 483, 6, 4, 2, 34, 25, 13, 26, 222, 143, 9, 112, 207], [2, 32, 11, 366, 10, 1, 20, 17], [1102, 234, 9, 368, 367], [10, 1, 47, 17, 91, 195, 1, 154, 12, 7, 51, 8, 230, 274], [2, 40, 972, 15, 2, 23, 11, 97, 1, 110, 133, 82], [1, 7, 6, 4, 2, 23], [1, 7, 520, 6], [1, 72, 376, 62, 2, 484, 67, 1, 86, 499, 363, 10, 1, 72, 57, 9, 1115, 2, 186, 7, 1116], [1, 86, 547, 150, 263], [1, 5, 3, 63, 187, 65], [1, 5, 3, 180, 4, 521, 1061, 13, 11, 91, 470, 12, 100], [35, 11, 6, 4, 2, 122, 1, 86, 43, 306, 6], [13, 19, 10, 1, 389, 2, 98, 17], [1, 7, 6, 10, 1, 75, 14, 125], [1, 26, 576, 4, 9, 32, 111, 241, 135, 164], [1, 26, 111, 348, 156, 1, 5, 450, 118], [2, 69, 160, 30, 175, 58, 692, 178, 2, 693], [2, 39, 19, 24, 8, 1, 16, 245, 77, 53, 17], [1, 5, 757, 4, 2, 29], [13, 37, 18, 441, 11, 559, 2, 32, 21, 3, 560, 1, 7, 6, 15, 9, 339, 14, 2, 32, 8, 13, 411], [1, 222, 221, 8, 9, 615, 203, 377, 12, 193], [2, 66, 270, 8, 380], [11, 2, 68, 83, 53, 113, 232], [569, 28, 11, 95, 30, 113, 123, 382, 13], [2, 34, 203, 377, 12, 146, 131], [2, 69, 11, 80, 177, 30, 21, 115], [2, 28, 11, 95, 30, 4, 577], [1, 16, 378, 2, 39, 12, 9, 74, 338, 71, 3, 485, 6], [1, 5, 3, 63, 171, 93, 231, 12, 2, 337], [1, 5, 9, 574, 14, 120, 282, 438, 4, 2, 38], [138, 407, 613, 193, 614], [1, 75, 1, 450, 2, 118, 13, 166, 19], [2, 66, 11, 166, 567, 64, 45, 417], [2, 28, 11, 95, 30, 4, 577], [4, 9, 84, 2, 578, 11, 280], [13, 37, 18, 2, 44, 11, 141, 12, 766, 30, 14, 2, 38, 13, 19], [2, 119, 387, 232, 131, 8, 64, 124, 18, 60, 62, 291, 197], [10, 27, 161, 553, 1, 5, 6, 371, 2, 40], [1, 5, 3, 171, 8, 13, 270, 63, 187], [149, 90, 281, 133, 176, 281, 5, 3, 423, 536, 4, 537, 34], [1, 5, 9, 574, 14, 120, 282, 438, 4, 2, 38], [1, 222, 2, 32, 57, 9, 348, 873, 213, 1, 5, 3, 874], [2, 66, 11, 166, 567, 64, 45, 417], [1, 20, 395, 8, 129, 80, 140], [10, 1, 170, 155, 1, 5, 117, 173, 93, 4, 2, 535], [2, 759, 37, 63, 151, 202, 176, 13, 19, 9, 324, 1, 7, 4, 2, 32, 11, 760, 8, 10, 1, 75, 460, 2, 160, 17, 1, 585, 21, 761], [2, 40, 11, 63, 235, 8, 531], [10, 27, 484, 2, 186, 100, 4, 568], [1, 26, 63, 461, 4, 155, 31, 92, 2, 38, 11, 71, 6], [1, 5, 3, 68, 22, 11, 97, 8, 179], [10, 1, 59, 17, 3, 669, 14, 157, 2, 128, 34, 19], [1, 5, 391, 42, 6, 8, 372], [2, 23, 19, 24, 8, 1, 16, 146, 13, 53, 59], [1, 7, 44, 6, 10, 1, 59, 3, 54], [2, 42, 129, 10, 1, 101, 168, 490, 82], [1, 16, 150, 263], [305, 139, 280, 679, 286, 2, 48, 129], [27, 169, 1, 16, 170, 155], [25, 111, 112, 1, 5, 109, 6, 21, 2, 758, 491], [1, 20, 707, 15, 2, 78, 21, 97, 349, 22, 20, 183, 449, 10, 1, 20, 168], [488, 26, 752, 12, 5, 36, 127, 55], [10, 1, 75, 14, 2, 787, 1, 7, 6], [9, 34, 37, 18, 13, 641, 8, 1, 347, 147, 146, 13, 381], [1, 5, 115, 15, 2, 23], [58, 49, 1, 245, 12, 74, 1, 7, 3, 50, 6, 4, 2, 39], [1, 7, 6, 4, 2, 249, 10, 1, 533, 15, 9, 534], [1, 5, 3, 105, 76, 25, 2, 32, 26, 222, 156], [1, 153, 17, 57, 164, 71, 33], [10, 1, 170, 112, 1, 5, 109, 6], [281, 257, 793, 24, 31, 60, 83, 55, 15, 2, 134, 11, 103, 3, 794, 68, 1, 394, 116, 795], [10, 1, 87, 12, 116, 942, 176, 2, 28, 1, 228, 22, 13, 11, 95, 30], [1, 192, 227, 3, 767, 137, 1, 26, 768, 13, 8, 1, 5, 3, 769, 14, 443, 497, 4, 2, 74, 353, 1, 75, 13, 11, 770, 771], [421, 55, 805], [35, 73, 117, 115, 15, 2, 69, 22, 756, 24, 3, 54], [1, 7, 166, 151, 80, 9, 49], [11, 2, 68, 83, 53, 113, 232], [1, 5, 6, 4, 2, 78, 22, 655, 24], [259, 393, 4, 2, 39, 8, 13, 19], [2, 152, 201, 12, 544, 202, 1, 79, 17, 53, 77, 157], [1, 5, 276, 311, 17, 8, 77, 2, 23], [1, 16, 378, 2, 39, 12, 9, 74, 338, 71, 3, 485, 6], [138, 407, 613, 193, 614], [1, 68, 221, 8, 27, 243], [25, 238, 1, 5, 117, 6, 371, 2, 46], [35, 73, 293, 14, 551, 15, 2, 552, 4, 9, 84], [1, 5, 391, 42, 6, 8, 372], [1, 16, 330, 30, 14, 2, 48, 653, 1, 7, 18, 35, 11, 70, 4, 13, 431, 654], [2, 28, 11, 95, 30, 4, 577], [13, 37, 18, 2, 44, 11, 141, 12, 766, 30, 14, 2, 38, 13, 19], [1, 5, 3, 63, 171, 93, 231, 12, 2, 337], [2, 74, 350, 129, 94], [421, 55, 805], [10, 1, 87, 12, 107, 198, 8, 269, 183, 285, 1, 228, 22, 1, 26, 121, 33], [58, 49, 1, 245, 12, 74, 1, 7, 3, 50, 6, 4, 2, 39], [1, 26, 779, 123, 780, 8, 1, 7, 51], [1, 52, 36, 504, 8, 2, 55, 26, 127, 10, 1, 1041, 12, 512], [1, 90, 43, 133, 82, 1, 7, 33], [1, 7, 63, 56, 12, 208], [13, 11, 18, 1, 5, 3, 451, 611, 227, 2, 44], [1, 5, 391, 42, 6, 8, 372], [1, 302, 3, 54, 14, 2, 28], [1, 200, 3, 819, 14, 126, 820, 194, 2, 145, 183, 821], [9, 883, 884, 45, 885, 143, 9, 886, 15, 2, 118, 22, 1, 147, 47, 290, 887, 15, 9, 505], [336, 393, 8, 246, 238], [1, 7, 3, 50, 6, 4, 2, 42], [1, 1069, 388, 9, 1070, 14, 2, 271, 137, 1, 26, 515, 117, 1071, 8, 1, 147, 150, 9, 243], [35, 11, 66, 15, 2, 69], [1, 5, 3, 180, 4, 9, 1104, 67, 1, 5, 1105, 1106], [82, 11, 2, 29, 224, 10, 1, 104, 12, 1007, 17, 9, 1008], [10, 1, 503, 112, 1, 1114, 2, 29], [13, 37, 18, 441, 497, 3, 357, 369, 2, 29], [1, 417, 3, 952, 62, 234, 49, 8, 10, 1, 953, 343, 1, 7, 32, 41], [1, 16, 166, 1119, 15, 2, 74, 46, 67, 2, 1120, 1121, 14, 9, 118, 74, 24, 21, 1122, 311], [1, 7, 88, 6, 58, 49, 1, 106], [1, 7, 81, 6, 4, 2, 303, 25, 111, 239, 14, 9, 155, 1123], [1, 5, 109, 6, 57, 2, 74, 206], [10, 20, 17, 1, 228, 22, 1, 5, 3, 42, 41, 8, 1, 87, 12, 116, 1051, 31, 2, 42, 121, 163, 24], [35, 11, 45, 94, 6, 10, 1, 106, 2, 98], [1, 72, 132, 33, 102, 10, 1, 72, 904, 905], [35, 11, 36, 1142, 265, 345, 2, 566, 1143, 57, 9, 128, 240, 1, 7, 58, 49, 1, 79, 30, 62, 3, 1144], [64, 56, 12, 47, 17, 8, 27, 214, 63, 1072], [1, 5, 60, 215, 171, 15, 2, 98], [16, 90, 139, 253, 1, 7, 85], [2, 32, 19, 8, 1, 302, 9, 93, 4, 2, 69, 223, 302, 459, 4, 2, 353], [1, 7, 6, 4, 2, 128, 29, 25, 9, 351, 207], [1, 5, 3, 46, 41, 205, 1, 110, 59, 3, 54], [1, 5, 36, 48, 41, 22, 257, 79, 188, 1, 110, 5, 3, 33, 53, 218, 53, 139, 342, 445, 113, 36, 963], [2, 28, 11, 95, 338, 3, 184, 1, 86, 100, 3, 54, 14, 28, 15, 2, 294, 1050], [1, 52, 3, 6, 4, 2, 34, 10, 1, 26, 288], [2, 39, 19, 24, 8, 1, 16, 47, 21, 60, 6], [1, 7, 3, 6, 4, 2, 39], [1, 7, 18, 1, 219, 12, 36, 1047, 1048, 8, 52, 1049, 279, 4, 2, 29], [1, 20, 436, 14, 478, 8, 949, 15, 2, 23], [2, 74, 350, 129, 94], [1, 72, 120, 313, 521, 185, 7, 18, 3, 993, 15, 2, 186, 480, 11, 105], [9, 142, 6, 4, 9, 42, 1, 7], [1, 998, 68, 2, 271, 67, 14, 111, 112, 8, 1, 12, 341, 6, 262, 126, 31, 13, 225, 43, 229], [2, 32, 19, 158, 1, 104, 12, 90, 70], [60, 373, 505, 15, 2, 74, 1053, 11, 103, 95, 388, 2, 1054, 523], [2, 420, 818, 11, 296, 14, 28, 58, 49], [2, 74, 48, 11, 964, 31, 9, 128, 239, 37, 18, 64, 290, 965, 21, 3, 446], [27, 169, 1, 16, 170, 155], [1, 7, 6, 4, 2, 39], [421, 55, 805], [1, 110, 5, 9, 510, 12, 90, 9, 185, 22, 1, 216, 12], [1, 153, 17, 57, 164, 71, 33], [27, 43, 71, 165, 1, 16, 116, 2, 61], [1, 5, 896, 76], [10, 1, 153, 17, 4, 9, 84, 1, 7, 51], [278, 1, 7, 18, 3, 811, 15, 2, 78, 22, 467, 24, 468], [10, 1, 47, 17, 91, 195, 1, 154, 12, 7, 51, 8, 230, 274], [278, 10, 13, 11, 33, 513, 2, 69, 19, 333, 178, 9, 115, 22, 73, 1042, 12, 1043], [1, 5, 3, 181, 1030, 4, 2, 303], [1, 7, 63, 56, 12, 208], [1, 26, 1100, 1101, 8, 347, 5, 105, 76], [1, 130, 169, 640], [1, 20, 1, 88, 6, 10, 1, 104, 12, 146, 2, 206, 53, 2, 98], [1, 7, 6, 4, 2, 88, 25, 36, 209, 4, 9, 135, 112, 207, 1, 503], [2, 32, 11, 366, 10, 1, 20, 17], [2, 55, 734, 17, 432], [1, 322, 52, 139, 66, 180, 1073, 2, 135, 1074, 10, 80, 14, 3, 374, 2, 23, 130, 1075, 4, 1076], [1, 5, 6, 4, 2, 42], [13, 19, 10, 1, 389, 2, 98, 17], [2, 39, 19, 24, 8, 1, 16, 47, 21, 60, 6], [1, 7, 44, 6, 10, 1, 59, 3, 54], [27, 43, 71, 165, 1, 20, 448, 55], [1, 7, 6, 4, 2, 39, 25, 712, 17], [1, 52, 3, 6, 4, 2, 34, 10, 1, 26, 288], [1, 16, 90, 287, 1, 7, 3, 85, 4, 2, 38], [1, 20, 707, 15, 2, 78, 21, 97, 349, 22, 20, 183, 449, 10, 1, 20, 168], [1, 5, 115, 15, 2, 23], [9, 34, 37, 18, 13, 641, 8, 1, 347, 147, 146, 13, 381], [35, 11, 6, 4, 9, 145, 1, 90, 43, 133, 418], [1, 16, 47, 17, 1, 7, 2, 424, 11, 214, 89, 2, 386], [1, 5, 255, 6, 158, 1, 300, 77, 21, 3, 33], [2, 38, 37, 85, 8, 1, 75, 22, 2, 69, 11, 564, 8, 1, 16, 148, 131], [1, 7, 6, 4, 2, 491, 145, 25, 1, 509, 156, 1, 518, 117, 6, 1035, 31, 13, 203, 229], [1, 110, 90, 287, 57, 474, 8, 121, 1, 7, 875], [1, 702, 5, 3, 187, 65, 10, 1, 20, 703], [1, 130, 66, 10, 1, 426, 538], [1, 7, 63, 56, 12, 208], [10, 1, 389, 2, 134, 1, 7, 6, 4, 2, 29], [1, 5, 66, 80, 140, 2, 69], [1, 20, 436, 14, 115, 15, 2, 69, 22, 322, 79, 188], [2, 46, 19, 24, 3, 54, 14, 111, 112], [27, 120, 3, 56, 49, 343, 67, 9, 628, 73, 80, 629], [1, 26, 111, 112, 8, 618, 21, 88, 6], [1, 7, 258, 557, 9, 38, 4, 410], [35, 6, 4, 2, 46], [1, 110, 133, 82, 27, 687, 151], [1, 130, 3, 539, 135, 406, 8, 1, 113, 16, 150, 540, 15, 149, 12, 20, 541, 15, 2, 542, 292], [248, 236, 14, 28, 400, 8, 401, 402], [2, 78, 19, 10, 1, 973], [1, 7, 385, 10, 1, 47, 17], [2, 44, 19, 10, 1, 253], [1, 7, 3, 173, 93, 4, 2, 29, 109], [1, 7, 6, 4, 2, 39], [1, 5, 3, 81, 6, 4, 2, 968, 103, 44, 209], [1, 20, 210, 995, 58, 517, 996, 8, 10, 1, 20, 365, 2, 76, 11, 997], [1, 68, 2, 134, 3, 284, 14, 204, 256, 8, 205, 1, 394, 75, 1, 561, 13, 562, 13, 379, 563, 17], [2, 39, 37, 392], [27, 694], [1, 5, 3, 6, 4, 2, 42], [1, 90, 43, 133, 82, 1, 7, 33], [10, 1, 389, 2, 134, 1, 7, 6, 4, 2, 29], [1, 7, 63, 85, 4, 2, 38], [13, 11, 56, 12, 61, 10, 1, 72, 4, 9, 708, 709, 710, 82], [2, 69, 160, 30, 175, 58, 692, 178, 2, 693], [2, 136, 23, 19, 31, 13, 698, 176, 1, 425, 13], [1, 26, 317, 21, 725, 1, 16, 61, 726], [1, 5, 681, 186], [1, 200, 3, 819, 14, 126, 820, 194, 2, 145, 183, 821], [9, 883, 884, 45, 885, 143, 9, 886, 15, 2, 118, 22, 1, 147, 47, 290, 887, 15, 9, 505], [1, 16, 47, 17, 53, 272, 77, 1, 5, 3, 6, 4, 2, 23, 22, 784, 24], [142, 6, 4, 9, 360, 74, 350, 14, 78, 8, 375, 5, 6, 12, 23], [35, 11, 3, 50, 6, 4, 2, 331, 1, 5, 87, 12, 341, 6, 262, 126, 31, 13, 225, 43, 229], [2, 40, 11, 314], [10, 1, 106, 2, 29, 64, 18, 860, 11, 290, 861, 227, 2, 29], [1, 5, 3, 28, 639], [1, 7, 3, 54, 14, 6, 4, 9, 122], [1, 7, 774, 4, 2, 78], [1, 5, 87, 12, 194, 458, 15, 2, 46, 31, 211, 121, 6, 24], [1, 130, 3, 539, 135, 406, 8, 1, 113, 16, 150, 540, 15, 149, 12, 20, 541, 15, 2, 542, 292], [1, 5, 3, 33, 8, 13, 286, 24, 65, 196], [1, 160, 30, 15, 2, 69, 63, 826], [1, 5, 3, 235, 250], [2, 78, 160, 30, 21, 97, 115, 8, 478], [1, 90, 43, 7, 174, 4, 2, 145], [2, 1109, 68, 167, 46, 15, 3, 1110, 4, 9, 1111, 8, 92, 9, 46, 11, 1112, 1113, 8, 11, 501], [2, 39, 19, 24, 8, 1, 16, 245, 77, 53, 17], [1, 848, 71, 33, 159, 9, 264, 11, 242], [1, 5, 3, 105, 76, 143, 2, 288, 590, 4, 9, 327, 82], [1, 7, 3, 6, 4, 2, 39], [10, 1, 318, 2, 28, 1, 319, 299, 599, 14, 28, 320, 30, 4, 9, 318], [9, 6, 4, 2, 48, 11, 427], [1, 7, 33], [10, 1, 90, 56, 656, 1, 7, 81, 6, 4, 2, 145], [2, 334, 52, 125, 601, 602, 8, 13, 603, 36, 283, 14, 40, 4, 239, 14, 125, 604, 22, 11, 92, 501, 8, 308], [2, 32, 19, 10, 27, 161, 60], [1, 5, 3, 105, 76, 8, 1, 16, 100, 4, 9, 804, 138, 11, 9, 184, 463], [1, 5, 169, 221, 143, 9, 241, 207], [58, 49, 1, 494, 2, 28, 35, 73, 45, 492, 28, 4, 2, 494], [1, 7, 3, 6, 15, 9, 74, 350, 14, 2, 78, 978, 2, 44, 11], [35, 11, 45, 94, 6, 10, 1, 106, 2, 98], [336, 393, 8, 246, 238], [2, 29, 96, 764, 6], [156, 1, 52, 3, 763, 6], [2, 136, 23, 19, 31, 13, 698, 176, 1, 425, 13], [10, 1, 583, 125, 1, 7, 77], [1, 5, 36, 600], [13, 19, 10, 1, 879, 2, 98], [1, 7, 3, 220, 15, 220, 6, 4, 2, 152, 10, 1, 471, 157], [58, 49, 1, 116, 3, 254, 61, 1, 154, 263], [142, 6, 4, 9, 48], [2, 46, 19, 8, 1, 16, 378, 13, 617, 64, 177], [2, 74, 350, 129, 94], [1, 498, 12, 524, 31, 1, 20, 3, 210, 932, 4, 2, 136, 23, 10, 1, 933, 140], [9, 894, 93, 15, 2, 44, 467, 24, 468], [1, 5, 66, 4, 2, 69, 8, 342, 1045, 4, 2, 806, 18, 314], [58, 49, 1, 494, 2, 28, 35, 73, 45, 492, 28, 4, 2, 494], [10, 1, 389, 2, 134, 1, 7, 6, 4, 2, 29], [1, 5, 3, 81, 42, 41, 8, 1, 16, 101, 139, 670], [2, 334, 52, 125, 601, 602, 8, 13, 603, 36, 283, 14, 40, 4, 239, 14, 125, 604, 22, 11, 92, 501, 8, 308], [1, 5, 169, 221, 143, 9, 241, 207], [9, 297, 178, 2, 44, 203, 7, 165], [1, 26, 779, 123, 780, 8, 1, 7, 51], [1, 5, 210, 6, 4, 2, 44], [2, 39, 11, 788, 24, 1, 16, 148, 789, 14, 13], [10, 1, 146, 140, 1, 20, 3, 276, 6, 77, 2, 23], [1, 7, 18, 9, 525, 11, 366], [35, 11, 3, 97, 970, 4, 2, 40], [99, 61, 21, 939], [1, 5, 3, 54, 14, 34, 6, 158, 1, 79, 273], [1, 192, 388, 2, 523, 8, 114, 223, 1, 52, 56, 34, 6], [2, 29, 109, 19, 10, 1, 104, 12, 358, 17], [1, 5, 3, 6, 255], [1, 1069, 388, 9, 1070, 14, 2, 271, 137, 1, 26, 515, 117, 1071, 8, 1, 147, 150, 9, 243], [16, 404, 363], [97, 1085, 477, 21, 329], [1, 453, 100, 3, 463, 1, 5, 36, 127, 55], [142, 6, 4, 9, 48], [1, 5, 3, 40, 171, 25, 309, 36, 310, 126], [2, 78, 66, 442, 30, 8, 322, 612, 17], [2, 152, 1136, 128, 345, 9, 34, 1137, 8, 162, 10, 1, 217, 472, 15, 365], [1, 7, 70, 162, 24, 4, 340, 61, 8, 1, 247, 116, 2, 61], [1, 315, 20, 3, 50, 6, 4, 2, 78, 8, 1, 16, 586, 138, 27, 161, 22, 419, 107, 587, 13], [10, 1, 503, 112, 1, 1114, 2, 29], [305, 139, 280, 679, 286, 2, 48, 129], [1, 7, 3, 50, 6, 4, 2, 32, 10, 1, 75, 91, 56], [2, 32, 41, 114, 1, 433, 17, 60, 84], [897, 173, 898, 899, 23, 21, 56, 900, 487], [1, 16, 47, 17, 1, 7, 2, 424, 11, 214, 89, 2, 386], [1, 5, 115, 15, 2, 23], [2, 29, 19, 24, 45, 94], [2, 23, 11, 163, 45, 94], [1, 7, 3, 50, 6, 4, 9, 42, 25, 309], [1, 319, 3, 54, 183, 28, 320, 30, 346, 1086, 10, 1, 318, 2, 28], [1, 7, 33, 10, 9, 164, 948], [1, 7, 22, 11, 81, 6, 4, 2, 74, 29], [1, 7, 796, 18, 36, 310, 797, 2, 798, 799, 22, 252, 800, 493, 801, 12, 802, 125, 45, 22, 252, 11, 198, 486], [35, 11, 3, 398, 93, 4, 2, 39], [1, 75, 1, 450, 2, 118, 13, 166, 19], [1, 5, 3, 68, 22, 11, 97, 8, 179], [2, 292, 74, 24, 62, 554, 555, 2, 44, 19, 45, 175, 12, 9, 408, 1, 16, 101, 53, 148], [259, 393, 4, 2, 39, 8, 13, 19], [1, 222, 221, 8, 9, 615, 203, 377, 12, 193], [1, 68, 221, 8, 27, 243], [1, 5, 276, 311, 17, 8, 77, 2, 23], [10, 27, 237, 1, 7, 2, 32, 99], [1, 5, 3, 6, 4, 2, 88], [2, 39, 37, 392], [10, 1, 90, 56, 656, 1, 7, 81, 6, 4, 2, 145], [1, 26, 111, 112, 8, 618, 21, 88, 6], [158, 1, 47, 17, 1, 7, 51], [2, 28, 95, 30], [9, 66, 26, 431, 24, 12, 7, 871], [2, 109, 4, 2, 29, 455, 10, 1, 106, 2, 98], [2, 39, 37, 392], [1, 7, 3, 606, 4, 2, 78], [1, 7, 51, 25, 161, 3, 549, 266], [1, 26, 111, 112, 8, 618, 21, 88, 6], [1, 5, 3, 28, 639], [2, 39, 37, 392], [1, 7, 63, 85, 4, 2, 38], [9, 6, 4, 2, 48, 11, 427], [10, 1, 318, 2, 28, 1, 319, 299, 599, 14, 28, 320, 30, 4, 9, 318], [248, 867, 6], [1, 5, 246, 214, 2, 39], [2, 23, 19, 45, 94, 1, 16, 146, 77, 12, 581, 2, 582], [1, 5, 3, 6, 4, 2, 88], [1, 5, 3, 251, 41, 4, 2, 32], [1, 649, 221, 650, 21, 3, 357, 137, 1, 26, 651], [1, 5, 3, 56, 6, 4, 2, 42], [1, 5, 3, 218, 723, 58, 108], [1, 16, 814, 2, 39], [2, 32, 226, 51, 10, 1, 104, 12, 20, 17], [2, 502, 37, 18, 13, 11, 971, 220, 15, 220, 10, 1, 59], [1, 59, 58, 108, 31, 92, 1, 20, 268, 14, 61, 25, 141, 514, 3, 268, 324], [167, 83, 55, 26, 1009, 12, 1010], [27, 120, 3, 56, 49, 343, 67, 9, 628, 73, 80, 629], [1, 5, 3, 105, 76, 114, 1, 433, 17, 60, 84, 138, 213, 107, 9, 184], [2, 152, 162, 45, 187, 12, 59, 22, 1, 856, 469, 183, 346, 1, 428], [2, 55, 26, 83, 10, 1, 26, 1117, 117, 1118, 4, 2, 524], [13, 11, 56, 12, 61, 10, 1, 72, 4, 9, 708, 709, 710, 82], [10, 1, 170, 112, 1, 5, 88, 6], [1, 453, 100, 3, 463, 1, 5, 36, 127, 55], [142, 6, 4, 9, 48], [10, 27, 161, 553, 1, 5, 6, 371, 2, 40], [1, 222, 221, 8, 9, 615, 203, 377, 12, 193], [35, 73, 293, 14, 551, 15, 2, 552, 4, 9, 84], [2, 122, 41, 158, 13, 11, 33], [1, 7, 33], [27, 43, 165, 1, 7, 51], [2, 44, 19, 10, 1, 253], [1, 75, 2, 38, 264, 11, 63, 1036], [2, 845, 8, 846, 201, 30, 14, 363, 102, 159, 1, 5, 522, 465], [1, 20, 210, 995, 58, 517, 996, 8, 10, 1, 20, 365, 2, 76, 11, 997], [2, 42, 37, 364, 163, 31, 223, 13, 37, 174, 25, 1, 101, 70, 980], [1, 5, 3, 81, 6, 4, 2, 968, 103, 44, 209], [704, 57, 212, 8, 705, 14, 706], [1, 5, 169, 221, 143, 9, 241, 207], [1, 7, 70, 162, 24, 4, 340, 61, 8, 1, 247, 116, 2, 61], [1, 5, 3, 6, 4, 2, 32], [9, 663, 664, 14, 2, 383, 11, 177, 8, 7, 45, 33], [9, 883, 884, 45, 885, 143, 9, 886, 15, 2, 118, 22, 1, 147, 47, 290, 887, 15, 9, 505], [10, 1, 106, 15, 2, 29, 6, 938, 77, 2, 98], [1, 5, 3, 6, 255], [1, 16, 166, 1119, 15, 2, 74, 46, 67, 2, 1120, 1121, 14, 9, 118, 74, 24, 21, 1122, 311], [1, 5, 29, 6, 10, 1, 104, 12, 261, 2, 893], [1, 7, 6, 4, 2, 491, 145, 25, 1, 509, 156, 1, 518, 117, 6, 1035, 31, 13, 203, 229], [1, 72, 120, 313, 521, 185, 7, 18, 3, 993, 15, 2, 186, 480, 11, 105], [248, 236, 14, 28, 400, 8, 401, 402], [9, 6, 37, 18, 64, 128, 345, 9, 40], [1, 52, 3, 33, 9, 135, 49, 1, 507, 123, 508, 8, 1, 121, 5, 3, 258, 4, 2, 182], [1, 437, 36, 676, 677, 4, 2, 76, 10, 1, 104, 12, 245, 57, 185, 17, 231], [488, 26, 752, 12, 5, 36, 127, 55], [1, 26, 111, 112, 8, 618, 21, 88, 6], [1, 147, 20, 198, 282, 415, 149, 94, 1, 661, 17, 53, 149, 242, 1, 217, 9, 662, 15], [10, 1, 20, 30, 14, 592, 4, 9, 84, 2, 38, 37, 63, 85], [1, 222, 221, 8, 9, 615, 203, 377, 12, 193], [1, 75, 1, 450, 2, 118, 13, 166, 19], [25, 111, 351, 1, 52, 3, 277, 93, 231, 12, 2, 39], [1, 16, 330, 30, 14, 2, 48, 653, 1, 7, 18, 35, 11, 70, 4, 13, 431, 654], [2, 28, 11, 95, 30, 4, 577], [25, 309, 1, 5, 173, 93, 89, 14, 24], [248, 236, 14, 28, 400, 8, 401, 402], [1, 7, 85], [2, 78, 160, 30, 21, 97, 115, 8, 478], [1, 5, 3, 33, 8, 13, 286, 24, 65, 196], [1, 1063, 2, 66], [2, 39, 19, 24, 8, 1, 16, 47, 21, 60, 6], [1, 434, 3, 99, 803, 156, 8, 10, 1, 20, 17, 464, 1, 172, 3, 81, 29, 6], [10, 1, 170, 112, 1, 5, 109, 6], [281, 257, 793, 24, 31, 60, 83, 55, 15, 2, 134, 11, 103, 3, 794, 68, 1, 394, 116, 795], [10, 20, 17, 1, 228, 22, 1, 5, 3, 42, 41, 8, 1, 87, 12, 116, 1051, 31, 2, 42, 121, 163, 24], [1, 315, 20, 3, 50, 6, 4, 2, 78, 8, 1, 16, 586, 138, 27, 161, 22, 419, 107, 587, 13], [2, 673, 38, 11, 674], [1, 87, 12, 217, 2, 465, 12, 100, 183, 808, 31, 247, 466, 139, 809], [1, 7, 6, 4, 2, 32, 21, 3, 452], [10, 1, 261, 99, 185, 1, 7, 18, 416, 2, 23], [1, 5, 3, 48, 41, 10, 1, 79, 12, 9, 327], [1, 5, 3, 312, 4, 2, 122], [1, 702, 5, 3, 187, 65, 10, 1, 20, 703], [1, 130, 169, 640], [1, 130, 66, 10, 1, 426, 538], [1, 5, 3, 6, 255], [144, 52, 60, 65, 62, 291, 197], [2, 152, 162, 45, 187, 12, 59, 22, 1, 856, 469, 183, 346, 1, 428], [1, 5, 3, 55, 275, 2, 516, 22, 226, 174, 1132, 8, 223, 1133, 1134, 108, 10, 1, 269, 1135, 528, 12, 298], [1, 5, 410, 258, 4, 2, 925], [27, 694], [2, 189, 52, 3, 850, 851, 8, 9, 852, 853, 68, 9, 89, 14, 167, 854, 8, 92, 13, 307, 43, 193], [2, 118, 11, 163, 24], [1, 5, 3, 312, 4, 2, 122], [1, 7, 3, 6, 4, 2, 23], [1, 75, 259, 321, 4, 2, 182], [1, 7, 18, 1, 113, 16, 579, 381, 1, 7, 580, 8, 18, 1, 113, 16, 20, 3, 160], [114, 1, 219, 369, 9, 630, 1, 5, 6, 15, 2, 48], [1, 5, 3, 68, 22, 11, 97, 8, 179], [1, 7, 796, 18, 36, 310, 797, 2, 798, 799, 22, 252, 800, 493, 801, 12, 802, 125, 45, 22, 252, 11, 198, 486], [1, 147, 20, 198, 282, 415, 149, 94, 1, 661, 17, 53, 149, 242, 1, 217, 9, 662, 15], [2, 759, 37, 63, 151, 202, 176, 13, 19, 9, 324, 1, 7, 4, 2, 32, 11, 760, 8, 10, 1, 75, 460, 2, 160, 17, 1, 585, 21, 761], [2, 34, 37, 85, 8, 13, 775, 324, 9, 342, 108, 57, 9, 339, 14, 9, 157, 776, 35, 26, 3, 777, 12, 778, 15, 12], [435, 9, 445, 14, 660], [4, 9, 84, 2, 578, 11, 280], [10, 27, 161, 553, 1, 5, 6, 371, 2, 40], [1, 7, 85, 80, 140], [2, 29, 96, 764, 6], [2, 40, 972, 15, 2, 23, 11, 97, 1, 110, 133, 82], [1, 5, 255, 6, 158, 1, 300, 77, 21, 3, 33], [1, 7, 151], [1, 437, 36, 676, 677, 4, 2, 76, 10, 1, 104, 12, 245, 57, 185, 17, 231], [9, 122, 4, 2, 773, 73, 181, 4, 9, 84], [1, 5, 115, 15, 2, 23], [1, 5, 246, 214, 2, 39], [13, 19, 10, 1, 879, 2, 98], [58, 49, 1, 116, 3, 254, 61, 1, 154, 263], [1, 5, 3, 63, 187, 65], [1, 7, 18, 70, 11, 479, 2, 244], [2, 78, 19, 10, 1, 79, 12, 116, 3, 61], [1, 7, 33, 10, 9, 164, 948], [2, 46, 11, 163, 45, 94], [1, 7, 18, 765, 192, 4, 168, 462], [421, 685, 97, 686, 370, 181, 8, 168, 12, 9, 295], [1, 5, 391, 42, 6, 8, 372], [2, 44, 11, 634, 289, 8, 27, 120, 3, 56, 49, 12, 61], [1, 5, 3, 171, 8, 13, 270, 63, 187], [1, 147, 20, 198, 282, 415, 149, 94, 1, 661, 17, 53, 149, 242, 1, 217, 9, 662, 15], [1, 5, 117, 6, 10, 27, 238, 178, 2, 152], [2, 44, 37, 18, 64, 141, 12, 572], [1, 68, 221, 8, 27, 243], [2, 66, 11, 166, 567, 64, 45, 417], [1, 910, 492, 911, 31, 211, 16, 466, 9, 128, 352, 912, 2, 28, 23], [1, 5, 6, 4, 2, 42], [1, 5, 29, 6, 25, 161, 139, 474, 298], [625, 626, 346, 409, 627, 8, 2, 23, 154, 12, 41], [2, 28, 11, 320, 30, 4, 631, 333, 10, 1, 632, 13], [1, 5, 3, 6, 22, 481, 17, 103, 2, 128, 869, 12, 2, 396, 397, 13, 11, 57, 64, 475, 10, 1, 870], [2, 40, 11, 329, 8, 304], [1, 7, 51, 10, 1, 194, 374, 487], [10, 1, 101, 390, 1, 319, 2, 76, 621], [1, 7, 51, 158, 1, 47, 17], [10, 1, 47, 17, 91, 616, 2, 76, 11, 105], [1, 5, 3, 40, 171, 25, 309, 36, 310, 126], [1, 5, 3, 105, 76, 114, 1, 433, 17, 60, 84, 138, 213, 107, 9, 184], [2, 152, 41, 15, 33, 8, 668, 204], [1, 192, 3, 454, 4, 2, 733, 8, 249], [1, 5, 3, 6, 4, 2, 88], [336, 393, 8, 246, 238], [1, 147, 208, 67, 14, 60, 251, 41, 345, 2, 74, 29], [2, 643, 7, 18, 211, 73, 644, 202, 645, 8, 73, 312], [2, 48, 19, 10, 1, 295, 13], [1, 5, 255, 6, 158, 1, 300, 77, 21, 3, 33], [1, 65, 3, 54, 10, 1, 729, 730, 138, 11, 199, 21, 2, 244], [1, 7, 44, 6, 10, 1, 59, 3, 54], [25, 111, 112, 1, 5, 109, 6, 21, 2, 758, 491], [10, 1, 87, 12, 107, 198, 8, 269, 183, 285, 1, 228, 22, 1, 26, 121, 33], [488, 26, 752, 12, 5, 36, 127, 55], [1, 153, 17, 57, 164, 71, 33], [1, 110, 5, 9, 510, 12, 90, 9, 185, 22, 1, 216, 12], [2, 32, 41, 114, 1, 433, 17, 60, 84], [35, 73, 117, 115, 15, 2, 69, 22, 756, 24, 3, 54], [10, 1, 75, 14, 2, 787, 1, 7, 6], [1, 7, 6, 89, 1, 90, 43, 133, 138, 13, 11], [248, 236, 14, 28, 400, 8, 401, 402], [58, 49, 1, 245, 12, 74, 1, 7, 3, 50, 6, 4, 2, 39], [1, 5, 6, 18, 279, 4, 2, 122], [1, 7, 22, 11, 81, 6, 4, 2, 74, 29], [11, 2, 68, 83, 53, 113, 232], [2, 40, 11, 63, 235, 8, 531], [1, 5, 117, 210, 313, 10, 27, 233, 143, 9, 164], [2, 152, 201, 12, 544, 202, 1, 79, 17, 53, 77, 157], [1, 5, 3, 473, 15, 9, 23, 14, 2, 134, 22, 113, 257, 79, 188], [1, 7, 6, 4, 2, 34], [1, 7, 6, 4, 2, 186, 1, 86, 100, 859], [1, 7, 6, 4, 2, 46], [2, 44, 19, 24], [10, 1, 106, 2, 29, 64, 18, 860, 11, 290, 861, 227, 2, 29], [248, 236, 14, 28, 400, 8, 401, 402], [1, 72, 120, 313, 521, 185, 7, 18, 3, 993, 15, 2, 186, 480, 11, 105], [1, 20, 436, 14, 478, 8, 949, 15, 2, 23], [2, 845, 8, 846, 201, 30, 14, 363, 102, 159, 1, 5, 522, 465], [2, 152, 41, 15, 33, 8, 668, 204], [1, 5, 3, 68, 15, 2, 46, 22, 749, 83, 103, 316, 9, 750, 57, 9, 191], [2, 292, 96, 3, 500, 15, 167, 301, 22, 488, 159, 26, 33, 119, 31, 92, 13, 96, 177, 127, 8, 1027, 321, 80, 108], [1, 5, 3, 56, 6, 4, 2, 42], [2, 38, 37, 85, 205, 1, 101, 3, 54, 82], [1, 7, 18, 144, 132, 130, 70, 4, 2, 250], [1, 7, 18, 1, 86, 260, 208, 903, 1, 20, 435, 4, 2, 244, 30], [1, 7, 565, 10, 1, 100, 2, 28, 95, 30], [1, 5, 3, 6, 4, 2, 88], [1, 16, 106, 2, 206, 35, 11, 6, 4, 9, 88], [1, 5, 3, 160, 4, 9, 40, 89, 239, 14, 2, 994, 22, 96, 328, 83, 8, 11, 92, 457, 21, 370], [2, 28, 11, 95, 10, 1, 72, 382, 13], [80, 14, 3, 374, 1, 172, 51, 10, 1, 1032, 17], [1, 5, 3, 81, 6, 4, 2, 46, 18, 665, 6, 21, 666, 2, 6, 667], [10, 1, 59, 1, 20, 3, 485, 6, 4, 9, 339, 14, 2, 46], [1, 5, 36, 127, 55, 4, 2, 98], [1, 5, 896, 76], [1, 7, 796, 18, 36, 310, 797, 2, 798, 799, 22, 252, 800, 493, 801, 12, 802, 125, 45, 22, 252, 11, 198, 486], [25, 111, 351, 1, 52, 3, 277, 93, 231, 12, 2, 39], [2, 44, 37, 18, 64, 141, 12, 572], [1, 20, 395, 8, 129, 80, 140], [35, 73, 293, 14, 551, 15, 2, 552, 4, 9, 84], [10, 27, 484, 2, 186, 100, 4, 568], [2, 152, 201, 12, 544, 202, 1, 79, 17, 53, 77, 157], [10, 1, 59, 17, 3, 669, 14, 157, 2, 128, 34, 19], [1, 7, 166, 151, 80, 9, 49], [149, 90, 281, 133, 176, 281, 5, 3, 423, 536, 4, 537, 34], [2, 42, 37, 296, 8, 570, 8, 372, 25, 299, 571], [11, 115, 3, 40, 236], [4, 9, 84, 2, 578, 11, 280], [144, 124, 140, 2, 33, 62, 197, 31, 121, 65, 58, 108], [2, 29, 19, 10, 1, 104, 12, 358, 70, 573, 2, 32], [1, 5, 276, 311, 17, 8, 77, 2, 23], [114, 1, 219, 369, 9, 630, 1, 5, 6, 15, 2, 48], [2, 292, 74, 24, 62, 554, 555, 2, 44, 19, 45, 175, 12, 9, 408, 1, 16, 101, 53, 148], [1, 7, 796, 18, 36, 310, 797, 2, 798, 799, 22, 252, 800, 493, 801, 12, 802, 125, 45, 22, 252, 11, 198, 486], [2, 32, 41, 114, 1, 433, 17, 60, 84], [1, 7, 33, 8, 395, 102, 159, 2, 285, 73, 99], [1, 16, 90, 287, 1, 7, 3, 85, 4, 2, 38], [1, 5, 255, 6, 158, 1, 300, 77, 21, 3, 33], [1, 5, 648, 21, 2, 40], [1, 7, 3, 50, 6, 4, 2, 32, 10, 1, 75, 91, 56], [1, 7, 6, 4, 2, 39, 25, 712, 17], [1, 546, 3, 254, 55, 4, 2, 134, 8, 1, 86, 43, 150, 9, 243], [9, 135, 49, 1, 646, 2, 647, 1, 68, 365, 91, 268, 8, 92, 1, 5, 36, 83, 446], [1, 113, 16, 201, 12, 20, 198, 102, 10, 753, 178, 24, 11, 198, 1, 132, 7, 33], [2, 23, 11, 163, 45, 94], [1, 7, 29, 6, 57, 678, 14, 49], [2, 244, 7, 99, 18, 211, 73, 457, 21, 332], [1, 16, 47, 17, 1, 7, 2, 424, 11, 214, 89, 2, 386], [2, 39, 19, 24, 8, 1, 16, 47, 21, 60, 6], [1, 16, 47, 21, 60, 430, 71, 4, 2, 42], [35, 453, 107, 70, 199, 21, 2, 716, 717, 1, 5, 12, 269, 718, 102, 15, 9, 719, 204, 2, 516, 73, 720], [1, 7, 3, 215, 8, 277, 6, 89, 2, 396, 397], [2, 44, 11, 634, 289, 8, 27, 120, 3, 56, 49, 12, 61], [1, 5, 9, 574, 14, 120, 282, 438, 4, 2, 38], [2, 292, 74, 24, 62, 554, 555, 2, 44, 19, 45, 175, 12, 9, 408, 1, 16, 101, 53, 148], [35, 11, 3, 50, 6, 4, 2, 331, 1, 5, 87, 12, 341, 6, 262, 126, 31, 13, 225, 43, 229], [2, 520, 145, 5, 81, 6, 114, 1, 26, 57, 191], [529, 530, 53, 283, 4, 9, 40], [2, 520, 145, 5, 81, 6, 114, 1, 26, 57, 191], [1, 5, 3, 54, 14, 34, 6, 158, 1, 79, 273], [1, 192, 388, 2, 523, 8, 114, 223, 1, 52, 56, 34, 6], [10, 1, 1141, 63, 56, 1, 7, 48, 41], [1140, 1, 170, 351, 1, 7, 3, 29, 6], [1, 7, 6, 10, 1066, 1067, 1068], [2, 145, 4, 2, 136, 23, 73, 224], [248, 236, 14, 28, 400, 8, 401, 402], [1, 26, 317, 21, 822, 823, 824, 240, 825, 82, 1, 132, 172, 33], [2, 29, 19, 24, 45, 94], [10, 1, 170, 112, 1, 5, 109, 6], [35, 73, 117, 115, 15, 2, 69, 22, 756, 24, 3, 54], [2, 292, 96, 3, 500, 15, 167, 301, 22, 488, 159, 26, 33, 119, 31, 92, 13, 96, 177, 127, 8, 1027, 321, 80, 108], [1, 7, 51, 10, 1, 689, 4, 212, 14, 2, 422, 62, 36, 690, 53, 291, 138, 691, 213, 107, 9, 184], [1, 172, 2, 44, 19, 10, 1, 509, 62, 234, 895], [10, 1, 389, 2, 134, 1, 7, 6, 4, 2, 29], [281, 257, 793, 24, 31, 60, 83, 55, 15, 2, 134, 11, 103, 3, 794, 68, 1, 394, 116, 795], [10, 1, 87, 12, 116, 942, 176, 2, 28, 1, 228, 22, 13, 11, 95, 30], [897, 173, 898, 899, 23, 21, 56, 900, 487], [1, 110, 5, 9, 510, 12, 90, 9, 185, 22, 1, 216, 12], [2, 29, 19, 24, 45, 94], [1, 16, 150, 263], [1, 20, 237, 91, 289, 1, 86, 499, 217, 15, 2, 285, 4, 9, 84], [1, 65, 3, 54, 10, 1, 729, 730, 138, 11, 199, 21, 2, 244], [421, 55, 805], [2, 189, 52, 3, 850, 851, 8, 9, 852, 853, 68, 9, 89, 14, 167, 854, 8, 92, 13, 307, 43, 193], [1, 7, 3, 50, 6, 4, 2, 32, 10, 1, 75, 91, 56], [1, 5, 3, 105, 76, 25, 2, 32, 26, 222, 156], [58, 49, 1, 245, 12, 74, 1, 7, 3, 50, 6, 4, 2, 39], [1, 216, 196, 14, 6, 747, 12, 20, 174, 31, 1, 121, 7, 9, 440, 23, 6], [1, 16, 47, 21, 60, 430, 71, 4, 2, 42], [1, 153, 17, 57, 164, 71, 33], [1, 5, 3, 312, 4, 2, 122], [1, 7, 109, 6, 58, 49, 1, 194, 36, 1046, 266], [2, 189, 52, 167, 301, 439, 8, 13, 11, 179, 8, 9, 40, 89, 15, 167, 301, 11, 584, 8, 190, 83], [1, 16, 100, 9, 872, 1, 5, 3, 105, 76], [1, 5, 87, 12, 194, 458, 15, 2, 46, 31, 211, 121, 6, 24], [27, 43, 165, 1, 7, 51], [158, 1, 47, 17, 1, 7, 51], [1, 5, 3, 46, 41, 205, 1, 110, 59, 3, 54], [1, 172, 2, 44, 19, 10, 1, 509, 62, 234, 895], [10, 1, 146, 140, 1, 20, 3, 276, 6, 77, 2, 23], [10, 1, 735, 2, 186, 12, 736, 1, 5, 105, 76], [1, 702, 5, 3, 187, 65, 10, 1, 20, 703], [1, 5, 3, 56, 109, 6, 114, 1, 219, 12, 9, 191], [2, 673, 38, 11, 674], [27, 43, 165, 27, 71, 45, 33], [1, 87, 12, 217, 2, 465, 12, 100, 183, 808, 31, 247, 466, 139, 809], [10, 20, 17, 1, 228, 22, 1, 5, 3, 42, 41, 8, 1, 87, 12, 116, 1051, 31, 2, 42, 121, 163, 24], [1, 59, 58, 108, 31, 92, 1, 20, 268, 14, 61, 25, 141, 514, 3, 268, 324], [248, 220, 236, 57, 9, 699, 14, 9, 700, 14, 9, 136, 701], [1, 649, 221, 650, 21, 3, 357, 137, 1, 26, 651], [10, 1, 153, 17, 1, 72, 71, 33], [1, 90, 43, 133, 82, 1, 7, 33], [1, 434, 3, 99, 803, 156, 8, 10, 1, 20, 17, 464, 1, 172, 3, 81, 29, 6], [2, 28, 11, 95, 30, 25, 1, 116, 3, 420], [1, 7, 51, 10, 1, 689, 4, 212, 14, 2, 422, 62, 36, 690, 53, 291, 138, 691, 213, 107, 9, 184], [10, 1, 1141, 63, 56, 1, 7, 48, 41], [35, 11, 45, 94, 6, 10, 1, 106, 2, 98], [1, 5, 3, 54, 14, 34, 6, 158, 1, 79, 273], [1, 20, 707, 15, 2, 78, 21, 97, 349, 22, 20, 183, 449, 10, 1, 20, 168], [1, 222, 9, 889, 10, 476, 12, 890, 3, 348], [13, 37, 18, 2, 44, 11, 141, 12, 766, 30, 14, 2, 38, 13, 19], [2, 28, 11, 95, 30, 4, 577], [1, 7, 385, 10, 1, 47, 17], [2, 44, 19, 10, 1, 253], [1, 5, 115, 4, 349, 234, 21, 3, 54, 14, 336, 15, 2, 69], [1, 998, 68, 2, 271, 67, 14, 111, 112, 8, 1, 12, 341, 6, 262, 126, 31, 13, 225, 43, 229], [1, 5, 87, 12, 262, 13, 31, 1, 16], [1, 7, 6, 4, 2, 128, 29, 25, 9, 351, 207], [2, 189, 52, 167, 301, 439, 8, 13, 11, 179, 8, 9, 40, 89, 15, 167, 301, 11, 584, 8, 190, 83], [2, 42, 129, 10, 1, 101, 168, 490, 82], [1, 7, 3, 6, 4, 2, 23, 10, 1, 272, 15, 3, 1029, 62, 373], [454, 930, 12, 245, 128, 53, 74, 931, 123, 214, 9, 368, 38], [2, 643, 7, 18, 211, 73, 644, 202, 645, 8, 73, 312], [10, 1, 261, 99, 185, 1, 7, 18, 416, 2, 23], [529, 530, 53, 283, 4, 9, 40], [7, 18, 70, 11, 290, 1107, 369, 2, 122], [1, 16, 47, 21, 60, 430, 71, 4, 2, 42], [1, 72, 132, 33, 102, 10, 1, 72, 904, 905], [10, 1, 354, 2, 337, 17, 1, 5, 3, 335, 4, 2, 249], [2, 673, 38, 11, 674], [1, 52, 36, 504, 8, 2, 55, 26, 127, 10, 1, 1041, 12, 512], [1, 5, 3, 105, 76, 8, 1, 16, 100, 4, 9, 804, 138, 11, 9, 184, 463], [1, 26, 111, 348, 156, 1, 5, 450, 118], [9, 34, 37, 18, 13, 641, 8, 1, 347, 147, 146, 13, 381], [1, 7, 3, 81, 6, 4, 2, 29, 10, 1, 104, 12, 354, 70, 99], [1, 7, 166, 151, 80, 9, 49], [144, 437, 2, 28, 95, 30, 3, 54, 323], [9, 71, 14, 263, 1093, 4, 1094, 358], [2, 55, 734, 17, 432], [37, 18, 35, 73, 727, 8, 279, 728, 4, 2, 122], [2, 29, 129, 10, 1, 104, 12, 354, 409, 740], [2, 38, 37, 18, 64, 4, 3, 658], [569, 28, 11, 95, 30, 113, 123, 382, 13], [10, 27, 545, 4, 9, 84, 1, 7, 215, 8, 5, 452], [2, 42, 37, 296, 8, 570, 8, 372, 25, 299, 571], [1, 7, 3, 81, 325, 14, 265, 14, 2, 32], [2, 38, 37, 85, 25, 2, 362, 108, 4, 9, 191, 82], [10, 1, 26, 966, 2, 28, 13, 26, 95, 30, 967], [1, 7, 3, 50, 6, 4, 2, 32, 10, 1, 75, 91, 56], [1, 7, 166, 151, 80, 9, 49], [27, 71, 762], [2, 48, 19, 24, 175], [2, 34, 19, 10, 1, 59], [1, 7, 781, 659], [1, 20, 36, 48, 41, 10, 13, 11, 33], [50, 6, 8, 99, 233], [259, 393, 4, 2, 39, 8, 13, 19], [70, 384, 11, 35, 15, 2, 98], [58, 84, 10, 1, 153, 17, 2, 39, 37, 18, 1, 633, 15, 4, 199], [10, 1, 20, 17, 1, 100, 2, 40, 675], [2, 292, 96, 3, 500, 15, 167, 301, 22, 488, 159, 26, 33, 119, 31, 92, 13, 96, 177, 127, 8, 1027, 321, 80, 108], [27, 43, 71, 165, 1, 20, 448, 55], [10, 1, 101, 1, 7, 2, 42, 19], [1, 222, 2, 32, 57, 9, 348, 873, 213, 1, 5, 3, 874], [2, 42, 37, 296, 8, 570, 8, 372, 25, 299, 571], [1, 16, 90, 287, 1, 7, 3, 85, 4, 2, 38], [142, 6, 4, 9, 360, 74, 350, 14, 78, 8, 375, 5, 6, 12, 23], [1, 5, 681, 186], [10, 1, 47, 17, 91, 195, 1, 154, 12, 7, 51, 8, 230, 274], [1, 147, 208, 67, 14, 60, 251, 41, 345, 2, 74, 29], [1, 52, 3, 33, 9, 135, 49, 1, 507, 123, 508, 8, 1, 121, 5, 3, 258, 4, 2, 182], [2, 23, 19, 24, 8, 1, 16, 146, 13, 53, 59], [1, 192, 227, 3, 767, 137, 1, 26, 768, 13, 8, 1, 5, 3, 769, 14, 443, 497, 4, 2, 74, 353, 1, 75, 13, 11, 770, 771], [2, 38, 37, 85, 205, 1, 116, 2, 696, 697], [120, 246, 214, 2, 34], [1, 7, 33, 8, 395, 102, 159, 2, 285, 73, 99], [27, 169, 1, 16, 170, 155], [1, 5, 3, 68, 15, 2, 46, 22, 749, 83, 103, 316, 9, 750, 57, 9, 191], [305, 139, 280, 679, 286, 2, 48, 129], [1, 72, 120, 273, 413], [1, 7, 51, 10, 1, 689, 4, 212, 14, 2, 422, 62, 36, 690, 53, 291, 138, 691, 213, 107, 9, 184], [1, 5, 276, 6, 4, 2, 502, 25, 294, 30], [2, 28, 11, 95, 30, 25, 1, 116, 3, 420], [1, 7, 19, 4, 2, 44], [1, 7, 29, 6, 57, 678, 14, 49], [35, 11, 60, 6, 22, 481, 103, 2, 78, 17, 12, 2, 74, 98], [1, 16, 20, 3, 403, 67, 14, 2, 66], [156, 1, 52, 3, 763, 6], [1, 5, 3, 181, 1030, 4, 2, 303], [1, 16, 100, 9, 872, 1, 5, 3, 105, 76], [1, 110, 5, 313, 340, 4, 61, 31, 30, 61, 11, 45, 99], [1, 7, 3, 54, 14, 6, 4, 9, 122], [1, 7, 6, 89, 1, 90, 43, 133, 138, 13, 11], [60, 373, 505, 15, 2, 74, 1053, 11, 103, 95, 388, 2, 1054, 523], [1, 16, 106, 2, 206, 35, 11, 6, 4, 9, 88], [27, 43, 165, 1, 7, 51], [10, 1, 318, 2, 28, 1, 319, 299, 599, 14, 28, 320, 30, 4, 9, 318], [1, 5, 66, 4, 2, 69, 8, 342, 1045, 4, 2, 806, 18, 314], [192, 386, 11, 609, 18, 610], [529, 530, 53, 283, 4, 9, 40], [2, 38, 37, 85, 8, 1, 87, 12, 194, 13, 834, 31, 13, 835, 6, 24], [1, 5, 3, 235, 250], [1, 160, 30, 15, 2, 69, 63, 826], [1, 7, 33, 205, 891, 73, 4, 892], [2, 98, 19, 10, 1, 425], [1, 5, 3, 312, 4, 2, 122], [1, 7, 6, 4, 2, 34, 10, 1, 471, 9, 157], [1, 72, 120, 313, 521, 185, 7, 18, 3, 993, 15, 2, 186, 480, 11, 105], [1, 20, 3, 34, 6, 10, 1, 59, 3, 54], [1, 5, 3, 56, 109, 6, 114, 1, 219, 12, 9, 191], [1, 649, 221, 650, 21, 3, 357, 137, 1, 26, 651], [1, 247, 208], [13, 37, 18, 1, 16, 116, 3, 254, 61], [278, 1, 65, 67, 27, 3, 914], [9, 6, 4, 2, 48, 11, 427], [1, 130, 169, 640], [2, 1109, 68, 167, 46, 15, 3, 1110, 4, 9, 1111, 8, 92, 9, 46, 11, 1112, 1113, 8, 11, 501], [1, 7, 6, 4, 9, 136, 23], [10, 1, 735, 2, 186, 12, 736, 1, 5, 105, 76], [1, 7, 3, 335, 4, 2, 152, 10, 1, 59], [1, 414, 196, 21, 2, 39, 6, 8, 1, 166, 200, 12, 107, 174], [1, 192, 3, 454, 4, 2, 733, 8, 249], [10, 1, 146, 140, 1, 20, 3, 276, 6, 77, 2, 23], [60, 373, 505, 15, 2, 74, 1053, 11, 103, 95, 388, 2, 1054, 523], [2, 334, 52, 125, 601, 602, 8, 13, 603, 36, 283, 14, 40, 4, 239, 14, 125, 604, 22, 11, 92, 501, 8, 308], [1, 7, 63, 56, 12, 208], [1, 7, 85, 80, 140], [2, 28, 387, 131], [2, 28, 11, 95, 30, 25, 1, 116, 3, 420], [1, 16, 261, 287, 1, 5, 3, 6, 4, 2, 29], [2, 78, 66, 442, 30, 8, 322, 612, 17], [1, 7, 565, 10, 1, 100, 2, 28, 95, 30], [1, 5, 29, 6, 10, 1, 104, 12, 261, 2, 893], [1, 5, 3, 68, 22, 96, 328, 97, 8, 380, 412], [1, 5, 3, 48, 41, 10, 1, 79, 12, 9, 327], [1, 7, 3, 173, 93, 4, 2, 934, 460, 935, 936, 25, 519, 937], [1, 5, 3, 550, 15, 2, 405, 22, 307, 43, 193], [1, 7, 3, 54, 14, 6, 4, 9, 122], [9, 297, 178, 2, 44, 203, 7, 165], [1, 414, 196, 21, 40, 657]]\n"
          ],
          "name": "stdout"
        }
      ]
    },
    {
      "cell_type": "code",
      "metadata": {
        "id": "bddUbJI6hgxV",
        "colab_type": "code",
        "outputId": "b9c262f2-0cc4-4f8b-f020-1dfcb727996b",
        "colab": {
          "base_uri": "https://localhost:8080/",
          "height": 34
        }
      },
      "source": [
        "print('The training data phrase word count is the covabulary size of', vocab_size)"
      ],
      "execution_count": 20,
      "outputs": [
        {
          "output_type": "stream",
          "text": [
            "The training data phrase word count is the covabulary size of 1160\n"
          ],
          "name": "stdout"
        }
      ]
    },
    {
      "cell_type": "code",
      "metadata": {
        "id": "UqKrWmj3gJ0U",
        "colab_type": "code",
        "outputId": "e2dbad0f-1f1c-4e33-fea0-9b84ca11df62",
        "colab": {
          "base_uri": "https://localhost:8080/",
          "height": 34
        }
      },
      "source": [
        "# pad documents to a max length of the longest word\n",
        "max_length = 0\n",
        "for doc in encoded_docs:\n",
        "  if len(doc) > max_length:\n",
        "    max_length = len(doc)\n",
        "\n",
        "print('The training data with the longest word length is', max_length)\n",
        "\n",
        "padded_docs = pad_sequences(encoded_docs, maxlen=max_length, padding='post')"
      ],
      "execution_count": 21,
      "outputs": [
        {
          "output_type": "stream",
          "text": [
            "The training data with the longest word length is 30\n"
          ],
          "name": "stdout"
        }
      ]
    },
    {
      "cell_type": "code",
      "metadata": {
        "id": "4VXepMS2g9iT",
        "colab_type": "code",
        "outputId": "7f646421-3bfe-427a-d5df-754abe1d664e",
        "colab": {
          "base_uri": "https://localhost:8080/",
          "height": 34
        }
      },
      "source": [
        "print('Confirm that the padded_docs has the correct size of', len(padded_docs))"
      ],
      "execution_count": 22,
      "outputs": [
        {
          "output_type": "stream",
          "text": [
            "Confirm that the padded_docs has the correct size of 6650\n"
          ],
          "name": "stdout"
        }
      ]
    },
    {
      "cell_type": "code",
      "metadata": {
        "id": "od_SqJnLWiV6",
        "colab_type": "code",
        "colab": {
          "base_uri": "https://localhost:8080/",
          "height": 34
        },
        "outputId": "c90aef6d-1e60-4eee-f03e-60047cc82048"
      },
      "source": [
        "print('Confirm that the phrase below has the same number of non zero tokens in the padded document', phrases[1])"
      ],
      "execution_count": 23,
      "outputs": [
        {
          "output_type": "stream",
          "text": [
            "Confirm that the phrase below has the same number of non zero tokens in the padded document When I carry heavy things I feel like breaking my back\n"
          ],
          "name": "stdout"
        }
      ]
    },
    {
      "cell_type": "code",
      "metadata": {
        "id": "c9teBAYeCN46",
        "colab_type": "code",
        "outputId": "01764b43-6623-4aa8-ba65-7772076cfaeb",
        "colab": {
          "base_uri": "https://localhost:8080/",
          "height": 51
        }
      },
      "source": [
        "print('See padded document for the position 1 phrase', padded_docs[1])"
      ],
      "execution_count": 24,
      "outputs": [
        {
          "output_type": "stream",
          "text": [
            "See padded document for the position 1 phrase [ 10   1 261  99 185   1   7  18 416   2  23   0   0   0   0   0   0   0\n",
            "   0   0   0   0   0   0   0   0   0   0   0   0]\n"
          ],
          "name": "stdout"
        }
      ]
    },
    {
      "cell_type": "markdown",
      "metadata": {
        "id": "EZrMQKZHwg1u",
        "colab_type": "text"
      },
      "source": [
        "### Add an index in front of each padded phrase to allow tracking of the true prompt"
      ]
    },
    {
      "cell_type": "code",
      "metadata": {
        "id": "4gHRBSHScjPL",
        "colab_type": "code",
        "colab": {
          "base_uri": "https://localhost:8080/",
          "height": 323
        },
        "outputId": "af9d4029-e3bf-490a-8642-b12bdf0f7939"
      },
      "source": [
        "indexed_padded_docs = list()\n",
        "\n",
        "counter = 0\n",
        "for row in padded_docs:\n",
        "  indexed_padded_docs.append(list((counter, row)))\n",
        "  counter = counter + 1\n",
        "\n",
        "indexed_padded_docs = np.array(indexed_padded_docs)\n",
        "\n",
        "print(type(indexed_padded_docs))\n",
        "print(len(indexed_padded_docs))\n",
        "print(indexed_padded_docs[0:4])"
      ],
      "execution_count": 25,
      "outputs": [
        {
          "output_type": "stream",
          "text": [
            "<class 'numpy.ndarray'>\n",
            "6650\n",
            "[[0\n",
            "  array([ 10,   1, 583, 125,   1,   7,  77,   0,   0,   0,   0,   0,   0,\n",
            "         0,   0,   0,   0,   0,   0,   0,   0,   0,   0,   0,   0,   0,\n",
            "         0,   0,   0,   0], dtype=int32)]\n",
            " [1\n",
            "  array([ 10,   1, 261,  99, 185,   1,   7,  18, 416,   2,  23,   0,   0,\n",
            "         0,   0,   0,   0,   0,   0,   0,   0,   0,   0,   0,   0,   0,\n",
            "         0,   0,   0,   0], dtype=int32)]\n",
            " [2\n",
            "  array([ 35,  11,  91,  94,   6,  10,   1, 106,   2,  98,   0,   0,   0,\n",
            "         0,   0,   0,   0,   0,   0,   0,   0,   0,   0,   0,   0,   0,\n",
            "         0,   0,   0,   0], dtype=int32)]\n",
            " [3\n",
            "  array([  2, 189,  52, 167, 301, 439,   8,  13,  11, 179,   8,   9,  40,\n",
            "        89,  15, 167, 301,  11, 584,   8, 190,  83,   0,   0,   0,   0,\n",
            "         0,   0,   0,   0], dtype=int32)]]\n"
          ],
          "name": "stdout"
        }
      ]
    },
    {
      "cell_type": "code",
      "metadata": {
        "id": "fbsOPtepbJHr",
        "colab_type": "code",
        "colab": {
          "base_uri": "https://localhost:8080/",
          "height": 34
        },
        "outputId": "64f0d2cb-c36f-42e1-e3f8-7d802fb9a6de"
      },
      "source": [
        "len(padded_docs)"
      ],
      "execution_count": 26,
      "outputs": [
        {
          "output_type": "execute_result",
          "data": {
            "text/plain": [
              "6650"
            ]
          },
          "metadata": {
            "tags": []
          },
          "execution_count": 26
        }
      ]
    },
    {
      "cell_type": "markdown",
      "metadata": {
        "id": "u89jEoqlh0WX",
        "colab_type": "text"
      },
      "source": [
        "# Prepare Weights for Data from Embedding"
      ]
    },
    {
      "cell_type": "code",
      "metadata": {
        "id": "HlGnjmwGi7y8",
        "colab_type": "code",
        "colab": {}
      },
      "source": [
        "# create a weight matrix for words in training docs\n",
        "embedding_matrix = zeros((vocab_size, 200))\n",
        "for word, i in t.word_index.items():\n",
        "\tembedding_vector = embeddings_index.get(word)\n",
        "\tif embedding_vector is not None:\n",
        "\t\tembedding_matrix[i] = embedding_vector"
      ],
      "execution_count": 0,
      "outputs": []
    },
    {
      "cell_type": "code",
      "metadata": {
        "id": "mHX29effgjo7",
        "colab_type": "code",
        "colab": {
          "base_uri": "https://localhost:8080/",
          "height": 238
        },
        "outputId": "23e8f9c7-379f-42b4-8d41-34eba79d0f2f"
      },
      "source": [
        "embedding_matrix"
      ],
      "execution_count": 28,
      "outputs": [
        {
          "output_type": "execute_result",
          "data": {
            "text/plain": [
              "array([[ 0.        ,  0.        ,  0.        , ...,  0.        ,\n",
              "         0.        ,  0.        ],\n",
              "       [ 0.26804999,  0.36032   , -0.33199999, ...,  0.17769   ,\n",
              "         0.22362   ,  0.014241  ],\n",
              "       [ 0.30379999,  0.18126   ,  0.46583   , ...,  0.29550999,\n",
              "        -0.25325999,  0.72632998],\n",
              "       ...,\n",
              "       [ 0.077027  , -0.25341001, -0.15026   , ...,  0.2938    ,\n",
              "        -0.23005   , -0.17716999],\n",
              "       [ 0.29876   , -0.14601   , -0.15304001, ...,  0.28331   ,\n",
              "        -0.11579   ,  0.92505997],\n",
              "       [ 0.55844998,  0.66096002,  0.32642999, ...,  0.17189001,\n",
              "         0.050269  , -0.42519999]])"
            ]
          },
          "metadata": {
            "tags": []
          },
          "execution_count": 28
        }
      ]
    },
    {
      "cell_type": "code",
      "metadata": {
        "id": "MgoJER92jLzm",
        "colab_type": "code",
        "outputId": "741af83b-493d-4d0f-b5b6-8faf00df0399",
        "colab": {
          "base_uri": "https://localhost:8080/",
          "height": 34
        }
      },
      "source": [
        "type(embedding_matrix)"
      ],
      "execution_count": 29,
      "outputs": [
        {
          "output_type": "execute_result",
          "data": {
            "text/plain": [
              "numpy.ndarray"
            ]
          },
          "metadata": {
            "tags": []
          },
          "execution_count": 29
        }
      ]
    },
    {
      "cell_type": "code",
      "metadata": {
        "id": "bnF6budHrYp_",
        "colab_type": "code",
        "colab": {
          "base_uri": "https://localhost:8080/",
          "height": 34
        },
        "outputId": "160d73d7-e4d2-4f67-9bff-6e42a70c349f"
      },
      "source": [
        "np.shape(embedding_matrix)"
      ],
      "execution_count": 30,
      "outputs": [
        {
          "output_type": "execute_result",
          "data": {
            "text/plain": [
              "(1160, 200)"
            ]
          },
          "metadata": {
            "tags": []
          },
          "execution_count": 30
        }
      ]
    },
    {
      "cell_type": "code",
      "metadata": {
        "id": "ZY2v7XexrL15",
        "colab_type": "code",
        "colab": {
          "base_uri": "https://localhost:8080/",
          "height": 34
        },
        "outputId": "21900448-da02-4a38-ad14-1835e907ab5a"
      },
      "source": [
        "vocab_size"
      ],
      "execution_count": 31,
      "outputs": [
        {
          "output_type": "execute_result",
          "data": {
            "text/plain": [
              "1160"
            ]
          },
          "metadata": {
            "tags": []
          },
          "execution_count": 31
        }
      ]
    },
    {
      "cell_type": "markdown",
      "metadata": {
        "id": "tjzMj_rMFzYz",
        "colab_type": "text"
      },
      "source": [
        "# Test Train Split"
      ]
    },
    {
      "cell_type": "code",
      "metadata": {
        "id": "1Yp3wSbJB-ZY",
        "colab_type": "code",
        "colab": {}
      },
      "source": [
        "#split the data into training and validation set with 80%, 20% respectively\n",
        "train_x, test_x, train_y, test_y = train_test_split(indexed_padded_docs ,prompt_one_hot, test_size=0.2, random_state=1,shuffle=True)"
      ],
      "execution_count": 0,
      "outputs": []
    },
    {
      "cell_type": "markdown",
      "metadata": {
        "id": "N1QwI47ww8fK",
        "colab_type": "text"
      },
      "source": [
        "### Confirm that sizes of features and target in both the train and test are the same, and view sample of train set."
      ]
    },
    {
      "cell_type": "code",
      "metadata": {
        "id": "FcoiyR0KCbR-",
        "colab_type": "code",
        "outputId": "6734b1c3-86d3-47f1-dd49-03e5a1475d5f",
        "colab": {
          "base_uri": "https://localhost:8080/",
          "height": 85
        }
      },
      "source": [
        "print(len(train_x))\n",
        "print(len(train_y))\n",
        "print(len(test_x))\n",
        "print(len(test_y))"
      ],
      "execution_count": 33,
      "outputs": [
        {
          "output_type": "stream",
          "text": [
            "5320\n",
            "5320\n",
            "1330\n",
            "1330\n"
          ],
          "name": "stdout"
        }
      ]
    },
    {
      "cell_type": "code",
      "metadata": {
        "id": "27mlFwKhhlQ1",
        "colab_type": "code",
        "colab": {
          "base_uri": "https://localhost:8080/",
          "height": 340
        },
        "outputId": "5c573561-b1cf-49ce-c579-be4fa06da543"
      },
      "source": [
        "train_x[0:5]"
      ],
      "execution_count": 34,
      "outputs": [
        {
          "output_type": "execute_result",
          "data": {
            "text/plain": [
              "array([[102,\n",
              "        array([  1,   5,  36,  48,  41,  22, 257,  79, 188,   1, 110,   5,   3,\n",
              "        33,  53, 218,  53, 139, 342, 445, 113,  36, 963,   0,   0,   0,\n",
              "         0,   0,   0,   0], dtype=int32)],\n",
              "       [589,\n",
              "        array([ 35,  11,   3,  50,   6,   4,   2, 744,   0,   0,   0,   0,   0,\n",
              "         0,   0,   0,   0,   0,   0,   0,   0,   0,   0,   0,   0,   0,\n",
              "         0,   0,   0,   0], dtype=int32)],\n",
              "       [5323,\n",
              "        array([ 1, 75,  2, 55, 11, 83,  0,  0,  0,  0,  0,  0,  0,  0,  0,  0,  0,\n",
              "        0,  0,  0,  0,  0,  0,  0,  0,  0,  0,  0,  0,  0], dtype=int32)],\n",
              "       [1558,\n",
              "        array([ 10,   1,  26, 966,   2,  28,  13,  26,  95,  30, 967,   0,   0,\n",
              "         0,   0,   0,   0,   0,   0,   0,   0,   0,   0,   0,   0,   0,\n",
              "         0,   0,   0,   0], dtype=int32)],\n",
              "       [1228,\n",
              "        array([ 25, 309,   1,   5, 173,  93,  89,  14,  24,   0,   0,   0,   0,\n",
              "         0,   0,   0,   0,   0,   0,   0,   0,   0,   0,   0,   0,   0,\n",
              "         0,   0,   0,   0], dtype=int32)]], dtype=object)"
            ]
          },
          "metadata": {
            "tags": []
          },
          "execution_count": 34
        }
      ]
    },
    {
      "cell_type": "markdown",
      "metadata": {
        "id": "_1KOLbRnPMtm",
        "colab_type": "text"
      },
      "source": [
        "### Create helper function to convert indexed array to non-indexed array for use in training"
      ]
    },
    {
      "cell_type": "code",
      "metadata": {
        "id": "pyNKsmNZiTZY",
        "colab_type": "code",
        "colab": {
          "base_uri": "https://localhost:8080/",
          "height": 136
        },
        "outputId": "efefdb59-99a6-4ef9-f415-03d39c9ed397"
      },
      "source": [
        "def to_non_indexed_array(indexed_array):\n",
        "   \n",
        "  non_indexed_list = list()\n",
        "\n",
        "  counter = 0\n",
        "  for row in indexed_array:\n",
        "\n",
        "    non_indexed_list.append(row[1])\n",
        "    counter = counter + 1\n",
        "\n",
        "  non_indexed_array = np.array(non_indexed_list)\n",
        "  \n",
        "  return(non_indexed_array)\n",
        "\n",
        "to_non_indexed_array(test_x)"
      ],
      "execution_count": 35,
      "outputs": [
        {
          "output_type": "execute_result",
          "data": {
            "text/plain": [
              "array([[  1,  86, 260, ...,   0,   0,   0],\n",
              "       [ 25, 111, 112, ...,   0,   0,   0],\n",
              "       [  2, 759,  37, ..., 585,  21, 761],\n",
              "       ...,\n",
              "       [  1,   5, 105, ...,   0,   0,   0],\n",
              "       [  2, 845,   8, ...,   0,   0,   0],\n",
              "       [  2,  38,  37, ...,   0,   0,   0]], dtype=int32)"
            ]
          },
          "metadata": {
            "tags": []
          },
          "execution_count": 35
        }
      ]
    },
    {
      "cell_type": "markdown",
      "metadata": {
        "id": "JR6WhT8Exfu2",
        "colab_type": "text"
      },
      "source": [
        "# Create Dense Neural Network"
      ]
    },
    {
      "cell_type": "code",
      "metadata": {
        "id": "VLVZAqhgi3Ez",
        "colab_type": "code",
        "outputId": "89cdb810-f11e-4eeb-cb6a-8a722743fca5",
        "colab": {
          "base_uri": "https://localhost:8080/",
          "height": 598
        }
      },
      "source": [
        "# Define model\n",
        "model_dense = Sequential()\n",
        "\n",
        "# Embedding Layers\n",
        "e = Embedding(vocab_size, 200, weights=[embedding_matrix], input_length=max_length, trainable=False)\n",
        "model_dense.add(e)\n",
        "model_dense.add(Flatten())\n",
        "\n",
        "# Dense layer\n",
        "model_dense.add(Dense(len(set(prompt))))\n",
        "\n",
        "# Output Layer\n",
        "model_dense.add(Activation('softmax'))\n",
        "\n",
        "# Compile Model\n",
        "model_dense.compile(optimizer=Adam(), loss='categorical_crossentropy', metrics=['accuracy'])\n",
        "\n",
        "# Summarize Model\n",
        "print(model_dense.summary())\n",
        "\n",
        "# Fit Model\n",
        "model_dense.fit(to_non_indexed_array(train_x), train_y, epochs=3, verbose=0)\n",
        "\n",
        "# Evaluate Model\n",
        "loss, accuracy = model_dense.evaluate(to_non_indexed_array(test_x), test_y, verbose=0)\n",
        "print('Accuracy: %f' % (accuracy*100))"
      ],
      "execution_count": 36,
      "outputs": [
        {
          "output_type": "stream",
          "text": [
            "WARNING:tensorflow:From /usr/local/lib/python3.6/dist-packages/keras/backend/tensorflow_backend.py:66: The name tf.get_default_graph is deprecated. Please use tf.compat.v1.get_default_graph instead.\n",
            "\n",
            "WARNING:tensorflow:From /usr/local/lib/python3.6/dist-packages/keras/backend/tensorflow_backend.py:541: The name tf.placeholder is deprecated. Please use tf.compat.v1.placeholder instead.\n",
            "\n",
            "WARNING:tensorflow:From /usr/local/lib/python3.6/dist-packages/keras/backend/tensorflow_backend.py:4432: The name tf.random_uniform is deprecated. Please use tf.random.uniform instead.\n",
            "\n",
            "WARNING:tensorflow:From /usr/local/lib/python3.6/dist-packages/keras/backend/tensorflow_backend.py:190: The name tf.get_default_session is deprecated. Please use tf.compat.v1.get_default_session instead.\n",
            "\n",
            "WARNING:tensorflow:From /usr/local/lib/python3.6/dist-packages/keras/backend/tensorflow_backend.py:197: The name tf.ConfigProto is deprecated. Please use tf.compat.v1.ConfigProto instead.\n",
            "\n",
            "WARNING:tensorflow:From /usr/local/lib/python3.6/dist-packages/keras/optimizers.py:793: The name tf.train.Optimizer is deprecated. Please use tf.compat.v1.train.Optimizer instead.\n",
            "\n",
            "Model: \"sequential_1\"\n",
            "_________________________________________________________________\n",
            "Layer (type)                 Output Shape              Param #   \n",
            "=================================================================\n",
            "embedding_1 (Embedding)      (None, 30, 200)           232000    \n",
            "_________________________________________________________________\n",
            "flatten_1 (Flatten)          (None, 6000)              0         \n",
            "_________________________________________________________________\n",
            "dense_1 (Dense)              (None, 25)                150025    \n",
            "_________________________________________________________________\n",
            "activation_1 (Activation)    (None, 25)                0         \n",
            "=================================================================\n",
            "Total params: 382,025\n",
            "Trainable params: 150,025\n",
            "Non-trainable params: 232,000\n",
            "_________________________________________________________________\n",
            "None\n",
            "WARNING:tensorflow:From /usr/local/lib/python3.6/dist-packages/tensorflow/python/ops/math_grad.py:1250: add_dispatch_support.<locals>.wrapper (from tensorflow.python.ops.array_ops) is deprecated and will be removed in a future version.\n",
            "Instructions for updating:\n",
            "Use tf.where in 2.0, which has the same broadcast rule as np.where\n",
            "Accuracy: 99.248120\n"
          ],
          "name": "stdout"
        }
      ]
    },
    {
      "cell_type": "markdown",
      "metadata": {
        "id": "0hVaLdTCOWPB",
        "colab_type": "text"
      },
      "source": [
        "# Create Convolutional Neural Network"
      ]
    },
    {
      "cell_type": "code",
      "metadata": {
        "id": "li-2AGMNiwKo",
        "colab_type": "code",
        "outputId": "da14a6ce-9b9a-4382-9272-77876457454f",
        "colab": {
          "base_uri": "https://localhost:8080/",
          "height": 425
        }
      },
      "source": [
        "cnn_model = Sequential()\n",
        "\n",
        "# Embedding Layer\n",
        "e = Embedding(vocab_size, 200, weights=[embedding_matrix], input_length=max_length, trainable=False)\n",
        "cnn_model.add(e)\n",
        "\n",
        "# Convolutional and Max Pooling Layer\n",
        "cnn_model.add(layers.Conv1D(128, 5, activation='relu'))\n",
        "cnn_model.add(layers.GlobalMaxPooling1D())\n",
        "\n",
        "# Dense Layer\n",
        "cnn_model.add(layers.Dense(10, activation='relu'))\n",
        "\n",
        "# Output Layer\n",
        "cnn_model.add(layers.Dense(len(set(prompt)), activation='sigmoid'))\n",
        "cnn_model.compile(optimizer='adam',\n",
        "              loss='binary_crossentropy',\n",
        "              metrics=['accuracy'])\n",
        "\n",
        "# Summarize Model\n",
        "cnn_model.summary()\n",
        "\n",
        "# Fit Model\n",
        "history = cnn_model.fit(to_non_indexed_array(train_x),train_y,\n",
        "                    epochs=3,\n",
        "                    verbose=1)"
      ],
      "execution_count": 53,
      "outputs": [
        {
          "output_type": "stream",
          "text": [
            "Model: \"sequential_8\"\n",
            "_________________________________________________________________\n",
            "Layer (type)                 Output Shape              Param #   \n",
            "=================================================================\n",
            "embedding_8 (Embedding)      (None, 30, 200)           232000    \n",
            "_________________________________________________________________\n",
            "conv1d_7 (Conv1D)            (None, 26, 128)           128128    \n",
            "_________________________________________________________________\n",
            "global_max_pooling1d_7 (Glob (None, 128)               0         \n",
            "_________________________________________________________________\n",
            "dense_14 (Dense)             (None, 10)                1290      \n",
            "_________________________________________________________________\n",
            "dense_15 (Dense)             (None, 25)                275       \n",
            "=================================================================\n",
            "Total params: 361,693\n",
            "Trainable params: 129,693\n",
            "Non-trainable params: 232,000\n",
            "_________________________________________________________________\n",
            "Epoch 1/3\n",
            "5320/5320 [==============================] - 2s 331us/step - loss: 0.1990 - acc: 0.9391\n",
            "Epoch 2/3\n",
            "5320/5320 [==============================] - 1s 215us/step - loss: 0.0785 - acc: 0.9727\n",
            "Epoch 3/3\n",
            "5320/5320 [==============================] - 1s 206us/step - loss: 0.0375 - acc: 0.9900\n"
          ],
          "name": "stdout"
        }
      ]
    },
    {
      "cell_type": "markdown",
      "metadata": {
        "id": "txNqAj7ty5aA",
        "colab_type": "text"
      },
      "source": [
        "# Evaluate Model"
      ]
    },
    {
      "cell_type": "code",
      "metadata": {
        "id": "CCktUQ3gvITW",
        "colab_type": "code",
        "colab": {
          "base_uri": "https://localhost:8080/",
          "height": 282
        },
        "outputId": "a8cc87d9-376b-4863-da05-0304a2420da9"
      },
      "source": [
        "#History Object Preserves Training Accuracy\n",
        "loss = history.history['acc']\n",
        "\n",
        "#Number of Epochs\n",
        "epochs = range(len(loss))\n",
        "\n",
        "plt.figure()\n",
        "\n",
        "# Plot Training Accuracy\n",
        "plt.plot(epochs, loss, 'bo', label='Training Accuracy')\n",
        "plt.title('Training Accuracy')\n",
        "plt.show()"
      ],
      "execution_count": 54,
      "outputs": [
        {
          "output_type": "display_data",
          "data": {
            "image/png": "[encoded data removed]",
            "text/plain": [
              "<Figure size 432x288 with 1 Axes>"
            ]
          },
          "metadata": {
            "tags": []
          }
        }
      ]
    },
    {
      "cell_type": "code",
      "metadata": {
        "id": "XncQ15FFxapa",
        "colab_type": "code",
        "colab": {
          "base_uri": "https://localhost:8080/",
          "height": 34
        },
        "outputId": "76decbcb-025d-41bb-b56b-8094d7014267"
      },
      "source": [
        "# evaluate the model\n",
        "loss, accuracy = cnn_model.evaluate(to_non_indexed_array(test_x), test_y, verbose=0)\n",
        "print('Accuracy: %f' % (accuracy*100))"
      ],
      "execution_count": 55,
      "outputs": [
        {
          "output_type": "stream",
          "text": [
            "Accuracy: 99.371429\n"
          ],
          "name": "stdout"
        }
      ]
    },
    {
      "cell_type": "markdown",
      "metadata": {
        "id": "6AoxqYegBklk",
        "colab_type": "text"
      },
      "source": [
        "# Exploration of Output"
      ]
    },
    {
      "cell_type": "code",
      "metadata": {
        "id": "CXiAthW6HzTc",
        "colab_type": "code",
        "colab": {}
      },
      "source": [
        "def exploration_output(model_exploration, num, verbose = True):\n",
        "  '''Parameters: model_exploration - type: keras.engine.sequential.Sequential\n",
        "    num - type: integer - Element in the test set to view the actual class and scores of predicted classes\n",
        "    verbose - type: boolean - If True, prints details out phrase of the num element in the test set, and the true class of the element.\n",
        "    Output: Descending dataframe of most probable classes ordered by softmax scoring\n",
        "  '''\n",
        "  if verbose:\n",
        "    print('Testing output from phrase of:', phrases[test_x[num][0]])\n",
        "\n",
        "  model_exploration.predict(to_non_indexed_array(test_x), verbose=0)[num]\n",
        "\n",
        "  results = pd.DataFrame(columns=['Class Id', 'Prompt', 'Score'])\n",
        "  results = list()\n",
        "  index = 0\n",
        "  for score in model_exploration.predict(to_non_indexed_array(test_x), verbose=0)[num]:\n",
        "    row = list((index, id_to_category.get(index), score))\n",
        "    results.append(row)\n",
        "    index = index + 1\n",
        "\n",
        "  results = pd.DataFrame(columns=['Class Id', 'Prompt', 'Score'], data = results)\n",
        "  \n",
        "  if verbose:\n",
        "    print('True class is:', id_to_category.get(np.argmax(test_y[num])))\n",
        "    \n",
        "  return(results.sort_values(by='Score', ascending = False).head())"
      ],
      "execution_count": 0,
      "outputs": []
    },
    {
      "cell_type": "code",
      "metadata": {
        "id": "2WFySu1rx3YL",
        "colab_type": "code",
        "colab": {
          "base_uri": "https://localhost:8080/",
          "height": 238
        },
        "outputId": "59900801-6aa7-47c2-ad8b-cd3fad310368"
      },
      "source": [
        "exploration_output(model_dense, 5)"
      ],
      "execution_count": 57,
      "outputs": [
        {
          "output_type": "stream",
          "text": [
            "Testing output from phrase of: I feel a pain on the left side of my chest, where my heart is\n",
            "True class is: Heart hurts\n"
          ],
          "name": "stdout"
        },
        {
          "output_type": "execute_result",
          "data": {
            "text/html": [
              "<div>\n",
              "<style scoped>\n",
              "    .dataframe tbody tr th:only-of-type {\n",
              "        vertical-align: middle;\n",
              "    }\n",
              "\n",
              "    .dataframe tbody tr th {\n",
              "        vertical-align: top;\n",
              "    }\n",
              "\n",
              "    .dataframe thead th {\n",
              "        text-align: right;\n",
              "    }\n",
              "</style>\n",
              "<table border=\"1\" class=\"dataframe\">\n",
              "  <thead>\n",
              "    <tr style=\"text-align: right;\">\n",
              "      <th></th>\n",
              "      <th>Class Id</th>\n",
              "      <th>Prompt</th>\n",
              "      <th>Score</th>\n",
              "    </tr>\n",
              "  </thead>\n",
              "  <tbody>\n",
              "    <tr>\n",
              "      <th>2</th>\n",
              "      <td>2</td>\n",
              "      <td>Heart hurts</td>\n",
              "      <td>0.913194</td>\n",
              "    </tr>\n",
              "    <tr>\n",
              "      <th>4</th>\n",
              "      <td>4</td>\n",
              "      <td>Foot ache</td>\n",
              "      <td>0.025469</td>\n",
              "    </tr>\n",
              "    <tr>\n",
              "      <th>5</th>\n",
              "      <td>5</td>\n",
              "      <td>Shoulder pain</td>\n",
              "      <td>0.012864</td>\n",
              "    </tr>\n",
              "    <tr>\n",
              "      <th>12</th>\n",
              "      <td>12</td>\n",
              "      <td>Head ache</td>\n",
              "      <td>0.009703</td>\n",
              "    </tr>\n",
              "    <tr>\n",
              "      <th>10</th>\n",
              "      <td>10</td>\n",
              "      <td>Joint pain</td>\n",
              "      <td>0.008669</td>\n",
              "    </tr>\n",
              "  </tbody>\n",
              "</table>\n",
              "</div>"
            ],
            "text/plain": [
              "    Class Id         Prompt     Score\n",
              "2          2    Heart hurts  0.913194\n",
              "4          4      Foot ache  0.025469\n",
              "5          5  Shoulder pain  0.012864\n",
              "12        12      Head ache  0.009703\n",
              "10        10     Joint pain  0.008669"
            ]
          },
          "metadata": {
            "tags": []
          },
          "execution_count": 57
        }
      ]
    },
    {
      "cell_type": "code",
      "metadata": {
        "id": "p9Jn2o_yHsOm",
        "colab_type": "code",
        "colab": {
          "base_uri": "https://localhost:8080/",
          "height": 238
        },
        "outputId": "68dd9d8c-40c8-40cb-8508-14120fa344d2"
      },
      "source": [
        "exploration_output(cnn_model, 5)"
      ],
      "execution_count": 58,
      "outputs": [
        {
          "output_type": "stream",
          "text": [
            "Testing output from phrase of: I feel a pain on the left side of my chest, where my heart is\n",
            "True class is: Heart hurts\n"
          ],
          "name": "stdout"
        },
        {
          "output_type": "execute_result",
          "data": {
            "text/html": [
              "<div>\n",
              "<style scoped>\n",
              "    .dataframe tbody tr th:only-of-type {\n",
              "        vertical-align: middle;\n",
              "    }\n",
              "\n",
              "    .dataframe tbody tr th {\n",
              "        vertical-align: top;\n",
              "    }\n",
              "\n",
              "    .dataframe thead th {\n",
              "        text-align: right;\n",
              "    }\n",
              "</style>\n",
              "<table border=\"1\" class=\"dataframe\">\n",
              "  <thead>\n",
              "    <tr style=\"text-align: right;\">\n",
              "      <th></th>\n",
              "      <th>Class Id</th>\n",
              "      <th>Prompt</th>\n",
              "      <th>Score</th>\n",
              "    </tr>\n",
              "  </thead>\n",
              "  <tbody>\n",
              "    <tr>\n",
              "      <th>2</th>\n",
              "      <td>2</td>\n",
              "      <td>Heart hurts</td>\n",
              "      <td>0.810164</td>\n",
              "    </tr>\n",
              "    <tr>\n",
              "      <th>3</th>\n",
              "      <td>3</td>\n",
              "      <td>Infected wound</td>\n",
              "      <td>0.039408</td>\n",
              "    </tr>\n",
              "    <tr>\n",
              "      <th>15</th>\n",
              "      <td>15</td>\n",
              "      <td>Back pain</td>\n",
              "      <td>0.033659</td>\n",
              "    </tr>\n",
              "    <tr>\n",
              "      <th>9</th>\n",
              "      <td>9</td>\n",
              "      <td>Knee pain</td>\n",
              "      <td>0.030153</td>\n",
              "    </tr>\n",
              "    <tr>\n",
              "      <th>12</th>\n",
              "      <td>12</td>\n",
              "      <td>Head ache</td>\n",
              "      <td>0.015866</td>\n",
              "    </tr>\n",
              "  </tbody>\n",
              "</table>\n",
              "</div>"
            ],
            "text/plain": [
              "    Class Id          Prompt     Score\n",
              "2          2     Heart hurts  0.810164\n",
              "3          3  Infected wound  0.039408\n",
              "15        15       Back pain  0.033659\n",
              "9          9       Knee pain  0.030153\n",
              "12        12       Head ache  0.015866"
            ]
          },
          "metadata": {
            "tags": []
          },
          "execution_count": 58
        }
      ]
    }
  ]
}